{
 "cells": [
  {
   "cell_type": "code",
   "execution_count": 1,
   "metadata": {},
   "outputs": [
    {
     "name": "stderr",
     "output_type": "stream",
     "text": [
      "/Users/abhijitbrahme/.pyenv/versions/3.11.9/envs/nba_functional_analysis_env/lib/python3.11/site-packages/tqdm/auto.py:21: TqdmWarning: IProgress not found. Please update jupyter and ipywidgets. See https://ipywidgets.readthedocs.io/en/stable/user_install.html\n",
      "  from .autonotebook import tqdm as notebook_tqdm\n"
     ]
    }
   ],
   "source": [
    "import pandas as pd\n",
    "import pickle\n",
    "import arviz as az\n",
    "import numpy as np\n",
    "import matplotlib.pyplot as plt\n",
    "from scipy.cluster.hierarchy import dendrogram, linkage\n",
    "from model.inference_utils import match_align\n",
    "from visualization.visualization import plot_metric_trajectory"
   ]
  },
  {
   "cell_type": "markdown",
   "metadata": {},
   "source": [
    "### Functional Analysis of NBA Player Career Trajectory \n",
    "We are working in a multi-output setting, one where we wish to produce multiple trajectories of player careers across different metrics.\n",
    "Metrics are either:\n",
    "1. Gaussian with observed / unobserved response and corresponding observed /unobserved variance terms. (OBPM, DBPM)\n",
    "2. Poisson with observed / unobserved response and corresponding observed / unobserved exposure terms. (OREB Rate, BLK Rate, STL Rate, AST Rate, FTA Rate, FG2A Rate, FG3A Rate)\n",
    "3. Binomial with observed / unobserved response and corresponding observed / unobserved exposure terms. (FT %, 2FG%, 3FG%)\n",
    "\n",
    "Let the index $J$ denote the metric, $N$ denote the player, and $T$ denote the years 18-39 of player career. Thus, our data is a tensor of size $N x T x J$ with missing entries if player $n$ did not record statistics at time $t$ for metric $j$. This could be due to retirement, injury, etc. \n",
    "\n",
    "We seek to model these observations in the following way:\n",
    "\n",
    "$$ \\mu_j = X^T \\Phi_j(T) + \\alpha_j $$ \n",
    "\n",
    "Here, $X$ is a fixed predictor of size $N$ X  $d$ where d << N. $\\Phi_j(T)$ corresponds to a functional coefficient for metric $j$, and $\\alpha_j$ corresponds to an intercept term. \n",
    "\n",
    "Note that since we have different response distributions, we must include the following conditions:\n",
    "1. If $j$ is a Gaussian distributed response,\n",
    "$$ y_j \\sim N(\\mu_j, \\frac{\\sigma^2_j}{p_j}) $$\n",
    "2. If $j$ is a Poisson distributed response, \n",
    "$$  y_j \\sim Pois(p_j exp(\\mu_j)) $$\n",
    "3. If $j$ is a Binomial distributed response,\n",
    "$$ y_j \\sim Bin(p_j, logit(\\mu_j)) $$\n",
    "\n",
    "Here, $p_j$ is the exposure term for the appropriate metric. If $y_j$ is Binomial, $p_j$ represents the number of trials, and so on. Practically, $p_j$ is the number of shot attempts for binomial distributed response, and number of minutes played for other responses. \n",
    "\n",
    "\n",
    "It is also important to note that $\\Phi_j(T)$ is created by using a HSGP approximation, with 10 truncation limit. These are independent across metrics $j$. "
   ]
  },
  {
   "cell_type": "code",
   "execution_count": 2,
   "metadata": {},
   "outputs": [],
   "source": [
    "data = pd.read_csv(\"data/player_data.csv\").query(\" age <= 38 \")\n",
    "# data = data.groupby(\"id\").filter(lambda x: x.games.sum() >= 50)"
   ]
  },
  {
   "cell_type": "code",
   "execution_count": 3,
   "metadata": {},
   "outputs": [
    {
     "data": {
      "text/html": [
       "<div>\n",
       "<style scoped>\n",
       "    .dataframe tbody tr th:only-of-type {\n",
       "        vertical-align: middle;\n",
       "    }\n",
       "\n",
       "    .dataframe tbody tr th {\n",
       "        vertical-align: top;\n",
       "    }\n",
       "\n",
       "    .dataframe thead th {\n",
       "        text-align: right;\n",
       "    }\n",
       "</style>\n",
       "<table border=\"1\" class=\"dataframe\">\n",
       "  <thead>\n",
       "    <tr style=\"text-align: right;\">\n",
       "      <th></th>\n",
       "      <th>year</th>\n",
       "      <th>season</th>\n",
       "      <th>id</th>\n",
       "      <th>minutes</th>\n",
       "      <th>fg2m</th>\n",
       "      <th>fg2a</th>\n",
       "      <th>fg3a</th>\n",
       "      <th>fg3m</th>\n",
       "      <th>ftm</th>\n",
       "      <th>fta</th>\n",
       "      <th>...</th>\n",
       "      <th>position</th>\n",
       "      <th>team</th>\n",
       "      <th>age</th>\n",
       "      <th>obpm</th>\n",
       "      <th>dbpm</th>\n",
       "      <th>bpm</th>\n",
       "      <th>games</th>\n",
       "      <th>total_seasons</th>\n",
       "      <th>median_minutes_per_game</th>\n",
       "      <th>max_minutes</th>\n",
       "    </tr>\n",
       "  </thead>\n",
       "  <tbody>\n",
       "    <tr>\n",
       "      <th>0</th>\n",
       "      <td>1997</td>\n",
       "      <td>1996-97</td>\n",
       "      <td>2</td>\n",
       "      <td>1439.778333</td>\n",
       "      <td>90</td>\n",
       "      <td>191</td>\n",
       "      <td>188</td>\n",
       "      <td>73</td>\n",
       "      <td>127</td>\n",
       "      <td>151</td>\n",
       "      <td>...</td>\n",
       "      <td>SG</td>\n",
       "      <td>LAL</td>\n",
       "      <td>35</td>\n",
       "      <td>0.6</td>\n",
       "      <td>0.4</td>\n",
       "      <td>1.0</td>\n",
       "      <td>79</td>\n",
       "      <td>1</td>\n",
       "      <td>18.225042</td>\n",
       "      <td>1439.778333</td>\n",
       "    </tr>\n",
       "    <tr>\n",
       "      <th>1</th>\n",
       "      <td>1997</td>\n",
       "      <td>1996-97</td>\n",
       "      <td>3</td>\n",
       "      <td>1170.195000</td>\n",
       "      <td>106</td>\n",
       "      <td>228</td>\n",
       "      <td>47</td>\n",
       "      <td>17</td>\n",
       "      <td>63</td>\n",
       "      <td>84</td>\n",
       "      <td>...</td>\n",
       "      <td>PF</td>\n",
       "      <td>DET</td>\n",
       "      <td>30</td>\n",
       "      <td>-1.0</td>\n",
       "      <td>0.3</td>\n",
       "      <td>-0.6</td>\n",
       "      <td>65</td>\n",
       "      <td>7</td>\n",
       "      <td>21.958214</td>\n",
       "      <td>1868.101667</td>\n",
       "    </tr>\n",
       "    <tr>\n",
       "      <th>2</th>\n",
       "      <td>1998</td>\n",
       "      <td>1997-98</td>\n",
       "      <td>3</td>\n",
       "      <td>741.726667</td>\n",
       "      <td>50</td>\n",
       "      <td>113</td>\n",
       "      <td>4</td>\n",
       "      <td>0</td>\n",
       "      <td>41</td>\n",
       "      <td>57</td>\n",
       "      <td>...</td>\n",
       "      <td>PF</td>\n",
       "      <td>DET</td>\n",
       "      <td>31</td>\n",
       "      <td>-2.6</td>\n",
       "      <td>1.5</td>\n",
       "      <td>-1.1</td>\n",
       "      <td>40</td>\n",
       "      <td>7</td>\n",
       "      <td>21.958214</td>\n",
       "      <td>1868.101667</td>\n",
       "    </tr>\n",
       "    <tr>\n",
       "      <th>3</th>\n",
       "      <td>1999</td>\n",
       "      <td>1998-99</td>\n",
       "      <td>3</td>\n",
       "      <td>1380.178333</td>\n",
       "      <td>148</td>\n",
       "      <td>341</td>\n",
       "      <td>18</td>\n",
       "      <td>3</td>\n",
       "      <td>184</td>\n",
       "      <td>235</td>\n",
       "      <td>...</td>\n",
       "      <td>PF</td>\n",
       "      <td>ATL</td>\n",
       "      <td>32</td>\n",
       "      <td>-0.3</td>\n",
       "      <td>1.7</td>\n",
       "      <td>1.5</td>\n",
       "      <td>50</td>\n",
       "      <td>7</td>\n",
       "      <td>21.958214</td>\n",
       "      <td>1868.101667</td>\n",
       "    </tr>\n",
       "    <tr>\n",
       "      <th>4</th>\n",
       "      <td>2000</td>\n",
       "      <td>1999-00</td>\n",
       "      <td>3</td>\n",
       "      <td>922.245000</td>\n",
       "      <td>74</td>\n",
       "      <td>163</td>\n",
       "      <td>4</td>\n",
       "      <td>0</td>\n",
       "      <td>55</td>\n",
       "      <td>71</td>\n",
       "      <td>...</td>\n",
       "      <td>PF</td>\n",
       "      <td>VAN</td>\n",
       "      <td>33</td>\n",
       "      <td>-1.9</td>\n",
       "      <td>0.3</td>\n",
       "      <td>-1.7</td>\n",
       "      <td>42</td>\n",
       "      <td>7</td>\n",
       "      <td>21.958214</td>\n",
       "      <td>1868.101667</td>\n",
       "    </tr>\n",
       "  </tbody>\n",
       "</table>\n",
       "<p>5 rows × 32 columns</p>\n",
       "</div>"
      ],
      "text/plain": [
       "   year   season  id      minutes  fg2m  fg2a  fg3a  fg3m  ftm  fta  ...  \\\n",
       "0  1997  1996-97   2  1439.778333    90   191   188    73  127  151  ...   \n",
       "1  1997  1996-97   3  1170.195000   106   228    47    17   63   84  ...   \n",
       "2  1998  1997-98   3   741.726667    50   113     4     0   41   57  ...   \n",
       "3  1999  1998-99   3  1380.178333   148   341    18     3  184  235  ...   \n",
       "4  2000  1999-00   3   922.245000    74   163     4     0   55   71  ...   \n",
       "\n",
       "   position  team  age  obpm  dbpm  bpm  games  total_seasons  \\\n",
       "0        SG   LAL   35   0.6   0.4  1.0     79              1   \n",
       "1        PF   DET   30  -1.0   0.3 -0.6     65              7   \n",
       "2        PF   DET   31  -2.6   1.5 -1.1     40              7   \n",
       "3        PF   ATL   32  -0.3   1.7  1.5     50              7   \n",
       "4        PF   VAN   33  -1.9   0.3 -1.7     42              7   \n",
       "\n",
       "   median_minutes_per_game  max_minutes  \n",
       "0                18.225042  1439.778333  \n",
       "1                21.958214  1868.101667  \n",
       "2                21.958214  1868.101667  \n",
       "3                21.958214  1868.101667  \n",
       "4                21.958214  1868.101667  \n",
       "\n",
       "[5 rows x 32 columns]"
      ]
     },
     "execution_count": 3,
     "metadata": {},
     "output_type": "execute_result"
    }
   ],
   "source": [
    "data.head()"
   ]
  },
  {
   "cell_type": "code",
   "execution_count": 4,
   "metadata": {},
   "outputs": [],
   "source": [
    "names = data.groupby(\"id\")[\"name\"].first().values"
   ]
  },
  {
   "cell_type": "code",
   "execution_count": 5,
   "metadata": {},
   "outputs": [],
   "source": [
    "from sklearn.preprocessing import StandardScaler\n",
    "from sklearn.decomposition import PCA, KernelPCA\n",
    "from sklearn.manifold import TSNE\n",
    "agg_dict = {\"obpm\":\"mean\", \"dbpm\":\"mean\", \"bpm\":\"mean\", \n",
    "            \"minutes\":\"sum\", \"dreb\": \"sum\", \"fta\":\"sum\", \"ftm\":\"sum\", \"oreb\":\"sum\",\n",
    "            \"ast\":\"sum\", \"tov\":\"sum\", \"fg2m\":\"sum\", \"fg3m\":\"sum\", \"fg3a\":\"sum\", \"fg2a\":\"sum\", \"blk\":\"sum\", \"stl\":\"sum\"}\n",
    "data[\"total_minutes\"] = data[\"median_minutes_per_game\"] * data[\"games\"] \n",
    "agged_data = data.groupby(\"id\").agg(agg_dict).reset_index()\n",
    "agged_data[\"ft_pct\"] = agged_data[\"ftm\"] / agged_data[\"fta\"]\n",
    "agged_data[\"fg2_pct\"] = agged_data[\"fg2m\"] / agged_data[\"fg2a\"]\n",
    "agged_data[\"fg3_pct\"] = agged_data[\"fg3m\"] / agged_data[\"fg3a\"]\n",
    "agged_data[\"dreb_rate\"] = agged_data[\"dreb\"] / agged_data[\"minutes\"]\n",
    "agged_data[\"oreb_rate\"] = agged_data[\"oreb\"] / agged_data[\"minutes\"]\n",
    "agged_data[\"ast_rate\"] = agged_data[\"ast\"] / agged_data[\"minutes\"]\n",
    "agged_data[\"tov_rate\"] = agged_data[\"tov\"] / agged_data[\"minutes\"]\n",
    "agged_data[\"blk_rate\"] = agged_data[\"blk\"] / agged_data[\"minutes\"]\n",
    "agged_data[\"stl_rate\"] = agged_data[\"stl\"] / agged_data[\"minutes\"]\n",
    "agged_data.fillna(0, inplace=True)\n",
    "\n",
    "latent_metrics = [\"obpm\",\"dbpm\",\"minutes\",\"ft_pct\",\"fg2_pct\",\"fg3_pct\",\"dreb_rate\",\"oreb_rate\",\"ast_rate\",\"tov_rate\",\"blk_rate\",\"stl_rate\"]\n",
    "X = StandardScaler().fit_transform(agged_data[latent_metrics])\n",
    "pca_x = PCA().fit(X)\n",
    "X_pca = pca_x.transform(X)\n"
   ]
  },
  {
   "cell_type": "code",
   "execution_count": null,
   "metadata": {},
   "outputs": [],
   "source": [
    "\n",
    "plt.bar(latent_metrics, height=pca_x.components_[0,:])\n",
    "plt.xticks(rotation = 90)\n",
    "plt.ylabel(\"PCA Loading for PC 1\")"
   ]
  },
  {
   "cell_type": "code",
   "execution_count": null,
   "metadata": {},
   "outputs": [],
   "source": [
    "\n",
    "plt.bar(latent_metrics, height=pca_x.components_[0,:])\n",
    "plt.xticks(rotation = 90)\n",
    "plt.ylabel(\"PCA Loading for PC 1\")"
   ]
  },
  {
   "cell_type": "code",
   "execution_count": null,
   "metadata": {},
   "outputs": [],
   "source": [
    "\n",
    "plt.bar(latent_metrics, height=pca_x.components_[1,:])\n",
    "plt.xticks(rotation = 90)\n",
    "plt.ylabel(\"PCA Loading for PC 2\")"
   ]
  },
  {
   "cell_type": "code",
   "execution_count": null,
   "metadata": {},
   "outputs": [],
   "source": [
    "plt.bar(latent_metrics, height=pca_x.components_[2,:])\n",
    "plt.xticks(rotation = 90)\n",
    "plt.ylabel(\"PCA Loading for PC 3\")"
   ]
  },
  {
   "cell_type": "code",
   "execution_count": null,
   "metadata": {},
   "outputs": [],
   "source": [
    "star_indices = np.where(data.groupby(\"id\")[\"name\"].first().reset_index()[\"name\"].isin([\"Stephen Curry\", \"Nikola Jokic\", \"Kevin Durant\", \"Kobe Bryant\", \"Luka Doncic\", \"Michael Jordan\"]))[0]"
   ]
  },
  {
   "cell_type": "code",
   "execution_count": null,
   "metadata": {},
   "outputs": [],
   "source": [
    "# Step 2: Calculate distances\n",
    "centroid = np.mean(X_pca[:,0:3], axis=0)\n",
    "distances = np.linalg.norm(X_pca[:, 0:3] - centroid, axis=1)\n",
    "\n",
    "# Step 3: Define Threshold\n",
    "# Example: Threshold as 2 standard deviations from the mean distance\n",
    "threshold = np.mean(distances) + 2.5 * np.std(distances)\n",
    "\n",
    "# Step 4: Label Outliers\n",
    "outliers_indices = np.where(distances > threshold)[0]"
   ]
  },
  {
   "cell_type": "code",
   "execution_count": null,
   "metadata": {},
   "outputs": [],
   "source": [
    "plt.scatter(X_pca[:,0], X_pca[:,1])\n",
    "# Annotate outliers\n",
    "for i in outliers_indices:\n",
    "    plt.annotate(names[i], (X_pca[i, 0], X_pca[i, 1]), fontsize=7)\n",
    "plt.xlabel(\"PC 1\")\n",
    "plt.ylabel(\"PC 2\")"
   ]
  },
  {
   "cell_type": "code",
   "execution_count": null,
   "metadata": {},
   "outputs": [],
   "source": [
    "plt.scatter(X_pca[:,1], X_pca[:,2])\n",
    "# Annotate outliers\n",
    "for i in outliers_indices:\n",
    "    plt.annotate(names[i], (X_pca[i, 1], X_pca[i, 2]), fontsize=7)\n",
    "plt.xlabel(\"PC 2\")\n",
    "plt.ylabel(\"PC 3\")"
   ]
  },
  {
   "cell_type": "markdown",
   "metadata": {},
   "source": [
    "### Looking at Results\n",
    "The above model was fit in numpyro with 1000 warmup iterations and 4 chains. "
   ]
  },
  {
   "cell_type": "code",
   "execution_count": null,
   "metadata": {},
   "outputs": [],
   "source": [
    "with open(\"model_output/nba_fda_model.pkl\", \"rb\") as f:\n",
    "    results = pickle.load(f)\n",
    "f.close()"
   ]
  },
  {
   "cell_type": "code",
   "execution_count": null,
   "metadata": {},
   "outputs": [],
   "source": [
    "inference_data = az.from_dict(results)"
   ]
  },
  {
   "cell_type": "code",
   "execution_count": null,
   "metadata": {},
   "outputs": [],
   "source": [
    "az.summary(inference_data)"
   ]
  },
  {
   "cell_type": "code",
   "execution_count": null,
   "metadata": {},
   "outputs": [],
   "source": [
    "az.plot_trace(inference_data, var_names=\"length\")"
   ]
  },
  {
   "cell_type": "markdown",
   "metadata": {},
   "source": [
    "### Functional Analysis of NBA Player Career Trajectory (Latent Variable Model)\n",
    "We do the same as we did in the previous section, except $X$ is not fixed. We constrain $X$ to be orthonormal by sampling $X$ from the Stiefel Manifold. "
   ]
  },
  {
   "cell_type": "markdown",
   "metadata": {},
   "source": [
    "### Looking at Latent Model Results"
   ]
  },
  {
   "cell_type": "code",
   "execution_count": 2,
   "metadata": {},
   "outputs": [
    {
     "name": "stderr",
     "output_type": "stream",
     "text": [
      "Platform 'METAL' is experimental and not all JAX functionality may be correctly supported!\n"
     ]
    },
    {
     "name": "stdout",
     "output_type": "stream",
     "text": [
      "Metal device set to: Apple M3 Pro\n",
      "\n",
      "systemMemory: 18.00 GB\n",
      "maxCacheSize: 6.00 GB\n",
      "\n"
     ]
    },
    {
     "name": "stderr",
     "output_type": "stream",
     "text": [
      "2024-06-13 21:24:23.460990: W pjrt_plugin/src/mps_client.cc:563] WARNING: JAX Apple GPU support is experimental and not all JAX functionality is correctly supported!\n"
     ]
    }
   ],
   "source": [
    "with open(\"model_output/nba_fda_latent_model.pkl\", \"rb\") as f:\n",
    "    latent_results = pickle.load(f)\n",
    "f.close()"
   ]
  },
  {
   "cell_type": "code",
   "execution_count": 3,
   "metadata": {},
   "outputs": [],
   "source": [
    "latent_raw = latent_results[\"latent_raw\"]"
   ]
  },
  {
   "cell_type": "code",
   "execution_count": null,
   "metadata": {},
   "outputs": [],
   "source": [
    "latent_raw_square = np.einsum(\"cdjk,cdjb -> cdkb\", latent_raw, latent_raw)"
   ]
  },
  {
   "cell_type": "code",
   "execution_count": null,
   "metadata": {},
   "outputs": [],
   "source": [
    "U, L, V = np.linalg.svd(latent_raw_square)"
   ]
  },
  {
   "cell_type": "code",
   "execution_count": null,
   "metadata": {},
   "outputs": [],
   "source": [
    "latent = np.matmul(latent_raw, np.matmul(U * np.power(L[...,None], -.5), V))"
   ]
  },
  {
   "cell_type": "code",
   "execution_count": null,
   "metadata": {},
   "outputs": [],
   "source": [
    "latent_results[\"latent\"] = latent"
   ]
  },
  {
   "cell_type": "code",
   "execution_count": null,
   "metadata": {},
   "outputs": [],
   "source": [
    "inference_data_latent = az.from_dict(latent_results)"
   ]
  },
  {
   "cell_type": "code",
   "execution_count": null,
   "metadata": {},
   "outputs": [],
   "source": [
    "az.summary(inference_data_latent)"
   ]
  },
  {
   "cell_type": "markdown",
   "metadata": {},
   "source": [
    "One thing to note is the poor diagnostic results here, indicating that the chains have not mixed properly. One thing to do would be to look at the trace-plots of some of these variables. In particular, we can look at the first element of the basis variable. The reason for this may be due to factor identifiability issues, since rotations of $X$ and the basis functions can yield equivalent posteriors. "
   ]
  },
  {
   "cell_type": "code",
   "execution_count": null,
   "metadata": {},
   "outputs": [],
   "source": [
    "az.plot_trace(inference_data_latent, var_names=\"basis\", coords={\"basis_dim_0\":0, \"basis_dim_1\":0, \"basis_dim_2\":0})"
   ]
  },
  {
   "cell_type": "markdown",
   "metadata": {},
   "source": [
    "As we can see, we see clearly that the chains have not mixed at all. The posterior is quite multi-modal in this regard. One thing that would be interesting to check would be to also look at the variable $X$. We need to transform the variable, to run the appropriate statistics. "
   ]
  },
  {
   "cell_type": "code",
   "execution_count": null,
   "metadata": {},
   "outputs": [],
   "source": [
    "az.plot_trace(inference_data_latent, var_names=\"latent\", coords={\"latent_dim_0\":0, \"latent_dim_1\":0})"
   ]
  },
  {
   "cell_type": "markdown",
   "metadata": {},
   "source": [
    "Again, we kind of see that there is multi-modality in the posterior of the latent space, essentially 2 chains that may or may not be equivalent in terms of the posterior likelihood."
   ]
  },
  {
   "cell_type": "code",
   "execution_count": null,
   "metadata": {},
   "outputs": [],
   "source": [
    "az.plot_trace(inference_data_latent, var_names=\"latent\", coords={\"latent_dim_0\":0, \"latent_dim_1\":2})"
   ]
  },
  {
   "cell_type": "code",
   "execution_count": null,
   "metadata": {},
   "outputs": [],
   "source": [
    "az.plot_trace(inference_data_latent, var_names=\"latent_raw\", coords={\"latent_raw_dim_0\":0, \"latent_raw_dim_1\":2})"
   ]
  },
  {
   "cell_type": "markdown",
   "metadata": {},
   "source": [
    "### Visualizing Latent Space\n",
    "\n",
    "Here, we can visualize the latent space of one chain and see if there is any interesting separation. Previously in the PCA, we didn't see any interesting information. Although the chains may not have mixed, we can still examine the latent space from one chain to see if there are any interesting behaviors. "
   ]
  },
  {
   "cell_type": "code",
   "execution_count": null,
   "metadata": {},
   "outputs": [],
   "source": [
    "latent_draw = latent[-4,-1, :, :]"
   ]
  },
  {
   "cell_type": "code",
   "execution_count": null,
   "metadata": {},
   "outputs": [],
   "source": [
    "plt.scatter(latent_draw[:,0], latent_draw[:,1])\n",
    "# Annotate outliers\n",
    "for i in star_indices:\n",
    "    plt.annotate(names[i], (latent_draw[i, 0], latent_draw[i, 1]), fontsize=7)\n",
    "plt.xlabel(\"Latent 1\")\n",
    "plt.ylabel(\"Latent 2\")"
   ]
  },
  {
   "cell_type": "code",
   "execution_count": null,
   "metadata": {},
   "outputs": [],
   "source": [
    "plt.scatter(latent_draw[:,1], latent_draw[:,2])\n",
    "# Annotate outliers\n",
    "for i in star_indices:\n",
    "    plt.annotate(names[i], (latent_draw[i, 1], latent_draw[i, 2]), fontsize=7)\n",
    "plt.xlabel(\"Latent 2\")\n",
    "plt.ylabel(\"Latent 3\")"
   ]
  },
  {
   "cell_type": "markdown",
   "metadata": {},
   "source": [
    "## Results for PPCA \n",
    "\n",
    "This model seeks to factorize the long $N$ by $TK$ matrix using probabilistic Principal Component Analysis. Since we have various outputs that are not normally distributed, this becomes a form of exponential PCA. "
   ]
  },
  {
   "cell_type": "code",
   "execution_count": null,
   "metadata": {},
   "outputs": [],
   "source": [
    "with open(\"model_output/exponential_pca.pkl\", \"rb\") as f:\n",
    "    results = pickle.load(f)\n",
    "f.close()"
   ]
  },
  {
   "cell_type": "code",
   "execution_count": null,
   "metadata": {},
   "outputs": [],
   "source": [
    "X_ppca = results[\"W_auto_loc\"]\n",
    "\n",
    "Z_ppca = linkage(X_ppca, optimal_ordering=True, method=\"centroid\")\n",
    "\n",
    "dendrogram(Z_ppca, labels=names, p = 100, truncate_mode=\"lastp\", show_leaf_counts=False)"
   ]
  },
  {
   "cell_type": "code",
   "execution_count": null,
   "metadata": {},
   "outputs": [],
   "source": [
    "plt.scatter(X_ppca[:,0], X_ppca[:,1])\n",
    "# Annotate outliers\n",
    "for i in star_indices:\n",
    "    plt.annotate(names[i], (X_ppca[i, 0], X_ppca[i, 1]), fontsize=7)\n",
    "plt.xlabel(\"Latent 1\")\n",
    "plt.ylabel(\"Latent 2\")"
   ]
  },
  {
   "cell_type": "code",
   "execution_count": null,
   "metadata": {},
   "outputs": [],
   "source": [
    "plt.scatter(X_ppca[:,1], X_ppca[:,2])\n",
    "# Annotate outliers\n",
    "for i in star_indices:\n",
    "    plt.annotate(names[i], (X_ppca[i, 1], X_ppca[i, 2]), fontsize=7)\n",
    "plt.xlabel(\"Latent 2\")\n",
    "plt.ylabel(\"Latent 3\")"
   ]
  },
  {
   "cell_type": "code",
   "execution_count": null,
   "metadata": {},
   "outputs": [],
   "source": [
    "plt.scatter(X_ppca[:,0], X_ppca[:,2])\n",
    "# Annotate outliers\n",
    "for i in star_indices:\n",
    "    plt.annotate(names[i], (X_ppca[i, 0], X_ppca[i, 2]), fontsize=7)\n",
    "plt.xlabel(\"Latent 1\")\n",
    "plt.ylabel(\"Latent 3\")"
   ]
  },
  {
   "cell_type": "markdown",
   "metadata": {},
   "source": [
    "### Functional Bases"
   ]
  },
  {
   "cell_type": "code",
   "execution_count": null,
   "metadata": {},
   "outputs": [],
   "source": [
    "bases_ppca = results[\"beta_auto_loc\"].reshape(3, int(252 // 12), -1)\n",
    "alpha = results[\"alpha_auto_loc\"].reshape(int(252/12), -1)"
   ]
  },
  {
   "cell_type": "code",
   "execution_count": null,
   "metadata": {},
   "outputs": [],
   "source": [
    "metrics = [\"log_min\", \"obpm\",\"dbpm\",\"blk\",\"stl\",\"ast\",\"dreb\",\"oreb\",\"tov\",\"fta\",\"fg2a\",\"fg3a\",\"ftm\",\"fg2m\",\"fg3m\"]\n",
    "basis = np.arange(18,39)"
   ]
  },
  {
   "cell_type": "code",
   "execution_count": null,
   "metadata": {},
   "outputs": [],
   "source": [
    "for index, metric in enumerate(metrics):\n",
    "    _df = pd.DataFrame(bases_ppca[:,:, index].T , columns=[f\"basis {i}\" for i in range(3)])\n",
    "    _df[\"age\"] = basis\n",
    "    _df.plot(x=\"age\", y=[f\"basis {i}\" for i in range(3)], xlabel=\"age\",\n",
    "         ylabel=\"Value\", title=f\"Metric: {metric}\")\n"
   ]
  },
  {
   "cell_type": "markdown",
   "metadata": {},
   "source": [
    "## Results for Probabilistic CP Decomposition \n",
    "\n",
    "This model seeks to factorize the  $N$ by $T$ by $K$ tensor (A) using probabilistic exponential family CP Decomposition. Since we have various outputs that are not normally distributed, this becomes a form of exponential family CP Decomposition.\n",
    "\n",
    "We seek to approximate the following:\n",
    "\n",
    "$A \\approx \\mu + \\sum_{i=1}^{r} \\lambda_i \\cdot u_i \\otimes v_i \\otimes w_i$\n",
    "\n",
    "where, $\\mu$, $u_i$, $v_i$, $w_i$ $\\sim \\mathcal{N}(0, I)$, $\\lambda \\sim Dirichlet(\\alpha)$\n",
    "\n",
    "$U \\in \\mathcal{R}^{N x R}$\n",
    "\n",
    "$V \\in \\mathcal{R}^{T x R}$\n",
    "\n",
    "$w \\in \\mathcal{R}^{K x R}$\n",
    "\n",
    "$\\mu \\in \\mathcal{R}^{T x K}$. \n",
    "\n",
    "Here $\\mu$ is used to de-mean the data, and $r = 2$. \n"
   ]
  },
  {
   "cell_type": "code",
   "execution_count": null,
   "metadata": {},
   "outputs": [],
   "source": [
    "with open(\"model_output/exponential_cp.pkl\", \"rb\") as f:\n",
    "    results = pickle.load(f)\n",
    "f.close()"
   ]
  },
  {
   "cell_type": "code",
   "execution_count": null,
   "metadata": {},
   "outputs": [],
   "source": [
    "X_pcp = results[\"U_auto_loc\"]\n",
    "\n",
    "\n",
    "Z_pcp = linkage(X_pcp, optimal_ordering=True, method=\"centroid\")\n",
    "\n",
    "dendrogram(Z_pcp, labels=names, p = 100, truncate_mode=\"lastp\", show_leaf_counts=False)"
   ]
  },
  {
   "cell_type": "code",
   "execution_count": null,
   "metadata": {},
   "outputs": [],
   "source": [
    "plt.scatter(X_pcp[:,0], X_pcp[:,1])\n",
    "# Annotate outliers\n",
    "for i in star_indices:\n",
    "    plt.annotate(names[i], (X_pcp[i, 0], X_pcp[i, 1]), fontsize=7)\n",
    "plt.xlabel(\"Latent 1\")\n",
    "plt.ylabel(\"Latent 2\")"
   ]
  },
  {
   "cell_type": "code",
   "execution_count": null,
   "metadata": {},
   "outputs": [],
   "source": [
    "plt.scatter(X_pcp[:,1], X_pcp[:,2])\n",
    "# Annotate outliers\n",
    "for i in star_indices:\n",
    "    plt.annotate(names[i], (X_pcp[i, 1], X_pcp[i, 2]), fontsize=7)\n",
    "plt.xlabel(\"Latent 2\")\n",
    "plt.ylabel(\"Latent 3\")"
   ]
  },
  {
   "cell_type": "code",
   "execution_count": null,
   "metadata": {},
   "outputs": [],
   "source": [
    "plt.scatter(X_pcp[:,0], X_pcp[:,2])\n",
    "# Annotate outliers\n",
    "for i in star_indices:\n",
    "    plt.annotate(names[i], (X_pcp[i, 0], X_pcp[i, 2]), fontsize=7)\n",
    "plt.xlabel(\"Latent 1\")\n",
    "plt.ylabel(\"Latent 3\")"
   ]
  },
  {
   "cell_type": "markdown",
   "metadata": {},
   "source": [
    "### Functional Bases"
   ]
  },
  {
   "cell_type": "code",
   "execution_count": null,
   "metadata": {},
   "outputs": [],
   "source": [
    "V_pcp = results[\"V_auto_loc\"]\n",
    "W_pcp = results[\"W_auto_loc\"]\n",
    "alpha = results[\"alpha_auto_loc\"]\n",
    "lam = results[\"lambda_auto_loc\"]"
   ]
  },
  {
   "cell_type": "code",
   "execution_count": null,
   "metadata": {},
   "outputs": [],
   "source": [
    "lam"
   ]
  },
  {
   "cell_type": "code",
   "execution_count": null,
   "metadata": {},
   "outputs": [],
   "source": [
    "bases_pcp = np.einsum(\"tr,kr -> tkr\", V_pcp,W_pcp)\n",
    "bases_sum_pcp = np.einsum(\"tkr,r -> tk\", bases_pcp, lam) + alpha"
   ]
  },
  {
   "cell_type": "markdown",
   "metadata": {},
   "source": [
    "## Plotting individual Tensor Production Curves"
   ]
  },
  {
   "cell_type": "code",
   "execution_count": null,
   "metadata": {},
   "outputs": [],
   "source": [
    "for index, metric in enumerate(metrics):\n",
    "    _df = pd.DataFrame(bases_pcp[:,index, :] , columns=[f\"basis {i}\" for i in range(3)])\n",
    "    _df[\"age\"] = basis\n",
    "    _df.plot(x=\"age\", y=[f\"basis {i}\" for i in range(3)], xlabel=\"age\",\n",
    "         ylabel=\"Value\", title=f\"Metric: {metric}\")"
   ]
  },
  {
   "cell_type": "markdown",
   "metadata": {},
   "source": [
    "### Plotting Combined Tensor Production Curves"
   ]
  },
  {
   "cell_type": "code",
   "execution_count": null,
   "metadata": {},
   "outputs": [],
   "source": [
    "for index, metric in enumerate(metrics):\n",
    "    _df = pd.DataFrame(bases_sum_pcp[:,index] , columns=[\"total_basis\"])\n",
    "    _df[\"age\"] = basis\n",
    "    _df.plot(x=\"age\", y=[\"total_basis\"], xlabel=\"age\",\n",
    "         ylabel=\"Value\", title=f\"Metric: {metric}\")"
   ]
  },
  {
   "cell_type": "markdown",
   "metadata": {},
   "source": [
    "## Random Feature Latent Variable Model \n",
    "\n",
    "This implementation follows the paper: https://github.com/gwgundersen/rflvm , except uses HMC instead of Gibbs Sampling to derive the posterior updates.\n",
    "\n",
    "In this case, however, we have multiple metrics that stem from the same latent space. \n"
   ]
  },
  {
   "cell_type": "code",
   "execution_count": null,
   "metadata": {},
   "outputs": [],
   "source": [
    "with open(\"model_output/nba_rflvm.pkl\", \"rb\") as f:\n",
    "    results = pickle.load(f)\n",
    "f.close()"
   ]
  },
  {
   "cell_type": "code",
   "execution_count": null,
   "metadata": {},
   "outputs": [],
   "source": [
    "results.keys()"
   ]
  },
  {
   "cell_type": "code",
   "execution_count": null,
   "metadata": {},
   "outputs": [],
   "source": [
    "X_rflvm = results[\"X_raw_auto_loc\"]\n",
    "\n",
    "\n",
    "Z_rflvm = linkage(X_rflvm, optimal_ordering=True, method=\"centroid\")\n",
    "\n",
    "dendrogram(Z_rflvm, labels=names, p = 200, truncate_mode=\"lastp\", show_leaf_counts=False)"
   ]
  },
  {
   "cell_type": "code",
   "execution_count": null,
   "metadata": {},
   "outputs": [],
   "source": [
    "plt.scatter(X_rflvm[:,0], X_rflvm[:,1])\n",
    "# Annotate outliers\n",
    "for i in star_indices:\n",
    "    plt.annotate(names[i], (X_rflvm[i, 0], X_rflvm[i, 1]), fontsize=7)\n",
    "plt.xlabel(\"Latent 1\")\n",
    "plt.ylabel(\"Latent 2\")"
   ]
  },
  {
   "cell_type": "code",
   "execution_count": null,
   "metadata": {},
   "outputs": [],
   "source": [
    "plt.scatter(X_rflvm[:,1], X_rflvm[:,2])\n",
    "# Annotate outliers\n",
    "for i in star_indices:\n",
    "    plt.annotate(names[i], (X_rflvm[i, 1], X_rflvm[i, 2]), fontsize=7)\n",
    "plt.xlabel(\"Latent 2\")\n",
    "plt.ylabel(\"Latent 3\")"
   ]
  },
  {
   "cell_type": "code",
   "execution_count": null,
   "metadata": {},
   "outputs": [],
   "source": [
    "plt.scatter(X_rflvm[:,0], X_rflvm[:,2])\n",
    "# Annotate outliers\n",
    "for i in star_indices:\n",
    "    plt.annotate(names[i], (X_rflvm[i, 0], X_rflvm[i, 2]), fontsize=7)\n",
    "plt.xlabel(\"Latent 1\")\n",
    "plt.ylabel(\"Latent 3\")"
   ]
  },
  {
   "cell_type": "markdown",
   "metadata": {},
   "source": [
    "We actually probably care about not the latent representation, but the projected latent representation $\\phi(X)$"
   ]
  },
  {
   "cell_type": "code",
   "execution_count": null,
   "metadata": {},
   "outputs": [],
   "source": [
    "W = results[\"W_auto_loc\"]\n",
    "U, _, _ = np.linalg.svd(X_rflvm, full_matrices=False)\n",
    "L       = np.linalg.cholesky(np.cov(U.T) + 1e-6 * np.eye(3)).T\n",
    "aligned_X  = np.linalg.solve(L, U.T).T\n",
    "X_rflvm_aligned = aligned_X / np.std(X_rflvm, axis=0)\n",
    "wTx = np.einsum(\"nr,mr -> nm\", X_rflvm_aligned, W)\n",
    "phi = np.hstack([np.cos(wTx), np.sin(wTx)]) * (1/ np.sqrt(10))"
   ]
  },
  {
   "cell_type": "code",
   "execution_count": null,
   "metadata": {},
   "outputs": [],
   "source": [
    "\n",
    "Z_rflvm_phi = linkage(phi, optimal_ordering=True, method=\"centroid\")\n",
    "\n",
    "dendrogram(Z_rflvm_phi, labels=names, p = 120, truncate_mode=\"lastp\", show_leaf_counts=False)"
   ]
  },
  {
   "cell_type": "markdown",
   "metadata": {},
   "source": [
    "### Functional Bases\n",
    "\n",
    "We can look at the individual curves for the metrics. "
   ]
  },
  {
   "cell_type": "code",
   "execution_count": null,
   "metadata": {},
   "outputs": [],
   "source": [
    "bases_rflvm = results[\"beta_auto_loc\"]"
   ]
  },
  {
   "cell_type": "code",
   "execution_count": null,
   "metadata": {},
   "outputs": [],
   "source": [
    "for index, metric in enumerate(metrics):\n",
    "    _df = pd.DataFrame(bases_rflvm[index,:, :].T , columns=[f\"basis {i}\" for i in range(20)])\n",
    "    _df[\"age\"] = basis\n",
    "    _df.plot(x=\"age\", y=[f\"basis {i}\" for i in range(20)], xlabel=\"age\",\n",
    "         ylabel=\"Value\", title=f\"Metric: {metric}\")"
   ]
  },
  {
   "cell_type": "markdown",
   "metadata": {},
   "source": [
    "## Time Varying Random Feature Latent Variable Model\n",
    "Added the time varying component to the columns in the form of a Gaussian Process.\n"
   ]
  },
  {
   "cell_type": "code",
   "execution_count": null,
   "metadata": {},
   "outputs": [],
   "source": [
    "with open(\"model_output/nba_tvrflvm.pkl\", \"rb\") as f:\n",
    "    results = pickle.load(f)\n",
    "f.close()"
   ]
  },
  {
   "cell_type": "code",
   "execution_count": null,
   "metadata": {},
   "outputs": [],
   "source": [
    "X_tvrflvm = results[\"X_raw_auto_loc\"]\n",
    "\n",
    "\n",
    "Z_tvrflvm = linkage(X_tvrflvm, optimal_ordering=True, method=\"centroid\")\n",
    "\n",
    "dendrogram(Z_tvrflvm, labels=names, p = 150, truncate_mode=\"lastp\", show_leaf_counts=False)"
   ]
  },
  {
   "cell_type": "code",
   "execution_count": null,
   "metadata": {},
   "outputs": [],
   "source": [
    "plt.scatter(X_tvrflvm[:,0], X_tvrflvm[:,1])\n",
    "# Annotate outliers\n",
    "for i in star_indices:\n",
    "    plt.annotate(names[i], (X_tvrflvm[i, 0], X_tvrflvm[i, 1]), fontsize=7)\n",
    "plt.xlabel(\"Latent 1\")\n",
    "plt.ylabel(\"Latent 2\")"
   ]
  },
  {
   "cell_type": "code",
   "execution_count": null,
   "metadata": {},
   "outputs": [],
   "source": [
    "plt.scatter(X_tvrflvm[:,1], X_tvrflvm[:,2])\n",
    "# Annotate outliers\n",
    "for i in star_indices:\n",
    "    plt.annotate(names[i], (X_tvrflvm[i, 1], X_tvrflvm[i, 2]), fontsize=7)\n",
    "plt.xlabel(\"Latent 2\")\n",
    "plt.ylabel(\"Latent 3\")"
   ]
  },
  {
   "cell_type": "code",
   "execution_count": null,
   "metadata": {},
   "outputs": [],
   "source": [
    "plt.scatter(X_tvrflvm[:,0], X_tvrflvm[:,2])\n",
    "# Annotate outliers\n",
    "for i in star_indices:\n",
    "    plt.annotate(names[i], (X_tvrflvm[i, 0], X_tvrflvm[i, 2]), fontsize=7)\n",
    "plt.xlabel(\"Latent 1\")\n",
    "plt.ylabel(\"Latent 3\")"
   ]
  },
  {
   "cell_type": "code",
   "execution_count": null,
   "metadata": {},
   "outputs": [],
   "source": []
  },
  {
   "cell_type": "markdown",
   "metadata": {},
   "source": [
    "We actually probably care about not the latent representation, but the projected latent representation $\\phi(X)$"
   ]
  },
  {
   "cell_type": "code",
   "execution_count": null,
   "metadata": {},
   "outputs": [],
   "source": [
    "W = results[\"W_auto_loc\"]\n",
    "U, _, _ = np.linalg.svd(X_tvrflvm, full_matrices=False)\n",
    "L       = np.linalg.cholesky(np.cov(U.T) + 1e-6 * np.eye(3)).T\n",
    "aligned_X  = np.linalg.solve(L, U.T).T\n",
    "X_tvrflvm_aligned = aligned_X / np.std(X_tvrflvm, axis=0)\n",
    "wTx = np.einsum(\"nr,mr -> nm\", X_tvrflvm_aligned, W)\n",
    "phi = np.hstack([np.cos(wTx), np.sin(wTx)]) * (1/ np.sqrt(10))"
   ]
  },
  {
   "cell_type": "code",
   "execution_count": null,
   "metadata": {},
   "outputs": [],
   "source": [
    "\n",
    "Z_tvrflvm_phi = linkage(phi, optimal_ordering=True, method=\"centroid\")\n",
    "\n",
    "dendrogram(Z_tvrflvm_phi, labels=names, p = 120, truncate_mode=\"lastp\", show_leaf_counts=False)"
   ]
  },
  {
   "cell_type": "markdown",
   "metadata": {},
   "source": [
    "## Functional Bases \n",
    "\n",
    "We can look at the metric curves for each of the bases"
   ]
  },
  {
   "cell_type": "code",
   "execution_count": null,
   "metadata": {},
   "outputs": [],
   "source": []
  },
  {
   "cell_type": "code",
   "execution_count": null,
   "metadata": {},
   "outputs": [],
   "source": [
    "bases_tvrflvm = results[\"beta_auto_loc\"]"
   ]
  },
  {
   "cell_type": "code",
   "execution_count": null,
   "metadata": {},
   "outputs": [],
   "source": [
    "for index, metric in enumerate(metrics):\n",
    "    _df = pd.DataFrame(bases_tvrflvm[index,:, :].T , columns=[f\"basis {i}\" for i in range(20)])\n",
    "    _df[\"age\"] = basis\n",
    "    _df.plot(x=\"age\", y=[f\"basis {i}\" for i in range(20)], xlabel=\"age\",\n",
    "         ylabel=\"Value\", title=f\"Metric: {metric}\")"
   ]
  },
  {
   "cell_type": "markdown",
   "metadata": {},
   "source": [
    "## 4-Way Tensor Decomposition\n",
    "Here, we have the 4-way tensor decomposition including the years that the players played in to account for the change in metrics over time. "
   ]
  },
  {
   "cell_type": "code",
   "execution_count": null,
   "metadata": {},
   "outputs": [],
   "source": [
    "with open(\"model_output/exponential_cp_multi_way.pkl\", \"rb\") as f:\n",
    "    results = pickle.load(f)\n",
    "f.close()"
   ]
  },
  {
   "cell_type": "code",
   "execution_count": null,
   "metadata": {},
   "outputs": [],
   "source": [
    "X_pcp_mw = results[\"U_auto_loc\"]\n",
    "\n",
    "\n",
    "Z_pcp_mw = linkage(X_pcp_mw, optimal_ordering=True, method=\"centroid\")\n",
    "\n",
    "dendrogram(Z_pcp_mw, labels=names, p = 100, truncate_mode=\"lastp\", show_leaf_counts=False)"
   ]
  },
  {
   "cell_type": "code",
   "execution_count": null,
   "metadata": {},
   "outputs": [],
   "source": [
    "plt.scatter(X_pcp_mw[:,0], X_pcp_mw[:,1])\n",
    "# Annotate outliers\n",
    "for i in star_indices:\n",
    "    plt.annotate(names[i], (X_pcp_mw[i, 0], X_pcp_mw[i, 1]), fontsize=7)\n",
    "plt.xlabel(\"Latent 1\")\n",
    "plt.ylabel(\"Latent 2\")"
   ]
  },
  {
   "cell_type": "code",
   "execution_count": null,
   "metadata": {},
   "outputs": [],
   "source": [
    "plt.scatter(X_pcp_mw[:,1], X_pcp_mw[:,2])\n",
    "# Annotate outliers\n",
    "for i in star_indices:\n",
    "    plt.annotate(names[i], (X_pcp_mw[i, 1], X_pcp_mw[i, 2]), fontsize=7)\n",
    "plt.xlabel(\"Latent 2\")\n",
    "plt.ylabel(\"Latent 3\")"
   ]
  },
  {
   "cell_type": "code",
   "execution_count": null,
   "metadata": {},
   "outputs": [],
   "source": [
    "plt.scatter(X_pcp_mw[:,0], X_pcp_mw[:,2])\n",
    "# Annotate outliers\n",
    "for i in star_indices:\n",
    "    plt.annotate(names[i], (X_pcp_mw[i, 0], X_pcp_mw[i, 2]), fontsize=7)\n",
    "plt.xlabel(\"Latent 1\")\n",
    "plt.ylabel(\"Latent 3\")"
   ]
  },
  {
   "cell_type": "code",
   "execution_count": null,
   "metadata": {},
   "outputs": [],
   "source": []
  },
  {
   "cell_type": "markdown",
   "metadata": {},
   "source": [
    "### Functional Bases"
   ]
  },
  {
   "cell_type": "code",
   "execution_count": null,
   "metadata": {},
   "outputs": [],
   "source": [
    "V_pcp_mw = results[\"V_auto_loc\"]\n",
    "W_pcp_mw = results[\"W_auto_loc\"]\n",
    "T_pcp_mw = results[\"Z_auto_loc\"]\n",
    "lam = results[\"lambda_auto_loc\"]"
   ]
  },
  {
   "cell_type": "code",
   "execution_count": null,
   "metadata": {},
   "outputs": [],
   "source": [
    "lam"
   ]
  },
  {
   "cell_type": "code",
   "execution_count": null,
   "metadata": {},
   "outputs": [],
   "source": [
    "bases_pcp_mw = np.einsum(\"tr,kr -> tkr\", V_pcp_mw,W_pcp_mw)\n",
    "bases_sum_pcp_mw = np.einsum(\"tkr,r -> tk\", bases_pcp_mw, lam)"
   ]
  },
  {
   "cell_type": "markdown",
   "metadata": {},
   "source": [
    "## Plotting individual Tensor Production Curves"
   ]
  },
  {
   "cell_type": "code",
   "execution_count": null,
   "metadata": {},
   "outputs": [],
   "source": [
    "for index, metric in enumerate(metrics):\n",
    "    _df = pd.DataFrame(bases_pcp_mw[:,index, :] , columns=[f\"basis {i}\" for i in range(3)])\n",
    "    _df[\"age\"] = basis\n",
    "    _df.plot(x=\"age\", y=[f\"basis {i}\" for i in range(3)], xlabel=\"age\",\n",
    "         ylabel=\"Value\", title=f\"Metric: {metric}\")"
   ]
  },
  {
   "cell_type": "markdown",
   "metadata": {},
   "source": [
    "### Plotting Combined Tensor Production Curves"
   ]
  },
  {
   "cell_type": "code",
   "execution_count": null,
   "metadata": {},
   "outputs": [],
   "source": [
    "for index, metric in enumerate(metrics):\n",
    "    _df = pd.DataFrame(bases_sum_pcp_mw[:,index] , columns=[\"total_basis\"])\n",
    "    _df[\"age\"] = basis\n",
    "    _df.plot(x=\"age\", y=[\"total_basis\"], xlabel=\"age\",\n",
    "         ylabel=\"Value\", title=f\"Metric: {metric}\")"
   ]
  },
  {
   "cell_type": "markdown",
   "metadata": {},
   "source": [
    "This seems like random noise!"
   ]
  },
  {
   "cell_type": "markdown",
   "metadata": {},
   "source": [
    "## Random Feature Latent Variable Model (with metric drift)\n",
    "This is the same TVRFLVM as before, except we account for the baseline level of metric to vary across time. "
   ]
  },
  {
   "cell_type": "code",
   "execution_count": null,
   "metadata": {},
   "outputs": [],
   "source": [
    "with open(\"model_output/nba_tvrflvm_drift.pkl\", \"rb\") as f:\n",
    "    results = pickle.load(f)\n",
    "f.close()"
   ]
  },
  {
   "cell_type": "code",
   "execution_count": null,
   "metadata": {},
   "outputs": [],
   "source": [
    "X_tvrflvm_drift = results[\"X_raw_auto_loc\"]\n",
    "\n",
    "\n",
    "Z_tvrflvm_drift = linkage(X_tvrflvm_drift, optimal_ordering=True, method=\"centroid\")\n",
    "\n",
    "dendrogram(Z_tvrflvm_drift, labels=names, p = 150, truncate_mode=\"lastp\", show_leaf_counts=False)"
   ]
  },
  {
   "cell_type": "code",
   "execution_count": null,
   "metadata": {},
   "outputs": [],
   "source": [
    "plt.scatter(X_tvrflvm_drift[:,0], X_tvrflvm_drift[:,1])\n",
    "# Annotate outliers\n",
    "for i in star_indices:\n",
    "    plt.annotate(names[i], (X_tvrflvm_drift[i, 0], X_tvrflvm_drift[i, 1]), fontsize=7)\n",
    "plt.xlabel(\"Latent 1\")\n",
    "plt.ylabel(\"Latent 2\")"
   ]
  },
  {
   "cell_type": "code",
   "execution_count": null,
   "metadata": {},
   "outputs": [],
   "source": [
    "plt.scatter(X_tvrflvm_drift[:,0], X_tvrflvm_drift[:,2])\n",
    "# Annotate outliers\n",
    "for i in star_indices:\n",
    "    plt.annotate(names[i], (X_tvrflvm_drift[i, 0], X_tvrflvm_drift[i, 2]), fontsize=7)\n",
    "plt.xlabel(\"Latent 1\")\n",
    "plt.ylabel(\"Latent 3\")"
   ]
  },
  {
   "cell_type": "code",
   "execution_count": null,
   "metadata": {},
   "outputs": [],
   "source": [
    "plt.scatter(X_tvrflvm_drift[:,1], X_tvrflvm_drift[:,2])\n",
    "# Annotate outliers\n",
    "for i in star_indices:\n",
    "    plt.annotate(names[i], (X_tvrflvm_drift[i, 1], X_tvrflvm_drift[i, 2]), fontsize=7)\n",
    "plt.xlabel(\"Latent 2\")\n",
    "plt.ylabel(\"Latent 3\")"
   ]
  },
  {
   "cell_type": "markdown",
   "metadata": {},
   "source": [
    "We actually probably care about not the latent representation, but the projected latent representation $\\phi(X)$"
   ]
  },
  {
   "cell_type": "code",
   "execution_count": null,
   "metadata": {},
   "outputs": [],
   "source": [
    "W = results[\"W_auto_loc\"]\n",
    "U, _, _ = np.linalg.svd(X_tvrflvm_drift, full_matrices=False)\n",
    "L       = np.linalg.cholesky(np.cov(U.T) + 1e-6 * np.eye(3)).T\n",
    "aligned_X  = np.linalg.solve(L, U.T).T\n",
    "X_tvrflvm_aligned_drift = aligned_X / np.std(X_tvrflvm_drift, axis=0)\n",
    "wTx = np.einsum(\"nr,mr -> nm\", X_tvrflvm_aligned_drift, W)\n",
    "phi = np.hstack([np.cos(wTx), np.sin(wTx)]) * (1/ np.sqrt(10))"
   ]
  },
  {
   "cell_type": "code",
   "execution_count": null,
   "metadata": {},
   "outputs": [],
   "source": [
    "\n",
    "Z_tvrflvm_phi_drift = linkage(phi, optimal_ordering=True, method=\"centroid\")\n",
    "\n",
    "dendrogram(Z_tvrflvm_phi_drift, labels=names, p = 120, truncate_mode=\"lastp\", show_leaf_counts=False)"
   ]
  },
  {
   "cell_type": "markdown",
   "metadata": {},
   "source": [
    "## Functional Bases \n",
    "\n",
    "We can look at the metric curves for each of the bases"
   ]
  },
  {
   "cell_type": "code",
   "execution_count": null,
   "metadata": {},
   "outputs": [],
   "source": [
    "bases_tvrflvm_drift = results[\"beta_auto_loc\"]"
   ]
  },
  {
   "cell_type": "code",
   "execution_count": null,
   "metadata": {},
   "outputs": [],
   "source": [
    "for index, metric in enumerate(metrics):\n",
    "    _df = pd.DataFrame(bases_tvrflvm_drift[index,:, :].T , columns=[f\"basis {i}\" for i in range(20)])\n",
    "    _df[\"age\"] = basis\n",
    "    _df.plot(x=\"age\", y=[f\"basis {i}\" for i in range(20)], xlabel=\"age\",\n",
    "         ylabel=\"Value\", title=f\"Metric: {metric}\")"
   ]
  },
  {
   "cell_type": "markdown",
   "metadata": {},
   "source": [
    "### Looking at the metric drift terms\n",
    "Here, we can look at how each metric has changed over the years. "
   ]
  },
  {
   "cell_type": "code",
   "execution_count": null,
   "metadata": {},
   "outputs": [],
   "source": [
    "from model.hsgp import eigenfunctions, diag_spectral_density"
   ]
  },
  {
   "cell_type": "code",
   "execution_count": null,
   "metadata": {},
   "outputs": [],
   "source": [
    "drift_keys = sorted([item for item in results.keys() if \"drift\" in item], key = lambda x: int(x.split(\"_\")[1]))"
   ]
  },
  {
   "cell_type": "code",
   "execution_count": null,
   "metadata": {},
   "outputs": [],
   "source": [
    "drift = np.hstack( [results[key] for key in drift_keys] )"
   ]
  },
  {
   "cell_type": "code",
   "execution_count": null,
   "metadata": {},
   "outputs": [],
   "source": [
    "f_stack = []\n",
    "time_basis = np.arange(data[\"year\"].min(), data[\"year\"].max() + 1)\n",
    "L = np.max(np.abs(time_basis), axis=0)*1.5\n",
    "phi = eigenfunctions(time_basis, L, 10)\n",
    "for i in range(len(metrics)):   \n",
    "    spd = np.tile(np.sqrt(diag_spectral_density(1, 1, L, 10)), (1,1)).T\n",
    "    f = phi @ (spd * drift[..., i])\n",
    "    f_stack.append(f)"
   ]
  },
  {
   "cell_type": "code",
   "execution_count": null,
   "metadata": {},
   "outputs": [],
   "source": [
    "f = np.stack(f_stack)"
   ]
  },
  {
   "cell_type": "code",
   "execution_count": null,
   "metadata": {},
   "outputs": [],
   "source": [
    "for index, metric in enumerate(metrics):\n",
    "    _df = pd.DataFrame(f[index,:, :] , columns=[f\"basis {i}\" for i in range(10)])\n",
    "    _df[\"year\"] = time_basis\n",
    "    _df.plot(x=\"year\", y=[f\"basis {i}\" for i in range(10)], xlabel=\"year\",\n",
    "         ylabel=\"Value\", title=f\"Metric: {metric}\")"
   ]
  },
  {
   "cell_type": "markdown",
   "metadata": {},
   "source": [
    "# Fixed Latent Space RFLVM\n",
    "Here, we used the fixed latent space on X and estimated $\\phi(X)$, $\\beta$ using MCMC sampling. "
   ]
  },
  {
   "cell_type": "code",
   "execution_count": 5,
   "metadata": {},
   "outputs": [
    {
     "name": "stderr",
     "output_type": "stream",
     "text": [
      "Platform 'METAL' is experimental and not all JAX functionality may be correctly supported!\n"
     ]
    },
    {
     "name": "stderr",
     "output_type": "stream",
     "text": [
      "2024-06-17 09:07:19.913569: W pjrt_plugin/src/mps_client.cc:563] WARNING: JAX Apple GPU support is experimental and not all JAX functionality is correctly supported!\n"
     ]
    },
    {
     "name": "stdout",
     "output_type": "stream",
     "text": [
      "Metal device set to: Apple M3 Pro\n",
      "\n",
      "systemMemory: 18.00 GB\n",
      "maxCacheSize: 6.00 GB\n",
      "\n"
     ]
    }
   ],
   "source": [
    "with open(\"model_output/fixed_nba_rflvm.pkl\", \"rb\") as f:\n",
    "    results = pickle.load(f)\n",
    "f.close()"
   ]
  },
  {
   "cell_type": "code",
   "execution_count": 6,
   "metadata": {},
   "outputs": [
    {
     "data": {
      "text/plain": [
       "dict_keys(['W', 'beta', 'sigma_dbpm', 'sigma_log_min', 'sigma_obpm'])"
      ]
     },
     "execution_count": 6,
     "metadata": {},
     "output_type": "execute_result"
    }
   ],
   "source": [
    "results.keys()"
   ]
  },
  {
   "cell_type": "code",
   "execution_count": 7,
   "metadata": {},
   "outputs": [],
   "source": [
    "inference_data = az.from_dict(results)"
   ]
  },
  {
   "cell_type": "code",
   "execution_count": 8,
   "metadata": {},
   "outputs": [
    {
     "data": {
      "text/plain": [
       "array([[<Axes: title={'center': 'W'}>, <Axes: title={'center': 'W'}>]],\n",
       "      dtype=object)"
      ]
     },
     "execution_count": 8,
     "metadata": {},
     "output_type": "execute_result"
    },
    {
     "data": {
      "image/png": "[encoded data removed]",
      "text/plain": [
       "<Figure size 1200x200 with 2 Axes>"
      ]
     },
     "metadata": {},
     "output_type": "display_data"
    }
   ],
   "source": [
    "az.plot_trace(inference_data, var_names=\"W\", coords={\"W_dim_0\":0, \"W_dim_1\":0})"
   ]
  },
  {
   "cell_type": "code",
   "execution_count": 9,
   "metadata": {},
   "outputs": [
    {
     "data": {
      "text/plain": [
       "array([[<Axes: title={'center': 'beta'}>,\n",
       "        <Axes: title={'center': 'beta'}>]], dtype=object)"
      ]
     },
     "execution_count": 9,
     "metadata": {},
     "output_type": "execute_result"
    },
    {
     "data": {
      "image/png": "[encoded data removed]",
      "text/plain": [
       "<Figure size 1200x200 with 2 Axes>"
      ]
     },
     "metadata": {},
     "output_type": "display_data"
    }
   ],
   "source": [
    "az.plot_trace(inference_data, var_names=\"beta\", coords={\"beta_dim_0\":0, \"beta_dim_1\":0, \"beta_dim_2\":0})"
   ]
  },
  {
   "cell_type": "code",
   "execution_count": 10,
   "metadata": {},
   "outputs": [
    {
     "data": {
      "text/plain": [
       "array([[<Axes: title={'center': 'sigma_obpm'}>,\n",
       "        <Axes: title={'center': 'sigma_obpm'}>]], dtype=object)"
      ]
     },
     "execution_count": 10,
     "metadata": {},
     "output_type": "execute_result"
    },
    {
     "data": {
      "image/png": "[encoded data removed]",
      "text/plain": [
       "<Figure size 1200x200 with 2 Axes>"
      ]
     },
     "metadata": {},
     "output_type": "display_data"
    }
   ],
   "source": [
    "az.plot_trace(inference_data, var_names=\"sigma_obpm\")"
   ]
  },
  {
   "cell_type": "code",
   "execution_count": 11,
   "metadata": {},
   "outputs": [
    {
     "data": {
      "text/html": [
       "\n",
       "            <div>\n",
       "              <div class='xr-header'>\n",
       "                <div class=\"xr-obj-type\">arviz.InferenceData</div>\n",
       "              </div>\n",
       "              <ul class=\"xr-sections group-sections\">\n",
       "              \n",
       "            <li class = \"xr-section-item\">\n",
       "                  <input id=\"idata_posterior47b6e286-5aff-4dbe-b5ce-33fe2466072d\" class=\"xr-section-summary-in\" type=\"checkbox\">\n",
       "                  <label for=\"idata_posterior47b6e286-5aff-4dbe-b5ce-33fe2466072d\" class = \"xr-section-summary\">posterior</label>\n",
       "                  <div class=\"xr-section-inline-details\"></div>\n",
       "                  <div class=\"xr-section-details\">\n",
       "                      <ul id=\"xr-dataset-coord-list\" class=\"xr-var-list\">\n",
       "                          <div style=\"padding-left:2rem;\"><div><svg style=\"position: absolute; width: 0; height: 0; overflow: hidden\">\n",
       "<defs>\n",
       "<symbol id=\"icon-database\" viewBox=\"0 0 32 32\">\n",
       "<path d=\"M16 0c-8.837 0-16 2.239-16 5v4c0 2.761 7.163 5 16 5s16-2.239 16-5v-4c0-2.761-7.163-5-16-5z\"></path>\n",
       "<path d=\"M16 17c-8.837 0-16-2.239-16-5v6c0 2.761 7.163 5 16 5s16-2.239 16-5v-6c0 2.761-7.163 5-16 5z\"></path>\n",
       "<path d=\"M16 26c-8.837 0-16-2.239-16-5v6c0 2.761 7.163 5 16 5s16-2.239 16-5v-6c0 2.761-7.163 5-16 5z\"></path>\n",
       "</symbol>\n",
       "<symbol id=\"icon-file-text2\" viewBox=\"0 0 32 32\">\n",
       "<path d=\"M28.681 7.159c-0.694-0.947-1.662-2.053-2.724-3.116s-2.169-2.030-3.116-2.724c-1.612-1.182-2.393-1.319-2.841-1.319h-15.5c-1.378 0-2.5 1.121-2.5 2.5v27c0 1.378 1.122 2.5 2.5 2.5h23c1.378 0 2.5-1.122 2.5-2.5v-19.5c0-0.448-0.137-1.23-1.319-2.841zM24.543 5.457c0.959 0.959 1.712 1.825 2.268 2.543h-4.811v-4.811c0.718 0.556 1.584 1.309 2.543 2.268zM28 29.5c0 0.271-0.229 0.5-0.5 0.5h-23c-0.271 0-0.5-0.229-0.5-0.5v-27c0-0.271 0.229-0.5 0.5-0.5 0 0 15.499-0 15.5 0v7c0 0.552 0.448 1 1 1h7v19.5z\"></path>\n",
       "<path d=\"M23 26h-14c-0.552 0-1-0.448-1-1s0.448-1 1-1h14c0.552 0 1 0.448 1 1s-0.448 1-1 1z\"></path>\n",
       "<path d=\"M23 22h-14c-0.552 0-1-0.448-1-1s0.448-1 1-1h14c0.552 0 1 0.448 1 1s-0.448 1-1 1z\"></path>\n",
       "<path d=\"M23 18h-14c-0.552 0-1-0.448-1-1s0.448-1 1-1h14c0.552 0 1 0.448 1 1s-0.448 1-1 1z\"></path>\n",
       "</symbol>\n",
       "</defs>\n",
       "</svg>\n",
       "<style>/* CSS stylesheet for displaying xarray objects in jupyterlab.\n",
       " *\n",
       " */\n",
       "\n",
       ":root {\n",
       "  --xr-font-color0: var(--jp-content-font-color0, rgba(0, 0, 0, 1));\n",
       "  --xr-font-color2: var(--jp-content-font-color2, rgba(0, 0, 0, 0.54));\n",
       "  --xr-font-color3: var(--jp-content-font-color3, rgba(0, 0, 0, 0.38));\n",
       "  --xr-border-color: var(--jp-border-color2, #e0e0e0);\n",
       "  --xr-disabled-color: var(--jp-layout-color3, #bdbdbd);\n",
       "  --xr-background-color: var(--jp-layout-color0, white);\n",
       "  --xr-background-color-row-even: var(--jp-layout-color1, white);\n",
       "  --xr-background-color-row-odd: var(--jp-layout-color2, #eeeeee);\n",
       "}\n",
       "\n",
       "html[theme=dark],\n",
       "body[data-theme=dark],\n",
       "body.vscode-dark {\n",
       "  --xr-font-color0: rgba(255, 255, 255, 1);\n",
       "  --xr-font-color2: rgba(255, 255, 255, 0.54);\n",
       "  --xr-font-color3: rgba(255, 255, 255, 0.38);\n",
       "  --xr-border-color: #1F1F1F;\n",
       "  --xr-disabled-color: #515151;\n",
       "  --xr-background-color: #111111;\n",
       "  --xr-background-color-row-even: #111111;\n",
       "  --xr-background-color-row-odd: #313131;\n",
       "}\n",
       "\n",
       ".xr-wrap {\n",
       "  display: block !important;\n",
       "  min-width: 300px;\n",
       "  max-width: 700px;\n",
       "}\n",
       "\n",
       ".xr-text-repr-fallback {\n",
       "  /* fallback to plain text repr when CSS is not injected (untrusted notebook) */\n",
       "  display: none;\n",
       "}\n",
       "\n",
       ".xr-header {\n",
       "  padding-top: 6px;\n",
       "  padding-bottom: 6px;\n",
       "  margin-bottom: 4px;\n",
       "  border-bottom: solid 1px var(--xr-border-color);\n",
       "}\n",
       "\n",
       ".xr-header > div,\n",
       ".xr-header > ul {\n",
       "  display: inline;\n",
       "  margin-top: 0;\n",
       "  margin-bottom: 0;\n",
       "}\n",
       "\n",
       ".xr-obj-type,\n",
       ".xr-array-name {\n",
       "  margin-left: 2px;\n",
       "  margin-right: 10px;\n",
       "}\n",
       "\n",
       ".xr-obj-type {\n",
       "  color: var(--xr-font-color2);\n",
       "}\n",
       "\n",
       ".xr-sections {\n",
       "  padding-left: 0 !important;\n",
       "  display: grid;\n",
       "  grid-template-columns: 150px auto auto 1fr 20px 20px;\n",
       "}\n",
       "\n",
       ".xr-section-item {\n",
       "  display: contents;\n",
       "}\n",
       "\n",
       ".xr-section-item input {\n",
       "  display: none;\n",
       "}\n",
       "\n",
       ".xr-section-item input + label {\n",
       "  color: var(--xr-disabled-color);\n",
       "}\n",
       "\n",
       ".xr-section-item input:enabled + label {\n",
       "  cursor: pointer;\n",
       "  color: var(--xr-font-color2);\n",
       "}\n",
       "\n",
       ".xr-section-item input:enabled + label:hover {\n",
       "  color: var(--xr-font-color0);\n",
       "}\n",
       "\n",
       ".xr-section-summary {\n",
       "  grid-column: 1;\n",
       "  color: var(--xr-font-color2);\n",
       "  font-weight: 500;\n",
       "}\n",
       "\n",
       ".xr-section-summary > span {\n",
       "  display: inline-block;\n",
       "  padding-left: 0.5em;\n",
       "}\n",
       "\n",
       ".xr-section-summary-in:disabled + label {\n",
       "  color: var(--xr-font-color2);\n",
       "}\n",
       "\n",
       ".xr-section-summary-in + label:before {\n",
       "  display: inline-block;\n",
       "  content: '►';\n",
       "  font-size: 11px;\n",
       "  width: 15px;\n",
       "  text-align: center;\n",
       "}\n",
       "\n",
       ".xr-section-summary-in:disabled + label:before {\n",
       "  color: var(--xr-disabled-color);\n",
       "}\n",
       "\n",
       ".xr-section-summary-in:checked + label:before {\n",
       "  content: '▼';\n",
       "}\n",
       "\n",
       ".xr-section-summary-in:checked + label > span {\n",
       "  display: none;\n",
       "}\n",
       "\n",
       ".xr-section-summary,\n",
       ".xr-section-inline-details {\n",
       "  padding-top: 4px;\n",
       "  padding-bottom: 4px;\n",
       "}\n",
       "\n",
       ".xr-section-inline-details {\n",
       "  grid-column: 2 / -1;\n",
       "}\n",
       "\n",
       ".xr-section-details {\n",
       "  display: none;\n",
       "  grid-column: 1 / -1;\n",
       "  margin-bottom: 5px;\n",
       "}\n",
       "\n",
       ".xr-section-summary-in:checked ~ .xr-section-details {\n",
       "  display: contents;\n",
       "}\n",
       "\n",
       ".xr-array-wrap {\n",
       "  grid-column: 1 / -1;\n",
       "  display: grid;\n",
       "  grid-template-columns: 20px auto;\n",
       "}\n",
       "\n",
       ".xr-array-wrap > label {\n",
       "  grid-column: 1;\n",
       "  vertical-align: top;\n",
       "}\n",
       "\n",
       ".xr-preview {\n",
       "  color: var(--xr-font-color3);\n",
       "}\n",
       "\n",
       ".xr-array-preview,\n",
       ".xr-array-data {\n",
       "  padding: 0 5px !important;\n",
       "  grid-column: 2;\n",
       "}\n",
       "\n",
       ".xr-array-data,\n",
       ".xr-array-in:checked ~ .xr-array-preview {\n",
       "  display: none;\n",
       "}\n",
       "\n",
       ".xr-array-in:checked ~ .xr-array-data,\n",
       ".xr-array-preview {\n",
       "  display: inline-block;\n",
       "}\n",
       "\n",
       ".xr-dim-list {\n",
       "  display: inline-block !important;\n",
       "  list-style: none;\n",
       "  padding: 0 !important;\n",
       "  margin: 0;\n",
       "}\n",
       "\n",
       ".xr-dim-list li {\n",
       "  display: inline-block;\n",
       "  padding: 0;\n",
       "  margin: 0;\n",
       "}\n",
       "\n",
       ".xr-dim-list:before {\n",
       "  content: '(';\n",
       "}\n",
       "\n",
       ".xr-dim-list:after {\n",
       "  content: ')';\n",
       "}\n",
       "\n",
       ".xr-dim-list li:not(:last-child):after {\n",
       "  content: ',';\n",
       "  padding-right: 5px;\n",
       "}\n",
       "\n",
       ".xr-has-index {\n",
       "  font-weight: bold;\n",
       "}\n",
       "\n",
       ".xr-var-list,\n",
       ".xr-var-item {\n",
       "  display: contents;\n",
       "}\n",
       "\n",
       ".xr-var-item > div,\n",
       ".xr-var-item label,\n",
       ".xr-var-item > .xr-var-name span {\n",
       "  background-color: var(--xr-background-color-row-even);\n",
       "  margin-bottom: 0;\n",
       "}\n",
       "\n",
       ".xr-var-item > .xr-var-name:hover span {\n",
       "  padding-right: 5px;\n",
       "}\n",
       "\n",
       ".xr-var-list > li:nth-child(odd) > div,\n",
       ".xr-var-list > li:nth-child(odd) > label,\n",
       ".xr-var-list > li:nth-child(odd) > .xr-var-name span {\n",
       "  background-color: var(--xr-background-color-row-odd);\n",
       "}\n",
       "\n",
       ".xr-var-name {\n",
       "  grid-column: 1;\n",
       "}\n",
       "\n",
       ".xr-var-dims {\n",
       "  grid-column: 2;\n",
       "}\n",
       "\n",
       ".xr-var-dtype {\n",
       "  grid-column: 3;\n",
       "  text-align: right;\n",
       "  color: var(--xr-font-color2);\n",
       "}\n",
       "\n",
       ".xr-var-preview {\n",
       "  grid-column: 4;\n",
       "}\n",
       "\n",
       ".xr-index-preview {\n",
       "  grid-column: 2 / 5;\n",
       "  color: var(--xr-font-color2);\n",
       "}\n",
       "\n",
       ".xr-var-name,\n",
       ".xr-var-dims,\n",
       ".xr-var-dtype,\n",
       ".xr-preview,\n",
       ".xr-attrs dt {\n",
       "  white-space: nowrap;\n",
       "  overflow: hidden;\n",
       "  text-overflow: ellipsis;\n",
       "  padding-right: 10px;\n",
       "}\n",
       "\n",
       ".xr-var-name:hover,\n",
       ".xr-var-dims:hover,\n",
       ".xr-var-dtype:hover,\n",
       ".xr-attrs dt:hover {\n",
       "  overflow: visible;\n",
       "  width: auto;\n",
       "  z-index: 1;\n",
       "}\n",
       "\n",
       ".xr-var-attrs,\n",
       ".xr-var-data,\n",
       ".xr-index-data {\n",
       "  display: none;\n",
       "  background-color: var(--xr-background-color) !important;\n",
       "  padding-bottom: 5px !important;\n",
       "}\n",
       "\n",
       ".xr-var-attrs-in:checked ~ .xr-var-attrs,\n",
       ".xr-var-data-in:checked ~ .xr-var-data,\n",
       ".xr-index-data-in:checked ~ .xr-index-data {\n",
       "  display: block;\n",
       "}\n",
       "\n",
       ".xr-var-data > table {\n",
       "  float: right;\n",
       "}\n",
       "\n",
       ".xr-var-name span,\n",
       ".xr-var-data,\n",
       ".xr-index-name div,\n",
       ".xr-index-data,\n",
       ".xr-attrs {\n",
       "  padding-left: 25px !important;\n",
       "}\n",
       "\n",
       ".xr-attrs,\n",
       ".xr-var-attrs,\n",
       ".xr-var-data,\n",
       ".xr-index-data {\n",
       "  grid-column: 1 / -1;\n",
       "}\n",
       "\n",
       "dl.xr-attrs {\n",
       "  padding: 0;\n",
       "  margin: 0;\n",
       "  display: grid;\n",
       "  grid-template-columns: 125px auto;\n",
       "}\n",
       "\n",
       ".xr-attrs dt,\n",
       ".xr-attrs dd {\n",
       "  padding: 0;\n",
       "  margin: 0;\n",
       "  float: left;\n",
       "  padding-right: 10px;\n",
       "  width: auto;\n",
       "}\n",
       "\n",
       ".xr-attrs dt {\n",
       "  font-weight: normal;\n",
       "  grid-column: 1;\n",
       "}\n",
       "\n",
       ".xr-attrs dt:hover span {\n",
       "  display: inline-block;\n",
       "  background: var(--xr-background-color);\n",
       "  padding-right: 10px;\n",
       "}\n",
       "\n",
       ".xr-attrs dd {\n",
       "  grid-column: 2;\n",
       "  white-space: pre-wrap;\n",
       "  word-break: break-all;\n",
       "}\n",
       "\n",
       ".xr-icon-database,\n",
       ".xr-icon-file-text2,\n",
       ".xr-no-icon {\n",
       "  display: inline-block;\n",
       "  vertical-align: middle;\n",
       "  width: 1em;\n",
       "  height: 1.5em !important;\n",
       "  stroke-width: 0;\n",
       "  stroke: currentColor;\n",
       "  fill: currentColor;\n",
       "}\n",
       "</style><pre class='xr-text-repr-fallback'>&lt;xarray.Dataset&gt; Size: 2GB\n",
       "Dimensions:        (chain: 4, draw: 2000, W_dim_0: 100, W_dim_1: 3,\n",
       "                    beta_dim_0: 15, beta_dim_1: 200, beta_dim_2: 21)\n",
       "Coordinates:\n",
       "  * chain          (chain) int64 32B 0 1 2 3\n",
       "  * draw           (draw) int64 16kB 0 1 2 3 4 5 ... 1995 1996 1997 1998 1999\n",
       "  * W_dim_0        (W_dim_0) int64 800B 0 1 2 3 4 5 6 7 ... 93 94 95 96 97 98 99\n",
       "  * W_dim_1        (W_dim_1) int64 24B 0 1 2\n",
       "  * beta_dim_0     (beta_dim_0) int64 120B 0 1 2 3 4 5 6 7 8 9 10 11 12 13 14\n",
       "  * beta_dim_1     (beta_dim_1) int64 2kB 0 1 2 3 4 5 ... 195 196 197 198 199\n",
       "  * beta_dim_2     (beta_dim_2) int64 168B 0 1 2 3 4 5 6 ... 15 16 17 18 19 20\n",
       "Data variables:\n",
       "    W              (chain, draw, W_dim_0, W_dim_1) float32 10MB 0.3347 ... -1...\n",
       "    beta           (chain, draw, beta_dim_0, beta_dim_1, beta_dim_2) float32 2GB ...\n",
       "    sigma_dbpm     (chain, draw) float32 32kB 29.43 29.61 29.55 ... 29.11 29.16\n",
       "    sigma_log_min  (chain, draw) float32 32kB 1.203 1.178 1.189 ... 1.208 1.204\n",
       "    sigma_obpm     (chain, draw) float32 32kB 58.17 57.91 57.5 ... 58.35 58.24\n",
       "Attributes:\n",
       "    created_at:     2024-06-17T16:07:21.226404+00:00\n",
       "    arviz_version:  0.18.0</pre><div class='xr-wrap' style='display:none'><div class='xr-header'><div class='xr-obj-type'>xarray.Dataset</div></div><ul class='xr-sections'><li class='xr-section-item'><input id='section-ea1457e1-f984-4f40-9f16-092217362545' class='xr-section-summary-in' type='checkbox' disabled ><label for='section-ea1457e1-f984-4f40-9f16-092217362545' class='xr-section-summary'  title='Expand/collapse section'>Dimensions:</label><div class='xr-section-inline-details'><ul class='xr-dim-list'><li><span class='xr-has-index'>chain</span>: 4</li><li><span class='xr-has-index'>draw</span>: 2000</li><li><span class='xr-has-index'>W_dim_0</span>: 100</li><li><span class='xr-has-index'>W_dim_1</span>: 3</li><li><span class='xr-has-index'>beta_dim_0</span>: 15</li><li><span class='xr-has-index'>beta_dim_1</span>: 200</li><li><span class='xr-has-index'>beta_dim_2</span>: 21</li></ul></div><div class='xr-section-details'></div></li><li class='xr-section-item'><input id='section-038b4cb5-60df-46dc-b6b2-5a701a1ccdab' class='xr-section-summary-in' type='checkbox'  checked><label for='section-038b4cb5-60df-46dc-b6b2-5a701a1ccdab' class='xr-section-summary' >Coordinates: <span>(7)</span></label><div class='xr-section-inline-details'></div><div class='xr-section-details'><ul class='xr-var-list'><li class='xr-var-item'><div class='xr-var-name'><span class='xr-has-index'>chain</span></div><div class='xr-var-dims'>(chain)</div><div class='xr-var-dtype'>int64</div><div class='xr-var-preview xr-preview'>0 1 2 3</div><input id='attrs-484b3133-2b68-49d0-87bb-2891deb3cf48' class='xr-var-attrs-in' type='checkbox' disabled><label for='attrs-484b3133-2b68-49d0-87bb-2891deb3cf48' title='Show/Hide attributes'><svg class='icon xr-icon-file-text2'><use xlink:href='#icon-file-text2'></use></svg></label><input id='data-ed69a388-fcb5-496e-bfa1-3a8395551621' class='xr-var-data-in' type='checkbox'><label for='data-ed69a388-fcb5-496e-bfa1-3a8395551621' title='Show/Hide data repr'><svg class='icon xr-icon-database'><use xlink:href='#icon-database'></use></svg></label><div class='xr-var-attrs'><dl class='xr-attrs'></dl></div><div class='xr-var-data'><pre>array([0, 1, 2, 3])</pre></div></li><li class='xr-var-item'><div class='xr-var-name'><span class='xr-has-index'>draw</span></div><div class='xr-var-dims'>(draw)</div><div class='xr-var-dtype'>int64</div><div class='xr-var-preview xr-preview'>0 1 2 3 4 ... 1996 1997 1998 1999</div><input id='attrs-ec8bd5a7-6005-4cf1-9b1e-4aaf3634c589' class='xr-var-attrs-in' type='checkbox' disabled><label for='attrs-ec8bd5a7-6005-4cf1-9b1e-4aaf3634c589' title='Show/Hide attributes'><svg class='icon xr-icon-file-text2'><use xlink:href='#icon-file-text2'></use></svg></label><input id='data-31f21331-7eb4-4fe2-889a-4ff9a5072058' class='xr-var-data-in' type='checkbox'><label for='data-31f21331-7eb4-4fe2-889a-4ff9a5072058' title='Show/Hide data repr'><svg class='icon xr-icon-database'><use xlink:href='#icon-database'></use></svg></label><div class='xr-var-attrs'><dl class='xr-attrs'></dl></div><div class='xr-var-data'><pre>array([   0,    1,    2, ..., 1997, 1998, 1999])</pre></div></li><li class='xr-var-item'><div class='xr-var-name'><span class='xr-has-index'>W_dim_0</span></div><div class='xr-var-dims'>(W_dim_0)</div><div class='xr-var-dtype'>int64</div><div class='xr-var-preview xr-preview'>0 1 2 3 4 5 6 ... 94 95 96 97 98 99</div><input id='attrs-b1489683-8cd3-468c-8c3f-375c8942036f' class='xr-var-attrs-in' type='checkbox' disabled><label for='attrs-b1489683-8cd3-468c-8c3f-375c8942036f' title='Show/Hide attributes'><svg class='icon xr-icon-file-text2'><use xlink:href='#icon-file-text2'></use></svg></label><input id='data-f2f4e22a-bda6-4574-86e1-bc7d41a7877b' class='xr-var-data-in' type='checkbox'><label for='data-f2f4e22a-bda6-4574-86e1-bc7d41a7877b' title='Show/Hide data repr'><svg class='icon xr-icon-database'><use xlink:href='#icon-database'></use></svg></label><div class='xr-var-attrs'><dl class='xr-attrs'></dl></div><div class='xr-var-data'><pre>array([ 0,  1,  2,  3,  4,  5,  6,  7,  8,  9, 10, 11, 12, 13, 14, 15, 16, 17,\n",
       "       18, 19, 20, 21, 22, 23, 24, 25, 26, 27, 28, 29, 30, 31, 32, 33, 34, 35,\n",
       "       36, 37, 38, 39, 40, 41, 42, 43, 44, 45, 46, 47, 48, 49, 50, 51, 52, 53,\n",
       "       54, 55, 56, 57, 58, 59, 60, 61, 62, 63, 64, 65, 66, 67, 68, 69, 70, 71,\n",
       "       72, 73, 74, 75, 76, 77, 78, 79, 80, 81, 82, 83, 84, 85, 86, 87, 88, 89,\n",
       "       90, 91, 92, 93, 94, 95, 96, 97, 98, 99])</pre></div></li><li class='xr-var-item'><div class='xr-var-name'><span class='xr-has-index'>W_dim_1</span></div><div class='xr-var-dims'>(W_dim_1)</div><div class='xr-var-dtype'>int64</div><div class='xr-var-preview xr-preview'>0 1 2</div><input id='attrs-aefbec1f-7ad3-44d2-8d98-238b3294c180' class='xr-var-attrs-in' type='checkbox' disabled><label for='attrs-aefbec1f-7ad3-44d2-8d98-238b3294c180' title='Show/Hide attributes'><svg class='icon xr-icon-file-text2'><use xlink:href='#icon-file-text2'></use></svg></label><input id='data-8f8ca9d7-1ec2-43aa-8862-c97be3a476b0' class='xr-var-data-in' type='checkbox'><label for='data-8f8ca9d7-1ec2-43aa-8862-c97be3a476b0' title='Show/Hide data repr'><svg class='icon xr-icon-database'><use xlink:href='#icon-database'></use></svg></label><div class='xr-var-attrs'><dl class='xr-attrs'></dl></div><div class='xr-var-data'><pre>array([0, 1, 2])</pre></div></li><li class='xr-var-item'><div class='xr-var-name'><span class='xr-has-index'>beta_dim_0</span></div><div class='xr-var-dims'>(beta_dim_0)</div><div class='xr-var-dtype'>int64</div><div class='xr-var-preview xr-preview'>0 1 2 3 4 5 6 7 8 9 10 11 12 13 14</div><input id='attrs-2fc0cb37-ba8b-430a-b9ed-4689510513db' class='xr-var-attrs-in' type='checkbox' disabled><label for='attrs-2fc0cb37-ba8b-430a-b9ed-4689510513db' title='Show/Hide attributes'><svg class='icon xr-icon-file-text2'><use xlink:href='#icon-file-text2'></use></svg></label><input id='data-a2d86291-143e-45c6-87e0-cb95400d3688' class='xr-var-data-in' type='checkbox'><label for='data-a2d86291-143e-45c6-87e0-cb95400d3688' title='Show/Hide data repr'><svg class='icon xr-icon-database'><use xlink:href='#icon-database'></use></svg></label><div class='xr-var-attrs'><dl class='xr-attrs'></dl></div><div class='xr-var-data'><pre>array([ 0,  1,  2,  3,  4,  5,  6,  7,  8,  9, 10, 11, 12, 13, 14])</pre></div></li><li class='xr-var-item'><div class='xr-var-name'><span class='xr-has-index'>beta_dim_1</span></div><div class='xr-var-dims'>(beta_dim_1)</div><div class='xr-var-dtype'>int64</div><div class='xr-var-preview xr-preview'>0 1 2 3 4 5 ... 195 196 197 198 199</div><input id='attrs-0b6285a3-f954-4439-a586-0fb6398c2c37' class='xr-var-attrs-in' type='checkbox' disabled><label for='attrs-0b6285a3-f954-4439-a586-0fb6398c2c37' title='Show/Hide attributes'><svg class='icon xr-icon-file-text2'><use xlink:href='#icon-file-text2'></use></svg></label><input id='data-024f1c88-ccd7-422c-b8c2-ec3ab0156e8f' class='xr-var-data-in' type='checkbox'><label for='data-024f1c88-ccd7-422c-b8c2-ec3ab0156e8f' title='Show/Hide data repr'><svg class='icon xr-icon-database'><use xlink:href='#icon-database'></use></svg></label><div class='xr-var-attrs'><dl class='xr-attrs'></dl></div><div class='xr-var-data'><pre>array([  0,   1,   2,   3,   4,   5,   6,   7,   8,   9,  10,  11,  12,  13,\n",
       "        14,  15,  16,  17,  18,  19,  20,  21,  22,  23,  24,  25,  26,  27,\n",
       "        28,  29,  30,  31,  32,  33,  34,  35,  36,  37,  38,  39,  40,  41,\n",
       "        42,  43,  44,  45,  46,  47,  48,  49,  50,  51,  52,  53,  54,  55,\n",
       "        56,  57,  58,  59,  60,  61,  62,  63,  64,  65,  66,  67,  68,  69,\n",
       "        70,  71,  72,  73,  74,  75,  76,  77,  78,  79,  80,  81,  82,  83,\n",
       "        84,  85,  86,  87,  88,  89,  90,  91,  92,  93,  94,  95,  96,  97,\n",
       "        98,  99, 100, 101, 102, 103, 104, 105, 106, 107, 108, 109, 110, 111,\n",
       "       112, 113, 114, 115, 116, 117, 118, 119, 120, 121, 122, 123, 124, 125,\n",
       "       126, 127, 128, 129, 130, 131, 132, 133, 134, 135, 136, 137, 138, 139,\n",
       "       140, 141, 142, 143, 144, 145, 146, 147, 148, 149, 150, 151, 152, 153,\n",
       "       154, 155, 156, 157, 158, 159, 160, 161, 162, 163, 164, 165, 166, 167,\n",
       "       168, 169, 170, 171, 172, 173, 174, 175, 176, 177, 178, 179, 180, 181,\n",
       "       182, 183, 184, 185, 186, 187, 188, 189, 190, 191, 192, 193, 194, 195,\n",
       "       196, 197, 198, 199])</pre></div></li><li class='xr-var-item'><div class='xr-var-name'><span class='xr-has-index'>beta_dim_2</span></div><div class='xr-var-dims'>(beta_dim_2)</div><div class='xr-var-dtype'>int64</div><div class='xr-var-preview xr-preview'>0 1 2 3 4 5 6 ... 15 16 17 18 19 20</div><input id='attrs-6fd7bb3d-485f-4a79-88d1-6a3aa44d6b7d' class='xr-var-attrs-in' type='checkbox' disabled><label for='attrs-6fd7bb3d-485f-4a79-88d1-6a3aa44d6b7d' title='Show/Hide attributes'><svg class='icon xr-icon-file-text2'><use xlink:href='#icon-file-text2'></use></svg></label><input id='data-a0b43e50-2289-483b-9c54-1ef187ef21c3' class='xr-var-data-in' type='checkbox'><label for='data-a0b43e50-2289-483b-9c54-1ef187ef21c3' title='Show/Hide data repr'><svg class='icon xr-icon-database'><use xlink:href='#icon-database'></use></svg></label><div class='xr-var-attrs'><dl class='xr-attrs'></dl></div><div class='xr-var-data'><pre>array([ 0,  1,  2,  3,  4,  5,  6,  7,  8,  9, 10, 11, 12, 13, 14, 15, 16, 17,\n",
       "       18, 19, 20])</pre></div></li></ul></div></li><li class='xr-section-item'><input id='section-0e1bc1e7-5514-497d-8562-ec1a2112837e' class='xr-section-summary-in' type='checkbox'  checked><label for='section-0e1bc1e7-5514-497d-8562-ec1a2112837e' class='xr-section-summary' >Data variables: <span>(5)</span></label><div class='xr-section-inline-details'></div><div class='xr-section-details'><ul class='xr-var-list'><li class='xr-var-item'><div class='xr-var-name'><span>W</span></div><div class='xr-var-dims'>(chain, draw, W_dim_0, W_dim_1)</div><div class='xr-var-dtype'>float32</div><div class='xr-var-preview xr-preview'>0.3347 -8.615 ... 13.49 -1.094</div><input id='attrs-56dafaa9-e795-4f64-be4e-1bcf761c169a' class='xr-var-attrs-in' type='checkbox' disabled><label for='attrs-56dafaa9-e795-4f64-be4e-1bcf761c169a' title='Show/Hide attributes'><svg class='icon xr-icon-file-text2'><use xlink:href='#icon-file-text2'></use></svg></label><input id='data-cc6d7cd0-1b44-47b7-9b28-1b3e8703ed2b' class='xr-var-data-in' type='checkbox'><label for='data-cc6d7cd0-1b44-47b7-9b28-1b3e8703ed2b' title='Show/Hide data repr'><svg class='icon xr-icon-database'><use xlink:href='#icon-database'></use></svg></label><div class='xr-var-attrs'><dl class='xr-attrs'></dl></div><div class='xr-var-data'><pre>array([[[[ 3.34733099e-01, -8.61528397e+00,  9.98204112e-01],\n",
       "         [ 1.67001133e+01, -2.81482124e+00, -3.66476774e+00],\n",
       "         [ 6.01639926e-01, -7.59681702e+00, -2.12935299e-01],\n",
       "         ...,\n",
       "         [-1.24366142e-01,  4.77354378e-02,  1.01779044e-01],\n",
       "         [ 8.18142223e+00,  3.48949480e+00, -6.59676170e+00],\n",
       "         [-9.87975895e-01,  9.01603603e+00, -4.91384506e+00]],\n",
       "\n",
       "        [[ 3.16232800e-01, -8.61043739e+00,  1.02022946e+00],\n",
       "         [ 1.66570091e+01, -2.80523515e+00, -3.66358662e+00],\n",
       "         [ 6.39366984e-01, -7.57030153e+00, -2.01643363e-01],\n",
       "         ...,\n",
       "         [-2.15970222e-02,  7.68924877e-02,  9.29365009e-02],\n",
       "         [ 8.17234993e+00,  3.48091316e+00, -6.59132385e+00],\n",
       "         [-9.54504311e-01,  8.91187286e+00, -4.85805511e+00]],\n",
       "\n",
       "        [[ 4.46450800e-01, -8.62059402e+00,  1.04795659e+00],\n",
       "         [ 1.66732693e+01, -2.77449226e+00, -3.61743069e+00],\n",
       "         [ 6.78076208e-01, -7.57934332e+00, -1.60470024e-01],\n",
       "         ...,\n",
       "...\n",
       "         [-4.71278951e-02,  3.40467244e-01, -9.67178643e-02],\n",
       "         [ 5.02684402e+00,  2.32903934e+00, -1.32574453e+01],\n",
       "         [-4.10960138e-01,  1.34741306e+01, -1.07676971e+00]],\n",
       "\n",
       "        [[ 3.31120551e-01,  9.95534599e-01,  7.23311231e-02],\n",
       "         [ 1.36704283e+01,  6.54091501e+00, -1.52436101e+00],\n",
       "         [ 3.71872449e+00,  2.98466372e+00, -3.43678832e+00],\n",
       "         ...,\n",
       "         [-9.88960713e-02,  3.55643660e-01, -8.43405128e-02],\n",
       "         [ 5.04633188e+00,  2.35180902e+00, -1.32787561e+01],\n",
       "         [-4.27019060e-01,  1.34585962e+01, -1.08730721e+00]],\n",
       "\n",
       "        [[ 3.53619158e-01,  1.02373111e+00,  3.56927440e-02],\n",
       "         [ 1.36070147e+01,  6.51494169e+00, -1.51675844e+00],\n",
       "         [ 3.64116764e+00,  2.94957447e+00, -3.45068097e+00],\n",
       "         ...,\n",
       "         [-7.39816651e-02,  3.68894398e-01, -6.40661791e-02],\n",
       "         [ 5.05319500e+00,  2.35424328e+00, -1.32234669e+01],\n",
       "         [-3.89585167e-01,  1.34876909e+01, -1.09422231e+00]]]],\n",
       "      dtype=float32)</pre></div></li><li class='xr-var-item'><div class='xr-var-name'><span>beta</span></div><div class='xr-var-dims'>(chain, draw, beta_dim_0, beta_dim_1, beta_dim_2)</div><div class='xr-var-dtype'>float32</div><div class='xr-var-preview xr-preview'>-1.171 -0.5597 ... 0.05559 -0.09619</div><input id='attrs-01d44584-7487-4581-9533-f3da875b2d34' class='xr-var-attrs-in' type='checkbox' disabled><label for='attrs-01d44584-7487-4581-9533-f3da875b2d34' title='Show/Hide attributes'><svg class='icon xr-icon-file-text2'><use xlink:href='#icon-file-text2'></use></svg></label><input id='data-d7b17843-3a61-4f13-b367-d622e3447eea' class='xr-var-data-in' type='checkbox'><label for='data-d7b17843-3a61-4f13-b367-d622e3447eea' title='Show/Hide data repr'><svg class='icon xr-icon-database'><use xlink:href='#icon-database'></use></svg></label><div class='xr-var-attrs'><dl class='xr-attrs'></dl></div><div class='xr-var-data'><pre>array([[[[[-1.17051792e+00, -5.59685409e-01,  1.39417756e+00, ...,\n",
       "           -3.49771142e-01, -1.66390228e+00, -5.28147936e-01],\n",
       "          [-1.34114730e+00,  3.48749727e-01, -4.61328655e-01, ...,\n",
       "           -1.32142067e+00,  2.30782795e+00,  1.36605516e-01],\n",
       "          [-4.46753204e-01,  6.47719264e-01,  1.54048061e+00, ...,\n",
       "           -2.59146273e-01, -3.09568346e-01, -3.81130368e-01],\n",
       "          ...,\n",
       "          [-1.06677711e+00,  4.62009251e-01,  6.14805400e-01, ...,\n",
       "           -2.96172827e-01, -5.80407917e-01, -1.13622272e+00],\n",
       "          [-5.46705306e-01, -4.09437001e-01, -1.59944266e-01, ...,\n",
       "           -3.21443081e-01, -4.52884644e-01,  4.91445273e-01],\n",
       "          [-6.80010378e-01,  5.64421475e-01, -7.63213515e-01, ...,\n",
       "            1.13069937e-01,  5.19049525e-01,  5.84866881e-01]],\n",
       "\n",
       "         [[-1.84156939e-01, -9.64959681e-01,  1.46857932e-01, ...,\n",
       "           -2.78607666e-01,  4.60961573e-02, -2.66805202e-01],\n",
       "          [-1.16256046e+00,  6.74805462e-01, -1.71771479e+00, ...,\n",
       "            9.19709146e-01,  1.45245385e+00,  6.34692252e-01],\n",
       "          [ 7.00719118e-01,  2.47393519e-01,  1.66699290e+00, ...,\n",
       "           -1.13697566e-01, -4.02067184e-01, -4.43324506e-01],\n",
       "...\n",
       "           -1.54227853e+00,  2.05659807e-01,  8.68910193e-01],\n",
       "          [ 1.03878844e+00,  2.34263852e-01,  6.43524587e-01, ...,\n",
       "           -4.06172991e-01,  1.15391541e+00, -4.66436327e-01],\n",
       "          [-8.46523046e-01, -8.83628428e-01, -3.88818234e-01, ...,\n",
       "           -4.76656228e-01,  5.59769750e-01, -1.12077184e-01]],\n",
       "\n",
       "         [[ 8.32844377e-02, -1.16490257e+00,  1.58271873e+00, ...,\n",
       "           -5.48686504e-01, -7.12420702e-01,  1.70928746e-01],\n",
       "          [ 1.09684134e+00, -5.27698100e-01, -1.02297354e+00, ...,\n",
       "           -1.34499860e+00,  1.23528802e+00, -9.39176440e-01],\n",
       "          [ 2.03927636e+00,  1.71251225e+00, -9.21017766e-01, ...,\n",
       "            9.14145827e-01, -1.63288489e-01,  1.69600785e+00],\n",
       "          ...,\n",
       "          [ 4.40615654e-01, -1.42437422e+00,  3.62814093e+00, ...,\n",
       "           -1.89389348e-01,  4.56899077e-01, -7.34184504e-01],\n",
       "          [ 1.99920177e+00, -1.95633519e+00, -3.60214919e-01, ...,\n",
       "           -4.81575489e-01, -1.43557715e+00, -1.28728795e+00],\n",
       "          [ 8.52220118e-01,  3.17397982e-01,  3.93164419e-02, ...,\n",
       "            5.27380347e-01,  5.55910617e-02, -9.61862430e-02]]]]],\n",
       "      dtype=float32)</pre></div></li><li class='xr-var-item'><div class='xr-var-name'><span>sigma_dbpm</span></div><div class='xr-var-dims'>(chain, draw)</div><div class='xr-var-dtype'>float32</div><div class='xr-var-preview xr-preview'>29.43 29.61 29.55 ... 29.11 29.16</div><input id='attrs-f2cbb4c3-6c9d-4ef6-9068-6986831473b9' class='xr-var-attrs-in' type='checkbox' disabled><label for='attrs-f2cbb4c3-6c9d-4ef6-9068-6986831473b9' title='Show/Hide attributes'><svg class='icon xr-icon-file-text2'><use xlink:href='#icon-file-text2'></use></svg></label><input id='data-9eea3d28-20d3-4344-b39a-a65529bfdbed' class='xr-var-data-in' type='checkbox'><label for='data-9eea3d28-20d3-4344-b39a-a65529bfdbed' title='Show/Hide data repr'><svg class='icon xr-icon-database'><use xlink:href='#icon-database'></use></svg></label><div class='xr-var-attrs'><dl class='xr-attrs'></dl></div><div class='xr-var-data'><pre>array([[29.429647, 29.612207, 29.55061 , ..., 29.844223, 29.839016,\n",
       "        29.227259],\n",
       "       [29.482586, 29.187365, 29.40416 , ..., 28.921413, 28.828571,\n",
       "        28.917284],\n",
       "       [29.75594 , 29.282026, 29.204056, ..., 29.509577, 29.657051,\n",
       "        29.273985],\n",
       "       [29.303997, 29.233406, 29.280497, ..., 29.22142 , 29.10711 ,\n",
       "        29.15946 ]], dtype=float32)</pre></div></li><li class='xr-var-item'><div class='xr-var-name'><span>sigma_log_min</span></div><div class='xr-var-dims'>(chain, draw)</div><div class='xr-var-dtype'>float32</div><div class='xr-var-preview xr-preview'>1.203 1.178 1.189 ... 1.208 1.204</div><input id='attrs-3f69e0a3-1745-4154-9bfb-551ecace1cd6' class='xr-var-attrs-in' type='checkbox' disabled><label for='attrs-3f69e0a3-1745-4154-9bfb-551ecace1cd6' title='Show/Hide attributes'><svg class='icon xr-icon-file-text2'><use xlink:href='#icon-file-text2'></use></svg></label><input id='data-36931c6a-a51b-40fb-899e-cfb6f32ca718' class='xr-var-data-in' type='checkbox'><label for='data-36931c6a-a51b-40fb-899e-cfb6f32ca718' title='Show/Hide data repr'><svg class='icon xr-icon-database'><use xlink:href='#icon-database'></use></svg></label><div class='xr-var-attrs'><dl class='xr-attrs'></dl></div><div class='xr-var-data'><pre>array([[1.2026969, 1.1783512, 1.1891471, ..., 1.199057 , 1.1822844,\n",
       "        1.1949847],\n",
       "       [1.1795791, 1.1942847, 1.2048385, ..., 1.1943324, 1.1882734,\n",
       "        1.2123232],\n",
       "       [1.200072 , 1.196411 , 1.1784384, ..., 1.2047367, 1.2032936,\n",
       "        1.201398 ],\n",
       "       [1.1936511, 1.197887 , 1.2088236, ..., 1.2121776, 1.2081034,\n",
       "        1.2038128]], dtype=float32)</pre></div></li><li class='xr-var-item'><div class='xr-var-name'><span>sigma_obpm</span></div><div class='xr-var-dims'>(chain, draw)</div><div class='xr-var-dtype'>float32</div><div class='xr-var-preview xr-preview'>58.17 57.91 57.5 ... 58.35 58.24</div><input id='attrs-8e651a52-9ad8-4db1-bf08-5760d1bca826' class='xr-var-attrs-in' type='checkbox' disabled><label for='attrs-8e651a52-9ad8-4db1-bf08-5760d1bca826' title='Show/Hide attributes'><svg class='icon xr-icon-file-text2'><use xlink:href='#icon-file-text2'></use></svg></label><input id='data-1079d2bd-02f1-4233-a988-93cc7724f3cb' class='xr-var-data-in' type='checkbox'><label for='data-1079d2bd-02f1-4233-a988-93cc7724f3cb' title='Show/Hide data repr'><svg class='icon xr-icon-database'><use xlink:href='#icon-database'></use></svg></label><div class='xr-var-attrs'><dl class='xr-attrs'></dl></div><div class='xr-var-data'><pre>array([[58.16875 , 57.911533, 57.503513, ..., 57.557034, 58.161457,\n",
       "        57.761784],\n",
       "       [58.051792, 57.790295, 57.60437 , ..., 58.025   , 58.084076,\n",
       "        58.68203 ],\n",
       "       [58.149063, 58.04692 , 58.03311 , ..., 57.93844 , 57.210648,\n",
       "        57.441055],\n",
       "       [58.030922, 57.80449 , 58.72833 , ..., 58.65783 , 58.349545,\n",
       "        58.238525]], dtype=float32)</pre></div></li></ul></div></li><li class='xr-section-item'><input id='section-2997d3a6-c40b-4d45-878b-336c7280663c' class='xr-section-summary-in' type='checkbox'  ><label for='section-2997d3a6-c40b-4d45-878b-336c7280663c' class='xr-section-summary' >Indexes: <span>(7)</span></label><div class='xr-section-inline-details'></div><div class='xr-section-details'><ul class='xr-var-list'><li class='xr-var-item'><div class='xr-index-name'><div>chain</div></div><div class='xr-index-preview'>PandasIndex</div><div></div><input id='index-8a7d5fe8-361a-4c30-8342-9ef02821f719' class='xr-index-data-in' type='checkbox'/><label for='index-8a7d5fe8-361a-4c30-8342-9ef02821f719' title='Show/Hide index repr'><svg class='icon xr-icon-database'><use xlink:href='#icon-database'></use></svg></label><div class='xr-index-data'><pre>PandasIndex(Index([0, 1, 2, 3], dtype=&#x27;int64&#x27;, name=&#x27;chain&#x27;))</pre></div></li><li class='xr-var-item'><div class='xr-index-name'><div>draw</div></div><div class='xr-index-preview'>PandasIndex</div><div></div><input id='index-2fb40c63-120b-44c3-885f-d3388f19c200' class='xr-index-data-in' type='checkbox'/><label for='index-2fb40c63-120b-44c3-885f-d3388f19c200' title='Show/Hide index repr'><svg class='icon xr-icon-database'><use xlink:href='#icon-database'></use></svg></label><div class='xr-index-data'><pre>PandasIndex(Index([   0,    1,    2,    3,    4,    5,    6,    7,    8,    9,\n",
       "       ...\n",
       "       1990, 1991, 1992, 1993, 1994, 1995, 1996, 1997, 1998, 1999],\n",
       "      dtype=&#x27;int64&#x27;, name=&#x27;draw&#x27;, length=2000))</pre></div></li><li class='xr-var-item'><div class='xr-index-name'><div>W_dim_0</div></div><div class='xr-index-preview'>PandasIndex</div><div></div><input id='index-947db34c-893e-49f1-b8d5-f6450cbc76e9' class='xr-index-data-in' type='checkbox'/><label for='index-947db34c-893e-49f1-b8d5-f6450cbc76e9' title='Show/Hide index repr'><svg class='icon xr-icon-database'><use xlink:href='#icon-database'></use></svg></label><div class='xr-index-data'><pre>PandasIndex(Index([ 0,  1,  2,  3,  4,  5,  6,  7,  8,  9, 10, 11, 12, 13, 14, 15, 16, 17,\n",
       "       18, 19, 20, 21, 22, 23, 24, 25, 26, 27, 28, 29, 30, 31, 32, 33, 34, 35,\n",
       "       36, 37, 38, 39, 40, 41, 42, 43, 44, 45, 46, 47, 48, 49, 50, 51, 52, 53,\n",
       "       54, 55, 56, 57, 58, 59, 60, 61, 62, 63, 64, 65, 66, 67, 68, 69, 70, 71,\n",
       "       72, 73, 74, 75, 76, 77, 78, 79, 80, 81, 82, 83, 84, 85, 86, 87, 88, 89,\n",
       "       90, 91, 92, 93, 94, 95, 96, 97, 98, 99],\n",
       "      dtype=&#x27;int64&#x27;, name=&#x27;W_dim_0&#x27;))</pre></div></li><li class='xr-var-item'><div class='xr-index-name'><div>W_dim_1</div></div><div class='xr-index-preview'>PandasIndex</div><div></div><input id='index-30bc23de-0e51-4620-880d-16a7abf6640f' class='xr-index-data-in' type='checkbox'/><label for='index-30bc23de-0e51-4620-880d-16a7abf6640f' title='Show/Hide index repr'><svg class='icon xr-icon-database'><use xlink:href='#icon-database'></use></svg></label><div class='xr-index-data'><pre>PandasIndex(Index([0, 1, 2], dtype=&#x27;int64&#x27;, name=&#x27;W_dim_1&#x27;))</pre></div></li><li class='xr-var-item'><div class='xr-index-name'><div>beta_dim_0</div></div><div class='xr-index-preview'>PandasIndex</div><div></div><input id='index-cd480c7f-d3d7-4a95-a405-72198de6b395' class='xr-index-data-in' type='checkbox'/><label for='index-cd480c7f-d3d7-4a95-a405-72198de6b395' title='Show/Hide index repr'><svg class='icon xr-icon-database'><use xlink:href='#icon-database'></use></svg></label><div class='xr-index-data'><pre>PandasIndex(Index([0, 1, 2, 3, 4, 5, 6, 7, 8, 9, 10, 11, 12, 13, 14], dtype=&#x27;int64&#x27;, name=&#x27;beta_dim_0&#x27;))</pre></div></li><li class='xr-var-item'><div class='xr-index-name'><div>beta_dim_1</div></div><div class='xr-index-preview'>PandasIndex</div><div></div><input id='index-283528c0-c12f-46a5-ae6f-5bb26cdd5cf3' class='xr-index-data-in' type='checkbox'/><label for='index-283528c0-c12f-46a5-ae6f-5bb26cdd5cf3' title='Show/Hide index repr'><svg class='icon xr-icon-database'><use xlink:href='#icon-database'></use></svg></label><div class='xr-index-data'><pre>PandasIndex(Index([  0,   1,   2,   3,   4,   5,   6,   7,   8,   9,\n",
       "       ...\n",
       "       190, 191, 192, 193, 194, 195, 196, 197, 198, 199],\n",
       "      dtype=&#x27;int64&#x27;, name=&#x27;beta_dim_1&#x27;, length=200))</pre></div></li><li class='xr-var-item'><div class='xr-index-name'><div>beta_dim_2</div></div><div class='xr-index-preview'>PandasIndex</div><div></div><input id='index-295b2c94-ba03-41dd-960c-9b57887c9b4c' class='xr-index-data-in' type='checkbox'/><label for='index-295b2c94-ba03-41dd-960c-9b57887c9b4c' title='Show/Hide index repr'><svg class='icon xr-icon-database'><use xlink:href='#icon-database'></use></svg></label><div class='xr-index-data'><pre>PandasIndex(Index([0, 1, 2, 3, 4, 5, 6, 7, 8, 9, 10, 11, 12, 13, 14, 15, 16, 17, 18, 19,\n",
       "       20],\n",
       "      dtype=&#x27;int64&#x27;, name=&#x27;beta_dim_2&#x27;))</pre></div></li></ul></div></li><li class='xr-section-item'><input id='section-e52789fa-9694-4c23-865f-60acd51bdd11' class='xr-section-summary-in' type='checkbox'  checked><label for='section-e52789fa-9694-4c23-865f-60acd51bdd11' class='xr-section-summary' >Attributes: <span>(2)</span></label><div class='xr-section-inline-details'></div><div class='xr-section-details'><dl class='xr-attrs'><dt><span>created_at :</span></dt><dd>2024-06-17T16:07:21.226404+00:00</dd><dt><span>arviz_version :</span></dt><dd>0.18.0</dd></dl></div></li></ul></div></div><br></div>\n",
       "                      </ul>\n",
       "                  </div>\n",
       "            </li>\n",
       "            \n",
       "              </ul>\n",
       "            </div>\n",
       "            <style> /* CSS stylesheet for displaying InferenceData objects in jupyterlab.\n",
       " *\n",
       " */\n",
       "\n",
       ":root {\n",
       "  --xr-font-color0: var(--jp-content-font-color0, rgba(0, 0, 0, 1));\n",
       "  --xr-font-color2: var(--jp-content-font-color2, rgba(0, 0, 0, 0.54));\n",
       "  --xr-font-color3: var(--jp-content-font-color3, rgba(0, 0, 0, 0.38));\n",
       "  --xr-border-color: var(--jp-border-color2, #e0e0e0);\n",
       "  --xr-disabled-color: var(--jp-layout-color3, #bdbdbd);\n",
       "  --xr-background-color: var(--jp-layout-color0, white);\n",
       "  --xr-background-color-row-even: var(--jp-layout-color1, white);\n",
       "  --xr-background-color-row-odd: var(--jp-layout-color2, #eeeeee);\n",
       "}\n",
       "\n",
       "html[theme=dark],\n",
       "body.vscode-dark {\n",
       "  --xr-font-color0: rgba(255, 255, 255, 1);\n",
       "  --xr-font-color2: rgba(255, 255, 255, 0.54);\n",
       "  --xr-font-color3: rgba(255, 255, 255, 0.38);\n",
       "  --xr-border-color: #1F1F1F;\n",
       "  --xr-disabled-color: #515151;\n",
       "  --xr-background-color: #111111;\n",
       "  --xr-background-color-row-even: #111111;\n",
       "  --xr-background-color-row-odd: #313131;\n",
       "}\n",
       "\n",
       ".xr-wrap {\n",
       "  display: block;\n",
       "  min-width: 300px;\n",
       "  max-width: 700px;\n",
       "}\n",
       "\n",
       ".xr-text-repr-fallback {\n",
       "  /* fallback to plain text repr when CSS is not injected (untrusted notebook) */\n",
       "  display: none;\n",
       "}\n",
       "\n",
       ".xr-header {\n",
       "  padding-top: 6px;\n",
       "  padding-bottom: 6px;\n",
       "  margin-bottom: 4px;\n",
       "  border-bottom: solid 1px var(--xr-border-color);\n",
       "}\n",
       "\n",
       ".xr-header > div,\n",
       ".xr-header > ul {\n",
       "  display: inline;\n",
       "  margin-top: 0;\n",
       "  margin-bottom: 0;\n",
       "}\n",
       "\n",
       ".xr-obj-type,\n",
       ".xr-array-name {\n",
       "  margin-left: 2px;\n",
       "  margin-right: 10px;\n",
       "}\n",
       "\n",
       ".xr-obj-type {\n",
       "  color: var(--xr-font-color2);\n",
       "}\n",
       "\n",
       ".xr-sections {\n",
       "  padding-left: 0 !important;\n",
       "  display: grid;\n",
       "  grid-template-columns: 150px auto auto 1fr 20px 20px;\n",
       "}\n",
       "\n",
       ".xr-sections.group-sections {\n",
       "  grid-template-columns: auto;\n",
       "}\n",
       "\n",
       ".xr-section-item {\n",
       "  display: contents;\n",
       "}\n",
       "\n",
       ".xr-section-item input {\n",
       "  display: none;\n",
       "}\n",
       "\n",
       ".xr-section-item input + label {\n",
       "  color: var(--xr-disabled-color);\n",
       "}\n",
       "\n",
       ".xr-section-item input:enabled + label {\n",
       "  cursor: pointer;\n",
       "  color: var(--xr-font-color2);\n",
       "}\n",
       "\n",
       ".xr-section-item input:enabled + label:hover {\n",
       "  color: var(--xr-font-color0);\n",
       "}\n",
       "\n",
       ".xr-section-summary {\n",
       "  grid-column: 1;\n",
       "  color: var(--xr-font-color2);\n",
       "  font-weight: 500;\n",
       "}\n",
       "\n",
       ".xr-section-summary > span {\n",
       "  display: inline-block;\n",
       "  padding-left: 0.5em;\n",
       "}\n",
       "\n",
       ".xr-section-summary-in:disabled + label {\n",
       "  color: var(--xr-font-color2);\n",
       "}\n",
       "\n",
       ".xr-section-summary-in + label:before {\n",
       "  display: inline-block;\n",
       "  content: '►';\n",
       "  font-size: 11px;\n",
       "  width: 15px;\n",
       "  text-align: center;\n",
       "}\n",
       "\n",
       ".xr-section-summary-in:disabled + label:before {\n",
       "  color: var(--xr-disabled-color);\n",
       "}\n",
       "\n",
       ".xr-section-summary-in:checked + label:before {\n",
       "  content: '▼';\n",
       "}\n",
       "\n",
       ".xr-section-summary-in:checked + label > span {\n",
       "  display: none;\n",
       "}\n",
       "\n",
       ".xr-section-summary,\n",
       ".xr-section-inline-details {\n",
       "  padding-top: 4px;\n",
       "  padding-bottom: 4px;\n",
       "}\n",
       "\n",
       ".xr-section-inline-details {\n",
       "  grid-column: 2 / -1;\n",
       "}\n",
       "\n",
       ".xr-section-details {\n",
       "  display: none;\n",
       "  grid-column: 1 / -1;\n",
       "  margin-bottom: 5px;\n",
       "}\n",
       "\n",
       ".xr-section-summary-in:checked ~ .xr-section-details {\n",
       "  display: contents;\n",
       "}\n",
       "\n",
       ".xr-array-wrap {\n",
       "  grid-column: 1 / -1;\n",
       "  display: grid;\n",
       "  grid-template-columns: 20px auto;\n",
       "}\n",
       "\n",
       ".xr-array-wrap > label {\n",
       "  grid-column: 1;\n",
       "  vertical-align: top;\n",
       "}\n",
       "\n",
       ".xr-preview {\n",
       "  color: var(--xr-font-color3);\n",
       "}\n",
       "\n",
       ".xr-array-preview,\n",
       ".xr-array-data {\n",
       "  padding: 0 5px !important;\n",
       "  grid-column: 2;\n",
       "}\n",
       "\n",
       ".xr-array-data,\n",
       ".xr-array-in:checked ~ .xr-array-preview {\n",
       "  display: none;\n",
       "}\n",
       "\n",
       ".xr-array-in:checked ~ .xr-array-data,\n",
       ".xr-array-preview {\n",
       "  display: inline-block;\n",
       "}\n",
       "\n",
       ".xr-dim-list {\n",
       "  display: inline-block !important;\n",
       "  list-style: none;\n",
       "  padding: 0 !important;\n",
       "  margin: 0;\n",
       "}\n",
       "\n",
       ".xr-dim-list li {\n",
       "  display: inline-block;\n",
       "  padding: 0;\n",
       "  margin: 0;\n",
       "}\n",
       "\n",
       ".xr-dim-list:before {\n",
       "  content: '(';\n",
       "}\n",
       "\n",
       ".xr-dim-list:after {\n",
       "  content: ')';\n",
       "}\n",
       "\n",
       ".xr-dim-list li:not(:last-child):after {\n",
       "  content: ',';\n",
       "  padding-right: 5px;\n",
       "}\n",
       "\n",
       ".xr-has-index {\n",
       "  font-weight: bold;\n",
       "}\n",
       "\n",
       ".xr-var-list,\n",
       ".xr-var-item {\n",
       "  display: contents;\n",
       "}\n",
       "\n",
       ".xr-var-item > div,\n",
       ".xr-var-item label,\n",
       ".xr-var-item > .xr-var-name span {\n",
       "  background-color: var(--xr-background-color-row-even);\n",
       "  margin-bottom: 0;\n",
       "}\n",
       "\n",
       ".xr-var-item > .xr-var-name:hover span {\n",
       "  padding-right: 5px;\n",
       "}\n",
       "\n",
       ".xr-var-list > li:nth-child(odd) > div,\n",
       ".xr-var-list > li:nth-child(odd) > label,\n",
       ".xr-var-list > li:nth-child(odd) > .xr-var-name span {\n",
       "  background-color: var(--xr-background-color-row-odd);\n",
       "}\n",
       "\n",
       ".xr-var-name {\n",
       "  grid-column: 1;\n",
       "}\n",
       "\n",
       ".xr-var-dims {\n",
       "  grid-column: 2;\n",
       "}\n",
       "\n",
       ".xr-var-dtype {\n",
       "  grid-column: 3;\n",
       "  text-align: right;\n",
       "  color: var(--xr-font-color2);\n",
       "}\n",
       "\n",
       ".xr-var-preview {\n",
       "  grid-column: 4;\n",
       "}\n",
       "\n",
       ".xr-var-name,\n",
       ".xr-var-dims,\n",
       ".xr-var-dtype,\n",
       ".xr-preview,\n",
       ".xr-attrs dt {\n",
       "  white-space: nowrap;\n",
       "  overflow: hidden;\n",
       "  text-overflow: ellipsis;\n",
       "  padding-right: 10px;\n",
       "}\n",
       "\n",
       ".xr-var-name:hover,\n",
       ".xr-var-dims:hover,\n",
       ".xr-var-dtype:hover,\n",
       ".xr-attrs dt:hover {\n",
       "  overflow: visible;\n",
       "  width: auto;\n",
       "  z-index: 1;\n",
       "}\n",
       "\n",
       ".xr-var-attrs,\n",
       ".xr-var-data {\n",
       "  display: none;\n",
       "  background-color: var(--xr-background-color) !important;\n",
       "  padding-bottom: 5px !important;\n",
       "}\n",
       "\n",
       ".xr-var-attrs-in:checked ~ .xr-var-attrs,\n",
       ".xr-var-data-in:checked ~ .xr-var-data {\n",
       "  display: block;\n",
       "}\n",
       "\n",
       ".xr-var-data > table {\n",
       "  float: right;\n",
       "}\n",
       "\n",
       ".xr-var-name span,\n",
       ".xr-var-data,\n",
       ".xr-attrs {\n",
       "  padding-left: 25px !important;\n",
       "}\n",
       "\n",
       ".xr-attrs,\n",
       ".xr-var-attrs,\n",
       ".xr-var-data {\n",
       "  grid-column: 1 / -1;\n",
       "}\n",
       "\n",
       "dl.xr-attrs {\n",
       "  padding: 0;\n",
       "  margin: 0;\n",
       "  display: grid;\n",
       "  grid-template-columns: 125px auto;\n",
       "}\n",
       "\n",
       ".xr-attrs dt,\n",
       ".xr-attrs dd {\n",
       "  padding: 0;\n",
       "  margin: 0;\n",
       "  float: left;\n",
       "  padding-right: 10px;\n",
       "  width: auto;\n",
       "}\n",
       "\n",
       ".xr-attrs dt {\n",
       "  font-weight: normal;\n",
       "  grid-column: 1;\n",
       "}\n",
       "\n",
       ".xr-attrs dt:hover span {\n",
       "  display: inline-block;\n",
       "  background: var(--xr-background-color);\n",
       "  padding-right: 10px;\n",
       "}\n",
       "\n",
       ".xr-attrs dd {\n",
       "  grid-column: 2;\n",
       "  white-space: pre-wrap;\n",
       "  word-break: break-all;\n",
       "}\n",
       "\n",
       ".xr-icon-database,\n",
       ".xr-icon-file-text2 {\n",
       "  display: inline-block;\n",
       "  vertical-align: middle;\n",
       "  width: 1em;\n",
       "  height: 1.5em !important;\n",
       "  stroke-width: 0;\n",
       "  stroke: currentColor;\n",
       "  fill: currentColor;\n",
       "}\n",
       ".xr-wrap{width:700px!important;} </style>"
      ],
      "text/plain": [
       "Inference data with groups:\n",
       "\t> posterior"
      ]
     },
     "execution_count": 11,
     "metadata": {},
     "output_type": "execute_result"
    }
   ],
   "source": [
    "inference_data"
   ]
  },
  {
   "cell_type": "code",
   "execution_count": 12,
   "metadata": {},
   "outputs": [],
   "source": [
    "W = results[\"W\"]\n",
    "with open(\"model_output/exponential_cp.pkl\", \"rb\") as f:\n",
    "    results_rflvm = pickle.load(f)\n",
    "f.close()"
   ]
  },
  {
   "cell_type": "code",
   "execution_count": 13,
   "metadata": {},
   "outputs": [
    {
     "data": {
      "text/plain": [
       "(4, 2000, 100, 3)"
      ]
     },
     "execution_count": 13,
     "metadata": {},
     "output_type": "execute_result"
    }
   ],
   "source": [
    "W.shape"
   ]
  },
  {
   "cell_type": "code",
   "execution_count": 14,
   "metadata": {},
   "outputs": [],
   "source": [
    "X = results_rflvm[\"U_auto_loc\"]\n",
    "U, _, _ = np.linalg.svd(X, full_matrices=False)\n",
    "L       = np.linalg.cholesky(np.cov(U.T) + 1e-6 * np.eye(3)).T\n",
    "aligned_X  = np.linalg.solve(L, U.T).T\n",
    "X_tvrflvm_aligned = aligned_X / np.std(X, axis=0)\n",
    "wTx = np.einsum(\"nr,ijmr -> ijnm\", X_tvrflvm_aligned, W)\n",
    "phi = np.concatenate([np.cos(wTx), np.sin(wTx)], -1) * (1/ np.sqrt(100))"
   ]
  },
  {
   "cell_type": "code",
   "execution_count": 15,
   "metadata": {},
   "outputs": [],
   "source": [
    "results[\"phi\"] = phi"
   ]
  },
  {
   "cell_type": "code",
   "execution_count": 16,
   "metadata": {},
   "outputs": [],
   "source": [
    "mu = np.einsum(\"ijnk,ijmkt -> ijmnt\", results[\"phi\"], results[\"beta\"])"
   ]
  },
  {
   "cell_type": "code",
   "execution_count": 17,
   "metadata": {},
   "outputs": [],
   "source": [
    "results[\"mu\"] = mu"
   ]
  },
  {
   "cell_type": "code",
   "execution_count": 18,
   "metadata": {},
   "outputs": [],
   "source": [
    "from data.data_utils import create_fda_data"
   ]
  },
  {
   "cell_type": "code",
   "execution_count": 19,
   "metadata": {},
   "outputs": [],
   "source": [
    "data[\"log_min\"] = np.log(data[\"minutes\"])\n",
    "data[\"simple_exposure\"] = 1 \n",
    "_ , outputs, _ = create_fda_data(data, basis_dims=3, metric_output=([\"gaussian\"] * 3) + ([\"poisson\"] * 9) + ([\"binomial\"] * 3), \n",
    "                                     metrics = [\"log_min\", \"obpm\",\"dbpm\",\"blk\",\"stl\",\"ast\",\"dreb\",\"oreb\",\"tov\",\"fta\",\"fg2a\",\"fg3a\",\"ftm\",\"fg2m\",\"fg3m\"]\n",
    ", exposure_list= [\"simple_exposure\"] + ([\"minutes\"] * 11) + [\"fta\",\"fg2a\",\"fg3a\"])"
   ]
  },
  {
   "cell_type": "code",
   "execution_count": 28,
   "metadata": {},
   "outputs": [
    {
     "data": {
      "image/png": "[encoded data removed]",
      "text/plain": [
       "<Figure size 1200x500 with 1 Axes>"
      ]
     },
     "metadata": {},
     "output_type": "display_data"
    }
   ],
   "source": [
    "plot_metric_trajectory(3, 1323, results[\"mu\"], np.stack([output[\"output_data\"] for output in outputs], axis = 1), exposures = outputs[3][\"exposure_data\"], metric_output = \"poisson\")"
   ]
  },
  {
   "cell_type": "code",
   "execution_count": 27,
   "metadata": {},
   "outputs": [
    {
     "data": {
      "text/plain": [
       "(array([1323]),)"
      ]
     },
     "execution_count": 27,
     "metadata": {},
     "output_type": "execute_result"
    }
   ],
   "source": [
    "np.where(names == \"Stephen Curry\")"
   ]
  },
  {
   "cell_type": "code",
   "execution_count": null,
   "metadata": {},
   "outputs": [],
   "source": []
  }
 ],
 "metadata": {
  "kernelspec": {
   "display_name": "nba-functional-analysis-6oEKqHGM-py3.9",
   "language": "python",
   "name": "python3"
  },
  "language_info": {
   "codemirror_mode": {
    "name": "ipython",
    "version": 3
   },
   "file_extension": ".py",
   "mimetype": "text/x-python",
   "name": "python",
   "nbconvert_exporter": "python",
   "pygments_lexer": "ipython3",
   "version": "3.11.9"
  },
  "orig_nbformat": 4
 },
 "nbformat": 4,
 "nbformat_minor": 2
}
