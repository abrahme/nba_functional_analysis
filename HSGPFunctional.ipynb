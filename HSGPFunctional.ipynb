{
 "cells": [
  {
   "cell_type": "code",
   "execution_count": 24,
   "metadata": {},
   "outputs": [],
   "source": [
    "import pandas as pd\n",
    "import pickle\n",
    "import jax.numpy as jnp\n",
    "import arviz as az\n",
    "import numpy as np\n",
    "import matplotlib.pyplot as plt\n",
    "from scipy.cluster.hierarchy import dendrogram, linkage\n",
    "from model.inference_utils import match_align\n",
    "from visualization.visualization import plot_metric_trajectory"
   ]
  },
  {
   "cell_type": "markdown",
   "metadata": {},
   "source": [
    "### Functional Analysis of NBA Player Career Trajectory \n",
    "We are working in a multi-output setting, one where we wish to produce multiple trajectories of player careers across different metrics.\n",
    "Metrics are either:\n",
    "1. Gaussian with observed / unobserved response and corresponding observed /unobserved variance terms. (OBPM, DBPM)\n",
    "2. Poisson with observed / unobserved response and corresponding observed / unobserved exposure terms. (OREB Rate, BLK Rate, STL Rate, AST Rate, FTA Rate, FG2A Rate, FG3A Rate)\n",
    "3. Binomial with observed / unobserved response and corresponding observed / unobserved exposure terms. (FT %, 2FG%, 3FG%)\n",
    "\n",
    "Let the index $J$ denote the metric, $N$ denote the player, and $T$ denote the years 18-39 of player career. Thus, our data is a tensor of size $N x T x J$ with missing entries if player $n$ did not record statistics at time $t$ for metric $j$. This could be due to retirement, injury, etc. \n",
    "\n",
    "We seek to model these observations in the following way:\n",
    "\n",
    "$$ \\mu_j = X^T \\Phi_j(T) + \\alpha_j $$ \n",
    "\n",
    "Here, $X$ is a fixed predictor of size $N$ X  $d$ where d << N. $\\Phi_j(T)$ corresponds to a functional coefficient for metric $j$, and $\\alpha_j$ corresponds to an intercept term. \n",
    "\n",
    "Note that since we have different response distributions, we must include the following conditions:\n",
    "1. If $j$ is a Gaussian distributed response,\n",
    "$$ y_j \\sim N(\\mu_j, \\frac{\\sigma^2_j}{p_j}) $$\n",
    "2. If $j$ is a Poisson distributed response, \n",
    "$$  y_j \\sim Pois(p_j exp(\\mu_j)) $$\n",
    "3. If $j$ is a Binomial distributed response,\n",
    "$$ y_j \\sim Bin(p_j, logit(\\mu_j)) $$\n",
    "\n",
    "Here, $p_j$ is the exposure term for the appropriate metric. If $y_j$ is Binomial, $p_j$ represents the number of trials, and so on. Practically, $p_j$ is the number of shot attempts for binomial distributed response, and number of minutes played for other responses. \n",
    "\n",
    "\n",
    "It is also important to note that $\\Phi_j(T)$ is created by using a HSGP approximation, with 10 truncation limit. These are independent across metrics $j$. "
   ]
  },
  {
   "cell_type": "code",
   "execution_count": 2,
   "metadata": {},
   "outputs": [],
   "source": [
    "data = pd.read_csv(\"data/player_data.csv\").query(\" age <= 38 \")\n",
    "# data = data.groupby(\"id\").filter(lambda x: x.games.sum() >= 50)"
   ]
  },
  {
   "cell_type": "code",
   "execution_count": 3,
   "metadata": {},
   "outputs": [
    {
     "data": {
      "text/html": [
       "<div>\n",
       "<style scoped>\n",
       "    .dataframe tbody tr th:only-of-type {\n",
       "        vertical-align: middle;\n",
       "    }\n",
       "\n",
       "    .dataframe tbody tr th {\n",
       "        vertical-align: top;\n",
       "    }\n",
       "\n",
       "    .dataframe thead th {\n",
       "        text-align: right;\n",
       "    }\n",
       "</style>\n",
       "<table border=\"1\" class=\"dataframe\">\n",
       "  <thead>\n",
       "    <tr style=\"text-align: right;\">\n",
       "      <th></th>\n",
       "      <th>year</th>\n",
       "      <th>season</th>\n",
       "      <th>id</th>\n",
       "      <th>minutes</th>\n",
       "      <th>fg2m</th>\n",
       "      <th>fg2a</th>\n",
       "      <th>fg3a</th>\n",
       "      <th>fg3m</th>\n",
       "      <th>ftm</th>\n",
       "      <th>fta</th>\n",
       "      <th>...</th>\n",
       "      <th>position</th>\n",
       "      <th>team</th>\n",
       "      <th>age</th>\n",
       "      <th>obpm</th>\n",
       "      <th>dbpm</th>\n",
       "      <th>bpm</th>\n",
       "      <th>games</th>\n",
       "      <th>total_seasons</th>\n",
       "      <th>median_minutes_per_game</th>\n",
       "      <th>max_minutes</th>\n",
       "    </tr>\n",
       "  </thead>\n",
       "  <tbody>\n",
       "    <tr>\n",
       "      <th>0</th>\n",
       "      <td>1997</td>\n",
       "      <td>1996-97</td>\n",
       "      <td>2</td>\n",
       "      <td>1439.778333</td>\n",
       "      <td>90</td>\n",
       "      <td>191</td>\n",
       "      <td>188</td>\n",
       "      <td>73</td>\n",
       "      <td>127</td>\n",
       "      <td>151</td>\n",
       "      <td>...</td>\n",
       "      <td>SG</td>\n",
       "      <td>LAL</td>\n",
       "      <td>35</td>\n",
       "      <td>0.6</td>\n",
       "      <td>0.4</td>\n",
       "      <td>1.0</td>\n",
       "      <td>79</td>\n",
       "      <td>1</td>\n",
       "      <td>18.225042</td>\n",
       "      <td>1439.778333</td>\n",
       "    </tr>\n",
       "    <tr>\n",
       "      <th>1</th>\n",
       "      <td>1997</td>\n",
       "      <td>1996-97</td>\n",
       "      <td>3</td>\n",
       "      <td>1170.195000</td>\n",
       "      <td>106</td>\n",
       "      <td>228</td>\n",
       "      <td>47</td>\n",
       "      <td>17</td>\n",
       "      <td>63</td>\n",
       "      <td>84</td>\n",
       "      <td>...</td>\n",
       "      <td>PF</td>\n",
       "      <td>DET</td>\n",
       "      <td>30</td>\n",
       "      <td>-1.0</td>\n",
       "      <td>0.3</td>\n",
       "      <td>-0.6</td>\n",
       "      <td>65</td>\n",
       "      <td>7</td>\n",
       "      <td>21.958214</td>\n",
       "      <td>1868.101667</td>\n",
       "    </tr>\n",
       "    <tr>\n",
       "      <th>2</th>\n",
       "      <td>1998</td>\n",
       "      <td>1997-98</td>\n",
       "      <td>3</td>\n",
       "      <td>741.726667</td>\n",
       "      <td>50</td>\n",
       "      <td>113</td>\n",
       "      <td>4</td>\n",
       "      <td>0</td>\n",
       "      <td>41</td>\n",
       "      <td>57</td>\n",
       "      <td>...</td>\n",
       "      <td>PF</td>\n",
       "      <td>DET</td>\n",
       "      <td>31</td>\n",
       "      <td>-2.6</td>\n",
       "      <td>1.5</td>\n",
       "      <td>-1.1</td>\n",
       "      <td>40</td>\n",
       "      <td>7</td>\n",
       "      <td>21.958214</td>\n",
       "      <td>1868.101667</td>\n",
       "    </tr>\n",
       "    <tr>\n",
       "      <th>3</th>\n",
       "      <td>1999</td>\n",
       "      <td>1998-99</td>\n",
       "      <td>3</td>\n",
       "      <td>1380.178333</td>\n",
       "      <td>148</td>\n",
       "      <td>341</td>\n",
       "      <td>18</td>\n",
       "      <td>3</td>\n",
       "      <td>184</td>\n",
       "      <td>235</td>\n",
       "      <td>...</td>\n",
       "      <td>PF</td>\n",
       "      <td>ATL</td>\n",
       "      <td>32</td>\n",
       "      <td>-0.3</td>\n",
       "      <td>1.7</td>\n",
       "      <td>1.5</td>\n",
       "      <td>50</td>\n",
       "      <td>7</td>\n",
       "      <td>21.958214</td>\n",
       "      <td>1868.101667</td>\n",
       "    </tr>\n",
       "    <tr>\n",
       "      <th>4</th>\n",
       "      <td>2000</td>\n",
       "      <td>1999-00</td>\n",
       "      <td>3</td>\n",
       "      <td>922.245000</td>\n",
       "      <td>74</td>\n",
       "      <td>163</td>\n",
       "      <td>4</td>\n",
       "      <td>0</td>\n",
       "      <td>55</td>\n",
       "      <td>71</td>\n",
       "      <td>...</td>\n",
       "      <td>PF</td>\n",
       "      <td>VAN</td>\n",
       "      <td>33</td>\n",
       "      <td>-1.9</td>\n",
       "      <td>0.3</td>\n",
       "      <td>-1.7</td>\n",
       "      <td>42</td>\n",
       "      <td>7</td>\n",
       "      <td>21.958214</td>\n",
       "      <td>1868.101667</td>\n",
       "    </tr>\n",
       "  </tbody>\n",
       "</table>\n",
       "<p>5 rows × 32 columns</p>\n",
       "</div>"
      ],
      "text/plain": [
       "   year   season  id      minutes  fg2m  fg2a  fg3a  fg3m  ftm  fta  ...  \\\n",
       "0  1997  1996-97   2  1439.778333    90   191   188    73  127  151  ...   \n",
       "1  1997  1996-97   3  1170.195000   106   228    47    17   63   84  ...   \n",
       "2  1998  1997-98   3   741.726667    50   113     4     0   41   57  ...   \n",
       "3  1999  1998-99   3  1380.178333   148   341    18     3  184  235  ...   \n",
       "4  2000  1999-00   3   922.245000    74   163     4     0   55   71  ...   \n",
       "\n",
       "   position  team  age  obpm  dbpm  bpm  games  total_seasons  \\\n",
       "0        SG   LAL   35   0.6   0.4  1.0     79              1   \n",
       "1        PF   DET   30  -1.0   0.3 -0.6     65              7   \n",
       "2        PF   DET   31  -2.6   1.5 -1.1     40              7   \n",
       "3        PF   ATL   32  -0.3   1.7  1.5     50              7   \n",
       "4        PF   VAN   33  -1.9   0.3 -1.7     42              7   \n",
       "\n",
       "   median_minutes_per_game  max_minutes  \n",
       "0                18.225042  1439.778333  \n",
       "1                21.958214  1868.101667  \n",
       "2                21.958214  1868.101667  \n",
       "3                21.958214  1868.101667  \n",
       "4                21.958214  1868.101667  \n",
       "\n",
       "[5 rows x 32 columns]"
      ]
     },
     "execution_count": 3,
     "metadata": {},
     "output_type": "execute_result"
    }
   ],
   "source": [
    "data.head()"
   ]
  },
  {
   "cell_type": "code",
   "execution_count": 4,
   "metadata": {},
   "outputs": [],
   "source": [
    "names = data.groupby(\"id\")[\"name\"].first().values"
   ]
  },
  {
   "cell_type": "code",
   "execution_count": 5,
   "metadata": {},
   "outputs": [],
   "source": [
    "from sklearn.preprocessing import StandardScaler\n",
    "from sklearn.decomposition import PCA, KernelPCA\n",
    "from sklearn.manifold import TSNE\n",
    "agg_dict = {\"obpm\":\"mean\", \"dbpm\":\"mean\", \"bpm\":\"mean\", \n",
    "            \"minutes\":\"sum\", \"dreb\": \"sum\", \"fta\":\"sum\", \"ftm\":\"sum\", \"oreb\":\"sum\",\n",
    "            \"ast\":\"sum\", \"tov\":\"sum\", \"fg2m\":\"sum\", \"fg3m\":\"sum\", \"fg3a\":\"sum\", \"fg2a\":\"sum\", \"blk\":\"sum\", \"stl\":\"sum\"}\n",
    "data[\"total_minutes\"] = data[\"median_minutes_per_game\"] * data[\"games\"] \n",
    "agged_data = data.groupby(\"id\").agg(agg_dict).reset_index()\n",
    "agged_data[\"ft_pct\"] = agged_data[\"ftm\"] / agged_data[\"fta\"]\n",
    "agged_data[\"fg2_pct\"] = agged_data[\"fg2m\"] / agged_data[\"fg2a\"]\n",
    "agged_data[\"fg3_pct\"] = agged_data[\"fg3m\"] / agged_data[\"fg3a\"]\n",
    "agged_data[\"dreb_rate\"] = agged_data[\"dreb\"] / agged_data[\"minutes\"]\n",
    "agged_data[\"oreb_rate\"] = agged_data[\"oreb\"] / agged_data[\"minutes\"]\n",
    "agged_data[\"ast_rate\"] = agged_data[\"ast\"] / agged_data[\"minutes\"]\n",
    "agged_data[\"tov_rate\"] = agged_data[\"tov\"] / agged_data[\"minutes\"]\n",
    "agged_data[\"blk_rate\"] = agged_data[\"blk\"] / agged_data[\"minutes\"]\n",
    "agged_data[\"stl_rate\"] = agged_data[\"stl\"] / agged_data[\"minutes\"]\n",
    "agged_data.fillna(0, inplace=True)\n",
    "\n",
    "latent_metrics = [\"obpm\",\"dbpm\",\"minutes\",\"ft_pct\",\"fg2_pct\",\"fg3_pct\",\"dreb_rate\",\"oreb_rate\",\"ast_rate\",\"tov_rate\",\"blk_rate\",\"stl_rate\"]\n",
    "X = StandardScaler().fit_transform(agged_data[latent_metrics])\n",
    "pca_x = PCA().fit(X)\n",
    "X_pca = pca_x.transform(X)\n"
   ]
  },
  {
   "cell_type": "code",
   "execution_count": null,
   "metadata": {},
   "outputs": [],
   "source": [
    "\n",
    "plt.bar(latent_metrics, height=pca_x.components_[0,:])\n",
    "plt.xticks(rotation = 90)\n",
    "plt.ylabel(\"PCA Loading for PC 1\")"
   ]
  },
  {
   "cell_type": "code",
   "execution_count": null,
   "metadata": {},
   "outputs": [],
   "source": [
    "\n",
    "plt.bar(latent_metrics, height=pca_x.components_[0,:])\n",
    "plt.xticks(rotation = 90)\n",
    "plt.ylabel(\"PCA Loading for PC 1\")"
   ]
  },
  {
   "cell_type": "code",
   "execution_count": null,
   "metadata": {},
   "outputs": [],
   "source": [
    "\n",
    "plt.bar(latent_metrics, height=pca_x.components_[1,:])\n",
    "plt.xticks(rotation = 90)\n",
    "plt.ylabel(\"PCA Loading for PC 2\")"
   ]
  },
  {
   "cell_type": "code",
   "execution_count": null,
   "metadata": {},
   "outputs": [],
   "source": [
    "plt.bar(latent_metrics, height=pca_x.components_[2,:])\n",
    "plt.xticks(rotation = 90)\n",
    "plt.ylabel(\"PCA Loading for PC 3\")"
   ]
  },
  {
   "cell_type": "code",
   "execution_count": null,
   "metadata": {},
   "outputs": [],
   "source": [
    "star_indices = np.where(data.groupby(\"id\")[\"name\"].first().reset_index()[\"name\"].isin([\"Stephen Curry\", \"Nikola Jokic\", \"Kevin Durant\", \"Kobe Bryant\", \"Luka Doncic\", \"Michael Jordan\"]))[0]"
   ]
  },
  {
   "cell_type": "code",
   "execution_count": null,
   "metadata": {},
   "outputs": [],
   "source": [
    "# Step 2: Calculate distances\n",
    "centroid = np.mean(X_pca[:,0:3], axis=0)\n",
    "distances = np.linalg.norm(X_pca[:, 0:3] - centroid, axis=1)\n",
    "\n",
    "# Step 3: Define Threshold\n",
    "# Example: Threshold as 2 standard deviations from the mean distance\n",
    "threshold = np.mean(distances) + 2.5 * np.std(distances)\n",
    "\n",
    "# Step 4: Label Outliers\n",
    "outliers_indices = np.where(distances > threshold)[0]"
   ]
  },
  {
   "cell_type": "code",
   "execution_count": null,
   "metadata": {},
   "outputs": [],
   "source": [
    "plt.scatter(X_pca[:,0], X_pca[:,1])\n",
    "# Annotate outliers\n",
    "for i in outliers_indices:\n",
    "    plt.annotate(names[i], (X_pca[i, 0], X_pca[i, 1]), fontsize=7)\n",
    "plt.xlabel(\"PC 1\")\n",
    "plt.ylabel(\"PC 2\")"
   ]
  },
  {
   "cell_type": "code",
   "execution_count": null,
   "metadata": {},
   "outputs": [],
   "source": [
    "plt.scatter(X_pca[:,1], X_pca[:,2])\n",
    "# Annotate outliers\n",
    "for i in outliers_indices:\n",
    "    plt.annotate(names[i], (X_pca[i, 1], X_pca[i, 2]), fontsize=7)\n",
    "plt.xlabel(\"PC 2\")\n",
    "plt.ylabel(\"PC 3\")"
   ]
  },
  {
   "cell_type": "markdown",
   "metadata": {},
   "source": [
    "### Looking at Results\n",
    "The above model was fit in numpyro with 1000 warmup iterations and 4 chains. "
   ]
  },
  {
   "cell_type": "code",
   "execution_count": null,
   "metadata": {},
   "outputs": [],
   "source": [
    "with open(\"model_output/nba_fda_model.pkl\", \"rb\") as f:\n",
    "    results = pickle.load(f)\n",
    "f.close()"
   ]
  },
  {
   "cell_type": "code",
   "execution_count": null,
   "metadata": {},
   "outputs": [],
   "source": [
    "inference_data = az.from_dict(results)"
   ]
  },
  {
   "cell_type": "code",
   "execution_count": null,
   "metadata": {},
   "outputs": [],
   "source": [
    "az.summary(inference_data)"
   ]
  },
  {
   "cell_type": "code",
   "execution_count": null,
   "metadata": {},
   "outputs": [],
   "source": [
    "az.plot_trace(inference_data, var_names=\"length\")"
   ]
  },
  {
   "cell_type": "markdown",
   "metadata": {},
   "source": [
    "### Functional Analysis of NBA Player Career Trajectory (Latent Variable Model)\n",
    "We do the same as we did in the previous section, except $X$ is not fixed. We constrain $X$ to be orthonormal by sampling $X$ from the Stiefel Manifold. "
   ]
  },
  {
   "cell_type": "markdown",
   "metadata": {},
   "source": [
    "### Looking at Latent Model Results"
   ]
  },
  {
   "cell_type": "code",
   "execution_count": 2,
   "metadata": {},
   "outputs": [
    {
     "name": "stderr",
     "output_type": "stream",
     "text": [
      "Platform 'METAL' is experimental and not all JAX functionality may be correctly supported!\n"
     ]
    },
    {
     "name": "stdout",
     "output_type": "stream",
     "text": [
      "Metal device set to: Apple M3 Pro\n",
      "\n",
      "systemMemory: 18.00 GB\n",
      "maxCacheSize: 6.00 GB\n",
      "\n"
     ]
    },
    {
     "name": "stderr",
     "output_type": "stream",
     "text": [
      "2024-06-13 21:24:23.460990: W pjrt_plugin/src/mps_client.cc:563] WARNING: JAX Apple GPU support is experimental and not all JAX functionality is correctly supported!\n"
     ]
    }
   ],
   "source": [
    "with open(\"model_output/nba_fda_latent_model.pkl\", \"rb\") as f:\n",
    "    latent_results = pickle.load(f)\n",
    "f.close()"
   ]
  },
  {
   "cell_type": "code",
   "execution_count": 3,
   "metadata": {},
   "outputs": [],
   "source": [
    "latent_raw = latent_results[\"latent_raw\"]"
   ]
  },
  {
   "cell_type": "code",
   "execution_count": null,
   "metadata": {},
   "outputs": [],
   "source": [
    "latent_raw_square = np.einsum(\"cdjk,cdjb -> cdkb\", latent_raw, latent_raw)"
   ]
  },
  {
   "cell_type": "code",
   "execution_count": null,
   "metadata": {},
   "outputs": [],
   "source": [
    "U, L, V = np.linalg.svd(latent_raw_square)"
   ]
  },
  {
   "cell_type": "code",
   "execution_count": null,
   "metadata": {},
   "outputs": [],
   "source": [
    "latent = np.matmul(latent_raw, np.matmul(U * np.power(L[...,None], -.5), V))"
   ]
  },
  {
   "cell_type": "code",
   "execution_count": null,
   "metadata": {},
   "outputs": [],
   "source": [
    "latent_results[\"latent\"] = latent"
   ]
  },
  {
   "cell_type": "code",
   "execution_count": null,
   "metadata": {},
   "outputs": [],
   "source": [
    "inference_data_latent = az.from_dict(latent_results)"
   ]
  },
  {
   "cell_type": "code",
   "execution_count": null,
   "metadata": {},
   "outputs": [],
   "source": [
    "az.summary(inference_data_latent)"
   ]
  },
  {
   "cell_type": "markdown",
   "metadata": {},
   "source": [
    "One thing to note is the poor diagnostic results here, indicating that the chains have not mixed properly. One thing to do would be to look at the trace-plots of some of these variables. In particular, we can look at the first element of the basis variable. The reason for this may be due to factor identifiability issues, since rotations of $X$ and the basis functions can yield equivalent posteriors. "
   ]
  },
  {
   "cell_type": "code",
   "execution_count": null,
   "metadata": {},
   "outputs": [],
   "source": [
    "az.plot_trace(inference_data_latent, var_names=\"basis\", coords={\"basis_dim_0\":0, \"basis_dim_1\":0, \"basis_dim_2\":0})"
   ]
  },
  {
   "cell_type": "markdown",
   "metadata": {},
   "source": [
    "As we can see, we see clearly that the chains have not mixed at all. The posterior is quite multi-modal in this regard. One thing that would be interesting to check would be to also look at the variable $X$. We need to transform the variable, to run the appropriate statistics. "
   ]
  },
  {
   "cell_type": "code",
   "execution_count": null,
   "metadata": {},
   "outputs": [],
   "source": [
    "az.plot_trace(inference_data_latent, var_names=\"latent\", coords={\"latent_dim_0\":0, \"latent_dim_1\":0})"
   ]
  },
  {
   "cell_type": "markdown",
   "metadata": {},
   "source": [
    "Again, we kind of see that there is multi-modality in the posterior of the latent space, essentially 2 chains that may or may not be equivalent in terms of the posterior likelihood."
   ]
  },
  {
   "cell_type": "code",
   "execution_count": null,
   "metadata": {},
   "outputs": [],
   "source": [
    "az.plot_trace(inference_data_latent, var_names=\"latent\", coords={\"latent_dim_0\":0, \"latent_dim_1\":2})"
   ]
  },
  {
   "cell_type": "code",
   "execution_count": null,
   "metadata": {},
   "outputs": [],
   "source": [
    "az.plot_trace(inference_data_latent, var_names=\"latent_raw\", coords={\"latent_raw_dim_0\":0, \"latent_raw_dim_1\":2})"
   ]
  },
  {
   "cell_type": "markdown",
   "metadata": {},
   "source": [
    "### Visualizing Latent Space\n",
    "\n",
    "Here, we can visualize the latent space of one chain and see if there is any interesting separation. Previously in the PCA, we didn't see any interesting information. Although the chains may not have mixed, we can still examine the latent space from one chain to see if there are any interesting behaviors. "
   ]
  },
  {
   "cell_type": "code",
   "execution_count": null,
   "metadata": {},
   "outputs": [],
   "source": [
    "latent_draw = latent[-4,-1, :, :]"
   ]
  },
  {
   "cell_type": "code",
   "execution_count": null,
   "metadata": {},
   "outputs": [],
   "source": [
    "plt.scatter(latent_draw[:,0], latent_draw[:,1])\n",
    "# Annotate outliers\n",
    "for i in star_indices:\n",
    "    plt.annotate(names[i], (latent_draw[i, 0], latent_draw[i, 1]), fontsize=7)\n",
    "plt.xlabel(\"Latent 1\")\n",
    "plt.ylabel(\"Latent 2\")"
   ]
  },
  {
   "cell_type": "code",
   "execution_count": null,
   "metadata": {},
   "outputs": [],
   "source": [
    "plt.scatter(latent_draw[:,1], latent_draw[:,2])\n",
    "# Annotate outliers\n",
    "for i in star_indices:\n",
    "    plt.annotate(names[i], (latent_draw[i, 1], latent_draw[i, 2]), fontsize=7)\n",
    "plt.xlabel(\"Latent 2\")\n",
    "plt.ylabel(\"Latent 3\")"
   ]
  },
  {
   "cell_type": "markdown",
   "metadata": {},
   "source": [
    "## Results for PPCA \n",
    "\n",
    "This model seeks to factorize the long $N$ by $TK$ matrix using probabilistic Principal Component Analysis. Since we have various outputs that are not normally distributed, this becomes a form of exponential PCA. "
   ]
  },
  {
   "cell_type": "code",
   "execution_count": null,
   "metadata": {},
   "outputs": [],
   "source": [
    "with open(\"model_output/exponential_pca.pkl\", \"rb\") as f:\n",
    "    results = pickle.load(f)\n",
    "f.close()"
   ]
  },
  {
   "cell_type": "code",
   "execution_count": null,
   "metadata": {},
   "outputs": [],
   "source": [
    "X_ppca = results[\"W_auto_loc\"]\n",
    "\n",
    "Z_ppca = linkage(X_ppca, optimal_ordering=True, method=\"centroid\")\n",
    "\n",
    "dendrogram(Z_ppca, labels=names, p = 100, truncate_mode=\"lastp\", show_leaf_counts=False)"
   ]
  },
  {
   "cell_type": "code",
   "execution_count": null,
   "metadata": {},
   "outputs": [],
   "source": [
    "plt.scatter(X_ppca[:,0], X_ppca[:,1])\n",
    "# Annotate outliers\n",
    "for i in star_indices:\n",
    "    plt.annotate(names[i], (X_ppca[i, 0], X_ppca[i, 1]), fontsize=7)\n",
    "plt.xlabel(\"Latent 1\")\n",
    "plt.ylabel(\"Latent 2\")"
   ]
  },
  {
   "cell_type": "code",
   "execution_count": null,
   "metadata": {},
   "outputs": [],
   "source": [
    "plt.scatter(X_ppca[:,1], X_ppca[:,2])\n",
    "# Annotate outliers\n",
    "for i in star_indices:\n",
    "    plt.annotate(names[i], (X_ppca[i, 1], X_ppca[i, 2]), fontsize=7)\n",
    "plt.xlabel(\"Latent 2\")\n",
    "plt.ylabel(\"Latent 3\")"
   ]
  },
  {
   "cell_type": "code",
   "execution_count": null,
   "metadata": {},
   "outputs": [],
   "source": [
    "plt.scatter(X_ppca[:,0], X_ppca[:,2])\n",
    "# Annotate outliers\n",
    "for i in star_indices:\n",
    "    plt.annotate(names[i], (X_ppca[i, 0], X_ppca[i, 2]), fontsize=7)\n",
    "plt.xlabel(\"Latent 1\")\n",
    "plt.ylabel(\"Latent 3\")"
   ]
  },
  {
   "cell_type": "markdown",
   "metadata": {},
   "source": [
    "### Functional Bases"
   ]
  },
  {
   "cell_type": "code",
   "execution_count": null,
   "metadata": {},
   "outputs": [],
   "source": [
    "bases_ppca = results[\"beta_auto_loc\"].reshape(3, int(252 // 12), -1)\n",
    "alpha = results[\"alpha_auto_loc\"].reshape(int(252/12), -1)"
   ]
  },
  {
   "cell_type": "code",
   "execution_count": null,
   "metadata": {},
   "outputs": [],
   "source": [
    "metrics = [\"log_min\", \"obpm\",\"dbpm\",\"blk\",\"stl\",\"ast\",\"dreb\",\"oreb\",\"tov\",\"fta\",\"fg2a\",\"fg3a\",\"ftm\",\"fg2m\",\"fg3m\"]\n",
    "basis = np.arange(18,39)"
   ]
  },
  {
   "cell_type": "code",
   "execution_count": null,
   "metadata": {},
   "outputs": [],
   "source": [
    "for index, metric in enumerate(metrics):\n",
    "    _df = pd.DataFrame(bases_ppca[:,:, index].T , columns=[f\"basis {i}\" for i in range(3)])\n",
    "    _df[\"age\"] = basis\n",
    "    _df.plot(x=\"age\", y=[f\"basis {i}\" for i in range(3)], xlabel=\"age\",\n",
    "         ylabel=\"Value\", title=f\"Metric: {metric}\")\n"
   ]
  },
  {
   "cell_type": "markdown",
   "metadata": {},
   "source": [
    "## Results for Probabilistic CP Decomposition \n",
    "\n",
    "This model seeks to factorize the  $N$ by $T$ by $K$ tensor (A) using probabilistic exponential family CP Decomposition. Since we have various outputs that are not normally distributed, this becomes a form of exponential family CP Decomposition.\n",
    "\n",
    "We seek to approximate the following:\n",
    "\n",
    "$A \\approx \\mu + \\sum_{i=1}^{r} \\lambda_i \\cdot u_i \\otimes v_i \\otimes w_i$\n",
    "\n",
    "where, $\\mu$, $u_i$, $v_i$, $w_i$ $\\sim \\mathcal{N}(0, I)$, $\\lambda \\sim Dirichlet(\\alpha)$\n",
    "\n",
    "$U \\in \\mathcal{R}^{N x R}$\n",
    "\n",
    "$V \\in \\mathcal{R}^{T x R}$\n",
    "\n",
    "$w \\in \\mathcal{R}^{K x R}$\n",
    "\n",
    "$\\mu \\in \\mathcal{R}^{T x K}$. \n",
    "\n",
    "Here $\\mu$ is used to de-mean the data, and $r = 2$. \n"
   ]
  },
  {
   "cell_type": "code",
   "execution_count": null,
   "metadata": {},
   "outputs": [],
   "source": [
    "with open(\"model_output/exponential_cp.pkl\", \"rb\") as f:\n",
    "    results = pickle.load(f)\n",
    "f.close()"
   ]
  },
  {
   "cell_type": "code",
   "execution_count": null,
   "metadata": {},
   "outputs": [],
   "source": [
    "X_pcp = results[\"U_auto_loc\"]\n",
    "\n",
    "\n",
    "Z_pcp = linkage(X_pcp, optimal_ordering=True, method=\"centroid\")\n",
    "\n",
    "dendrogram(Z_pcp, labels=names, p = 100, truncate_mode=\"lastp\", show_leaf_counts=False)"
   ]
  },
  {
   "cell_type": "code",
   "execution_count": null,
   "metadata": {},
   "outputs": [],
   "source": [
    "plt.scatter(X_pcp[:,0], X_pcp[:,1])\n",
    "# Annotate outliers\n",
    "for i in star_indices:\n",
    "    plt.annotate(names[i], (X_pcp[i, 0], X_pcp[i, 1]), fontsize=7)\n",
    "plt.xlabel(\"Latent 1\")\n",
    "plt.ylabel(\"Latent 2\")"
   ]
  },
  {
   "cell_type": "code",
   "execution_count": null,
   "metadata": {},
   "outputs": [],
   "source": [
    "plt.scatter(X_pcp[:,1], X_pcp[:,2])\n",
    "# Annotate outliers\n",
    "for i in star_indices:\n",
    "    plt.annotate(names[i], (X_pcp[i, 1], X_pcp[i, 2]), fontsize=7)\n",
    "plt.xlabel(\"Latent 2\")\n",
    "plt.ylabel(\"Latent 3\")"
   ]
  },
  {
   "cell_type": "code",
   "execution_count": null,
   "metadata": {},
   "outputs": [],
   "source": [
    "plt.scatter(X_pcp[:,0], X_pcp[:,2])\n",
    "# Annotate outliers\n",
    "for i in star_indices:\n",
    "    plt.annotate(names[i], (X_pcp[i, 0], X_pcp[i, 2]), fontsize=7)\n",
    "plt.xlabel(\"Latent 1\")\n",
    "plt.ylabel(\"Latent 3\")"
   ]
  },
  {
   "cell_type": "markdown",
   "metadata": {},
   "source": [
    "### Functional Bases"
   ]
  },
  {
   "cell_type": "code",
   "execution_count": null,
   "metadata": {},
   "outputs": [],
   "source": [
    "V_pcp = results[\"V_auto_loc\"]\n",
    "W_pcp = results[\"W_auto_loc\"]\n",
    "alpha = results[\"alpha_auto_loc\"]\n",
    "lam = results[\"lambda_auto_loc\"]"
   ]
  },
  {
   "cell_type": "code",
   "execution_count": null,
   "metadata": {},
   "outputs": [],
   "source": [
    "lam"
   ]
  },
  {
   "cell_type": "code",
   "execution_count": null,
   "metadata": {},
   "outputs": [],
   "source": [
    "bases_pcp = np.einsum(\"tr,kr -> tkr\", V_pcp,W_pcp)\n",
    "bases_sum_pcp = np.einsum(\"tkr,r -> tk\", bases_pcp, lam) + alpha"
   ]
  },
  {
   "cell_type": "markdown",
   "metadata": {},
   "source": [
    "## Plotting individual Tensor Production Curves"
   ]
  },
  {
   "cell_type": "code",
   "execution_count": null,
   "metadata": {},
   "outputs": [],
   "source": [
    "for index, metric in enumerate(metrics):\n",
    "    _df = pd.DataFrame(bases_pcp[:,index, :] , columns=[f\"basis {i}\" for i in range(3)])\n",
    "    _df[\"age\"] = basis\n",
    "    _df.plot(x=\"age\", y=[f\"basis {i}\" for i in range(3)], xlabel=\"age\",\n",
    "         ylabel=\"Value\", title=f\"Metric: {metric}\")"
   ]
  },
  {
   "cell_type": "markdown",
   "metadata": {},
   "source": [
    "### Plotting Combined Tensor Production Curves"
   ]
  },
  {
   "cell_type": "code",
   "execution_count": null,
   "metadata": {},
   "outputs": [],
   "source": [
    "for index, metric in enumerate(metrics):\n",
    "    _df = pd.DataFrame(bases_sum_pcp[:,index] , columns=[\"total_basis\"])\n",
    "    _df[\"age\"] = basis\n",
    "    _df.plot(x=\"age\", y=[\"total_basis\"], xlabel=\"age\",\n",
    "         ylabel=\"Value\", title=f\"Metric: {metric}\")"
   ]
  },
  {
   "cell_type": "markdown",
   "metadata": {},
   "source": [
    "## Random Feature Latent Variable Model \n",
    "\n",
    "This implementation follows the paper: https://github.com/gwgundersen/rflvm , except uses HMC instead of Gibbs Sampling to derive the posterior updates.\n",
    "\n",
    "In this case, however, we have multiple metrics that stem from the same latent space. \n"
   ]
  },
  {
   "cell_type": "code",
   "execution_count": null,
   "metadata": {},
   "outputs": [],
   "source": [
    "with open(\"model_output/nba_rflvm.pkl\", \"rb\") as f:\n",
    "    results = pickle.load(f)\n",
    "f.close()"
   ]
  },
  {
   "cell_type": "code",
   "execution_count": null,
   "metadata": {},
   "outputs": [],
   "source": [
    "results.keys()"
   ]
  },
  {
   "cell_type": "code",
   "execution_count": null,
   "metadata": {},
   "outputs": [],
   "source": [
    "X_rflvm = results[\"X_raw_auto_loc\"]\n",
    "\n",
    "\n",
    "Z_rflvm = linkage(X_rflvm, optimal_ordering=True, method=\"centroid\")\n",
    "\n",
    "dendrogram(Z_rflvm, labels=names, p = 200, truncate_mode=\"lastp\", show_leaf_counts=False)"
   ]
  },
  {
   "cell_type": "code",
   "execution_count": null,
   "metadata": {},
   "outputs": [],
   "source": [
    "plt.scatter(X_rflvm[:,0], X_rflvm[:,1])\n",
    "# Annotate outliers\n",
    "for i in star_indices:\n",
    "    plt.annotate(names[i], (X_rflvm[i, 0], X_rflvm[i, 1]), fontsize=7)\n",
    "plt.xlabel(\"Latent 1\")\n",
    "plt.ylabel(\"Latent 2\")"
   ]
  },
  {
   "cell_type": "code",
   "execution_count": null,
   "metadata": {},
   "outputs": [],
   "source": [
    "plt.scatter(X_rflvm[:,1], X_rflvm[:,2])\n",
    "# Annotate outliers\n",
    "for i in star_indices:\n",
    "    plt.annotate(names[i], (X_rflvm[i, 1], X_rflvm[i, 2]), fontsize=7)\n",
    "plt.xlabel(\"Latent 2\")\n",
    "plt.ylabel(\"Latent 3\")"
   ]
  },
  {
   "cell_type": "code",
   "execution_count": null,
   "metadata": {},
   "outputs": [],
   "source": [
    "plt.scatter(X_rflvm[:,0], X_rflvm[:,2])\n",
    "# Annotate outliers\n",
    "for i in star_indices:\n",
    "    plt.annotate(names[i], (X_rflvm[i, 0], X_rflvm[i, 2]), fontsize=7)\n",
    "plt.xlabel(\"Latent 1\")\n",
    "plt.ylabel(\"Latent 3\")"
   ]
  },
  {
   "cell_type": "markdown",
   "metadata": {},
   "source": [
    "We actually probably care about not the latent representation, but the projected latent representation $\\phi(X)$"
   ]
  },
  {
   "cell_type": "code",
   "execution_count": null,
   "metadata": {},
   "outputs": [],
   "source": [
    "W = results[\"W_auto_loc\"]\n",
    "U, _, _ = np.linalg.svd(X_rflvm, full_matrices=False)\n",
    "L       = np.linalg.cholesky(np.cov(U.T) + 1e-6 * np.eye(3)).T\n",
    "aligned_X  = np.linalg.solve(L, U.T).T\n",
    "X_rflvm_aligned = aligned_X / np.std(X_rflvm, axis=0)\n",
    "wTx = np.einsum(\"nr,mr -> nm\", X_rflvm_aligned, W)\n",
    "phi = np.hstack([np.cos(wTx), np.sin(wTx)]) * (1/ np.sqrt(10))"
   ]
  },
  {
   "cell_type": "code",
   "execution_count": null,
   "metadata": {},
   "outputs": [],
   "source": [
    "\n",
    "Z_rflvm_phi = linkage(phi, optimal_ordering=True, method=\"centroid\")\n",
    "\n",
    "dendrogram(Z_rflvm_phi, labels=names, p = 120, truncate_mode=\"lastp\", show_leaf_counts=False)"
   ]
  },
  {
   "cell_type": "markdown",
   "metadata": {},
   "source": [
    "### Functional Bases\n",
    "\n",
    "We can look at the individual curves for the metrics. "
   ]
  },
  {
   "cell_type": "code",
   "execution_count": null,
   "metadata": {},
   "outputs": [],
   "source": [
    "bases_rflvm = results[\"beta_auto_loc\"]"
   ]
  },
  {
   "cell_type": "code",
   "execution_count": null,
   "metadata": {},
   "outputs": [],
   "source": [
    "for index, metric in enumerate(metrics):\n",
    "    _df = pd.DataFrame(bases_rflvm[index,:, :].T , columns=[f\"basis {i}\" for i in range(20)])\n",
    "    _df[\"age\"] = basis\n",
    "    _df.plot(x=\"age\", y=[f\"basis {i}\" for i in range(20)], xlabel=\"age\",\n",
    "         ylabel=\"Value\", title=f\"Metric: {metric}\")"
   ]
  },
  {
   "cell_type": "markdown",
   "metadata": {},
   "source": [
    "## Time Varying Random Feature Latent Variable Model\n",
    "Added the time varying component to the columns in the form of a Gaussian Process.\n"
   ]
  },
  {
   "cell_type": "code",
   "execution_count": null,
   "metadata": {},
   "outputs": [],
   "source": [
    "with open(\"model_output/nba_tvrflvm.pkl\", \"rb\") as f:\n",
    "    results = pickle.load(f)\n",
    "f.close()"
   ]
  },
  {
   "cell_type": "code",
   "execution_count": null,
   "metadata": {},
   "outputs": [],
   "source": [
    "X_tvrflvm = results[\"X_raw_auto_loc\"]\n",
    "\n",
    "\n",
    "Z_tvrflvm = linkage(X_tvrflvm, optimal_ordering=True, method=\"centroid\")\n",
    "\n",
    "dendrogram(Z_tvrflvm, labels=names, p = 150, truncate_mode=\"lastp\", show_leaf_counts=False)"
   ]
  },
  {
   "cell_type": "code",
   "execution_count": null,
   "metadata": {},
   "outputs": [],
   "source": [
    "plt.scatter(X_tvrflvm[:,0], X_tvrflvm[:,1])\n",
    "# Annotate outliers\n",
    "for i in star_indices:\n",
    "    plt.annotate(names[i], (X_tvrflvm[i, 0], X_tvrflvm[i, 1]), fontsize=7)\n",
    "plt.xlabel(\"Latent 1\")\n",
    "plt.ylabel(\"Latent 2\")"
   ]
  },
  {
   "cell_type": "code",
   "execution_count": null,
   "metadata": {},
   "outputs": [],
   "source": [
    "plt.scatter(X_tvrflvm[:,1], X_tvrflvm[:,2])\n",
    "# Annotate outliers\n",
    "for i in star_indices:\n",
    "    plt.annotate(names[i], (X_tvrflvm[i, 1], X_tvrflvm[i, 2]), fontsize=7)\n",
    "plt.xlabel(\"Latent 2\")\n",
    "plt.ylabel(\"Latent 3\")"
   ]
  },
  {
   "cell_type": "code",
   "execution_count": null,
   "metadata": {},
   "outputs": [],
   "source": [
    "plt.scatter(X_tvrflvm[:,0], X_tvrflvm[:,2])\n",
    "# Annotate outliers\n",
    "for i in star_indices:\n",
    "    plt.annotate(names[i], (X_tvrflvm[i, 0], X_tvrflvm[i, 2]), fontsize=7)\n",
    "plt.xlabel(\"Latent 1\")\n",
    "plt.ylabel(\"Latent 3\")"
   ]
  },
  {
   "cell_type": "code",
   "execution_count": null,
   "metadata": {},
   "outputs": [],
   "source": []
  },
  {
   "cell_type": "markdown",
   "metadata": {},
   "source": [
    "We actually probably care about not the latent representation, but the projected latent representation $\\phi(X)$"
   ]
  },
  {
   "cell_type": "code",
   "execution_count": null,
   "metadata": {},
   "outputs": [],
   "source": [
    "W = results[\"W_auto_loc\"]\n",
    "U, _, _ = np.linalg.svd(X_tvrflvm, full_matrices=False)\n",
    "L       = np.linalg.cholesky(np.cov(U.T) + 1e-6 * np.eye(3)).T\n",
    "aligned_X  = np.linalg.solve(L, U.T).T\n",
    "X_tvrflvm_aligned = aligned_X / np.std(X_tvrflvm, axis=0)\n",
    "wTx = np.einsum(\"nr,mr -> nm\", X_tvrflvm_aligned, W)\n",
    "phi = np.hstack([np.cos(wTx), np.sin(wTx)]) * (1/ np.sqrt(10))"
   ]
  },
  {
   "cell_type": "code",
   "execution_count": null,
   "metadata": {},
   "outputs": [],
   "source": [
    "\n",
    "Z_tvrflvm_phi = linkage(phi, optimal_ordering=True, method=\"centroid\")\n",
    "\n",
    "dendrogram(Z_tvrflvm_phi, labels=names, p = 120, truncate_mode=\"lastp\", show_leaf_counts=False)"
   ]
  },
  {
   "cell_type": "markdown",
   "metadata": {},
   "source": [
    "## Functional Bases \n",
    "\n",
    "We can look at the metric curves for each of the bases"
   ]
  },
  {
   "cell_type": "code",
   "execution_count": null,
   "metadata": {},
   "outputs": [],
   "source": []
  },
  {
   "cell_type": "code",
   "execution_count": null,
   "metadata": {},
   "outputs": [],
   "source": [
    "bases_tvrflvm = results[\"beta_auto_loc\"]"
   ]
  },
  {
   "cell_type": "code",
   "execution_count": null,
   "metadata": {},
   "outputs": [],
   "source": [
    "for index, metric in enumerate(metrics):\n",
    "    _df = pd.DataFrame(bases_tvrflvm[index,:, :].T , columns=[f\"basis {i}\" for i in range(20)])\n",
    "    _df[\"age\"] = basis\n",
    "    _df.plot(x=\"age\", y=[f\"basis {i}\" for i in range(20)], xlabel=\"age\",\n",
    "         ylabel=\"Value\", title=f\"Metric: {metric}\")"
   ]
  },
  {
   "cell_type": "markdown",
   "metadata": {},
   "source": [
    "## 4-Way Tensor Decomposition\n",
    "Here, we have the 4-way tensor decomposition including the years that the players played in to account for the change in metrics over time. "
   ]
  },
  {
   "cell_type": "code",
   "execution_count": null,
   "metadata": {},
   "outputs": [],
   "source": [
    "with open(\"model_output/exponential_cp_multi_way.pkl\", \"rb\") as f:\n",
    "    results = pickle.load(f)\n",
    "f.close()"
   ]
  },
  {
   "cell_type": "code",
   "execution_count": null,
   "metadata": {},
   "outputs": [],
   "source": [
    "X_pcp_mw = results[\"U_auto_loc\"]\n",
    "\n",
    "\n",
    "Z_pcp_mw = linkage(X_pcp_mw, optimal_ordering=True, method=\"centroid\")\n",
    "\n",
    "dendrogram(Z_pcp_mw, labels=names, p = 100, truncate_mode=\"lastp\", show_leaf_counts=False)"
   ]
  },
  {
   "cell_type": "code",
   "execution_count": null,
   "metadata": {},
   "outputs": [],
   "source": [
    "plt.scatter(X_pcp_mw[:,0], X_pcp_mw[:,1])\n",
    "# Annotate outliers\n",
    "for i in star_indices:\n",
    "    plt.annotate(names[i], (X_pcp_mw[i, 0], X_pcp_mw[i, 1]), fontsize=7)\n",
    "plt.xlabel(\"Latent 1\")\n",
    "plt.ylabel(\"Latent 2\")"
   ]
  },
  {
   "cell_type": "code",
   "execution_count": null,
   "metadata": {},
   "outputs": [],
   "source": [
    "plt.scatter(X_pcp_mw[:,1], X_pcp_mw[:,2])\n",
    "# Annotate outliers\n",
    "for i in star_indices:\n",
    "    plt.annotate(names[i], (X_pcp_mw[i, 1], X_pcp_mw[i, 2]), fontsize=7)\n",
    "plt.xlabel(\"Latent 2\")\n",
    "plt.ylabel(\"Latent 3\")"
   ]
  },
  {
   "cell_type": "code",
   "execution_count": null,
   "metadata": {},
   "outputs": [],
   "source": [
    "plt.scatter(X_pcp_mw[:,0], X_pcp_mw[:,2])\n",
    "# Annotate outliers\n",
    "for i in star_indices:\n",
    "    plt.annotate(names[i], (X_pcp_mw[i, 0], X_pcp_mw[i, 2]), fontsize=7)\n",
    "plt.xlabel(\"Latent 1\")\n",
    "plt.ylabel(\"Latent 3\")"
   ]
  },
  {
   "cell_type": "code",
   "execution_count": null,
   "metadata": {},
   "outputs": [],
   "source": []
  },
  {
   "cell_type": "markdown",
   "metadata": {},
   "source": [
    "### Functional Bases"
   ]
  },
  {
   "cell_type": "code",
   "execution_count": null,
   "metadata": {},
   "outputs": [],
   "source": [
    "V_pcp_mw = results[\"V_auto_loc\"]\n",
    "W_pcp_mw = results[\"W_auto_loc\"]\n",
    "T_pcp_mw = results[\"Z_auto_loc\"]\n",
    "lam = results[\"lambda_auto_loc\"]"
   ]
  },
  {
   "cell_type": "code",
   "execution_count": null,
   "metadata": {},
   "outputs": [],
   "source": [
    "lam"
   ]
  },
  {
   "cell_type": "code",
   "execution_count": null,
   "metadata": {},
   "outputs": [],
   "source": [
    "bases_pcp_mw = np.einsum(\"tr,kr -> tkr\", V_pcp_mw,W_pcp_mw)\n",
    "bases_sum_pcp_mw = np.einsum(\"tkr,r -> tk\", bases_pcp_mw, lam)"
   ]
  },
  {
   "cell_type": "markdown",
   "metadata": {},
   "source": [
    "## Plotting individual Tensor Production Curves"
   ]
  },
  {
   "cell_type": "code",
   "execution_count": null,
   "metadata": {},
   "outputs": [],
   "source": [
    "for index, metric in enumerate(metrics):\n",
    "    _df = pd.DataFrame(bases_pcp_mw[:,index, :] , columns=[f\"basis {i}\" for i in range(3)])\n",
    "    _df[\"age\"] = basis\n",
    "    _df.plot(x=\"age\", y=[f\"basis {i}\" for i in range(3)], xlabel=\"age\",\n",
    "         ylabel=\"Value\", title=f\"Metric: {metric}\")"
   ]
  },
  {
   "cell_type": "markdown",
   "metadata": {},
   "source": [
    "### Plotting Combined Tensor Production Curves"
   ]
  },
  {
   "cell_type": "code",
   "execution_count": null,
   "metadata": {},
   "outputs": [],
   "source": [
    "for index, metric in enumerate(metrics):\n",
    "    _df = pd.DataFrame(bases_sum_pcp_mw[:,index] , columns=[\"total_basis\"])\n",
    "    _df[\"age\"] = basis\n",
    "    _df.plot(x=\"age\", y=[\"total_basis\"], xlabel=\"age\",\n",
    "         ylabel=\"Value\", title=f\"Metric: {metric}\")"
   ]
  },
  {
   "cell_type": "markdown",
   "metadata": {},
   "source": [
    "This seems like random noise!"
   ]
  },
  {
   "cell_type": "markdown",
   "metadata": {},
   "source": [
    "## Random Feature Latent Variable Model (with metric drift)\n",
    "This is the same TVRFLVM as before, except we account for the baseline level of metric to vary across time. "
   ]
  },
  {
   "cell_type": "code",
   "execution_count": null,
   "metadata": {},
   "outputs": [],
   "source": [
    "with open(\"model_output/nba_tvrflvm_drift.pkl\", \"rb\") as f:\n",
    "    results = pickle.load(f)\n",
    "f.close()"
   ]
  },
  {
   "cell_type": "code",
   "execution_count": null,
   "metadata": {},
   "outputs": [],
   "source": [
    "X_tvrflvm_drift = results[\"X_raw_auto_loc\"]\n",
    "\n",
    "\n",
    "Z_tvrflvm_drift = linkage(X_tvrflvm_drift, optimal_ordering=True, method=\"centroid\")\n",
    "\n",
    "dendrogram(Z_tvrflvm_drift, labels=names, p = 150, truncate_mode=\"lastp\", show_leaf_counts=False)"
   ]
  },
  {
   "cell_type": "code",
   "execution_count": null,
   "metadata": {},
   "outputs": [],
   "source": [
    "plt.scatter(X_tvrflvm_drift[:,0], X_tvrflvm_drift[:,1])\n",
    "# Annotate outliers\n",
    "for i in star_indices:\n",
    "    plt.annotate(names[i], (X_tvrflvm_drift[i, 0], X_tvrflvm_drift[i, 1]), fontsize=7)\n",
    "plt.xlabel(\"Latent 1\")\n",
    "plt.ylabel(\"Latent 2\")"
   ]
  },
  {
   "cell_type": "code",
   "execution_count": null,
   "metadata": {},
   "outputs": [],
   "source": [
    "plt.scatter(X_tvrflvm_drift[:,0], X_tvrflvm_drift[:,2])\n",
    "# Annotate outliers\n",
    "for i in star_indices:\n",
    "    plt.annotate(names[i], (X_tvrflvm_drift[i, 0], X_tvrflvm_drift[i, 2]), fontsize=7)\n",
    "plt.xlabel(\"Latent 1\")\n",
    "plt.ylabel(\"Latent 3\")"
   ]
  },
  {
   "cell_type": "code",
   "execution_count": null,
   "metadata": {},
   "outputs": [],
   "source": [
    "plt.scatter(X_tvrflvm_drift[:,1], X_tvrflvm_drift[:,2])\n",
    "# Annotate outliers\n",
    "for i in star_indices:\n",
    "    plt.annotate(names[i], (X_tvrflvm_drift[i, 1], X_tvrflvm_drift[i, 2]), fontsize=7)\n",
    "plt.xlabel(\"Latent 2\")\n",
    "plt.ylabel(\"Latent 3\")"
   ]
  },
  {
   "cell_type": "markdown",
   "metadata": {},
   "source": [
    "We actually probably care about not the latent representation, but the projected latent representation $\\phi(X)$"
   ]
  },
  {
   "cell_type": "code",
   "execution_count": null,
   "metadata": {},
   "outputs": [],
   "source": [
    "W = results[\"W_auto_loc\"]\n",
    "U, _, _ = np.linalg.svd(X_tvrflvm_drift, full_matrices=False)\n",
    "L       = np.linalg.cholesky(np.cov(U.T) + 1e-6 * np.eye(3)).T\n",
    "aligned_X  = np.linalg.solve(L, U.T).T\n",
    "X_tvrflvm_aligned_drift = aligned_X / np.std(X_tvrflvm_drift, axis=0)\n",
    "wTx = np.einsum(\"nr,mr -> nm\", X_tvrflvm_aligned_drift, W)\n",
    "phi = np.hstack([np.cos(wTx), np.sin(wTx)]) * (1/ np.sqrt(10))"
   ]
  },
  {
   "cell_type": "code",
   "execution_count": null,
   "metadata": {},
   "outputs": [],
   "source": [
    "\n",
    "Z_tvrflvm_phi_drift = linkage(phi, optimal_ordering=True, method=\"centroid\")\n",
    "\n",
    "dendrogram(Z_tvrflvm_phi_drift, labels=names, p = 120, truncate_mode=\"lastp\", show_leaf_counts=False)"
   ]
  },
  {
   "cell_type": "markdown",
   "metadata": {},
   "source": [
    "## Functional Bases \n",
    "\n",
    "We can look at the metric curves for each of the bases"
   ]
  },
  {
   "cell_type": "code",
   "execution_count": null,
   "metadata": {},
   "outputs": [],
   "source": [
    "bases_tvrflvm_drift = results[\"beta_auto_loc\"]"
   ]
  },
  {
   "cell_type": "code",
   "execution_count": null,
   "metadata": {},
   "outputs": [],
   "source": [
    "for index, metric in enumerate(metrics):\n",
    "    _df = pd.DataFrame(bases_tvrflvm_drift[index,:, :].T , columns=[f\"basis {i}\" for i in range(20)])\n",
    "    _df[\"age\"] = basis\n",
    "    _df.plot(x=\"age\", y=[f\"basis {i}\" for i in range(20)], xlabel=\"age\",\n",
    "         ylabel=\"Value\", title=f\"Metric: {metric}\")"
   ]
  },
  {
   "cell_type": "markdown",
   "metadata": {},
   "source": [
    "### Looking at the metric drift terms\n",
    "Here, we can look at how each metric has changed over the years. "
   ]
  },
  {
   "cell_type": "code",
   "execution_count": null,
   "metadata": {},
   "outputs": [],
   "source": [
    "from model.hsgp import eigenfunctions, diag_spectral_density"
   ]
  },
  {
   "cell_type": "code",
   "execution_count": null,
   "metadata": {},
   "outputs": [],
   "source": [
    "drift_keys = sorted([item for item in results.keys() if \"drift\" in item], key = lambda x: int(x.split(\"_\")[1]))"
   ]
  },
  {
   "cell_type": "code",
   "execution_count": null,
   "metadata": {},
   "outputs": [],
   "source": [
    "drift = np.hstack( [results[key] for key in drift_keys] )"
   ]
  },
  {
   "cell_type": "code",
   "execution_count": null,
   "metadata": {},
   "outputs": [],
   "source": [
    "f_stack = []\n",
    "time_basis = np.arange(data[\"year\"].min(), data[\"year\"].max() + 1)\n",
    "L = np.max(np.abs(time_basis), axis=0)*1.5\n",
    "phi = eigenfunctions(time_basis, L, 10)\n",
    "for i in range(len(metrics)):   \n",
    "    spd = np.tile(np.sqrt(diag_spectral_density(1, 1, L, 10)), (1,1)).T\n",
    "    f = phi @ (spd * drift[..., i])\n",
    "    f_stack.append(f)"
   ]
  },
  {
   "cell_type": "code",
   "execution_count": null,
   "metadata": {},
   "outputs": [],
   "source": [
    "f = np.stack(f_stack)"
   ]
  },
  {
   "cell_type": "code",
   "execution_count": null,
   "metadata": {},
   "outputs": [],
   "source": [
    "for index, metric in enumerate(metrics):\n",
    "    _df = pd.DataFrame(f[index,:, :] , columns=[f\"basis {i}\" for i in range(10)])\n",
    "    _df[\"year\"] = time_basis\n",
    "    _df.plot(x=\"year\", y=[f\"basis {i}\" for i in range(10)], xlabel=\"year\",\n",
    "         ylabel=\"Value\", title=f\"Metric: {metric}\")"
   ]
  },
  {
   "cell_type": "markdown",
   "metadata": {},
   "source": [
    "# Fixed Latent Space RFLVM\n",
    "Here, we used the fixed latent space on X and estimated $\\phi(X)$, $\\beta$ using MCMC sampling. "
   ]
  },
  {
   "cell_type": "code",
   "execution_count": 5,
   "metadata": {},
   "outputs": [
    {
     "name": "stderr",
     "output_type": "stream",
     "text": [
      "Platform 'METAL' is experimental and not all JAX functionality may be correctly supported!\n"
     ]
    },
    {
     "name": "stdout",
     "output_type": "stream",
     "text": [
      "Metal device set to: Apple M3 Pro\n",
      "\n",
      "systemMemory: 18.00 GB\n",
      "maxCacheSize: 6.00 GB\n",
      "\n"
     ]
    },
    {
     "name": "stderr",
     "output_type": "stream",
     "text": [
      "2024-06-18 12:39:08.596535: W pjrt_plugin/src/mps_client.cc:563] WARNING: JAX Apple GPU support is experimental and not all JAX functionality is correctly supported!\n"
     ]
    }
   ],
   "source": [
    "with open(\"model_output/fixed_nba_rflvm.pkl\", \"rb\") as f:\n",
    "    results = pickle.load(f)\n",
    "f.close()"
   ]
  },
  {
   "cell_type": "code",
   "execution_count": 6,
   "metadata": {},
   "outputs": [
    {
     "data": {
      "text/plain": [
       "dict_keys(['W', 'beta', 'sigma_dbpm', 'sigma_log_min', 'sigma_obpm'])"
      ]
     },
     "execution_count": 6,
     "metadata": {},
     "output_type": "execute_result"
    }
   ],
   "source": [
    "results.keys()"
   ]
  },
  {
   "cell_type": "code",
   "execution_count": 7,
   "metadata": {},
   "outputs": [],
   "source": [
    "inference_data = az.from_dict(results)"
   ]
  },
  {
   "cell_type": "code",
   "execution_count": 8,
   "metadata": {},
   "outputs": [
    {
     "data": {
      "text/plain": [
       "array([[<Axes: title={'center': 'W'}>, <Axes: title={'center': 'W'}>]],\n",
       "      dtype=object)"
      ]
     },
     "execution_count": 8,
     "metadata": {},
     "output_type": "execute_result"
    },
    {
     "data": {
      "image/png": "[encoded data removed]",
      "text/plain": [
       "<Figure size 1200x200 with 2 Axes>"
      ]
     },
     "metadata": {},
     "output_type": "display_data"
    }
   ],
   "source": [
    "az.plot_trace(inference_data, var_names=\"W\", coords={\"W_dim_0\":0, \"W_dim_1\":0})"
   ]
  },
  {
   "cell_type": "code",
   "execution_count": 9,
   "metadata": {},
   "outputs": [
    {
     "data": {
      "text/plain": [
       "array([[<Axes: title={'center': 'beta'}>,\n",
       "        <Axes: title={'center': 'beta'}>]], dtype=object)"
      ]
     },
     "execution_count": 9,
     "metadata": {},
     "output_type": "execute_result"
    },
    {
     "data": {
      "image/png": "[encoded data removed]",
      "text/plain": [
       "<Figure size 1200x200 with 2 Axes>"
      ]
     },
     "metadata": {},
     "output_type": "display_data"
    }
   ],
   "source": [
    "az.plot_trace(inference_data, var_names=\"beta\", coords={\"beta_dim_0\":0, \"beta_dim_1\":0, \"beta_dim_2\":0})"
   ]
  },
  {
   "cell_type": "code",
   "execution_count": 10,
   "metadata": {},
   "outputs": [
    {
     "data": {
      "text/plain": [
       "array([[<Axes: title={'center': 'sigma_obpm'}>,\n",
       "        <Axes: title={'center': 'sigma_obpm'}>]], dtype=object)"
      ]
     },
     "execution_count": 10,
     "metadata": {},
     "output_type": "execute_result"
    },
    {
     "data": {
      "image/png": "[encoded data removed]",
      "text/plain": [
       "<Figure size 1200x200 with 2 Axes>"
      ]
     },
     "metadata": {},
     "output_type": "display_data"
    }
   ],
   "source": [
    "az.plot_trace(inference_data, var_names=\"sigma_obpm\")"
   ]
  },
  {
   "cell_type": "code",
   "execution_count": 11,
   "metadata": {},
   "outputs": [
    {
     "data": {
      "text/html": [
       "\n",
       "            <div>\n",
       "              <div class='xr-header'>\n",
       "                <div class=\"xr-obj-type\">arviz.InferenceData</div>\n",
       "              </div>\n",
       "              <ul class=\"xr-sections group-sections\">\n",
       "              \n",
       "            <li class = \"xr-section-item\">\n",
       "                  <input id=\"idata_posterior516b575e-db15-4a91-b2d9-803768e5be8d\" class=\"xr-section-summary-in\" type=\"checkbox\">\n",
       "                  <label for=\"idata_posterior516b575e-db15-4a91-b2d9-803768e5be8d\" class = \"xr-section-summary\">posterior</label>\n",
       "                  <div class=\"xr-section-inline-details\"></div>\n",
       "                  <div class=\"xr-section-details\">\n",
       "                      <ul id=\"xr-dataset-coord-list\" class=\"xr-var-list\">\n",
       "                          <div style=\"padding-left:2rem;\"><div><svg style=\"position: absolute; width: 0; height: 0; overflow: hidden\">\n",
       "<defs>\n",
       "<symbol id=\"icon-database\" viewBox=\"0 0 32 32\">\n",
       "<path d=\"M16 0c-8.837 0-16 2.239-16 5v4c0 2.761 7.163 5 16 5s16-2.239 16-5v-4c0-2.761-7.163-5-16-5z\"></path>\n",
       "<path d=\"M16 17c-8.837 0-16-2.239-16-5v6c0 2.761 7.163 5 16 5s16-2.239 16-5v-6c0 2.761-7.163 5-16 5z\"></path>\n",
       "<path d=\"M16 26c-8.837 0-16-2.239-16-5v6c0 2.761 7.163 5 16 5s16-2.239 16-5v-6c0 2.761-7.163 5-16 5z\"></path>\n",
       "</symbol>\n",
       "<symbol id=\"icon-file-text2\" viewBox=\"0 0 32 32\">\n",
       "<path d=\"M28.681 7.159c-0.694-0.947-1.662-2.053-2.724-3.116s-2.169-2.030-3.116-2.724c-1.612-1.182-2.393-1.319-2.841-1.319h-15.5c-1.378 0-2.5 1.121-2.5 2.5v27c0 1.378 1.122 2.5 2.5 2.5h23c1.378 0 2.5-1.122 2.5-2.5v-19.5c0-0.448-0.137-1.23-1.319-2.841zM24.543 5.457c0.959 0.959 1.712 1.825 2.268 2.543h-4.811v-4.811c0.718 0.556 1.584 1.309 2.543 2.268zM28 29.5c0 0.271-0.229 0.5-0.5 0.5h-23c-0.271 0-0.5-0.229-0.5-0.5v-27c0-0.271 0.229-0.5 0.5-0.5 0 0 15.499-0 15.5 0v7c0 0.552 0.448 1 1 1h7v19.5z\"></path>\n",
       "<path d=\"M23 26h-14c-0.552 0-1-0.448-1-1s0.448-1 1-1h14c0.552 0 1 0.448 1 1s-0.448 1-1 1z\"></path>\n",
       "<path d=\"M23 22h-14c-0.552 0-1-0.448-1-1s0.448-1 1-1h14c0.552 0 1 0.448 1 1s-0.448 1-1 1z\"></path>\n",
       "<path d=\"M23 18h-14c-0.552 0-1-0.448-1-1s0.448-1 1-1h14c0.552 0 1 0.448 1 1s-0.448 1-1 1z\"></path>\n",
       "</symbol>\n",
       "</defs>\n",
       "</svg>\n",
       "<style>/* CSS stylesheet for displaying xarray objects in jupyterlab.\n",
       " *\n",
       " */\n",
       "\n",
       ":root {\n",
       "  --xr-font-color0: var(--jp-content-font-color0, rgba(0, 0, 0, 1));\n",
       "  --xr-font-color2: var(--jp-content-font-color2, rgba(0, 0, 0, 0.54));\n",
       "  --xr-font-color3: var(--jp-content-font-color3, rgba(0, 0, 0, 0.38));\n",
       "  --xr-border-color: var(--jp-border-color2, #e0e0e0);\n",
       "  --xr-disabled-color: var(--jp-layout-color3, #bdbdbd);\n",
       "  --xr-background-color: var(--jp-layout-color0, white);\n",
       "  --xr-background-color-row-even: var(--jp-layout-color1, white);\n",
       "  --xr-background-color-row-odd: var(--jp-layout-color2, #eeeeee);\n",
       "}\n",
       "\n",
       "html[theme=dark],\n",
       "body[data-theme=dark],\n",
       "body.vscode-dark {\n",
       "  --xr-font-color0: rgba(255, 255, 255, 1);\n",
       "  --xr-font-color2: rgba(255, 255, 255, 0.54);\n",
       "  --xr-font-color3: rgba(255, 255, 255, 0.38);\n",
       "  --xr-border-color: #1F1F1F;\n",
       "  --xr-disabled-color: #515151;\n",
       "  --xr-background-color: #111111;\n",
       "  --xr-background-color-row-even: #111111;\n",
       "  --xr-background-color-row-odd: #313131;\n",
       "}\n",
       "\n",
       ".xr-wrap {\n",
       "  display: block !important;\n",
       "  min-width: 300px;\n",
       "  max-width: 700px;\n",
       "}\n",
       "\n",
       ".xr-text-repr-fallback {\n",
       "  /* fallback to plain text repr when CSS is not injected (untrusted notebook) */\n",
       "  display: none;\n",
       "}\n",
       "\n",
       ".xr-header {\n",
       "  padding-top: 6px;\n",
       "  padding-bottom: 6px;\n",
       "  margin-bottom: 4px;\n",
       "  border-bottom: solid 1px var(--xr-border-color);\n",
       "}\n",
       "\n",
       ".xr-header > div,\n",
       ".xr-header > ul {\n",
       "  display: inline;\n",
       "  margin-top: 0;\n",
       "  margin-bottom: 0;\n",
       "}\n",
       "\n",
       ".xr-obj-type,\n",
       ".xr-array-name {\n",
       "  margin-left: 2px;\n",
       "  margin-right: 10px;\n",
       "}\n",
       "\n",
       ".xr-obj-type {\n",
       "  color: var(--xr-font-color2);\n",
       "}\n",
       "\n",
       ".xr-sections {\n",
       "  padding-left: 0 !important;\n",
       "  display: grid;\n",
       "  grid-template-columns: 150px auto auto 1fr 20px 20px;\n",
       "}\n",
       "\n",
       ".xr-section-item {\n",
       "  display: contents;\n",
       "}\n",
       "\n",
       ".xr-section-item input {\n",
       "  display: none;\n",
       "}\n",
       "\n",
       ".xr-section-item input + label {\n",
       "  color: var(--xr-disabled-color);\n",
       "}\n",
       "\n",
       ".xr-section-item input:enabled + label {\n",
       "  cursor: pointer;\n",
       "  color: var(--xr-font-color2);\n",
       "}\n",
       "\n",
       ".xr-section-item input:enabled + label:hover {\n",
       "  color: var(--xr-font-color0);\n",
       "}\n",
       "\n",
       ".xr-section-summary {\n",
       "  grid-column: 1;\n",
       "  color: var(--xr-font-color2);\n",
       "  font-weight: 500;\n",
       "}\n",
       "\n",
       ".xr-section-summary > span {\n",
       "  display: inline-block;\n",
       "  padding-left: 0.5em;\n",
       "}\n",
       "\n",
       ".xr-section-summary-in:disabled + label {\n",
       "  color: var(--xr-font-color2);\n",
       "}\n",
       "\n",
       ".xr-section-summary-in + label:before {\n",
       "  display: inline-block;\n",
       "  content: '►';\n",
       "  font-size: 11px;\n",
       "  width: 15px;\n",
       "  text-align: center;\n",
       "}\n",
       "\n",
       ".xr-section-summary-in:disabled + label:before {\n",
       "  color: var(--xr-disabled-color);\n",
       "}\n",
       "\n",
       ".xr-section-summary-in:checked + label:before {\n",
       "  content: '▼';\n",
       "}\n",
       "\n",
       ".xr-section-summary-in:checked + label > span {\n",
       "  display: none;\n",
       "}\n",
       "\n",
       ".xr-section-summary,\n",
       ".xr-section-inline-details {\n",
       "  padding-top: 4px;\n",
       "  padding-bottom: 4px;\n",
       "}\n",
       "\n",
       ".xr-section-inline-details {\n",
       "  grid-column: 2 / -1;\n",
       "}\n",
       "\n",
       ".xr-section-details {\n",
       "  display: none;\n",
       "  grid-column: 1 / -1;\n",
       "  margin-bottom: 5px;\n",
       "}\n",
       "\n",
       ".xr-section-summary-in:checked ~ .xr-section-details {\n",
       "  display: contents;\n",
       "}\n",
       "\n",
       ".xr-array-wrap {\n",
       "  grid-column: 1 / -1;\n",
       "  display: grid;\n",
       "  grid-template-columns: 20px auto;\n",
       "}\n",
       "\n",
       ".xr-array-wrap > label {\n",
       "  grid-column: 1;\n",
       "  vertical-align: top;\n",
       "}\n",
       "\n",
       ".xr-preview {\n",
       "  color: var(--xr-font-color3);\n",
       "}\n",
       "\n",
       ".xr-array-preview,\n",
       ".xr-array-data {\n",
       "  padding: 0 5px !important;\n",
       "  grid-column: 2;\n",
       "}\n",
       "\n",
       ".xr-array-data,\n",
       ".xr-array-in:checked ~ .xr-array-preview {\n",
       "  display: none;\n",
       "}\n",
       "\n",
       ".xr-array-in:checked ~ .xr-array-data,\n",
       ".xr-array-preview {\n",
       "  display: inline-block;\n",
       "}\n",
       "\n",
       ".xr-dim-list {\n",
       "  display: inline-block !important;\n",
       "  list-style: none;\n",
       "  padding: 0 !important;\n",
       "  margin: 0;\n",
       "}\n",
       "\n",
       ".xr-dim-list li {\n",
       "  display: inline-block;\n",
       "  padding: 0;\n",
       "  margin: 0;\n",
       "}\n",
       "\n",
       ".xr-dim-list:before {\n",
       "  content: '(';\n",
       "}\n",
       "\n",
       ".xr-dim-list:after {\n",
       "  content: ')';\n",
       "}\n",
       "\n",
       ".xr-dim-list li:not(:last-child):after {\n",
       "  content: ',';\n",
       "  padding-right: 5px;\n",
       "}\n",
       "\n",
       ".xr-has-index {\n",
       "  font-weight: bold;\n",
       "}\n",
       "\n",
       ".xr-var-list,\n",
       ".xr-var-item {\n",
       "  display: contents;\n",
       "}\n",
       "\n",
       ".xr-var-item > div,\n",
       ".xr-var-item label,\n",
       ".xr-var-item > .xr-var-name span {\n",
       "  background-color: var(--xr-background-color-row-even);\n",
       "  margin-bottom: 0;\n",
       "}\n",
       "\n",
       ".xr-var-item > .xr-var-name:hover span {\n",
       "  padding-right: 5px;\n",
       "}\n",
       "\n",
       ".xr-var-list > li:nth-child(odd) > div,\n",
       ".xr-var-list > li:nth-child(odd) > label,\n",
       ".xr-var-list > li:nth-child(odd) > .xr-var-name span {\n",
       "  background-color: var(--xr-background-color-row-odd);\n",
       "}\n",
       "\n",
       ".xr-var-name {\n",
       "  grid-column: 1;\n",
       "}\n",
       "\n",
       ".xr-var-dims {\n",
       "  grid-column: 2;\n",
       "}\n",
       "\n",
       ".xr-var-dtype {\n",
       "  grid-column: 3;\n",
       "  text-align: right;\n",
       "  color: var(--xr-font-color2);\n",
       "}\n",
       "\n",
       ".xr-var-preview {\n",
       "  grid-column: 4;\n",
       "}\n",
       "\n",
       ".xr-index-preview {\n",
       "  grid-column: 2 / 5;\n",
       "  color: var(--xr-font-color2);\n",
       "}\n",
       "\n",
       ".xr-var-name,\n",
       ".xr-var-dims,\n",
       ".xr-var-dtype,\n",
       ".xr-preview,\n",
       ".xr-attrs dt {\n",
       "  white-space: nowrap;\n",
       "  overflow: hidden;\n",
       "  text-overflow: ellipsis;\n",
       "  padding-right: 10px;\n",
       "}\n",
       "\n",
       ".xr-var-name:hover,\n",
       ".xr-var-dims:hover,\n",
       ".xr-var-dtype:hover,\n",
       ".xr-attrs dt:hover {\n",
       "  overflow: visible;\n",
       "  width: auto;\n",
       "  z-index: 1;\n",
       "}\n",
       "\n",
       ".xr-var-attrs,\n",
       ".xr-var-data,\n",
       ".xr-index-data {\n",
       "  display: none;\n",
       "  background-color: var(--xr-background-color) !important;\n",
       "  padding-bottom: 5px !important;\n",
       "}\n",
       "\n",
       ".xr-var-attrs-in:checked ~ .xr-var-attrs,\n",
       ".xr-var-data-in:checked ~ .xr-var-data,\n",
       ".xr-index-data-in:checked ~ .xr-index-data {\n",
       "  display: block;\n",
       "}\n",
       "\n",
       ".xr-var-data > table {\n",
       "  float: right;\n",
       "}\n",
       "\n",
       ".xr-var-name span,\n",
       ".xr-var-data,\n",
       ".xr-index-name div,\n",
       ".xr-index-data,\n",
       ".xr-attrs {\n",
       "  padding-left: 25px !important;\n",
       "}\n",
       "\n",
       ".xr-attrs,\n",
       ".xr-var-attrs,\n",
       ".xr-var-data,\n",
       ".xr-index-data {\n",
       "  grid-column: 1 / -1;\n",
       "}\n",
       "\n",
       "dl.xr-attrs {\n",
       "  padding: 0;\n",
       "  margin: 0;\n",
       "  display: grid;\n",
       "  grid-template-columns: 125px auto;\n",
       "}\n",
       "\n",
       ".xr-attrs dt,\n",
       ".xr-attrs dd {\n",
       "  padding: 0;\n",
       "  margin: 0;\n",
       "  float: left;\n",
       "  padding-right: 10px;\n",
       "  width: auto;\n",
       "}\n",
       "\n",
       ".xr-attrs dt {\n",
       "  font-weight: normal;\n",
       "  grid-column: 1;\n",
       "}\n",
       "\n",
       ".xr-attrs dt:hover span {\n",
       "  display: inline-block;\n",
       "  background: var(--xr-background-color);\n",
       "  padding-right: 10px;\n",
       "}\n",
       "\n",
       ".xr-attrs dd {\n",
       "  grid-column: 2;\n",
       "  white-space: pre-wrap;\n",
       "  word-break: break-all;\n",
       "}\n",
       "\n",
       ".xr-icon-database,\n",
       ".xr-icon-file-text2,\n",
       ".xr-no-icon {\n",
       "  display: inline-block;\n",
       "  vertical-align: middle;\n",
       "  width: 1em;\n",
       "  height: 1.5em !important;\n",
       "  stroke-width: 0;\n",
       "  stroke: currentColor;\n",
       "  fill: currentColor;\n",
       "}\n",
       "</style><pre class='xr-text-repr-fallback'>&lt;xarray.Dataset&gt; Size: 41MB\n",
       "Dimensions:        (chain: 4, draw: 2000, W_dim_0: 10, W_dim_1: 3,\n",
       "                    beta_dim_0: 3, beta_dim_1: 20, beta_dim_2: 21)\n",
       "Coordinates:\n",
       "  * chain          (chain) int64 32B 0 1 2 3\n",
       "  * draw           (draw) int64 16kB 0 1 2 3 4 5 ... 1995 1996 1997 1998 1999\n",
       "  * W_dim_0        (W_dim_0) int64 80B 0 1 2 3 4 5 6 7 8 9\n",
       "  * W_dim_1        (W_dim_1) int64 24B 0 1 2\n",
       "  * beta_dim_0     (beta_dim_0) int64 24B 0 1 2\n",
       "  * beta_dim_1     (beta_dim_1) int64 160B 0 1 2 3 4 5 6 ... 14 15 16 17 18 19\n",
       "  * beta_dim_2     (beta_dim_2) int64 168B 0 1 2 3 4 5 6 ... 15 16 17 18 19 20\n",
       "Data variables:\n",
       "    W              (chain, draw, W_dim_0, W_dim_1) float32 960kB 0.8643 ... 0...\n",
       "    beta           (chain, draw, beta_dim_0, beta_dim_1, beta_dim_2) float32 40MB ...\n",
       "    sigma_dbpm     (chain, draw) float32 32kB 32.3 32.35 32.13 ... 31.99 32.23\n",
       "    sigma_log_min  (chain, draw) float32 32kB 1.216 1.205 1.201 ... 1.214 1.206\n",
       "    sigma_obpm     (chain, draw) float32 32kB 58.38 58.4 58.41 ... 58.0 57.95\n",
       "Attributes:\n",
       "    created_at:     2024-06-18T19:39:12.005808+00:00\n",
       "    arviz_version:  0.18.0</pre><div class='xr-wrap' style='display:none'><div class='xr-header'><div class='xr-obj-type'>xarray.Dataset</div></div><ul class='xr-sections'><li class='xr-section-item'><input id='section-a747bbd0-f65b-418a-86a5-a995e9fd09d7' class='xr-section-summary-in' type='checkbox' disabled ><label for='section-a747bbd0-f65b-418a-86a5-a995e9fd09d7' class='xr-section-summary'  title='Expand/collapse section'>Dimensions:</label><div class='xr-section-inline-details'><ul class='xr-dim-list'><li><span class='xr-has-index'>chain</span>: 4</li><li><span class='xr-has-index'>draw</span>: 2000</li><li><span class='xr-has-index'>W_dim_0</span>: 10</li><li><span class='xr-has-index'>W_dim_1</span>: 3</li><li><span class='xr-has-index'>beta_dim_0</span>: 3</li><li><span class='xr-has-index'>beta_dim_1</span>: 20</li><li><span class='xr-has-index'>beta_dim_2</span>: 21</li></ul></div><div class='xr-section-details'></div></li><li class='xr-section-item'><input id='section-66b6c209-c1b8-4a16-8bbd-6b2cf9b1d786' class='xr-section-summary-in' type='checkbox'  checked><label for='section-66b6c209-c1b8-4a16-8bbd-6b2cf9b1d786' class='xr-section-summary' >Coordinates: <span>(7)</span></label><div class='xr-section-inline-details'></div><div class='xr-section-details'><ul class='xr-var-list'><li class='xr-var-item'><div class='xr-var-name'><span class='xr-has-index'>chain</span></div><div class='xr-var-dims'>(chain)</div><div class='xr-var-dtype'>int64</div><div class='xr-var-preview xr-preview'>0 1 2 3</div><input id='attrs-384f6280-3621-4a04-992b-48425a271582' class='xr-var-attrs-in' type='checkbox' disabled><label for='attrs-384f6280-3621-4a04-992b-48425a271582' title='Show/Hide attributes'><svg class='icon xr-icon-file-text2'><use xlink:href='#icon-file-text2'></use></svg></label><input id='data-08aa2a52-2957-428a-8568-5f9aae32329a' class='xr-var-data-in' type='checkbox'><label for='data-08aa2a52-2957-428a-8568-5f9aae32329a' title='Show/Hide data repr'><svg class='icon xr-icon-database'><use xlink:href='#icon-database'></use></svg></label><div class='xr-var-attrs'><dl class='xr-attrs'></dl></div><div class='xr-var-data'><pre>array([0, 1, 2, 3])</pre></div></li><li class='xr-var-item'><div class='xr-var-name'><span class='xr-has-index'>draw</span></div><div class='xr-var-dims'>(draw)</div><div class='xr-var-dtype'>int64</div><div class='xr-var-preview xr-preview'>0 1 2 3 4 ... 1996 1997 1998 1999</div><input id='attrs-ccb46e26-b933-4f80-9d73-1bed05299151' class='xr-var-attrs-in' type='checkbox' disabled><label for='attrs-ccb46e26-b933-4f80-9d73-1bed05299151' title='Show/Hide attributes'><svg class='icon xr-icon-file-text2'><use xlink:href='#icon-file-text2'></use></svg></label><input id='data-7800708f-4efe-4228-82ce-2fbbe44f4e12' class='xr-var-data-in' type='checkbox'><label for='data-7800708f-4efe-4228-82ce-2fbbe44f4e12' title='Show/Hide data repr'><svg class='icon xr-icon-database'><use xlink:href='#icon-database'></use></svg></label><div class='xr-var-attrs'><dl class='xr-attrs'></dl></div><div class='xr-var-data'><pre>array([   0,    1,    2, ..., 1997, 1998, 1999])</pre></div></li><li class='xr-var-item'><div class='xr-var-name'><span class='xr-has-index'>W_dim_0</span></div><div class='xr-var-dims'>(W_dim_0)</div><div class='xr-var-dtype'>int64</div><div class='xr-var-preview xr-preview'>0 1 2 3 4 5 6 7 8 9</div><input id='attrs-232c3863-4ae7-42b3-afea-e262e85b5888' class='xr-var-attrs-in' type='checkbox' disabled><label for='attrs-232c3863-4ae7-42b3-afea-e262e85b5888' title='Show/Hide attributes'><svg class='icon xr-icon-file-text2'><use xlink:href='#icon-file-text2'></use></svg></label><input id='data-8154bb37-b82e-4a59-97cd-e29984e15ed9' class='xr-var-data-in' type='checkbox'><label for='data-8154bb37-b82e-4a59-97cd-e29984e15ed9' title='Show/Hide data repr'><svg class='icon xr-icon-database'><use xlink:href='#icon-database'></use></svg></label><div class='xr-var-attrs'><dl class='xr-attrs'></dl></div><div class='xr-var-data'><pre>array([0, 1, 2, 3, 4, 5, 6, 7, 8, 9])</pre></div></li><li class='xr-var-item'><div class='xr-var-name'><span class='xr-has-index'>W_dim_1</span></div><div class='xr-var-dims'>(W_dim_1)</div><div class='xr-var-dtype'>int64</div><div class='xr-var-preview xr-preview'>0 1 2</div><input id='attrs-35930673-e18b-4c44-bad2-6dcb1b761383' class='xr-var-attrs-in' type='checkbox' disabled><label for='attrs-35930673-e18b-4c44-bad2-6dcb1b761383' title='Show/Hide attributes'><svg class='icon xr-icon-file-text2'><use xlink:href='#icon-file-text2'></use></svg></label><input id='data-d80e96d3-e42d-4f65-b42b-363074ddad71' class='xr-var-data-in' type='checkbox'><label for='data-d80e96d3-e42d-4f65-b42b-363074ddad71' title='Show/Hide data repr'><svg class='icon xr-icon-database'><use xlink:href='#icon-database'></use></svg></label><div class='xr-var-attrs'><dl class='xr-attrs'></dl></div><div class='xr-var-data'><pre>array([0, 1, 2])</pre></div></li><li class='xr-var-item'><div class='xr-var-name'><span class='xr-has-index'>beta_dim_0</span></div><div class='xr-var-dims'>(beta_dim_0)</div><div class='xr-var-dtype'>int64</div><div class='xr-var-preview xr-preview'>0 1 2</div><input id='attrs-b83f93f8-6449-4b9e-b9fc-e31db6008917' class='xr-var-attrs-in' type='checkbox' disabled><label for='attrs-b83f93f8-6449-4b9e-b9fc-e31db6008917' title='Show/Hide attributes'><svg class='icon xr-icon-file-text2'><use xlink:href='#icon-file-text2'></use></svg></label><input id='data-f94070ab-bc53-4bca-8213-5c6d107a032c' class='xr-var-data-in' type='checkbox'><label for='data-f94070ab-bc53-4bca-8213-5c6d107a032c' title='Show/Hide data repr'><svg class='icon xr-icon-database'><use xlink:href='#icon-database'></use></svg></label><div class='xr-var-attrs'><dl class='xr-attrs'></dl></div><div class='xr-var-data'><pre>array([0, 1, 2])</pre></div></li><li class='xr-var-item'><div class='xr-var-name'><span class='xr-has-index'>beta_dim_1</span></div><div class='xr-var-dims'>(beta_dim_1)</div><div class='xr-var-dtype'>int64</div><div class='xr-var-preview xr-preview'>0 1 2 3 4 5 6 ... 14 15 16 17 18 19</div><input id='attrs-643795b8-a95d-4fdf-9f63-42e83faaf32a' class='xr-var-attrs-in' type='checkbox' disabled><label for='attrs-643795b8-a95d-4fdf-9f63-42e83faaf32a' title='Show/Hide attributes'><svg class='icon xr-icon-file-text2'><use xlink:href='#icon-file-text2'></use></svg></label><input id='data-c73b14e5-4440-4c06-bdbc-45db253ec1a4' class='xr-var-data-in' type='checkbox'><label for='data-c73b14e5-4440-4c06-bdbc-45db253ec1a4' title='Show/Hide data repr'><svg class='icon xr-icon-database'><use xlink:href='#icon-database'></use></svg></label><div class='xr-var-attrs'><dl class='xr-attrs'></dl></div><div class='xr-var-data'><pre>array([ 0,  1,  2,  3,  4,  5,  6,  7,  8,  9, 10, 11, 12, 13, 14, 15, 16, 17,\n",
       "       18, 19])</pre></div></li><li class='xr-var-item'><div class='xr-var-name'><span class='xr-has-index'>beta_dim_2</span></div><div class='xr-var-dims'>(beta_dim_2)</div><div class='xr-var-dtype'>int64</div><div class='xr-var-preview xr-preview'>0 1 2 3 4 5 6 ... 15 16 17 18 19 20</div><input id='attrs-ba7b188a-eb3c-4ed0-86ef-e5fe0a918493' class='xr-var-attrs-in' type='checkbox' disabled><label for='attrs-ba7b188a-eb3c-4ed0-86ef-e5fe0a918493' title='Show/Hide attributes'><svg class='icon xr-icon-file-text2'><use xlink:href='#icon-file-text2'></use></svg></label><input id='data-ff863f3c-a728-4d00-89be-f39d89a5293d' class='xr-var-data-in' type='checkbox'><label for='data-ff863f3c-a728-4d00-89be-f39d89a5293d' title='Show/Hide data repr'><svg class='icon xr-icon-database'><use xlink:href='#icon-database'></use></svg></label><div class='xr-var-attrs'><dl class='xr-attrs'></dl></div><div class='xr-var-data'><pre>array([ 0,  1,  2,  3,  4,  5,  6,  7,  8,  9, 10, 11, 12, 13, 14, 15, 16, 17,\n",
       "       18, 19, 20])</pre></div></li></ul></div></li><li class='xr-section-item'><input id='section-d803d959-51f4-435a-a48e-bdbf9ddf68d6' class='xr-section-summary-in' type='checkbox'  checked><label for='section-d803d959-51f4-435a-a48e-bdbf9ddf68d6' class='xr-section-summary' >Data variables: <span>(5)</span></label><div class='xr-section-inline-details'></div><div class='xr-section-details'><ul class='xr-var-list'><li class='xr-var-item'><div class='xr-var-name'><span>W</span></div><div class='xr-var-dims'>(chain, draw, W_dim_0, W_dim_1)</div><div class='xr-var-dtype'>float32</div><div class='xr-var-preview xr-preview'>0.8643 1.457 ... 0.01587 0.2568</div><input id='attrs-30e8c22a-927c-4cad-b2b7-536737c29719' class='xr-var-attrs-in' type='checkbox' disabled><label for='attrs-30e8c22a-927c-4cad-b2b7-536737c29719' title='Show/Hide attributes'><svg class='icon xr-icon-file-text2'><use xlink:href='#icon-file-text2'></use></svg></label><input id='data-141d6e8a-b0a7-4e51-95c3-9ca32ff15f73' class='xr-var-data-in' type='checkbox'><label for='data-141d6e8a-b0a7-4e51-95c3-9ca32ff15f73' title='Show/Hide data repr'><svg class='icon xr-icon-database'><use xlink:href='#icon-database'></use></svg></label><div class='xr-var-attrs'><dl class='xr-attrs'></dl></div><div class='xr-var-data'><pre>array([[[[ 0.8642972 ,  1.4574172 , -0.9874488 ],\n",
       "         [ 0.5564207 ,  0.28953752,  0.290034  ],\n",
       "         [ 1.1588044 ,  0.7218068 ,  0.27198726],\n",
       "         ...,\n",
       "         [-0.16982575, -0.0677501 ,  0.10046701],\n",
       "         [-0.18062955, -0.9178006 , -0.14646897],\n",
       "         [-0.7246744 ,  0.80371094,  0.98511636]],\n",
       "\n",
       "        [[ 0.83005136,  1.4755989 , -0.99059165],\n",
       "         [ 0.53529906,  0.26710156,  0.24981874],\n",
       "         [ 1.0850704 ,  0.5943948 ,  0.2536669 ],\n",
       "         ...,\n",
       "         [-0.3271702 , -0.20881335,  0.16884413],\n",
       "         [-0.00582437, -0.9648644 , -0.2657693 ],\n",
       "         [-0.66307443,  0.91144127,  0.9355607 ]],\n",
       "\n",
       "        [[ 0.9210811 ,  1.5170349 , -1.0102997 ],\n",
       "         [ 0.52746576,  0.27922285,  0.18443583],\n",
       "         [ 1.0540893 ,  0.66304296,  0.22137322],\n",
       "         ...,\n",
       "...\n",
       "         ...,\n",
       "         [ 0.8616605 ,  1.5037585 , -0.9800871 ],\n",
       "         [ 0.5670683 , -0.7205276 ,  0.3986241 ],\n",
       "         [-0.15467785,  0.33278605,  0.01647982]],\n",
       "\n",
       "        [[ 0.12960112,  0.14025879,  0.12656198],\n",
       "         [-0.01584247,  0.31659314,  0.01938588],\n",
       "         [-0.0820595 ,  0.451389  ,  0.20396675],\n",
       "         ...,\n",
       "         [ 0.78004324,  1.5011255 , -0.83340126],\n",
       "         [ 0.5368583 , -0.902461  ,  0.4604926 ],\n",
       "         [-0.10154339, -0.06907965,  0.309987  ]],\n",
       "\n",
       "        [[ 0.1883821 ,  0.00546009,  0.15139818],\n",
       "         [-0.12953639,  0.077909  , -0.19234647],\n",
       "         [-0.16399984,  0.59679925,  0.21198553],\n",
       "         ...,\n",
       "         [ 0.6853882 ,  1.4493427 , -0.9959228 ],\n",
       "         [ 0.5521689 , -0.81434244,  0.3641394 ],\n",
       "         [-0.1215482 ,  0.01586596,  0.25677928]]]], dtype=float32)</pre></div></li><li class='xr-var-item'><div class='xr-var-name'><span>beta</span></div><div class='xr-var-dims'>(chain, draw, beta_dim_0, beta_dim_1, beta_dim_2)</div><div class='xr-var-dtype'>float32</div><div class='xr-var-preview xr-preview'>-0.4934 -2.402 ... 0.6577 0.579</div><input id='attrs-c2fb1948-b109-4b71-92f1-e3570e4070f1' class='xr-var-attrs-in' type='checkbox' disabled><label for='attrs-c2fb1948-b109-4b71-92f1-e3570e4070f1' title='Show/Hide attributes'><svg class='icon xr-icon-file-text2'><use xlink:href='#icon-file-text2'></use></svg></label><input id='data-311d604f-0e1c-4766-a077-aa51ca224742' class='xr-var-data-in' type='checkbox'><label for='data-311d604f-0e1c-4766-a077-aa51ca224742' title='Show/Hide data repr'><svg class='icon xr-icon-database'><use xlink:href='#icon-database'></use></svg></label><div class='xr-var-attrs'><dl class='xr-attrs'></dl></div><div class='xr-var-data'><pre>array([[[[[-4.93400931e-01, -2.40186095e+00, -1.19676352e+00, ...,\n",
       "           -3.70752096e-01,  8.58937025e-01,  3.99956673e-01],\n",
       "          [ 1.30405974e+00,  2.31980634e+00,  1.04074442e+00, ...,\n",
       "            1.56236911e+00,  2.11986232e+00,  3.09717846e+00],\n",
       "          [ 2.33472037e+00,  1.51925540e+00,  1.38437462e+00, ...,\n",
       "            1.60734236e+00,  1.03729951e+00,  9.23246801e-01],\n",
       "          ...,\n",
       "          [ 2.66960293e-01, -1.18265891e+00,  4.12302673e-01, ...,\n",
       "            8.75479221e-01,  5.16224027e-01, -6.17704272e-01],\n",
       "          [ 9.50799108e-01,  1.08362889e+00,  2.42698789e+00, ...,\n",
       "            2.08369660e+00,  9.98341441e-01,  4.28677940e+00],\n",
       "          [-1.94019294e+00, -2.05321789e+00, -1.21977174e+00, ...,\n",
       "           -1.16333711e+00, -2.06689167e+00, -2.01332045e+00]],\n",
       "\n",
       "         [[ 1.56150663e+00, -1.28747118e+00, -7.31901228e-01, ...,\n",
       "           -1.45839524e+00, -1.00078297e+00, -1.25524580e+00],\n",
       "          [-1.92430043e+00,  7.55776167e-01, -3.47265542e-01, ...,\n",
       "           -7.90261030e-01, -1.09831452e+00,  6.69793427e-01],\n",
       "          [ 8.01336527e-01, -6.87456951e-02, -8.44656676e-02, ...,\n",
       "           -1.71652481e-01, -1.40775347e+00, -2.85961199e+00],\n",
       "...\n",
       "            4.95725006e-01,  6.21973097e-01,  2.07522750e+00],\n",
       "          [ 8.55093062e-01,  7.44779348e-01,  1.14926779e+00, ...,\n",
       "           -1.70206690e+00, -9.90795732e-01,  1.96303397e-01],\n",
       "          [ 1.84179410e-01, -1.22910583e+00, -1.22678733e+00, ...,\n",
       "           -1.40091336e+00, -4.05257583e-01, -8.87617946e-01]],\n",
       "\n",
       "         [[-3.23893398e-01, -1.96371868e-01, -1.45318663e+00, ...,\n",
       "            2.03850344e-01,  2.01335835e+00, -1.24862838e+00],\n",
       "          [ 9.71684158e-01, -2.04599068e-01,  4.16728824e-01, ...,\n",
       "            3.01840365e-01, -1.72613096e+00, -2.29572952e-01],\n",
       "          [-2.89217085e-01, -2.09547925e+00, -7.68393874e-01, ...,\n",
       "           -8.33293080e-01, -1.10232806e+00, -4.20501173e-01],\n",
       "          ...,\n",
       "          [ 1.36842060e+00,  3.36158216e-01, -1.85556456e-01, ...,\n",
       "           -6.62920594e-01, -9.20783639e-01, -5.28257132e-01],\n",
       "          [-1.62126076e+00, -1.33651865e+00,  4.93455827e-01, ...,\n",
       "           -8.92206013e-01, -7.44621754e-01,  1.19813740e+00],\n",
       "          [ 9.13126290e-01, -1.71014261e+00, -4.74810243e-01, ...,\n",
       "            1.82277232e-01,  6.57658339e-01,  5.78975379e-01]]]]],\n",
       "      dtype=float32)</pre></div></li><li class='xr-var-item'><div class='xr-var-name'><span>sigma_dbpm</span></div><div class='xr-var-dims'>(chain, draw)</div><div class='xr-var-dtype'>float32</div><div class='xr-var-preview xr-preview'>32.3 32.35 32.13 ... 31.99 32.23</div><input id='attrs-8a9603a3-784c-44bb-95c8-0bf01f48961c' class='xr-var-attrs-in' type='checkbox' disabled><label for='attrs-8a9603a3-784c-44bb-95c8-0bf01f48961c' title='Show/Hide attributes'><svg class='icon xr-icon-file-text2'><use xlink:href='#icon-file-text2'></use></svg></label><input id='data-5548d7f8-5e68-4d97-9ba9-cca79cba298d' class='xr-var-data-in' type='checkbox'><label for='data-5548d7f8-5e68-4d97-9ba9-cca79cba298d' title='Show/Hide data repr'><svg class='icon xr-icon-database'><use xlink:href='#icon-database'></use></svg></label><div class='xr-var-attrs'><dl class='xr-attrs'></dl></div><div class='xr-var-data'><pre>array([[32.299667, 32.350224, 32.125397, ..., 32.46421 , 32.36985 ,\n",
       "        31.908775],\n",
       "       [31.697023, 32.327164, 31.789772, ..., 32.367264, 31.841557,\n",
       "        32.194958],\n",
       "       [32.389297, 32.081173, 32.444866, ..., 31.829998, 32.14774 ,\n",
       "        32.134068],\n",
       "       [32.244137, 32.14012 , 32.414845, ..., 32.325943, 31.994911,\n",
       "        32.22514 ]], dtype=float32)</pre></div></li><li class='xr-var-item'><div class='xr-var-name'><span>sigma_log_min</span></div><div class='xr-var-dims'>(chain, draw)</div><div class='xr-var-dtype'>float32</div><div class='xr-var-preview xr-preview'>1.216 1.205 1.201 ... 1.214 1.206</div><input id='attrs-1346103f-e682-4461-8556-564c6eed5cde' class='xr-var-attrs-in' type='checkbox' disabled><label for='attrs-1346103f-e682-4461-8556-564c6eed5cde' title='Show/Hide attributes'><svg class='icon xr-icon-file-text2'><use xlink:href='#icon-file-text2'></use></svg></label><input id='data-cd19be31-5e72-476d-a703-5dc70a1f8c94' class='xr-var-data-in' type='checkbox'><label for='data-cd19be31-5e72-476d-a703-5dc70a1f8c94' title='Show/Hide data repr'><svg class='icon xr-icon-database'><use xlink:href='#icon-database'></use></svg></label><div class='xr-var-attrs'><dl class='xr-attrs'></dl></div><div class='xr-var-data'><pre>array([[1.2162324, 1.2047727, 1.2010789, ..., 1.2093445, 1.209812 ,\n",
       "        1.2040982],\n",
       "       [1.2068251, 1.2114018, 1.1993526, ..., 1.2178111, 1.1911101,\n",
       "        1.2074499],\n",
       "       [1.2013773, 1.2172916, 1.2141606, ..., 1.1960661, 1.2099087,\n",
       "        1.1947882],\n",
       "       [1.2145717, 1.21299  , 1.2081186, ..., 1.2052941, 1.2144837,\n",
       "        1.2057041]], dtype=float32)</pre></div></li><li class='xr-var-item'><div class='xr-var-name'><span>sigma_obpm</span></div><div class='xr-var-dims'>(chain, draw)</div><div class='xr-var-dtype'>float32</div><div class='xr-var-preview xr-preview'>58.38 58.4 58.41 ... 58.0 57.95</div><input id='attrs-75049894-204f-47d7-9b2a-f4038a2054ad' class='xr-var-attrs-in' type='checkbox' disabled><label for='attrs-75049894-204f-47d7-9b2a-f4038a2054ad' title='Show/Hide attributes'><svg class='icon xr-icon-file-text2'><use xlink:href='#icon-file-text2'></use></svg></label><input id='data-10a94dc1-ecf5-49a4-8e72-dc091ff5dbf7' class='xr-var-data-in' type='checkbox'><label for='data-10a94dc1-ecf5-49a4-8e72-dc091ff5dbf7' title='Show/Hide data repr'><svg class='icon xr-icon-database'><use xlink:href='#icon-database'></use></svg></label><div class='xr-var-attrs'><dl class='xr-attrs'></dl></div><div class='xr-var-data'><pre>array([[58.382164, 58.39561 , 58.413822, ..., 57.91819 , 57.841682,\n",
       "        58.095684],\n",
       "       [58.55778 , 57.04655 , 58.60868 , ..., 58.54628 , 57.46774 ,\n",
       "        57.56834 ],\n",
       "       [58.212677, 58.185425, 57.479744, ..., 57.44374 , 58.368107,\n",
       "        57.531597],\n",
       "       [58.052734, 57.703613, 58.301567, ..., 57.523506, 58.003174,\n",
       "        57.94863 ]], dtype=float32)</pre></div></li></ul></div></li><li class='xr-section-item'><input id='section-92ec2987-76d6-4e46-8e2f-7e77cb1598d6' class='xr-section-summary-in' type='checkbox'  ><label for='section-92ec2987-76d6-4e46-8e2f-7e77cb1598d6' class='xr-section-summary' >Indexes: <span>(7)</span></label><div class='xr-section-inline-details'></div><div class='xr-section-details'><ul class='xr-var-list'><li class='xr-var-item'><div class='xr-index-name'><div>chain</div></div><div class='xr-index-preview'>PandasIndex</div><div></div><input id='index-8628688c-634f-44bb-8f5c-1d0d9e109751' class='xr-index-data-in' type='checkbox'/><label for='index-8628688c-634f-44bb-8f5c-1d0d9e109751' title='Show/Hide index repr'><svg class='icon xr-icon-database'><use xlink:href='#icon-database'></use></svg></label><div class='xr-index-data'><pre>PandasIndex(Index([0, 1, 2, 3], dtype=&#x27;int64&#x27;, name=&#x27;chain&#x27;))</pre></div></li><li class='xr-var-item'><div class='xr-index-name'><div>draw</div></div><div class='xr-index-preview'>PandasIndex</div><div></div><input id='index-5ef8037a-5031-4d49-8320-efd7341b2b4f' class='xr-index-data-in' type='checkbox'/><label for='index-5ef8037a-5031-4d49-8320-efd7341b2b4f' title='Show/Hide index repr'><svg class='icon xr-icon-database'><use xlink:href='#icon-database'></use></svg></label><div class='xr-index-data'><pre>PandasIndex(Index([   0,    1,    2,    3,    4,    5,    6,    7,    8,    9,\n",
       "       ...\n",
       "       1990, 1991, 1992, 1993, 1994, 1995, 1996, 1997, 1998, 1999],\n",
       "      dtype=&#x27;int64&#x27;, name=&#x27;draw&#x27;, length=2000))</pre></div></li><li class='xr-var-item'><div class='xr-index-name'><div>W_dim_0</div></div><div class='xr-index-preview'>PandasIndex</div><div></div><input id='index-171fbf4e-4a47-4f05-8360-c6f8bf81c154' class='xr-index-data-in' type='checkbox'/><label for='index-171fbf4e-4a47-4f05-8360-c6f8bf81c154' title='Show/Hide index repr'><svg class='icon xr-icon-database'><use xlink:href='#icon-database'></use></svg></label><div class='xr-index-data'><pre>PandasIndex(Index([0, 1, 2, 3, 4, 5, 6, 7, 8, 9], dtype=&#x27;int64&#x27;, name=&#x27;W_dim_0&#x27;))</pre></div></li><li class='xr-var-item'><div class='xr-index-name'><div>W_dim_1</div></div><div class='xr-index-preview'>PandasIndex</div><div></div><input id='index-738792a9-2a74-478b-bcb8-22c77ca23a61' class='xr-index-data-in' type='checkbox'/><label for='index-738792a9-2a74-478b-bcb8-22c77ca23a61' title='Show/Hide index repr'><svg class='icon xr-icon-database'><use xlink:href='#icon-database'></use></svg></label><div class='xr-index-data'><pre>PandasIndex(Index([0, 1, 2], dtype=&#x27;int64&#x27;, name=&#x27;W_dim_1&#x27;))</pre></div></li><li class='xr-var-item'><div class='xr-index-name'><div>beta_dim_0</div></div><div class='xr-index-preview'>PandasIndex</div><div></div><input id='index-cb8f491c-803e-4892-8519-aedfaa04dcfe' class='xr-index-data-in' type='checkbox'/><label for='index-cb8f491c-803e-4892-8519-aedfaa04dcfe' title='Show/Hide index repr'><svg class='icon xr-icon-database'><use xlink:href='#icon-database'></use></svg></label><div class='xr-index-data'><pre>PandasIndex(Index([0, 1, 2], dtype=&#x27;int64&#x27;, name=&#x27;beta_dim_0&#x27;))</pre></div></li><li class='xr-var-item'><div class='xr-index-name'><div>beta_dim_1</div></div><div class='xr-index-preview'>PandasIndex</div><div></div><input id='index-b4ad2840-cd3f-4177-83d1-25d99f86779a' class='xr-index-data-in' type='checkbox'/><label for='index-b4ad2840-cd3f-4177-83d1-25d99f86779a' title='Show/Hide index repr'><svg class='icon xr-icon-database'><use xlink:href='#icon-database'></use></svg></label><div class='xr-index-data'><pre>PandasIndex(Index([0, 1, 2, 3, 4, 5, 6, 7, 8, 9, 10, 11, 12, 13, 14, 15, 16, 17, 18, 19], dtype=&#x27;int64&#x27;, name=&#x27;beta_dim_1&#x27;))</pre></div></li><li class='xr-var-item'><div class='xr-index-name'><div>beta_dim_2</div></div><div class='xr-index-preview'>PandasIndex</div><div></div><input id='index-b55f1f1c-24e3-4bec-8f5a-48e98bd77242' class='xr-index-data-in' type='checkbox'/><label for='index-b55f1f1c-24e3-4bec-8f5a-48e98bd77242' title='Show/Hide index repr'><svg class='icon xr-icon-database'><use xlink:href='#icon-database'></use></svg></label><div class='xr-index-data'><pre>PandasIndex(Index([0, 1, 2, 3, 4, 5, 6, 7, 8, 9, 10, 11, 12, 13, 14, 15, 16, 17, 18, 19,\n",
       "       20],\n",
       "      dtype=&#x27;int64&#x27;, name=&#x27;beta_dim_2&#x27;))</pre></div></li></ul></div></li><li class='xr-section-item'><input id='section-71b88161-0b2f-41c8-a4f4-cc4fa2fe67d7' class='xr-section-summary-in' type='checkbox'  checked><label for='section-71b88161-0b2f-41c8-a4f4-cc4fa2fe67d7' class='xr-section-summary' >Attributes: <span>(2)</span></label><div class='xr-section-inline-details'></div><div class='xr-section-details'><dl class='xr-attrs'><dt><span>created_at :</span></dt><dd>2024-06-18T19:39:12.005808+00:00</dd><dt><span>arviz_version :</span></dt><dd>0.18.0</dd></dl></div></li></ul></div></div><br></div>\n",
       "                      </ul>\n",
       "                  </div>\n",
       "            </li>\n",
       "            \n",
       "              </ul>\n",
       "            </div>\n",
       "            <style> /* CSS stylesheet for displaying InferenceData objects in jupyterlab.\n",
       " *\n",
       " */\n",
       "\n",
       ":root {\n",
       "  --xr-font-color0: var(--jp-content-font-color0, rgba(0, 0, 0, 1));\n",
       "  --xr-font-color2: var(--jp-content-font-color2, rgba(0, 0, 0, 0.54));\n",
       "  --xr-font-color3: var(--jp-content-font-color3, rgba(0, 0, 0, 0.38));\n",
       "  --xr-border-color: var(--jp-border-color2, #e0e0e0);\n",
       "  --xr-disabled-color: var(--jp-layout-color3, #bdbdbd);\n",
       "  --xr-background-color: var(--jp-layout-color0, white);\n",
       "  --xr-background-color-row-even: var(--jp-layout-color1, white);\n",
       "  --xr-background-color-row-odd: var(--jp-layout-color2, #eeeeee);\n",
       "}\n",
       "\n",
       "html[theme=dark],\n",
       "body.vscode-dark {\n",
       "  --xr-font-color0: rgba(255, 255, 255, 1);\n",
       "  --xr-font-color2: rgba(255, 255, 255, 0.54);\n",
       "  --xr-font-color3: rgba(255, 255, 255, 0.38);\n",
       "  --xr-border-color: #1F1F1F;\n",
       "  --xr-disabled-color: #515151;\n",
       "  --xr-background-color: #111111;\n",
       "  --xr-background-color-row-even: #111111;\n",
       "  --xr-background-color-row-odd: #313131;\n",
       "}\n",
       "\n",
       ".xr-wrap {\n",
       "  display: block;\n",
       "  min-width: 300px;\n",
       "  max-width: 700px;\n",
       "}\n",
       "\n",
       ".xr-text-repr-fallback {\n",
       "  /* fallback to plain text repr when CSS is not injected (untrusted notebook) */\n",
       "  display: none;\n",
       "}\n",
       "\n",
       ".xr-header {\n",
       "  padding-top: 6px;\n",
       "  padding-bottom: 6px;\n",
       "  margin-bottom: 4px;\n",
       "  border-bottom: solid 1px var(--xr-border-color);\n",
       "}\n",
       "\n",
       ".xr-header > div,\n",
       ".xr-header > ul {\n",
       "  display: inline;\n",
       "  margin-top: 0;\n",
       "  margin-bottom: 0;\n",
       "}\n",
       "\n",
       ".xr-obj-type,\n",
       ".xr-array-name {\n",
       "  margin-left: 2px;\n",
       "  margin-right: 10px;\n",
       "}\n",
       "\n",
       ".xr-obj-type {\n",
       "  color: var(--xr-font-color2);\n",
       "}\n",
       "\n",
       ".xr-sections {\n",
       "  padding-left: 0 !important;\n",
       "  display: grid;\n",
       "  grid-template-columns: 150px auto auto 1fr 20px 20px;\n",
       "}\n",
       "\n",
       ".xr-sections.group-sections {\n",
       "  grid-template-columns: auto;\n",
       "}\n",
       "\n",
       ".xr-section-item {\n",
       "  display: contents;\n",
       "}\n",
       "\n",
       ".xr-section-item input {\n",
       "  display: none;\n",
       "}\n",
       "\n",
       ".xr-section-item input + label {\n",
       "  color: var(--xr-disabled-color);\n",
       "}\n",
       "\n",
       ".xr-section-item input:enabled + label {\n",
       "  cursor: pointer;\n",
       "  color: var(--xr-font-color2);\n",
       "}\n",
       "\n",
       ".xr-section-item input:enabled + label:hover {\n",
       "  color: var(--xr-font-color0);\n",
       "}\n",
       "\n",
       ".xr-section-summary {\n",
       "  grid-column: 1;\n",
       "  color: var(--xr-font-color2);\n",
       "  font-weight: 500;\n",
       "}\n",
       "\n",
       ".xr-section-summary > span {\n",
       "  display: inline-block;\n",
       "  padding-left: 0.5em;\n",
       "}\n",
       "\n",
       ".xr-section-summary-in:disabled + label {\n",
       "  color: var(--xr-font-color2);\n",
       "}\n",
       "\n",
       ".xr-section-summary-in + label:before {\n",
       "  display: inline-block;\n",
       "  content: '►';\n",
       "  font-size: 11px;\n",
       "  width: 15px;\n",
       "  text-align: center;\n",
       "}\n",
       "\n",
       ".xr-section-summary-in:disabled + label:before {\n",
       "  color: var(--xr-disabled-color);\n",
       "}\n",
       "\n",
       ".xr-section-summary-in:checked + label:before {\n",
       "  content: '▼';\n",
       "}\n",
       "\n",
       ".xr-section-summary-in:checked + label > span {\n",
       "  display: none;\n",
       "}\n",
       "\n",
       ".xr-section-summary,\n",
       ".xr-section-inline-details {\n",
       "  padding-top: 4px;\n",
       "  padding-bottom: 4px;\n",
       "}\n",
       "\n",
       ".xr-section-inline-details {\n",
       "  grid-column: 2 / -1;\n",
       "}\n",
       "\n",
       ".xr-section-details {\n",
       "  display: none;\n",
       "  grid-column: 1 / -1;\n",
       "  margin-bottom: 5px;\n",
       "}\n",
       "\n",
       ".xr-section-summary-in:checked ~ .xr-section-details {\n",
       "  display: contents;\n",
       "}\n",
       "\n",
       ".xr-array-wrap {\n",
       "  grid-column: 1 / -1;\n",
       "  display: grid;\n",
       "  grid-template-columns: 20px auto;\n",
       "}\n",
       "\n",
       ".xr-array-wrap > label {\n",
       "  grid-column: 1;\n",
       "  vertical-align: top;\n",
       "}\n",
       "\n",
       ".xr-preview {\n",
       "  color: var(--xr-font-color3);\n",
       "}\n",
       "\n",
       ".xr-array-preview,\n",
       ".xr-array-data {\n",
       "  padding: 0 5px !important;\n",
       "  grid-column: 2;\n",
       "}\n",
       "\n",
       ".xr-array-data,\n",
       ".xr-array-in:checked ~ .xr-array-preview {\n",
       "  display: none;\n",
       "}\n",
       "\n",
       ".xr-array-in:checked ~ .xr-array-data,\n",
       ".xr-array-preview {\n",
       "  display: inline-block;\n",
       "}\n",
       "\n",
       ".xr-dim-list {\n",
       "  display: inline-block !important;\n",
       "  list-style: none;\n",
       "  padding: 0 !important;\n",
       "  margin: 0;\n",
       "}\n",
       "\n",
       ".xr-dim-list li {\n",
       "  display: inline-block;\n",
       "  padding: 0;\n",
       "  margin: 0;\n",
       "}\n",
       "\n",
       ".xr-dim-list:before {\n",
       "  content: '(';\n",
       "}\n",
       "\n",
       ".xr-dim-list:after {\n",
       "  content: ')';\n",
       "}\n",
       "\n",
       ".xr-dim-list li:not(:last-child):after {\n",
       "  content: ',';\n",
       "  padding-right: 5px;\n",
       "}\n",
       "\n",
       ".xr-has-index {\n",
       "  font-weight: bold;\n",
       "}\n",
       "\n",
       ".xr-var-list,\n",
       ".xr-var-item {\n",
       "  display: contents;\n",
       "}\n",
       "\n",
       ".xr-var-item > div,\n",
       ".xr-var-item label,\n",
       ".xr-var-item > .xr-var-name span {\n",
       "  background-color: var(--xr-background-color-row-even);\n",
       "  margin-bottom: 0;\n",
       "}\n",
       "\n",
       ".xr-var-item > .xr-var-name:hover span {\n",
       "  padding-right: 5px;\n",
       "}\n",
       "\n",
       ".xr-var-list > li:nth-child(odd) > div,\n",
       ".xr-var-list > li:nth-child(odd) > label,\n",
       ".xr-var-list > li:nth-child(odd) > .xr-var-name span {\n",
       "  background-color: var(--xr-background-color-row-odd);\n",
       "}\n",
       "\n",
       ".xr-var-name {\n",
       "  grid-column: 1;\n",
       "}\n",
       "\n",
       ".xr-var-dims {\n",
       "  grid-column: 2;\n",
       "}\n",
       "\n",
       ".xr-var-dtype {\n",
       "  grid-column: 3;\n",
       "  text-align: right;\n",
       "  color: var(--xr-font-color2);\n",
       "}\n",
       "\n",
       ".xr-var-preview {\n",
       "  grid-column: 4;\n",
       "}\n",
       "\n",
       ".xr-var-name,\n",
       ".xr-var-dims,\n",
       ".xr-var-dtype,\n",
       ".xr-preview,\n",
       ".xr-attrs dt {\n",
       "  white-space: nowrap;\n",
       "  overflow: hidden;\n",
       "  text-overflow: ellipsis;\n",
       "  padding-right: 10px;\n",
       "}\n",
       "\n",
       ".xr-var-name:hover,\n",
       ".xr-var-dims:hover,\n",
       ".xr-var-dtype:hover,\n",
       ".xr-attrs dt:hover {\n",
       "  overflow: visible;\n",
       "  width: auto;\n",
       "  z-index: 1;\n",
       "}\n",
       "\n",
       ".xr-var-attrs,\n",
       ".xr-var-data {\n",
       "  display: none;\n",
       "  background-color: var(--xr-background-color) !important;\n",
       "  padding-bottom: 5px !important;\n",
       "}\n",
       "\n",
       ".xr-var-attrs-in:checked ~ .xr-var-attrs,\n",
       ".xr-var-data-in:checked ~ .xr-var-data {\n",
       "  display: block;\n",
       "}\n",
       "\n",
       ".xr-var-data > table {\n",
       "  float: right;\n",
       "}\n",
       "\n",
       ".xr-var-name span,\n",
       ".xr-var-data,\n",
       ".xr-attrs {\n",
       "  padding-left: 25px !important;\n",
       "}\n",
       "\n",
       ".xr-attrs,\n",
       ".xr-var-attrs,\n",
       ".xr-var-data {\n",
       "  grid-column: 1 / -1;\n",
       "}\n",
       "\n",
       "dl.xr-attrs {\n",
       "  padding: 0;\n",
       "  margin: 0;\n",
       "  display: grid;\n",
       "  grid-template-columns: 125px auto;\n",
       "}\n",
       "\n",
       ".xr-attrs dt,\n",
       ".xr-attrs dd {\n",
       "  padding: 0;\n",
       "  margin: 0;\n",
       "  float: left;\n",
       "  padding-right: 10px;\n",
       "  width: auto;\n",
       "}\n",
       "\n",
       ".xr-attrs dt {\n",
       "  font-weight: normal;\n",
       "  grid-column: 1;\n",
       "}\n",
       "\n",
       ".xr-attrs dt:hover span {\n",
       "  display: inline-block;\n",
       "  background: var(--xr-background-color);\n",
       "  padding-right: 10px;\n",
       "}\n",
       "\n",
       ".xr-attrs dd {\n",
       "  grid-column: 2;\n",
       "  white-space: pre-wrap;\n",
       "  word-break: break-all;\n",
       "}\n",
       "\n",
       ".xr-icon-database,\n",
       ".xr-icon-file-text2 {\n",
       "  display: inline-block;\n",
       "  vertical-align: middle;\n",
       "  width: 1em;\n",
       "  height: 1.5em !important;\n",
       "  stroke-width: 0;\n",
       "  stroke: currentColor;\n",
       "  fill: currentColor;\n",
       "}\n",
       ".xr-wrap{width:700px!important;} </style>"
      ],
      "text/plain": [
       "Inference data with groups:\n",
       "\t> posterior"
      ]
     },
     "execution_count": 11,
     "metadata": {},
     "output_type": "execute_result"
    }
   ],
   "source": [
    "inference_data"
   ]
  },
  {
   "cell_type": "code",
   "execution_count": 12,
   "metadata": {},
   "outputs": [],
   "source": [
    "W = results[\"W\"]\n",
    "with open(\"model_output/exponential_cp.pkl\", \"rb\") as f:\n",
    "    results_rflvm = pickle.load(f)\n",
    "f.close()"
   ]
  },
  {
   "cell_type": "code",
   "execution_count": 13,
   "metadata": {},
   "outputs": [
    {
     "data": {
      "text/plain": [
       "(4, 2000, 10, 3)"
      ]
     },
     "execution_count": 13,
     "metadata": {},
     "output_type": "execute_result"
    }
   ],
   "source": [
    "W.shape"
   ]
  },
  {
   "cell_type": "code",
   "execution_count": 14,
   "metadata": {},
   "outputs": [],
   "source": [
    "X = results_rflvm[\"U_auto_loc\"]\n",
    "U, _, _ = np.linalg.svd(X, full_matrices=False)\n",
    "L       = np.linalg.cholesky(np.cov(U.T) + 1e-6 * np.eye(3)).T\n",
    "aligned_X  = np.linalg.solve(L, U.T).T\n",
    "X_tvrflvm_aligned = aligned_X / np.std(X, axis=0)\n",
    "wTx = np.einsum(\"nr,ijmr -> ijnm\", X_tvrflvm_aligned, W)\n",
    "phi = np.concatenate([np.cos(wTx), np.sin(wTx)], -1) * (1/ np.sqrt(100))"
   ]
  },
  {
   "cell_type": "code",
   "execution_count": 15,
   "metadata": {},
   "outputs": [],
   "source": [
    "results[\"phi\"] = phi"
   ]
  },
  {
   "cell_type": "code",
   "execution_count": 16,
   "metadata": {},
   "outputs": [],
   "source": [
    "mu = np.einsum(\"ijnk,ijmkt -> ijmnt\", results[\"phi\"], results[\"beta\"])"
   ]
  },
  {
   "cell_type": "code",
   "execution_count": 19,
   "metadata": {},
   "outputs": [],
   "source": [
    "results[\"mu\"] = mu"
   ]
  },
  {
   "cell_type": "code",
   "execution_count": 20,
   "metadata": {},
   "outputs": [],
   "source": [
    "from data.data_utils import create_fda_data"
   ]
  },
  {
   "cell_type": "code",
   "execution_count": 21,
   "metadata": {},
   "outputs": [],
   "source": [
    "data[\"log_min\"] = np.log(data[\"minutes\"])\n",
    "data[\"simple_exposure\"] = 1 \n",
    "_ , outputs, _ = create_fda_data(data, basis_dims=3, metric_output=([\"gaussian\"] * 3), \n",
    "                                     metrics = [\"log_min\", \"obpm\",\"dbpm\"]\n",
    ", exposure_list= [\"simple_exposure\"] + ([\"minutes\"] * 2) )"
   ]
  },
  {
   "cell_type": "code",
   "execution_count": 32,
   "metadata": {},
   "outputs": [],
   "source": [
    "import arviz as az \n",
    "import jax\n",
    "import jax.numpy as jnp\n",
    "import numpy as np\n",
    "from numpyro.distributions import Normal, Poisson, Binomial\n",
    "\n",
    "\n",
    "def plot_metric_trajectory(player_index, posterior_mean_samples, observations, exposures, metric_outputs: list[str], posterior_variance_samples = None):\n",
    "    key = jax.random.key(0)\n",
    "    gaussian_index = 0\n",
    "    posteriors = []\n",
    "    obs_normalized = []\n",
    "    \n",
    "    for metric_index, metric_output in enumerate(metric_outputs):\n",
    "        exposure = exposures[metric_index, ...]\n",
    "        obs = observations[player_index, metric_index, :]\n",
    "        post = posterior_mean_samples[..., metric_index, player_index, :]\n",
    "        inds = jnp.where(jnp.isnan(exposure))\n",
    "        exposure = exposure.at[inds].set(np.take(np.nanmean(exposure, axis = 0), inds[1]))\n",
    "\n",
    "        if metric_output == \"gaussian\":\n",
    "            scale = jnp.einsum(\"cs,t -> cst\", posterior_variance_samples[gaussian_index],  1.0 / exposure[player_index, :])\n",
    "            dist = Normal()\n",
    "            posterior_predictions = (dist.sample(key = key, sample_shape=post.shape) * scale + post)\n",
    "            obs_normal = obs\n",
    "            gaussian_index += 1\n",
    "        elif metric_output == \"poisson\":\n",
    "            dist = Poisson(rate = jnp.exp(post + exposures[player_index, :]))\n",
    "            posterior_predictions = 36.0 * (dist.sample(key = key) / jnp.exp(exposure[player_index, :])) ### per 36 min statistics\n",
    "            obs_normal = 36.0 * (obs / jnp.exp(exposure[player_index, :]))\n",
    "        elif metric_output == \"binomial\":\n",
    "            dist = Binomial(total_count = jnp.round(exposure[player_index, :], decimals=0), logits = post)\n",
    "            posterior_predictions = dist.sample(key = key) / jnp.round(exposure[player_index, :], decimals=0) ### per shot\n",
    "            obs_normal = obs / jnp.round(exposure[player_index, :], decimals=0) ### per shot\n",
    "    \n",
    "        posteriors.append(posterior_predictions)\n",
    "        obs_normalized.append(obs_normal)\n",
    "\n",
    "\n",
    "    obs_data = {\"y\": jnp.stack(obs_normalized, axis = -1)}  ### has shape (time, metrics)\n",
    "    print(obs_data[\"y\"].shape)\n",
    "    posterior_predictive = {\"y\": jnp.stack(posteriors, axis = -1)}  ### has shape (chains, draws, time, metrics)\n",
    "    print(posterior_predictive[\"y\"].shape)\n",
    "    idata = az.from_dict(observed_data=obs_data, posterior_predictive=posterior_predictive,\n",
    "                         dims={\"y\": [\"age\", \"metric\"]},\n",
    "                         coords={\"age\": range(21), \"metric\": range(len(metric_outputs))})\n",
    "    az.plot_ts(idata, y = \"y\", plot_dim=\"age\")"
   ]
  },
  {
   "cell_type": "code",
   "execution_count": 33,
   "metadata": {},
   "outputs": [
    {
     "name": "stdout",
     "output_type": "stream",
     "text": [
      "(21, 3)\n",
      "(2000, 21, 4)\n"
     ]
    },
    {
     "name": "stderr",
     "output_type": "stream",
     "text": [
      "/Users/abhijitbrahme/.pyenv/versions/3.11.9/envs/nba_functional_analysis_env/lib/python3.11/site-packages/arviz/data/base.py:265: UserWarning: More chains (2000) than draws (21). Passed array should have shape (chains, draws, *shape)\n",
      "  warnings.warn(\n",
      "/Users/abhijitbrahme/.pyenv/versions/3.11.9/envs/nba_functional_analysis_env/lib/python3.11/site-packages/arviz/data/base.py:174: UserWarning: In variable y, there are more dims (2) given than exist (1). Passed array should have shape (chain,draw, *shape)\n",
      "  warnings.warn(\n"
     ]
    },
    {
     "ename": "ValueError",
     "evalue": "different number of dimensions on data and dims: 3 vs 4",
     "output_type": "error",
     "traceback": [
      "\u001b[0;31m---------------------------------------------------------------------------\u001b[0m",
      "\u001b[0;31mValueError\u001b[0m                                Traceback (most recent call last)",
      "Cell \u001b[0;32mIn[33], line 1\u001b[0m\n\u001b[0;32m----> 1\u001b[0m \u001b[43mplot_metric_trajectory\u001b[49m\u001b[43m(\u001b[49m\u001b[38;5;241;43m1323\u001b[39;49m\u001b[43m,\u001b[49m\u001b[43m \u001b[49m\u001b[43mresults\u001b[49m\u001b[43m[\u001b[49m\u001b[38;5;124;43m\"\u001b[39;49m\u001b[38;5;124;43mmu\u001b[39;49m\u001b[38;5;124;43m\"\u001b[39;49m\u001b[43m]\u001b[49m\u001b[43m,\u001b[49m\u001b[43m \u001b[49m\u001b[43mjnp\u001b[49m\u001b[38;5;241;43m.\u001b[39;49m\u001b[43mstack\u001b[49m\u001b[43m(\u001b[49m\u001b[43m[\u001b[49m\u001b[43moutput\u001b[49m\u001b[43m[\u001b[49m\u001b[38;5;124;43m\"\u001b[39;49m\u001b[38;5;124;43moutput_data\u001b[39;49m\u001b[38;5;124;43m\"\u001b[39;49m\u001b[43m]\u001b[49m\u001b[43m \u001b[49m\u001b[38;5;28;43;01mfor\u001b[39;49;00m\u001b[43m \u001b[49m\u001b[43moutput\u001b[49m\u001b[43m \u001b[49m\u001b[38;5;129;43;01min\u001b[39;49;00m\u001b[43m \u001b[49m\u001b[43moutputs\u001b[49m\u001b[43m]\u001b[49m\u001b[43m,\u001b[49m\u001b[43m \u001b[49m\u001b[43maxis\u001b[49m\u001b[43m \u001b[49m\u001b[38;5;241;43m=\u001b[39;49m\u001b[43m \u001b[49m\u001b[38;5;241;43m1\u001b[39;49m\u001b[43m)\u001b[49m\u001b[43m,\u001b[49m\u001b[43m \u001b[49m\u001b[43mexposures\u001b[49m\u001b[43m \u001b[49m\u001b[38;5;241;43m=\u001b[39;49m\u001b[43m \u001b[49m\u001b[43mjnp\u001b[49m\u001b[38;5;241;43m.\u001b[39;49m\u001b[43mstack\u001b[49m\u001b[43m(\u001b[49m\u001b[43m[\u001b[49m\u001b[43moutputs\u001b[49m\u001b[43m[\u001b[49m\u001b[43mi\u001b[49m\u001b[43m]\u001b[49m\u001b[43m[\u001b[49m\u001b[38;5;124;43m\"\u001b[39;49m\u001b[38;5;124;43mexposure_data\u001b[39;49m\u001b[38;5;124;43m\"\u001b[39;49m\u001b[43m]\u001b[49m\u001b[43m \u001b[49m\u001b[38;5;28;43;01mfor\u001b[39;49;00m\u001b[43m \u001b[49m\u001b[43mi\u001b[49m\u001b[43m \u001b[49m\u001b[38;5;129;43;01min\u001b[39;49;00m\u001b[43m \u001b[49m\u001b[38;5;28;43mrange\u001b[39;49m\u001b[43m(\u001b[49m\u001b[38;5;241;43m3\u001b[39;49m\u001b[43m)\u001b[49m\u001b[43m]\u001b[49m\u001b[43m,\u001b[49m\u001b[43maxis\u001b[49m\u001b[38;5;241;43m=\u001b[39;49m\u001b[38;5;241;43m0\u001b[39;49m\u001b[43m)\u001b[49m\u001b[43m,\u001b[49m\n\u001b[1;32m      2\u001b[0m \u001b[43m                        \u001b[49m\u001b[43mmetric_outputs\u001b[49m\u001b[43m \u001b[49m\u001b[38;5;241;43m=\u001b[39;49m\u001b[43m \u001b[49m\u001b[43m(\u001b[49m\u001b[43m[\u001b[49m\u001b[38;5;124;43m\"\u001b[39;49m\u001b[38;5;124;43mgaussian\u001b[39;49m\u001b[38;5;124;43m\"\u001b[39;49m\u001b[43m]\u001b[49m\u001b[43m \u001b[49m\u001b[38;5;241;43m*\u001b[39;49m\u001b[43m \u001b[49m\u001b[38;5;241;43m3\u001b[39;49m\u001b[43m)\u001b[49m\u001b[43m,\u001b[49m\u001b[43m \u001b[49m\n\u001b[1;32m      3\u001b[0m \u001b[43m                        \u001b[49m\u001b[43mposterior_variance_samples\u001b[49m\u001b[38;5;241;43m=\u001b[39;49m\u001b[43mjnp\u001b[49m\u001b[38;5;241;43m.\u001b[39;49m\u001b[43mstack\u001b[49m\u001b[43m(\u001b[49m\u001b[43m[\u001b[49m\u001b[43mresults\u001b[49m\u001b[43m[\u001b[49m\u001b[38;5;124;43m\"\u001b[39;49m\u001b[38;5;124;43msigma_log_min\u001b[39;49m\u001b[38;5;124;43m\"\u001b[39;49m\u001b[43m]\u001b[49m\u001b[43m,\u001b[49m\u001b[43m \u001b[49m\u001b[43mresults\u001b[49m\u001b[43m[\u001b[49m\u001b[38;5;124;43m\"\u001b[39;49m\u001b[38;5;124;43msigma_obpm\u001b[39;49m\u001b[38;5;124;43m\"\u001b[39;49m\u001b[43m]\u001b[49m\u001b[43m,\u001b[49m\u001b[43m \u001b[49m\u001b[43mresults\u001b[49m\u001b[43m[\u001b[49m\u001b[38;5;124;43m\"\u001b[39;49m\u001b[38;5;124;43msigma_dbpm\u001b[39;49m\u001b[38;5;124;43m\"\u001b[39;49m\u001b[43m]\u001b[49m\u001b[43m]\u001b[49m\u001b[43m,\u001b[49m\u001b[43m \u001b[49m\u001b[43maxis\u001b[49m\u001b[43m \u001b[49m\u001b[38;5;241;43m=\u001b[39;49m\u001b[43m \u001b[49m\u001b[38;5;241;43m0\u001b[39;49m\u001b[43m)\u001b[49m\u001b[43m)\u001b[49m\n",
      "Cell \u001b[0;32mIn[32], line 44\u001b[0m, in \u001b[0;36mplot_metric_trajectory\u001b[0;34m(player_index, posterior_mean_samples, observations, exposures, metric_outputs, posterior_variance_samples)\u001b[0m\n\u001b[1;32m     42\u001b[0m posterior_predictive \u001b[38;5;241m=\u001b[39m {\u001b[38;5;124m\"\u001b[39m\u001b[38;5;124my\u001b[39m\u001b[38;5;124m\"\u001b[39m: jnp\u001b[38;5;241m.\u001b[39mstack(posterior_predictions, axis \u001b[38;5;241m=\u001b[39m \u001b[38;5;241m-\u001b[39m\u001b[38;5;241m1\u001b[39m)}  \u001b[38;5;66;03m### has shape (chains, draws, time, metrics)\u001b[39;00m\n\u001b[1;32m     43\u001b[0m \u001b[38;5;28mprint\u001b[39m(posterior_predictive[\u001b[38;5;124m\"\u001b[39m\u001b[38;5;124my\u001b[39m\u001b[38;5;124m\"\u001b[39m]\u001b[38;5;241m.\u001b[39mshape)\n\u001b[0;32m---> 44\u001b[0m idata \u001b[38;5;241m=\u001b[39m \u001b[43maz\u001b[49m\u001b[38;5;241;43m.\u001b[39;49m\u001b[43mfrom_dict\u001b[49m\u001b[43m(\u001b[49m\u001b[43mobserved_data\u001b[49m\u001b[38;5;241;43m=\u001b[39;49m\u001b[43mobs_data\u001b[49m\u001b[43m,\u001b[49m\u001b[43m \u001b[49m\u001b[43mposterior_predictive\u001b[49m\u001b[38;5;241;43m=\u001b[39;49m\u001b[43mposterior_predictive\u001b[49m\u001b[43m,\u001b[49m\n\u001b[1;32m     45\u001b[0m \u001b[43m                     \u001b[49m\u001b[43mdims\u001b[49m\u001b[38;5;241;43m=\u001b[39;49m\u001b[43m{\u001b[49m\u001b[38;5;124;43m\"\u001b[39;49m\u001b[38;5;124;43my\u001b[39;49m\u001b[38;5;124;43m\"\u001b[39;49m\u001b[43m:\u001b[49m\u001b[43m \u001b[49m\u001b[43m[\u001b[49m\u001b[38;5;124;43m\"\u001b[39;49m\u001b[38;5;124;43mage\u001b[39;49m\u001b[38;5;124;43m\"\u001b[39;49m\u001b[43m,\u001b[49m\u001b[43m \u001b[49m\u001b[38;5;124;43m\"\u001b[39;49m\u001b[38;5;124;43mmetric\u001b[39;49m\u001b[38;5;124;43m\"\u001b[39;49m\u001b[43m]\u001b[49m\u001b[43m}\u001b[49m\u001b[43m,\u001b[49m\n\u001b[1;32m     46\u001b[0m \u001b[43m                     \u001b[49m\u001b[43mcoords\u001b[49m\u001b[38;5;241;43m=\u001b[39;49m\u001b[43m{\u001b[49m\u001b[38;5;124;43m\"\u001b[39;49m\u001b[38;5;124;43mage\u001b[39;49m\u001b[38;5;124;43m\"\u001b[39;49m\u001b[43m:\u001b[49m\u001b[43m \u001b[49m\u001b[38;5;28;43mrange\u001b[39;49m\u001b[43m(\u001b[49m\u001b[38;5;241;43m21\u001b[39;49m\u001b[43m)\u001b[49m\u001b[43m,\u001b[49m\u001b[43m \u001b[49m\u001b[38;5;124;43m\"\u001b[39;49m\u001b[38;5;124;43mmetric\u001b[39;49m\u001b[38;5;124;43m\"\u001b[39;49m\u001b[43m:\u001b[49m\u001b[43m \u001b[49m\u001b[38;5;28;43mrange\u001b[39;49m\u001b[43m(\u001b[49m\u001b[38;5;28;43mlen\u001b[39;49m\u001b[43m(\u001b[49m\u001b[43mmetric_outputs\u001b[49m\u001b[43m)\u001b[49m\u001b[43m)\u001b[49m\u001b[43m}\u001b[49m\u001b[43m)\u001b[49m\n\u001b[1;32m     47\u001b[0m az\u001b[38;5;241m.\u001b[39mplot_ts(idata, y \u001b[38;5;241m=\u001b[39m \u001b[38;5;124m\"\u001b[39m\u001b[38;5;124my\u001b[39m\u001b[38;5;124m\"\u001b[39m, plot_dim\u001b[38;5;241m=\u001b[39m\u001b[38;5;124m\"\u001b[39m\u001b[38;5;124mage\u001b[39m\u001b[38;5;124m\"\u001b[39m)\n",
      "File \u001b[0;32m~/.pyenv/versions/3.11.9/envs/nba_functional_analysis_env/lib/python3.11/site-packages/arviz/data/io_dict.py:459\u001b[0m, in \u001b[0;36mfrom_dict\u001b[0;34m(posterior, posterior_predictive, predictions, sample_stats, log_likelihood, prior, prior_predictive, sample_stats_prior, observed_data, constant_data, predictions_constant_data, warmup_posterior, warmup_posterior_predictive, warmup_predictions, warmup_log_likelihood, warmup_sample_stats, save_warmup, index_origin, coords, dims, pred_dims, pred_coords, attrs, **kwargs)\u001b[0m\n\u001b[1;32m    352\u001b[0m \u001b[38;5;28;01mdef\u001b[39;00m \u001b[38;5;21mfrom_dict\u001b[39m(\n\u001b[1;32m    353\u001b[0m     posterior\u001b[38;5;241m=\u001b[39m\u001b[38;5;28;01mNone\u001b[39;00m,\n\u001b[1;32m    354\u001b[0m     \u001b[38;5;241m*\u001b[39m,\n\u001b[0;32m   (...)\u001b[0m\n\u001b[1;32m    377\u001b[0m     \u001b[38;5;241m*\u001b[39m\u001b[38;5;241m*\u001b[39mkwargs,\n\u001b[1;32m    378\u001b[0m ):\n\u001b[1;32m    379\u001b[0m \u001b[38;5;250m    \u001b[39m\u001b[38;5;124;03m\"\"\"Convert Dictionary data into an InferenceData object.\u001b[39;00m\n\u001b[1;32m    380\u001b[0m \n\u001b[1;32m    381\u001b[0m \u001b[38;5;124;03m    For a usage example read the\u001b[39;00m\n\u001b[0;32m   (...)\u001b[0m\n\u001b[1;32m    432\u001b[0m \u001b[38;5;124;03m    InferenceData\u001b[39;00m\n\u001b[1;32m    433\u001b[0m \u001b[38;5;124;03m    \"\"\"\u001b[39;00m\n\u001b[1;32m    434\u001b[0m     \u001b[38;5;28;01mreturn\u001b[39;00m \u001b[43mDictConverter\u001b[49m\u001b[43m(\u001b[49m\n\u001b[1;32m    435\u001b[0m \u001b[43m        \u001b[49m\u001b[43mposterior\u001b[49m\u001b[38;5;241;43m=\u001b[39;49m\u001b[43mposterior\u001b[49m\u001b[43m,\u001b[49m\n\u001b[1;32m    436\u001b[0m \u001b[43m        \u001b[49m\u001b[43mposterior_predictive\u001b[49m\u001b[38;5;241;43m=\u001b[39;49m\u001b[43mposterior_predictive\u001b[49m\u001b[43m,\u001b[49m\n\u001b[1;32m    437\u001b[0m \u001b[43m        \u001b[49m\u001b[43mpredictions\u001b[49m\u001b[38;5;241;43m=\u001b[39;49m\u001b[43mpredictions\u001b[49m\u001b[43m,\u001b[49m\n\u001b[1;32m    438\u001b[0m \u001b[43m        \u001b[49m\u001b[43msample_stats\u001b[49m\u001b[38;5;241;43m=\u001b[39;49m\u001b[43msample_stats\u001b[49m\u001b[43m,\u001b[49m\n\u001b[1;32m    439\u001b[0m \u001b[43m        \u001b[49m\u001b[43mlog_likelihood\u001b[49m\u001b[38;5;241;43m=\u001b[39;49m\u001b[43mlog_likelihood\u001b[49m\u001b[43m,\u001b[49m\n\u001b[1;32m    440\u001b[0m \u001b[43m        \u001b[49m\u001b[43mprior\u001b[49m\u001b[38;5;241;43m=\u001b[39;49m\u001b[43mprior\u001b[49m\u001b[43m,\u001b[49m\n\u001b[1;32m    441\u001b[0m \u001b[43m        \u001b[49m\u001b[43mprior_predictive\u001b[49m\u001b[38;5;241;43m=\u001b[39;49m\u001b[43mprior_predictive\u001b[49m\u001b[43m,\u001b[49m\n\u001b[1;32m    442\u001b[0m \u001b[43m        \u001b[49m\u001b[43msample_stats_prior\u001b[49m\u001b[38;5;241;43m=\u001b[39;49m\u001b[43msample_stats_prior\u001b[49m\u001b[43m,\u001b[49m\n\u001b[1;32m    443\u001b[0m \u001b[43m        \u001b[49m\u001b[43mobserved_data\u001b[49m\u001b[38;5;241;43m=\u001b[39;49m\u001b[43mobserved_data\u001b[49m\u001b[43m,\u001b[49m\n\u001b[1;32m    444\u001b[0m \u001b[43m        \u001b[49m\u001b[43mconstant_data\u001b[49m\u001b[38;5;241;43m=\u001b[39;49m\u001b[43mconstant_data\u001b[49m\u001b[43m,\u001b[49m\n\u001b[1;32m    445\u001b[0m \u001b[43m        \u001b[49m\u001b[43mpredictions_constant_data\u001b[49m\u001b[38;5;241;43m=\u001b[39;49m\u001b[43mpredictions_constant_data\u001b[49m\u001b[43m,\u001b[49m\n\u001b[1;32m    446\u001b[0m \u001b[43m        \u001b[49m\u001b[43mwarmup_posterior\u001b[49m\u001b[38;5;241;43m=\u001b[39;49m\u001b[43mwarmup_posterior\u001b[49m\u001b[43m,\u001b[49m\n\u001b[1;32m    447\u001b[0m \u001b[43m        \u001b[49m\u001b[43mwarmup_posterior_predictive\u001b[49m\u001b[38;5;241;43m=\u001b[39;49m\u001b[43mwarmup_posterior_predictive\u001b[49m\u001b[43m,\u001b[49m\n\u001b[1;32m    448\u001b[0m \u001b[43m        \u001b[49m\u001b[43mwarmup_predictions\u001b[49m\u001b[38;5;241;43m=\u001b[39;49m\u001b[43mwarmup_predictions\u001b[49m\u001b[43m,\u001b[49m\n\u001b[1;32m    449\u001b[0m \u001b[43m        \u001b[49m\u001b[43mwarmup_log_likelihood\u001b[49m\u001b[38;5;241;43m=\u001b[39;49m\u001b[43mwarmup_log_likelihood\u001b[49m\u001b[43m,\u001b[49m\n\u001b[1;32m    450\u001b[0m \u001b[43m        \u001b[49m\u001b[43mwarmup_sample_stats\u001b[49m\u001b[38;5;241;43m=\u001b[39;49m\u001b[43mwarmup_sample_stats\u001b[49m\u001b[43m,\u001b[49m\n\u001b[1;32m    451\u001b[0m \u001b[43m        \u001b[49m\u001b[43msave_warmup\u001b[49m\u001b[38;5;241;43m=\u001b[39;49m\u001b[43msave_warmup\u001b[49m\u001b[43m,\u001b[49m\n\u001b[1;32m    452\u001b[0m \u001b[43m        \u001b[49m\u001b[43mindex_origin\u001b[49m\u001b[38;5;241;43m=\u001b[39;49m\u001b[43mindex_origin\u001b[49m\u001b[43m,\u001b[49m\n\u001b[1;32m    453\u001b[0m \u001b[43m        \u001b[49m\u001b[43mcoords\u001b[49m\u001b[38;5;241;43m=\u001b[39;49m\u001b[43mcoords\u001b[49m\u001b[43m,\u001b[49m\n\u001b[1;32m    454\u001b[0m \u001b[43m        \u001b[49m\u001b[43mdims\u001b[49m\u001b[38;5;241;43m=\u001b[39;49m\u001b[43mdims\u001b[49m\u001b[43m,\u001b[49m\n\u001b[1;32m    455\u001b[0m \u001b[43m        \u001b[49m\u001b[43mpred_dims\u001b[49m\u001b[38;5;241;43m=\u001b[39;49m\u001b[43mpred_dims\u001b[49m\u001b[43m,\u001b[49m\n\u001b[1;32m    456\u001b[0m \u001b[43m        \u001b[49m\u001b[43mpred_coords\u001b[49m\u001b[38;5;241;43m=\u001b[39;49m\u001b[43mpred_coords\u001b[49m\u001b[43m,\u001b[49m\n\u001b[1;32m    457\u001b[0m \u001b[43m        \u001b[49m\u001b[43mattrs\u001b[49m\u001b[38;5;241;43m=\u001b[39;49m\u001b[43mattrs\u001b[49m\u001b[43m,\u001b[49m\n\u001b[1;32m    458\u001b[0m \u001b[43m        \u001b[49m\u001b[38;5;241;43m*\u001b[39;49m\u001b[38;5;241;43m*\u001b[39;49m\u001b[43mkwargs\u001b[49m\u001b[43m,\u001b[49m\n\u001b[0;32m--> 459\u001b[0m \u001b[43m    \u001b[49m\u001b[43m)\u001b[49m\u001b[38;5;241;43m.\u001b[39;49m\u001b[43mto_inference_data\u001b[49m\u001b[43m(\u001b[49m\u001b[43m)\u001b[49m\n",
      "File \u001b[0;32m~/.pyenv/versions/3.11.9/envs/nba_functional_analysis_env/lib/python3.11/site-packages/arviz/data/io_dict.py:337\u001b[0m, in \u001b[0;36mDictConverter.to_inference_data\u001b[0;34m(self)\u001b[0m\n\u001b[1;32m    326\u001b[0m \u001b[38;5;28;01mdef\u001b[39;00m \u001b[38;5;21mto_inference_data\u001b[39m(\u001b[38;5;28mself\u001b[39m):\n\u001b[1;32m    327\u001b[0m \u001b[38;5;250m    \u001b[39m\u001b[38;5;124;03m\"\"\"Convert all available data to an InferenceData object.\u001b[39;00m\n\u001b[1;32m    328\u001b[0m \n\u001b[1;32m    329\u001b[0m \u001b[38;5;124;03m    Note that if groups can not be created, then the InferenceData\u001b[39;00m\n\u001b[1;32m    330\u001b[0m \u001b[38;5;124;03m    will not have those groups.\u001b[39;00m\n\u001b[1;32m    331\u001b[0m \u001b[38;5;124;03m    \"\"\"\u001b[39;00m\n\u001b[1;32m    332\u001b[0m     \u001b[38;5;28;01mreturn\u001b[39;00m InferenceData(\n\u001b[1;32m    333\u001b[0m         \u001b[38;5;241m*\u001b[39m\u001b[38;5;241m*\u001b[39m{\n\u001b[1;32m    334\u001b[0m             \u001b[38;5;124m\"\u001b[39m\u001b[38;5;124mposterior\u001b[39m\u001b[38;5;124m\"\u001b[39m: \u001b[38;5;28mself\u001b[39m\u001b[38;5;241m.\u001b[39mposterior_to_xarray(),\n\u001b[1;32m    335\u001b[0m             \u001b[38;5;124m\"\u001b[39m\u001b[38;5;124msample_stats\u001b[39m\u001b[38;5;124m\"\u001b[39m: \u001b[38;5;28mself\u001b[39m\u001b[38;5;241m.\u001b[39msample_stats_to_xarray(),\n\u001b[1;32m    336\u001b[0m             \u001b[38;5;124m\"\u001b[39m\u001b[38;5;124mlog_likelihood\u001b[39m\u001b[38;5;124m\"\u001b[39m: \u001b[38;5;28mself\u001b[39m\u001b[38;5;241m.\u001b[39mlog_likelihood_to_xarray(),\n\u001b[0;32m--> 337\u001b[0m             \u001b[38;5;124m\"\u001b[39m\u001b[38;5;124mposterior_predictive\u001b[39m\u001b[38;5;124m\"\u001b[39m: \u001b[38;5;28;43mself\u001b[39;49m\u001b[38;5;241;43m.\u001b[39;49m\u001b[43mposterior_predictive_to_xarray\u001b[49m\u001b[43m(\u001b[49m\u001b[43m)\u001b[49m,\n\u001b[1;32m    338\u001b[0m             \u001b[38;5;124m\"\u001b[39m\u001b[38;5;124mpredictions\u001b[39m\u001b[38;5;124m\"\u001b[39m: \u001b[38;5;28mself\u001b[39m\u001b[38;5;241m.\u001b[39mpredictions_to_xarray(),\n\u001b[1;32m    339\u001b[0m             \u001b[38;5;124m\"\u001b[39m\u001b[38;5;124mprior\u001b[39m\u001b[38;5;124m\"\u001b[39m: \u001b[38;5;28mself\u001b[39m\u001b[38;5;241m.\u001b[39mprior_to_xarray(),\n\u001b[1;32m    340\u001b[0m             \u001b[38;5;124m\"\u001b[39m\u001b[38;5;124msample_stats_prior\u001b[39m\u001b[38;5;124m\"\u001b[39m: \u001b[38;5;28mself\u001b[39m\u001b[38;5;241m.\u001b[39msample_stats_prior_to_xarray(),\n\u001b[1;32m    341\u001b[0m             \u001b[38;5;124m\"\u001b[39m\u001b[38;5;124mprior_predictive\u001b[39m\u001b[38;5;124m\"\u001b[39m: \u001b[38;5;28mself\u001b[39m\u001b[38;5;241m.\u001b[39mprior_predictive_to_xarray(),\n\u001b[1;32m    342\u001b[0m             \u001b[38;5;124m\"\u001b[39m\u001b[38;5;124mobserved_data\u001b[39m\u001b[38;5;124m\"\u001b[39m: \u001b[38;5;28mself\u001b[39m\u001b[38;5;241m.\u001b[39mobserved_data_to_xarray(),\n\u001b[1;32m    343\u001b[0m             \u001b[38;5;124m\"\u001b[39m\u001b[38;5;124mconstant_data\u001b[39m\u001b[38;5;124m\"\u001b[39m: \u001b[38;5;28mself\u001b[39m\u001b[38;5;241m.\u001b[39mconstant_data_to_xarray(),\n\u001b[1;32m    344\u001b[0m             \u001b[38;5;124m\"\u001b[39m\u001b[38;5;124mpredictions_constant_data\u001b[39m\u001b[38;5;124m\"\u001b[39m: \u001b[38;5;28mself\u001b[39m\u001b[38;5;241m.\u001b[39mpredictions_constant_data_to_xarray(),\n\u001b[1;32m    345\u001b[0m             \u001b[38;5;124m\"\u001b[39m\u001b[38;5;124msave_warmup\u001b[39m\u001b[38;5;124m\"\u001b[39m: \u001b[38;5;28mself\u001b[39m\u001b[38;5;241m.\u001b[39msave_warmup,\n\u001b[1;32m    346\u001b[0m             \u001b[38;5;124m\"\u001b[39m\u001b[38;5;124mattrs\u001b[39m\u001b[38;5;124m\"\u001b[39m: \u001b[38;5;28mself\u001b[39m\u001b[38;5;241m.\u001b[39mattrs,\n\u001b[1;32m    347\u001b[0m         }\n\u001b[1;32m    348\u001b[0m     )\n",
      "File \u001b[0;32m~/.pyenv/versions/3.11.9/envs/nba_functional_analysis_env/lib/python3.11/site-packages/arviz/data/base.py:67\u001b[0m, in \u001b[0;36mrequires.__call__.<locals>.wrapped\u001b[0;34m(cls)\u001b[0m\n\u001b[1;32m     65\u001b[0m     \u001b[38;5;28;01mif\u001b[39;00m \u001b[38;5;28mall\u001b[39m((\u001b[38;5;28mgetattr\u001b[39m(\u001b[38;5;28mcls\u001b[39m, prop_i) \u001b[38;5;129;01mis\u001b[39;00m \u001b[38;5;28;01mNone\u001b[39;00m \u001b[38;5;28;01mfor\u001b[39;00m prop_i \u001b[38;5;129;01min\u001b[39;00m prop)):\n\u001b[1;32m     66\u001b[0m         \u001b[38;5;28;01mreturn\u001b[39;00m \u001b[38;5;28;01mNone\u001b[39;00m\n\u001b[0;32m---> 67\u001b[0m \u001b[38;5;28;01mreturn\u001b[39;00m \u001b[43mfunc\u001b[49m\u001b[43m(\u001b[49m\u001b[38;5;28;43mcls\u001b[39;49m\u001b[43m)\u001b[49m\n",
      "File \u001b[0;32m~/.pyenv/versions/3.11.9/envs/nba_functional_analysis_env/lib/python3.11/site-packages/arviz/data/io_dict.py:197\u001b[0m, in \u001b[0;36mDictConverter.posterior_predictive_to_xarray\u001b[0;34m(self)\u001b[0m\n\u001b[1;32m    194\u001b[0m posterior_predictive_attrs \u001b[38;5;241m=\u001b[39m \u001b[38;5;28mself\u001b[39m\u001b[38;5;241m.\u001b[39m_kwargs\u001b[38;5;241m.\u001b[39mget(\u001b[38;5;124m\"\u001b[39m\u001b[38;5;124mposterior_predictive_attrs\u001b[39m\u001b[38;5;124m\"\u001b[39m)\n\u001b[1;32m    195\u001b[0m posterior_predictive_warmup_attrs \u001b[38;5;241m=\u001b[39m \u001b[38;5;28mself\u001b[39m\u001b[38;5;241m.\u001b[39m_kwargs\u001b[38;5;241m.\u001b[39mget(\u001b[38;5;124m\"\u001b[39m\u001b[38;5;124mposterior_predictive_warmup_attrs\u001b[39m\u001b[38;5;124m\"\u001b[39m)\n\u001b[1;32m    196\u001b[0m \u001b[38;5;28;01mreturn\u001b[39;00m (\n\u001b[0;32m--> 197\u001b[0m     \u001b[43mdict_to_dataset\u001b[49m\u001b[43m(\u001b[49m\n\u001b[1;32m    198\u001b[0m \u001b[43m        \u001b[49m\u001b[43mdata\u001b[49m\u001b[43m,\u001b[49m\n\u001b[1;32m    199\u001b[0m \u001b[43m        \u001b[49m\u001b[43mlibrary\u001b[49m\u001b[38;5;241;43m=\u001b[39;49m\u001b[38;5;28;43;01mNone\u001b[39;49;00m\u001b[43m,\u001b[49m\n\u001b[1;32m    200\u001b[0m \u001b[43m        \u001b[49m\u001b[43mcoords\u001b[49m\u001b[38;5;241;43m=\u001b[39;49m\u001b[38;5;28;43mself\u001b[39;49m\u001b[38;5;241;43m.\u001b[39;49m\u001b[43mcoords\u001b[49m\u001b[43m,\u001b[49m\n\u001b[1;32m    201\u001b[0m \u001b[43m        \u001b[49m\u001b[43mdims\u001b[49m\u001b[38;5;241;43m=\u001b[39;49m\u001b[38;5;28;43mself\u001b[39;49m\u001b[38;5;241;43m.\u001b[39;49m\u001b[43mdims\u001b[49m\u001b[43m,\u001b[49m\n\u001b[1;32m    202\u001b[0m \u001b[43m        \u001b[49m\u001b[43mattrs\u001b[49m\u001b[38;5;241;43m=\u001b[39;49m\u001b[43mposterior_predictive_attrs\u001b[49m\u001b[43m,\u001b[49m\n\u001b[1;32m    203\u001b[0m \u001b[43m        \u001b[49m\u001b[43mindex_origin\u001b[49m\u001b[38;5;241;43m=\u001b[39;49m\u001b[38;5;28;43mself\u001b[39;49m\u001b[38;5;241;43m.\u001b[39;49m\u001b[43mindex_origin\u001b[49m\u001b[43m,\u001b[49m\n\u001b[1;32m    204\u001b[0m \u001b[43m    \u001b[49m\u001b[43m)\u001b[49m,\n\u001b[1;32m    205\u001b[0m     dict_to_dataset(\n\u001b[1;32m    206\u001b[0m         data_warmup,\n\u001b[1;32m    207\u001b[0m         library\u001b[38;5;241m=\u001b[39m\u001b[38;5;28;01mNone\u001b[39;00m,\n\u001b[1;32m    208\u001b[0m         coords\u001b[38;5;241m=\u001b[39m\u001b[38;5;28mself\u001b[39m\u001b[38;5;241m.\u001b[39mcoords,\n\u001b[1;32m    209\u001b[0m         dims\u001b[38;5;241m=\u001b[39m\u001b[38;5;28mself\u001b[39m\u001b[38;5;241m.\u001b[39mdims,\n\u001b[1;32m    210\u001b[0m         attrs\u001b[38;5;241m=\u001b[39mposterior_predictive_warmup_attrs,\n\u001b[1;32m    211\u001b[0m         index_origin\u001b[38;5;241m=\u001b[39m\u001b[38;5;28mself\u001b[39m\u001b[38;5;241m.\u001b[39mindex_origin,\n\u001b[1;32m    212\u001b[0m     ),\n\u001b[1;32m    213\u001b[0m )\n",
      "File \u001b[0;32m~/.pyenv/versions/3.11.9/envs/nba_functional_analysis_env/lib/python3.11/site-packages/arviz/data/base.py:394\u001b[0m, in \u001b[0;36mpytree_to_dataset\u001b[0;34m(data, attrs, library, coords, dims, default_dims, index_origin, skip_event_dims)\u001b[0m\n\u001b[1;32m    391\u001b[0m \u001b[38;5;28;01mexcept\u001b[39;00m \u001b[38;5;167;01mTypeError\u001b[39;00m:  \u001b[38;5;66;03m# probably unsortable keys -- the function will still work if\u001b[39;00m\n\u001b[1;32m    392\u001b[0m     \u001b[38;5;28;01mpass\u001b[39;00m  \u001b[38;5;66;03m# it is an honest dictionary.\u001b[39;00m\n\u001b[0;32m--> 394\u001b[0m data_vars \u001b[38;5;241m=\u001b[39m \u001b[43m{\u001b[49m\n\u001b[1;32m    395\u001b[0m \u001b[43m    \u001b[49m\u001b[43mkey\u001b[49m\u001b[43m:\u001b[49m\u001b[43m \u001b[49m\u001b[43mnumpy_to_data_array\u001b[49m\u001b[43m(\u001b[49m\n\u001b[1;32m    396\u001b[0m \u001b[43m        \u001b[49m\u001b[43mvalues\u001b[49m\u001b[43m,\u001b[49m\n\u001b[1;32m    397\u001b[0m \u001b[43m        \u001b[49m\u001b[43mvar_name\u001b[49m\u001b[38;5;241;43m=\u001b[39;49m\u001b[43mkey\u001b[49m\u001b[43m,\u001b[49m\n\u001b[1;32m    398\u001b[0m \u001b[43m        \u001b[49m\u001b[43mcoords\u001b[49m\u001b[38;5;241;43m=\u001b[39;49m\u001b[43mcoords\u001b[49m\u001b[43m,\u001b[49m\n\u001b[1;32m    399\u001b[0m \u001b[43m        \u001b[49m\u001b[43mdims\u001b[49m\u001b[38;5;241;43m=\u001b[39;49m\u001b[43mdims\u001b[49m\u001b[38;5;241;43m.\u001b[39;49m\u001b[43mget\u001b[49m\u001b[43m(\u001b[49m\u001b[43mkey\u001b[49m\u001b[43m)\u001b[49m\u001b[43m,\u001b[49m\n\u001b[1;32m    400\u001b[0m \u001b[43m        \u001b[49m\u001b[43mdefault_dims\u001b[49m\u001b[38;5;241;43m=\u001b[39;49m\u001b[43mdefault_dims\u001b[49m\u001b[43m,\u001b[49m\n\u001b[1;32m    401\u001b[0m \u001b[43m        \u001b[49m\u001b[43mindex_origin\u001b[49m\u001b[38;5;241;43m=\u001b[39;49m\u001b[43mindex_origin\u001b[49m\u001b[43m,\u001b[49m\n\u001b[1;32m    402\u001b[0m \u001b[43m        \u001b[49m\u001b[43mskip_event_dims\u001b[49m\u001b[38;5;241;43m=\u001b[39;49m\u001b[43mskip_event_dims\u001b[49m\u001b[43m,\u001b[49m\n\u001b[1;32m    403\u001b[0m \u001b[43m    \u001b[49m\u001b[43m)\u001b[49m\n\u001b[1;32m    404\u001b[0m \u001b[43m    \u001b[49m\u001b[38;5;28;43;01mfor\u001b[39;49;00m\u001b[43m \u001b[49m\u001b[43mkey\u001b[49m\u001b[43m,\u001b[49m\u001b[43m \u001b[49m\u001b[43mvalues\u001b[49m\u001b[43m \u001b[49m\u001b[38;5;129;43;01min\u001b[39;49;00m\u001b[43m \u001b[49m\u001b[43mdata\u001b[49m\u001b[38;5;241;43m.\u001b[39;49m\u001b[43mitems\u001b[49m\u001b[43m(\u001b[49m\u001b[43m)\u001b[49m\n\u001b[1;32m    405\u001b[0m \u001b[43m\u001b[49m\u001b[43m}\u001b[49m\n\u001b[1;32m    406\u001b[0m \u001b[38;5;28;01mreturn\u001b[39;00m xr\u001b[38;5;241m.\u001b[39mDataset(data_vars\u001b[38;5;241m=\u001b[39mdata_vars, attrs\u001b[38;5;241m=\u001b[39mmake_attrs(attrs\u001b[38;5;241m=\u001b[39mattrs, library\u001b[38;5;241m=\u001b[39mlibrary))\n",
      "File \u001b[0;32m~/.pyenv/versions/3.11.9/envs/nba_functional_analysis_env/lib/python3.11/site-packages/arviz/data/base.py:395\u001b[0m, in \u001b[0;36m<dictcomp>\u001b[0;34m(.0)\u001b[0m\n\u001b[1;32m    391\u001b[0m \u001b[38;5;28;01mexcept\u001b[39;00m \u001b[38;5;167;01mTypeError\u001b[39;00m:  \u001b[38;5;66;03m# probably unsortable keys -- the function will still work if\u001b[39;00m\n\u001b[1;32m    392\u001b[0m     \u001b[38;5;28;01mpass\u001b[39;00m  \u001b[38;5;66;03m# it is an honest dictionary.\u001b[39;00m\n\u001b[1;32m    394\u001b[0m data_vars \u001b[38;5;241m=\u001b[39m {\n\u001b[0;32m--> 395\u001b[0m     key: \u001b[43mnumpy_to_data_array\u001b[49m\u001b[43m(\u001b[49m\n\u001b[1;32m    396\u001b[0m \u001b[43m        \u001b[49m\u001b[43mvalues\u001b[49m\u001b[43m,\u001b[49m\n\u001b[1;32m    397\u001b[0m \u001b[43m        \u001b[49m\u001b[43mvar_name\u001b[49m\u001b[38;5;241;43m=\u001b[39;49m\u001b[43mkey\u001b[49m\u001b[43m,\u001b[49m\n\u001b[1;32m    398\u001b[0m \u001b[43m        \u001b[49m\u001b[43mcoords\u001b[49m\u001b[38;5;241;43m=\u001b[39;49m\u001b[43mcoords\u001b[49m\u001b[43m,\u001b[49m\n\u001b[1;32m    399\u001b[0m \u001b[43m        \u001b[49m\u001b[43mdims\u001b[49m\u001b[38;5;241;43m=\u001b[39;49m\u001b[43mdims\u001b[49m\u001b[38;5;241;43m.\u001b[39;49m\u001b[43mget\u001b[49m\u001b[43m(\u001b[49m\u001b[43mkey\u001b[49m\u001b[43m)\u001b[49m\u001b[43m,\u001b[49m\n\u001b[1;32m    400\u001b[0m \u001b[43m        \u001b[49m\u001b[43mdefault_dims\u001b[49m\u001b[38;5;241;43m=\u001b[39;49m\u001b[43mdefault_dims\u001b[49m\u001b[43m,\u001b[49m\n\u001b[1;32m    401\u001b[0m \u001b[43m        \u001b[49m\u001b[43mindex_origin\u001b[49m\u001b[38;5;241;43m=\u001b[39;49m\u001b[43mindex_origin\u001b[49m\u001b[43m,\u001b[49m\n\u001b[1;32m    402\u001b[0m \u001b[43m        \u001b[49m\u001b[43mskip_event_dims\u001b[49m\u001b[38;5;241;43m=\u001b[39;49m\u001b[43mskip_event_dims\u001b[49m\u001b[43m,\u001b[49m\n\u001b[1;32m    403\u001b[0m \u001b[43m    \u001b[49m\u001b[43m)\u001b[49m\n\u001b[1;32m    404\u001b[0m     \u001b[38;5;28;01mfor\u001b[39;00m key, values \u001b[38;5;129;01min\u001b[39;00m data\u001b[38;5;241m.\u001b[39mitems()\n\u001b[1;32m    405\u001b[0m }\n\u001b[1;32m    406\u001b[0m \u001b[38;5;28;01mreturn\u001b[39;00m xr\u001b[38;5;241m.\u001b[39mDataset(data_vars\u001b[38;5;241m=\u001b[39mdata_vars, attrs\u001b[38;5;241m=\u001b[39mmake_attrs(attrs\u001b[38;5;241m=\u001b[39mattrs, library\u001b[38;5;241m=\u001b[39mlibrary))\n",
      "File \u001b[0;32m~/.pyenv/versions/3.11.9/envs/nba_functional_analysis_env/lib/python3.11/site-packages/arviz/data/base.py:299\u001b[0m, in \u001b[0;36mnumpy_to_data_array\u001b[0;34m(ary, var_name, coords, dims, default_dims, index_origin, skip_event_dims)\u001b[0m\n\u001b[1;32m    297\u001b[0m \u001b[38;5;66;03m# filter coords based on the dims\u001b[39;00m\n\u001b[1;32m    298\u001b[0m coords \u001b[38;5;241m=\u001b[39m {key: xr\u001b[38;5;241m.\u001b[39mIndexVariable((key,), data\u001b[38;5;241m=\u001b[39mnp\u001b[38;5;241m.\u001b[39masarray(coords[key])) \u001b[38;5;28;01mfor\u001b[39;00m key \u001b[38;5;129;01min\u001b[39;00m dims}\n\u001b[0;32m--> 299\u001b[0m \u001b[38;5;28;01mreturn\u001b[39;00m \u001b[43mxr\u001b[49m\u001b[38;5;241;43m.\u001b[39;49m\u001b[43mDataArray\u001b[49m\u001b[43m(\u001b[49m\u001b[43mary\u001b[49m\u001b[43m,\u001b[49m\u001b[43m \u001b[49m\u001b[43mcoords\u001b[49m\u001b[38;5;241;43m=\u001b[39;49m\u001b[43mcoords\u001b[49m\u001b[43m,\u001b[49m\u001b[43m \u001b[49m\u001b[43mdims\u001b[49m\u001b[38;5;241;43m=\u001b[39;49m\u001b[43mdims\u001b[49m\u001b[43m)\u001b[49m\n",
      "File \u001b[0;32m~/.pyenv/versions/3.11.9/envs/nba_functional_analysis_env/lib/python3.11/site-packages/xarray/core/dataarray.py:454\u001b[0m, in \u001b[0;36mDataArray.__init__\u001b[0;34m(self, data, coords, dims, name, attrs, indexes, fastpath)\u001b[0m\n\u001b[1;32m    452\u001b[0m data \u001b[38;5;241m=\u001b[39m _check_data_shape(data, coords, dims)\n\u001b[1;32m    453\u001b[0m data \u001b[38;5;241m=\u001b[39m as_compatible_data(data)\n\u001b[0;32m--> 454\u001b[0m coords, dims \u001b[38;5;241m=\u001b[39m \u001b[43m_infer_coords_and_dims\u001b[49m\u001b[43m(\u001b[49m\u001b[43mdata\u001b[49m\u001b[38;5;241;43m.\u001b[39;49m\u001b[43mshape\u001b[49m\u001b[43m,\u001b[49m\u001b[43m \u001b[49m\u001b[43mcoords\u001b[49m\u001b[43m,\u001b[49m\u001b[43m \u001b[49m\u001b[43mdims\u001b[49m\u001b[43m)\u001b[49m\n\u001b[1;32m    455\u001b[0m variable \u001b[38;5;241m=\u001b[39m Variable(dims, data, attrs, fastpath\u001b[38;5;241m=\u001b[39m\u001b[38;5;28;01mTrue\u001b[39;00m)\n\u001b[1;32m    457\u001b[0m \u001b[38;5;28;01mif\u001b[39;00m \u001b[38;5;129;01mnot\u001b[39;00m \u001b[38;5;28misinstance\u001b[39m(coords, Coordinates):\n",
      "File \u001b[0;32m~/.pyenv/versions/3.11.9/envs/nba_functional_analysis_env/lib/python3.11/site-packages/xarray/core/dataarray.py:168\u001b[0m, in \u001b[0;36m_infer_coords_and_dims\u001b[0;34m(shape, coords, dims)\u001b[0m\n\u001b[1;32m    166\u001b[0m dims_tuple \u001b[38;5;241m=\u001b[39m \u001b[38;5;28mtuple\u001b[39m(dims)\n\u001b[1;32m    167\u001b[0m \u001b[38;5;28;01mif\u001b[39;00m \u001b[38;5;28mlen\u001b[39m(dims_tuple) \u001b[38;5;241m!=\u001b[39m \u001b[38;5;28mlen\u001b[39m(shape):\n\u001b[0;32m--> 168\u001b[0m     \u001b[38;5;28;01mraise\u001b[39;00m \u001b[38;5;167;01mValueError\u001b[39;00m(\n\u001b[1;32m    169\u001b[0m         \u001b[38;5;124m\"\u001b[39m\u001b[38;5;124mdifferent number of dimensions on data \u001b[39m\u001b[38;5;124m\"\u001b[39m\n\u001b[1;32m    170\u001b[0m         \u001b[38;5;124mf\u001b[39m\u001b[38;5;124m\"\u001b[39m\u001b[38;5;124mand dims: \u001b[39m\u001b[38;5;132;01m{\u001b[39;00m\u001b[38;5;28mlen\u001b[39m(shape)\u001b[38;5;132;01m}\u001b[39;00m\u001b[38;5;124m vs \u001b[39m\u001b[38;5;132;01m{\u001b[39;00m\u001b[38;5;28mlen\u001b[39m(dims_tuple)\u001b[38;5;132;01m}\u001b[39;00m\u001b[38;5;124m\"\u001b[39m\n\u001b[1;32m    171\u001b[0m     )\n\u001b[1;32m    172\u001b[0m \u001b[38;5;28;01mfor\u001b[39;00m d \u001b[38;5;129;01min\u001b[39;00m dims_tuple:\n\u001b[1;32m    173\u001b[0m     \u001b[38;5;28;01mif\u001b[39;00m \u001b[38;5;129;01mnot\u001b[39;00m hashable(d):\n",
      "\u001b[0;31mValueError\u001b[0m: different number of dimensions on data and dims: 3 vs 4"
     ]
    }
   ],
   "source": [
    "plot_metric_trajectory(1323, results[\"mu\"], jnp.stack([output[\"output_data\"] for output in outputs], axis = 1), exposures = jnp.stack([outputs[i][\"exposure_data\"] for i in range(3)],axis=0),\n",
    "                        metric_outputs = ([\"gaussian\"] * 3), \n",
    "                        posterior_variance_samples=jnp.stack([results[\"sigma_log_min\"], results[\"sigma_obpm\"], results[\"sigma_dbpm\"]], axis = 0))"
   ]
  },
  {
   "cell_type": "code",
   "execution_count": null,
   "metadata": {},
   "outputs": [],
   "source": []
  }
 ],
 "metadata": {
  "kernelspec": {
   "display_name": "nba-functional-analysis-6oEKqHGM-py3.9",
   "language": "python",
   "name": "python3"
  },
  "language_info": {
   "codemirror_mode": {
    "name": "ipython",
    "version": 3
   },
   "file_extension": ".py",
   "mimetype": "text/x-python",
   "name": "python",
   "nbconvert_exporter": "python",
   "pygments_lexer": "ipython3",
   "version": "3.11.9"
  },
  "orig_nbformat": 4
 },
 "nbformat": 4,
 "nbformat_minor": 2
}
