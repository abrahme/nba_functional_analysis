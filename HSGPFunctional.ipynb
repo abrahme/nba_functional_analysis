{
 "cells": [
  {
   "cell_type": "code",
   "execution_count": 1,
   "metadata": {},
   "outputs": [],
   "source": [
    "import pandas as pd\n",
    "import pickle\n",
    "import arviz as az\n",
    "import numpy as np\n",
    "import matplotlib.pyplot as plt\n",
    "from scipy.cluster.hierarchy import dendrogram, linkage\n",
    "from model.inference_utils import match_align\n",
    "from visualization.visualization import plot_metric_trajectory"
   ]
  },
  {
   "cell_type": "markdown",
   "metadata": {},
   "source": [
    "### Functional Analysis of NBA Player Career Trajectory \n",
    "We are working in a multi-output setting, one where we wish to produce multiple trajectories of player careers across different metrics.\n",
    "Metrics are either:\n",
    "1. Gaussian with observed / unobserved response and corresponding observed /unobserved variance terms. (OBPM, DBPM)\n",
    "2. Poisson with observed / unobserved response and corresponding observed / unobserved exposure terms. (OREB Rate, BLK Rate, STL Rate, AST Rate, FTA Rate, FG2A Rate, FG3A Rate)\n",
    "3. Binomial with observed / unobserved response and corresponding observed / unobserved exposure terms. (FT %, 2FG%, 3FG%)\n",
    "\n",
    "Let the index $J$ denote the metric, $N$ denote the player, and $T$ denote the years 18-39 of player career. Thus, our data is a tensor of size $N x T x J$ with missing entries if player $n$ did not record statistics at time $t$ for metric $j$. This could be due to retirement, injury, etc. \n",
    "\n",
    "We seek to model these observations in the following way:\n",
    "\n",
    "$$ \\mu_j = X^T \\Phi_j(T) + \\alpha_j $$ \n",
    "\n",
    "Here, $X$ is a fixed predictor of size $N$ X  $d$ where d << N. $\\Phi_j(T)$ corresponds to a functional coefficient for metric $j$, and $\\alpha_j$ corresponds to an intercept term. \n",
    "\n",
    "Note that since we have different response distributions, we must include the following conditions:\n",
    "1. If $j$ is a Gaussian distributed response,\n",
    "$$ y_j \\sim N(\\mu_j, \\frac{\\sigma^2_j}{p_j}) $$\n",
    "2. If $j$ is a Poisson distributed response, \n",
    "$$  y_j \\sim Pois(p_j exp(\\mu_j)) $$\n",
    "3. If $j$ is a Binomial distributed response,\n",
    "$$ y_j \\sim Bin(p_j, logit(\\mu_j)) $$\n",
    "\n",
    "Here, $p_j$ is the exposure term for the appropriate metric. If $y_j$ is Binomial, $p_j$ represents the number of trials, and so on. Practically, $p_j$ is the number of shot attempts for binomial distributed response, and number of minutes played for other responses. \n",
    "\n",
    "\n",
    "It is also important to note that $\\Phi_j(T)$ is created by using a HSGP approximation, with 10 truncation limit. These are independent across metrics $j$. "
   ]
  },
  {
   "cell_type": "code",
   "execution_count": 2,
   "metadata": {},
   "outputs": [],
   "source": [
    "data = pd.read_csv(\"data/player_data.csv\").query(\" age <= 38 \")\n",
    "# data = data.groupby(\"id\").filter(lambda x: x.games.sum() >= 50)"
   ]
  },
  {
   "cell_type": "code",
   "execution_count": 3,
   "metadata": {},
   "outputs": [
    {
     "data": {
      "text/html": [
       "<div>\n",
       "<style scoped>\n",
       "    .dataframe tbody tr th:only-of-type {\n",
       "        vertical-align: middle;\n",
       "    }\n",
       "\n",
       "    .dataframe tbody tr th {\n",
       "        vertical-align: top;\n",
       "    }\n",
       "\n",
       "    .dataframe thead th {\n",
       "        text-align: right;\n",
       "    }\n",
       "</style>\n",
       "<table border=\"1\" class=\"dataframe\">\n",
       "  <thead>\n",
       "    <tr style=\"text-align: right;\">\n",
       "      <th></th>\n",
       "      <th>year</th>\n",
       "      <th>season</th>\n",
       "      <th>id</th>\n",
       "      <th>minutes</th>\n",
       "      <th>fg2m</th>\n",
       "      <th>fg2a</th>\n",
       "      <th>fg3a</th>\n",
       "      <th>fg3m</th>\n",
       "      <th>ftm</th>\n",
       "      <th>fta</th>\n",
       "      <th>...</th>\n",
       "      <th>position</th>\n",
       "      <th>team</th>\n",
       "      <th>age</th>\n",
       "      <th>obpm</th>\n",
       "      <th>dbpm</th>\n",
       "      <th>bpm</th>\n",
       "      <th>games</th>\n",
       "      <th>total_seasons</th>\n",
       "      <th>median_minutes_per_game</th>\n",
       "      <th>max_minutes</th>\n",
       "    </tr>\n",
       "  </thead>\n",
       "  <tbody>\n",
       "    <tr>\n",
       "      <th>0</th>\n",
       "      <td>1997</td>\n",
       "      <td>1996-97</td>\n",
       "      <td>2</td>\n",
       "      <td>1439.778333</td>\n",
       "      <td>90</td>\n",
       "      <td>191</td>\n",
       "      <td>188</td>\n",
       "      <td>73</td>\n",
       "      <td>127</td>\n",
       "      <td>151</td>\n",
       "      <td>...</td>\n",
       "      <td>SG</td>\n",
       "      <td>LAL</td>\n",
       "      <td>35</td>\n",
       "      <td>0.6</td>\n",
       "      <td>0.4</td>\n",
       "      <td>1.0</td>\n",
       "      <td>79</td>\n",
       "      <td>1</td>\n",
       "      <td>18.225042</td>\n",
       "      <td>1439.778333</td>\n",
       "    </tr>\n",
       "    <tr>\n",
       "      <th>1</th>\n",
       "      <td>1997</td>\n",
       "      <td>1996-97</td>\n",
       "      <td>3</td>\n",
       "      <td>1170.195000</td>\n",
       "      <td>106</td>\n",
       "      <td>228</td>\n",
       "      <td>47</td>\n",
       "      <td>17</td>\n",
       "      <td>63</td>\n",
       "      <td>84</td>\n",
       "      <td>...</td>\n",
       "      <td>PF</td>\n",
       "      <td>DET</td>\n",
       "      <td>30</td>\n",
       "      <td>-1.0</td>\n",
       "      <td>0.3</td>\n",
       "      <td>-0.6</td>\n",
       "      <td>65</td>\n",
       "      <td>7</td>\n",
       "      <td>21.958214</td>\n",
       "      <td>1868.101667</td>\n",
       "    </tr>\n",
       "    <tr>\n",
       "      <th>2</th>\n",
       "      <td>1998</td>\n",
       "      <td>1997-98</td>\n",
       "      <td>3</td>\n",
       "      <td>741.726667</td>\n",
       "      <td>50</td>\n",
       "      <td>113</td>\n",
       "      <td>4</td>\n",
       "      <td>0</td>\n",
       "      <td>41</td>\n",
       "      <td>57</td>\n",
       "      <td>...</td>\n",
       "      <td>PF</td>\n",
       "      <td>DET</td>\n",
       "      <td>31</td>\n",
       "      <td>-2.6</td>\n",
       "      <td>1.5</td>\n",
       "      <td>-1.1</td>\n",
       "      <td>40</td>\n",
       "      <td>7</td>\n",
       "      <td>21.958214</td>\n",
       "      <td>1868.101667</td>\n",
       "    </tr>\n",
       "    <tr>\n",
       "      <th>3</th>\n",
       "      <td>1999</td>\n",
       "      <td>1998-99</td>\n",
       "      <td>3</td>\n",
       "      <td>1380.178333</td>\n",
       "      <td>148</td>\n",
       "      <td>341</td>\n",
       "      <td>18</td>\n",
       "      <td>3</td>\n",
       "      <td>184</td>\n",
       "      <td>235</td>\n",
       "      <td>...</td>\n",
       "      <td>PF</td>\n",
       "      <td>ATL</td>\n",
       "      <td>32</td>\n",
       "      <td>-0.3</td>\n",
       "      <td>1.7</td>\n",
       "      <td>1.5</td>\n",
       "      <td>50</td>\n",
       "      <td>7</td>\n",
       "      <td>21.958214</td>\n",
       "      <td>1868.101667</td>\n",
       "    </tr>\n",
       "    <tr>\n",
       "      <th>4</th>\n",
       "      <td>2000</td>\n",
       "      <td>1999-00</td>\n",
       "      <td>3</td>\n",
       "      <td>922.245000</td>\n",
       "      <td>74</td>\n",
       "      <td>163</td>\n",
       "      <td>4</td>\n",
       "      <td>0</td>\n",
       "      <td>55</td>\n",
       "      <td>71</td>\n",
       "      <td>...</td>\n",
       "      <td>PF</td>\n",
       "      <td>VAN</td>\n",
       "      <td>33</td>\n",
       "      <td>-1.9</td>\n",
       "      <td>0.3</td>\n",
       "      <td>-1.7</td>\n",
       "      <td>42</td>\n",
       "      <td>7</td>\n",
       "      <td>21.958214</td>\n",
       "      <td>1868.101667</td>\n",
       "    </tr>\n",
       "  </tbody>\n",
       "</table>\n",
       "<p>5 rows × 32 columns</p>\n",
       "</div>"
      ],
      "text/plain": [
       "   year   season  id      minutes  fg2m  fg2a  fg3a  fg3m  ftm  fta  ...  \\\n",
       "0  1997  1996-97   2  1439.778333    90   191   188    73  127  151  ...   \n",
       "1  1997  1996-97   3  1170.195000   106   228    47    17   63   84  ...   \n",
       "2  1998  1997-98   3   741.726667    50   113     4     0   41   57  ...   \n",
       "3  1999  1998-99   3  1380.178333   148   341    18     3  184  235  ...   \n",
       "4  2000  1999-00   3   922.245000    74   163     4     0   55   71  ...   \n",
       "\n",
       "   position  team  age  obpm  dbpm  bpm  games  total_seasons  \\\n",
       "0        SG   LAL   35   0.6   0.4  1.0     79              1   \n",
       "1        PF   DET   30  -1.0   0.3 -0.6     65              7   \n",
       "2        PF   DET   31  -2.6   1.5 -1.1     40              7   \n",
       "3        PF   ATL   32  -0.3   1.7  1.5     50              7   \n",
       "4        PF   VAN   33  -1.9   0.3 -1.7     42              7   \n",
       "\n",
       "   median_minutes_per_game  max_minutes  \n",
       "0                18.225042  1439.778333  \n",
       "1                21.958214  1868.101667  \n",
       "2                21.958214  1868.101667  \n",
       "3                21.958214  1868.101667  \n",
       "4                21.958214  1868.101667  \n",
       "\n",
       "[5 rows x 32 columns]"
      ]
     },
     "execution_count": 3,
     "metadata": {},
     "output_type": "execute_result"
    }
   ],
   "source": [
    "data.head()"
   ]
  },
  {
   "cell_type": "code",
   "execution_count": 4,
   "metadata": {},
   "outputs": [],
   "source": [
    "names = data.groupby(\"id\")[\"name\"].first().values"
   ]
  },
  {
   "cell_type": "code",
   "execution_count": 5,
   "metadata": {},
   "outputs": [],
   "source": [
    "from sklearn.preprocessing import StandardScaler\n",
    "from sklearn.decomposition import PCA, KernelPCA\n",
    "from sklearn.manifold import TSNE\n",
    "agg_dict = {\"obpm\":\"mean\", \"dbpm\":\"mean\", \"bpm\":\"mean\", \n",
    "            \"minutes\":\"sum\", \"dreb\": \"sum\", \"fta\":\"sum\", \"ftm\":\"sum\", \"oreb\":\"sum\",\n",
    "            \"ast\":\"sum\", \"tov\":\"sum\", \"fg2m\":\"sum\", \"fg3m\":\"sum\", \"fg3a\":\"sum\", \"fg2a\":\"sum\", \"blk\":\"sum\", \"stl\":\"sum\"}\n",
    "data[\"total_minutes\"] = data[\"median_minutes_per_game\"] * data[\"games\"] \n",
    "agged_data = data.groupby(\"id\").agg(agg_dict).reset_index()\n",
    "agged_data[\"ft_pct\"] = agged_data[\"ftm\"] / agged_data[\"fta\"]\n",
    "agged_data[\"fg2_pct\"] = agged_data[\"fg2m\"] / agged_data[\"fg2a\"]\n",
    "agged_data[\"fg3_pct\"] = agged_data[\"fg3m\"] / agged_data[\"fg3a\"]\n",
    "agged_data[\"dreb_rate\"] = agged_data[\"dreb\"] / agged_data[\"minutes\"]\n",
    "agged_data[\"oreb_rate\"] = agged_data[\"oreb\"] / agged_data[\"minutes\"]\n",
    "agged_data[\"ast_rate\"] = agged_data[\"ast\"] / agged_data[\"minutes\"]\n",
    "agged_data[\"tov_rate\"] = agged_data[\"tov\"] / agged_data[\"minutes\"]\n",
    "agged_data[\"blk_rate\"] = agged_data[\"blk\"] / agged_data[\"minutes\"]\n",
    "agged_data[\"stl_rate\"] = agged_data[\"stl\"] / agged_data[\"minutes\"]\n",
    "agged_data.fillna(0, inplace=True)\n",
    "\n",
    "latent_metrics = [\"obpm\",\"dbpm\",\"minutes\",\"ft_pct\",\"fg2_pct\",\"fg3_pct\",\"dreb_rate\",\"oreb_rate\",\"ast_rate\",\"tov_rate\",\"blk_rate\",\"stl_rate\"]\n",
    "X = StandardScaler().fit_transform(agged_data[latent_metrics])\n",
    "pca_x = PCA().fit(X)\n",
    "X_pca = pca_x.transform(X)\n"
   ]
  },
  {
   "cell_type": "code",
   "execution_count": null,
   "metadata": {},
   "outputs": [],
   "source": [
    "\n",
    "plt.bar(latent_metrics, height=pca_x.components_[0,:])\n",
    "plt.xticks(rotation = 90)\n",
    "plt.ylabel(\"PCA Loading for PC 1\")"
   ]
  },
  {
   "cell_type": "code",
   "execution_count": null,
   "metadata": {},
   "outputs": [],
   "source": [
    "\n",
    "plt.bar(latent_metrics, height=pca_x.components_[0,:])\n",
    "plt.xticks(rotation = 90)\n",
    "plt.ylabel(\"PCA Loading for PC 1\")"
   ]
  },
  {
   "cell_type": "code",
   "execution_count": null,
   "metadata": {},
   "outputs": [],
   "source": [
    "\n",
    "plt.bar(latent_metrics, height=pca_x.components_[1,:])\n",
    "plt.xticks(rotation = 90)\n",
    "plt.ylabel(\"PCA Loading for PC 2\")"
   ]
  },
  {
   "cell_type": "code",
   "execution_count": null,
   "metadata": {},
   "outputs": [],
   "source": [
    "plt.bar(latent_metrics, height=pca_x.components_[2,:])\n",
    "plt.xticks(rotation = 90)\n",
    "plt.ylabel(\"PCA Loading for PC 3\")"
   ]
  },
  {
   "cell_type": "code",
   "execution_count": null,
   "metadata": {},
   "outputs": [],
   "source": [
    "star_indices = np.where(data.groupby(\"id\")[\"name\"].first().reset_index()[\"name\"].isin([\"Stephen Curry\", \"Nikola Jokic\", \"Kevin Durant\", \"Kobe Bryant\", \"Luka Doncic\", \"Michael Jordan\"]))[0]"
   ]
  },
  {
   "cell_type": "code",
   "execution_count": null,
   "metadata": {},
   "outputs": [],
   "source": [
    "# Step 2: Calculate distances\n",
    "centroid = np.mean(X_pca[:,0:3], axis=0)\n",
    "distances = np.linalg.norm(X_pca[:, 0:3] - centroid, axis=1)\n",
    "\n",
    "# Step 3: Define Threshold\n",
    "# Example: Threshold as 2 standard deviations from the mean distance\n",
    "threshold = np.mean(distances) + 2.5 * np.std(distances)\n",
    "\n",
    "# Step 4: Label Outliers\n",
    "outliers_indices = np.where(distances > threshold)[0]"
   ]
  },
  {
   "cell_type": "code",
   "execution_count": null,
   "metadata": {},
   "outputs": [],
   "source": [
    "plt.scatter(X_pca[:,0], X_pca[:,1])\n",
    "# Annotate outliers\n",
    "for i in outliers_indices:\n",
    "    plt.annotate(names[i], (X_pca[i, 0], X_pca[i, 1]), fontsize=7)\n",
    "plt.xlabel(\"PC 1\")\n",
    "plt.ylabel(\"PC 2\")"
   ]
  },
  {
   "cell_type": "code",
   "execution_count": null,
   "metadata": {},
   "outputs": [],
   "source": [
    "plt.scatter(X_pca[:,1], X_pca[:,2])\n",
    "# Annotate outliers\n",
    "for i in outliers_indices:\n",
    "    plt.annotate(names[i], (X_pca[i, 1], X_pca[i, 2]), fontsize=7)\n",
    "plt.xlabel(\"PC 2\")\n",
    "plt.ylabel(\"PC 3\")"
   ]
  },
  {
   "cell_type": "markdown",
   "metadata": {},
   "source": [
    "### Looking at Results\n",
    "The above model was fit in numpyro with 1000 warmup iterations and 4 chains. "
   ]
  },
  {
   "cell_type": "code",
   "execution_count": null,
   "metadata": {},
   "outputs": [],
   "source": [
    "with open(\"model_output/nba_fda_model.pkl\", \"rb\") as f:\n",
    "    results = pickle.load(f)\n",
    "f.close()"
   ]
  },
  {
   "cell_type": "code",
   "execution_count": null,
   "metadata": {},
   "outputs": [],
   "source": [
    "inference_data = az.from_dict(results)"
   ]
  },
  {
   "cell_type": "code",
   "execution_count": null,
   "metadata": {},
   "outputs": [],
   "source": [
    "az.summary(inference_data)"
   ]
  },
  {
   "cell_type": "code",
   "execution_count": null,
   "metadata": {},
   "outputs": [],
   "source": [
    "az.plot_trace(inference_data, var_names=\"length\")"
   ]
  },
  {
   "cell_type": "markdown",
   "metadata": {},
   "source": [
    "### Functional Analysis of NBA Player Career Trajectory (Latent Variable Model)\n",
    "We do the same as we did in the previous section, except $X$ is not fixed. We constrain $X$ to be orthonormal by sampling $X$ from the Stiefel Manifold. "
   ]
  },
  {
   "cell_type": "markdown",
   "metadata": {},
   "source": [
    "### Looking at Latent Model Results"
   ]
  },
  {
   "cell_type": "code",
   "execution_count": null,
   "metadata": {},
   "outputs": [],
   "source": [
    "with open(\"model_output/nba_fda_latent_model.pkl\", \"rb\") as f:\n",
    "    latent_results = pickle.load(f)\n",
    "f.close()"
   ]
  },
  {
   "cell_type": "code",
   "execution_count": null,
   "metadata": {},
   "outputs": [],
   "source": [
    "latent_raw = latent_results[\"latent_raw\"]"
   ]
  },
  {
   "cell_type": "code",
   "execution_count": null,
   "metadata": {},
   "outputs": [],
   "source": [
    "latent_raw_square = np.einsum(\"cdjk,cdjb -> cdkb\", latent_raw, latent_raw)"
   ]
  },
  {
   "cell_type": "code",
   "execution_count": null,
   "metadata": {},
   "outputs": [],
   "source": [
    "U, L, V = np.linalg.svd(latent_raw_square)"
   ]
  },
  {
   "cell_type": "code",
   "execution_count": null,
   "metadata": {},
   "outputs": [],
   "source": [
    "latent = np.matmul(latent_raw, np.matmul(U * np.power(L[...,None], -.5), V))"
   ]
  },
  {
   "cell_type": "code",
   "execution_count": null,
   "metadata": {},
   "outputs": [],
   "source": [
    "latent_results[\"latent\"] = latent"
   ]
  },
  {
   "cell_type": "code",
   "execution_count": null,
   "metadata": {},
   "outputs": [],
   "source": [
    "inference_data_latent = az.from_dict(latent_results)"
   ]
  },
  {
   "cell_type": "code",
   "execution_count": null,
   "metadata": {},
   "outputs": [],
   "source": [
    "az.summary(inference_data_latent)"
   ]
  },
  {
   "cell_type": "markdown",
   "metadata": {},
   "source": [
    "One thing to note is the poor diagnostic results here, indicating that the chains have not mixed properly. One thing to do would be to look at the trace-plots of some of these variables. In particular, we can look at the first element of the basis variable. The reason for this may be due to factor identifiability issues, since rotations of $X$ and the basis functions can yield equivalent posteriors. "
   ]
  },
  {
   "cell_type": "code",
   "execution_count": null,
   "metadata": {},
   "outputs": [],
   "source": [
    "az.plot_trace(inference_data_latent, var_names=\"basis\", coords={\"basis_dim_0\":0, \"basis_dim_1\":0, \"basis_dim_2\":0})"
   ]
  },
  {
   "cell_type": "markdown",
   "metadata": {},
   "source": [
    "As we can see, we see clearly that the chains have not mixed at all. The posterior is quite multi-modal in this regard. One thing that would be interesting to check would be to also look at the variable $X$. We need to transform the variable, to run the appropriate statistics. "
   ]
  },
  {
   "cell_type": "code",
   "execution_count": null,
   "metadata": {},
   "outputs": [],
   "source": [
    "az.plot_trace(inference_data_latent, var_names=\"latent\", coords={\"latent_dim_0\":0, \"latent_dim_1\":0})"
   ]
  },
  {
   "cell_type": "markdown",
   "metadata": {},
   "source": [
    "Again, we kind of see that there is multi-modality in the posterior of the latent space, essentially 2 chains that may or may not be equivalent in terms of the posterior likelihood."
   ]
  },
  {
   "cell_type": "code",
   "execution_count": null,
   "metadata": {},
   "outputs": [],
   "source": [
    "az.plot_trace(inference_data_latent, var_names=\"latent\", coords={\"latent_dim_0\":0, \"latent_dim_1\":2})"
   ]
  },
  {
   "cell_type": "code",
   "execution_count": null,
   "metadata": {},
   "outputs": [],
   "source": [
    "az.plot_trace(inference_data_latent, var_names=\"latent_raw\", coords={\"latent_raw_dim_0\":0, \"latent_raw_dim_1\":2})"
   ]
  },
  {
   "cell_type": "markdown",
   "metadata": {},
   "source": [
    "### Visualizing Latent Space\n",
    "\n",
    "Here, we can visualize the latent space of one chain and see if there is any interesting separation. Previously in the PCA, we didn't see any interesting information. Although the chains may not have mixed, we can still examine the latent space from one chain to see if there are any interesting behaviors. "
   ]
  },
  {
   "cell_type": "code",
   "execution_count": null,
   "metadata": {},
   "outputs": [],
   "source": [
    "latent_draw = latent[-4,-1, :, :]"
   ]
  },
  {
   "cell_type": "code",
   "execution_count": null,
   "metadata": {},
   "outputs": [],
   "source": [
    "plt.scatter(latent_draw[:,0], latent_draw[:,1])\n",
    "# Annotate outliers\n",
    "for i in star_indices:\n",
    "    plt.annotate(names[i], (latent_draw[i, 0], latent_draw[i, 1]), fontsize=7)\n",
    "plt.xlabel(\"Latent 1\")\n",
    "plt.ylabel(\"Latent 2\")"
   ]
  },
  {
   "cell_type": "code",
   "execution_count": null,
   "metadata": {},
   "outputs": [],
   "source": [
    "plt.scatter(latent_draw[:,1], latent_draw[:,2])\n",
    "# Annotate outliers\n",
    "for i in star_indices:\n",
    "    plt.annotate(names[i], (latent_draw[i, 1], latent_draw[i, 2]), fontsize=7)\n",
    "plt.xlabel(\"Latent 2\")\n",
    "plt.ylabel(\"Latent 3\")"
   ]
  },
  {
   "cell_type": "markdown",
   "metadata": {},
   "source": [
    "## Results for PPCA \n",
    "\n",
    "This model seeks to factorize the long $N$ by $TK$ matrix using probabilistic Principal Component Analysis. Since we have various outputs that are not normally distributed, this becomes a form of exponential PCA. "
   ]
  },
  {
   "cell_type": "code",
   "execution_count": null,
   "metadata": {},
   "outputs": [],
   "source": [
    "with open(\"model_output/exponential_pca.pkl\", \"rb\") as f:\n",
    "    results = pickle.load(f)\n",
    "f.close()"
   ]
  },
  {
   "cell_type": "code",
   "execution_count": null,
   "metadata": {},
   "outputs": [],
   "source": [
    "X_ppca = results[\"W_auto_loc\"]\n",
    "\n",
    "Z_ppca = linkage(X_ppca, optimal_ordering=True, method=\"centroid\")\n",
    "\n",
    "dendrogram(Z_ppca, labels=names, p = 100, truncate_mode=\"lastp\", show_leaf_counts=False)"
   ]
  },
  {
   "cell_type": "code",
   "execution_count": null,
   "metadata": {},
   "outputs": [],
   "source": [
    "plt.scatter(X_ppca[:,0], X_ppca[:,1])\n",
    "# Annotate outliers\n",
    "for i in star_indices:\n",
    "    plt.annotate(names[i], (X_ppca[i, 0], X_ppca[i, 1]), fontsize=7)\n",
    "plt.xlabel(\"Latent 1\")\n",
    "plt.ylabel(\"Latent 2\")"
   ]
  },
  {
   "cell_type": "code",
   "execution_count": null,
   "metadata": {},
   "outputs": [],
   "source": [
    "plt.scatter(X_ppca[:,1], X_ppca[:,2])\n",
    "# Annotate outliers\n",
    "for i in star_indices:\n",
    "    plt.annotate(names[i], (X_ppca[i, 1], X_ppca[i, 2]), fontsize=7)\n",
    "plt.xlabel(\"Latent 2\")\n",
    "plt.ylabel(\"Latent 3\")"
   ]
  },
  {
   "cell_type": "code",
   "execution_count": null,
   "metadata": {},
   "outputs": [],
   "source": [
    "plt.scatter(X_ppca[:,0], X_ppca[:,2])\n",
    "# Annotate outliers\n",
    "for i in star_indices:\n",
    "    plt.annotate(names[i], (X_ppca[i, 0], X_ppca[i, 2]), fontsize=7)\n",
    "plt.xlabel(\"Latent 1\")\n",
    "plt.ylabel(\"Latent 3\")"
   ]
  },
  {
   "cell_type": "markdown",
   "metadata": {},
   "source": [
    "### Functional Bases"
   ]
  },
  {
   "cell_type": "code",
   "execution_count": null,
   "metadata": {},
   "outputs": [],
   "source": [
    "bases_ppca = results[\"beta_auto_loc\"].reshape(3, int(252 // 12), -1)\n",
    "alpha = results[\"alpha_auto_loc\"].reshape(int(252/12), -1)"
   ]
  },
  {
   "cell_type": "code",
   "execution_count": null,
   "metadata": {},
   "outputs": [],
   "source": [
    "metrics = [\"log_min\", \"obpm\",\"dbpm\",\"blk\",\"stl\",\"ast\",\"dreb\",\"oreb\",\"tov\",\"fta\",\"fg2a\",\"fg3a\",\"ftm\",\"fg2m\",\"fg3m\"]\n",
    "basis = np.arange(18,39)"
   ]
  },
  {
   "cell_type": "code",
   "execution_count": null,
   "metadata": {},
   "outputs": [],
   "source": [
    "for index, metric in enumerate(metrics):\n",
    "    _df = pd.DataFrame(bases_ppca[:,:, index].T , columns=[f\"basis {i}\" for i in range(3)])\n",
    "    _df[\"age\"] = basis\n",
    "    _df.plot(x=\"age\", y=[f\"basis {i}\" for i in range(3)], xlabel=\"age\",\n",
    "         ylabel=\"Value\", title=f\"Metric: {metric}\")\n"
   ]
  },
  {
   "cell_type": "markdown",
   "metadata": {},
   "source": [
    "## Results for Probabilistic CP Decomposition \n",
    "\n",
    "This model seeks to factorize the  $N$ by $T$ by $K$ tensor (A) using probabilistic exponential family CP Decomposition. Since we have various outputs that are not normally distributed, this becomes a form of exponential family CP Decomposition.\n",
    "\n",
    "We seek to approximate the following:\n",
    "\n",
    "$A \\approx \\mu + \\sum_{i=1}^{r} \\lambda_i \\cdot u_i \\otimes v_i \\otimes w_i$\n",
    "\n",
    "where, $\\mu$, $u_i$, $v_i$, $w_i$ $\\sim \\mathcal{N}(0, I)$, $\\lambda \\sim Dirichlet(\\alpha)$\n",
    "\n",
    "$U \\in \\mathcal{R}^{N x R}$\n",
    "\n",
    "$V \\in \\mathcal{R}^{T x R}$\n",
    "\n",
    "$w \\in \\mathcal{R}^{K x R}$\n",
    "\n",
    "$\\mu \\in \\mathcal{R}^{T x K}$. \n",
    "\n",
    "Here $\\mu$ is used to de-mean the data, and $r = 2$. \n"
   ]
  },
  {
   "cell_type": "code",
   "execution_count": null,
   "metadata": {},
   "outputs": [],
   "source": [
    "with open(\"model_output/exponential_cp.pkl\", \"rb\") as f:\n",
    "    results = pickle.load(f)\n",
    "f.close()"
   ]
  },
  {
   "cell_type": "code",
   "execution_count": null,
   "metadata": {},
   "outputs": [],
   "source": [
    "X_pcp = results[\"U_auto_loc\"]\n",
    "\n",
    "\n",
    "Z_pcp = linkage(X_pcp, optimal_ordering=True, method=\"centroid\")\n",
    "\n",
    "dendrogram(Z_pcp, labels=names, p = 100, truncate_mode=\"lastp\", show_leaf_counts=False)"
   ]
  },
  {
   "cell_type": "code",
   "execution_count": null,
   "metadata": {},
   "outputs": [],
   "source": [
    "plt.scatter(X_pcp[:,0], X_pcp[:,1])\n",
    "# Annotate outliers\n",
    "for i in star_indices:\n",
    "    plt.annotate(names[i], (X_pcp[i, 0], X_pcp[i, 1]), fontsize=7)\n",
    "plt.xlabel(\"Latent 1\")\n",
    "plt.ylabel(\"Latent 2\")"
   ]
  },
  {
   "cell_type": "code",
   "execution_count": null,
   "metadata": {},
   "outputs": [],
   "source": [
    "plt.scatter(X_pcp[:,1], X_pcp[:,2])\n",
    "# Annotate outliers\n",
    "for i in star_indices:\n",
    "    plt.annotate(names[i], (X_pcp[i, 1], X_pcp[i, 2]), fontsize=7)\n",
    "plt.xlabel(\"Latent 2\")\n",
    "plt.ylabel(\"Latent 3\")"
   ]
  },
  {
   "cell_type": "code",
   "execution_count": null,
   "metadata": {},
   "outputs": [],
   "source": [
    "plt.scatter(X_pcp[:,0], X_pcp[:,2])\n",
    "# Annotate outliers\n",
    "for i in star_indices:\n",
    "    plt.annotate(names[i], (X_pcp[i, 0], X_pcp[i, 2]), fontsize=7)\n",
    "plt.xlabel(\"Latent 1\")\n",
    "plt.ylabel(\"Latent 3\")"
   ]
  },
  {
   "cell_type": "markdown",
   "metadata": {},
   "source": [
    "### Functional Bases"
   ]
  },
  {
   "cell_type": "code",
   "execution_count": null,
   "metadata": {},
   "outputs": [],
   "source": [
    "V_pcp = results[\"V_auto_loc\"]\n",
    "W_pcp = results[\"W_auto_loc\"]\n",
    "alpha = results[\"alpha_auto_loc\"]\n",
    "lam = results[\"lambda_auto_loc\"]"
   ]
  },
  {
   "cell_type": "code",
   "execution_count": null,
   "metadata": {},
   "outputs": [],
   "source": [
    "lam"
   ]
  },
  {
   "cell_type": "code",
   "execution_count": null,
   "metadata": {},
   "outputs": [],
   "source": [
    "bases_pcp = np.einsum(\"tr,kr -> tkr\", V_pcp,W_pcp)\n",
    "bases_sum_pcp = np.einsum(\"tkr,r -> tk\", bases_pcp, lam) + alpha"
   ]
  },
  {
   "cell_type": "markdown",
   "metadata": {},
   "source": [
    "## Plotting individual Tensor Production Curves"
   ]
  },
  {
   "cell_type": "code",
   "execution_count": null,
   "metadata": {},
   "outputs": [],
   "source": [
    "for index, metric in enumerate(metrics):\n",
    "    _df = pd.DataFrame(bases_pcp[:,index, :] , columns=[f\"basis {i}\" for i in range(3)])\n",
    "    _df[\"age\"] = basis\n",
    "    _df.plot(x=\"age\", y=[f\"basis {i}\" for i in range(3)], xlabel=\"age\",\n",
    "         ylabel=\"Value\", title=f\"Metric: {metric}\")"
   ]
  },
  {
   "cell_type": "markdown",
   "metadata": {},
   "source": [
    "### Plotting Combined Tensor Production Curves"
   ]
  },
  {
   "cell_type": "code",
   "execution_count": null,
   "metadata": {},
   "outputs": [],
   "source": [
    "for index, metric in enumerate(metrics):\n",
    "    _df = pd.DataFrame(bases_sum_pcp[:,index] , columns=[\"total_basis\"])\n",
    "    _df[\"age\"] = basis\n",
    "    _df.plot(x=\"age\", y=[\"total_basis\"], xlabel=\"age\",\n",
    "         ylabel=\"Value\", title=f\"Metric: {metric}\")"
   ]
  },
  {
   "cell_type": "markdown",
   "metadata": {},
   "source": [
    "## Random Feature Latent Variable Model \n",
    "\n",
    "This implementation follows the paper: https://github.com/gwgundersen/rflvm , except uses HMC instead of Gibbs Sampling to derive the posterior updates.\n",
    "\n",
    "In this case, however, we have multiple metrics that stem from the same latent space. \n"
   ]
  },
  {
   "cell_type": "code",
   "execution_count": null,
   "metadata": {},
   "outputs": [],
   "source": [
    "with open(\"model_output/nba_rflvm.pkl\", \"rb\") as f:\n",
    "    results = pickle.load(f)\n",
    "f.close()"
   ]
  },
  {
   "cell_type": "code",
   "execution_count": null,
   "metadata": {},
   "outputs": [],
   "source": [
    "results.keys()"
   ]
  },
  {
   "cell_type": "code",
   "execution_count": null,
   "metadata": {},
   "outputs": [],
   "source": [
    "X_rflvm = results[\"X_raw_auto_loc\"]\n",
    "\n",
    "\n",
    "Z_rflvm = linkage(X_rflvm, optimal_ordering=True, method=\"centroid\")\n",
    "\n",
    "dendrogram(Z_rflvm, labels=names, p = 200, truncate_mode=\"lastp\", show_leaf_counts=False)"
   ]
  },
  {
   "cell_type": "code",
   "execution_count": null,
   "metadata": {},
   "outputs": [],
   "source": [
    "plt.scatter(X_rflvm[:,0], X_rflvm[:,1])\n",
    "# Annotate outliers\n",
    "for i in star_indices:\n",
    "    plt.annotate(names[i], (X_rflvm[i, 0], X_rflvm[i, 1]), fontsize=7)\n",
    "plt.xlabel(\"Latent 1\")\n",
    "plt.ylabel(\"Latent 2\")"
   ]
  },
  {
   "cell_type": "code",
   "execution_count": null,
   "metadata": {},
   "outputs": [],
   "source": [
    "plt.scatter(X_rflvm[:,1], X_rflvm[:,2])\n",
    "# Annotate outliers\n",
    "for i in star_indices:\n",
    "    plt.annotate(names[i], (X_rflvm[i, 1], X_rflvm[i, 2]), fontsize=7)\n",
    "plt.xlabel(\"Latent 2\")\n",
    "plt.ylabel(\"Latent 3\")"
   ]
  },
  {
   "cell_type": "code",
   "execution_count": null,
   "metadata": {},
   "outputs": [],
   "source": [
    "plt.scatter(X_rflvm[:,0], X_rflvm[:,2])\n",
    "# Annotate outliers\n",
    "for i in star_indices:\n",
    "    plt.annotate(names[i], (X_rflvm[i, 0], X_rflvm[i, 2]), fontsize=7)\n",
    "plt.xlabel(\"Latent 1\")\n",
    "plt.ylabel(\"Latent 3\")"
   ]
  },
  {
   "cell_type": "markdown",
   "metadata": {},
   "source": [
    "We actually probably care about not the latent representation, but the projected latent representation $\\phi(X)$"
   ]
  },
  {
   "cell_type": "code",
   "execution_count": null,
   "metadata": {},
   "outputs": [],
   "source": [
    "W = results[\"W_auto_loc\"]\n",
    "U, _, _ = np.linalg.svd(X_rflvm, full_matrices=False)\n",
    "L       = np.linalg.cholesky(np.cov(U.T) + 1e-6 * np.eye(3)).T\n",
    "aligned_X  = np.linalg.solve(L, U.T).T\n",
    "X_rflvm_aligned = aligned_X / np.std(X_rflvm, axis=0)\n",
    "wTx = np.einsum(\"nr,mr -> nm\", X_rflvm_aligned, W)\n",
    "phi = np.hstack([np.cos(wTx), np.sin(wTx)]) * (1/ np.sqrt(10))"
   ]
  },
  {
   "cell_type": "code",
   "execution_count": null,
   "metadata": {},
   "outputs": [],
   "source": [
    "\n",
    "Z_rflvm_phi = linkage(phi, optimal_ordering=True, method=\"centroid\")\n",
    "\n",
    "dendrogram(Z_rflvm_phi, labels=names, p = 120, truncate_mode=\"lastp\", show_leaf_counts=False)"
   ]
  },
  {
   "cell_type": "markdown",
   "metadata": {},
   "source": [
    "### Functional Bases\n",
    "\n",
    "We can look at the individual curves for the metrics. "
   ]
  },
  {
   "cell_type": "code",
   "execution_count": null,
   "metadata": {},
   "outputs": [],
   "source": [
    "bases_rflvm = results[\"beta_auto_loc\"]"
   ]
  },
  {
   "cell_type": "code",
   "execution_count": null,
   "metadata": {},
   "outputs": [],
   "source": [
    "for index, metric in enumerate(metrics):\n",
    "    _df = pd.DataFrame(bases_rflvm[index,:, :].T , columns=[f\"basis {i}\" for i in range(20)])\n",
    "    _df[\"age\"] = basis\n",
    "    _df.plot(x=\"age\", y=[f\"basis {i}\" for i in range(20)], xlabel=\"age\",\n",
    "         ylabel=\"Value\", title=f\"Metric: {metric}\")"
   ]
  },
  {
   "cell_type": "markdown",
   "metadata": {},
   "source": [
    "## Time Varying Random Feature Latent Variable Model\n",
    "Added the time varying component to the columns in the form of a Gaussian Process.\n"
   ]
  },
  {
   "cell_type": "code",
   "execution_count": null,
   "metadata": {},
   "outputs": [],
   "source": [
    "with open(\"model_output/nba_tvrflvm.pkl\", \"rb\") as f:\n",
    "    results = pickle.load(f)\n",
    "f.close()"
   ]
  },
  {
   "cell_type": "code",
   "execution_count": null,
   "metadata": {},
   "outputs": [],
   "source": [
    "X_tvrflvm = results[\"X_raw_auto_loc\"]\n",
    "\n",
    "\n",
    "Z_tvrflvm = linkage(X_tvrflvm, optimal_ordering=True, method=\"centroid\")\n",
    "\n",
    "dendrogram(Z_tvrflvm, labels=names, p = 150, truncate_mode=\"lastp\", show_leaf_counts=False)"
   ]
  },
  {
   "cell_type": "code",
   "execution_count": null,
   "metadata": {},
   "outputs": [],
   "source": [
    "plt.scatter(X_tvrflvm[:,0], X_tvrflvm[:,1])\n",
    "# Annotate outliers\n",
    "for i in star_indices:\n",
    "    plt.annotate(names[i], (X_tvrflvm[i, 0], X_tvrflvm[i, 1]), fontsize=7)\n",
    "plt.xlabel(\"Latent 1\")\n",
    "plt.ylabel(\"Latent 2\")"
   ]
  },
  {
   "cell_type": "code",
   "execution_count": null,
   "metadata": {},
   "outputs": [],
   "source": [
    "plt.scatter(X_tvrflvm[:,1], X_tvrflvm[:,2])\n",
    "# Annotate outliers\n",
    "for i in star_indices:\n",
    "    plt.annotate(names[i], (X_tvrflvm[i, 1], X_tvrflvm[i, 2]), fontsize=7)\n",
    "plt.xlabel(\"Latent 2\")\n",
    "plt.ylabel(\"Latent 3\")"
   ]
  },
  {
   "cell_type": "code",
   "execution_count": null,
   "metadata": {},
   "outputs": [],
   "source": [
    "plt.scatter(X_tvrflvm[:,0], X_tvrflvm[:,2])\n",
    "# Annotate outliers\n",
    "for i in star_indices:\n",
    "    plt.annotate(names[i], (X_tvrflvm[i, 0], X_tvrflvm[i, 2]), fontsize=7)\n",
    "plt.xlabel(\"Latent 1\")\n",
    "plt.ylabel(\"Latent 3\")"
   ]
  },
  {
   "cell_type": "code",
   "execution_count": null,
   "metadata": {},
   "outputs": [],
   "source": []
  },
  {
   "cell_type": "markdown",
   "metadata": {},
   "source": [
    "We actually probably care about not the latent representation, but the projected latent representation $\\phi(X)$"
   ]
  },
  {
   "cell_type": "code",
   "execution_count": null,
   "metadata": {},
   "outputs": [],
   "source": [
    "W = results[\"W_auto_loc\"]\n",
    "U, _, _ = np.linalg.svd(X_tvrflvm, full_matrices=False)\n",
    "L       = np.linalg.cholesky(np.cov(U.T) + 1e-6 * np.eye(3)).T\n",
    "aligned_X  = np.linalg.solve(L, U.T).T\n",
    "X_tvrflvm_aligned = aligned_X / np.std(X_tvrflvm, axis=0)\n",
    "wTx = np.einsum(\"nr,mr -> nm\", X_tvrflvm_aligned, W)\n",
    "phi = np.hstack([np.cos(wTx), np.sin(wTx)]) * (1/ np.sqrt(10))"
   ]
  },
  {
   "cell_type": "code",
   "execution_count": null,
   "metadata": {},
   "outputs": [],
   "source": [
    "\n",
    "Z_tvrflvm_phi = linkage(phi, optimal_ordering=True, method=\"centroid\")\n",
    "\n",
    "dendrogram(Z_tvrflvm_phi, labels=names, p = 120, truncate_mode=\"lastp\", show_leaf_counts=False)"
   ]
  },
  {
   "cell_type": "markdown",
   "metadata": {},
   "source": [
    "## Functional Bases \n",
    "\n",
    "We can look at the metric curves for each of the bases"
   ]
  },
  {
   "cell_type": "code",
   "execution_count": null,
   "metadata": {},
   "outputs": [],
   "source": []
  },
  {
   "cell_type": "code",
   "execution_count": null,
   "metadata": {},
   "outputs": [],
   "source": [
    "bases_tvrflvm = results[\"beta_auto_loc\"]"
   ]
  },
  {
   "cell_type": "code",
   "execution_count": null,
   "metadata": {},
   "outputs": [],
   "source": [
    "for index, metric in enumerate(metrics):\n",
    "    _df = pd.DataFrame(bases_tvrflvm[index,:, :].T , columns=[f\"basis {i}\" for i in range(20)])\n",
    "    _df[\"age\"] = basis\n",
    "    _df.plot(x=\"age\", y=[f\"basis {i}\" for i in range(20)], xlabel=\"age\",\n",
    "         ylabel=\"Value\", title=f\"Metric: {metric}\")"
   ]
  },
  {
   "cell_type": "markdown",
   "metadata": {},
   "source": [
    "## 4-Way Tensor Decomposition\n",
    "Here, we have the 4-way tensor decomposition including the years that the players played in to account for the change in metrics over time. "
   ]
  },
  {
   "cell_type": "code",
   "execution_count": null,
   "metadata": {},
   "outputs": [],
   "source": [
    "with open(\"model_output/exponential_cp_multi_way.pkl\", \"rb\") as f:\n",
    "    results = pickle.load(f)\n",
    "f.close()"
   ]
  },
  {
   "cell_type": "code",
   "execution_count": null,
   "metadata": {},
   "outputs": [],
   "source": [
    "X_pcp_mw = results[\"U_auto_loc\"]\n",
    "\n",
    "\n",
    "Z_pcp_mw = linkage(X_pcp_mw, optimal_ordering=True, method=\"centroid\")\n",
    "\n",
    "dendrogram(Z_pcp_mw, labels=names, p = 100, truncate_mode=\"lastp\", show_leaf_counts=False)"
   ]
  },
  {
   "cell_type": "code",
   "execution_count": null,
   "metadata": {},
   "outputs": [],
   "source": [
    "plt.scatter(X_pcp_mw[:,0], X_pcp_mw[:,1])\n",
    "# Annotate outliers\n",
    "for i in star_indices:\n",
    "    plt.annotate(names[i], (X_pcp_mw[i, 0], X_pcp_mw[i, 1]), fontsize=7)\n",
    "plt.xlabel(\"Latent 1\")\n",
    "plt.ylabel(\"Latent 2\")"
   ]
  },
  {
   "cell_type": "code",
   "execution_count": null,
   "metadata": {},
   "outputs": [],
   "source": [
    "plt.scatter(X_pcp_mw[:,1], X_pcp_mw[:,2])\n",
    "# Annotate outliers\n",
    "for i in star_indices:\n",
    "    plt.annotate(names[i], (X_pcp_mw[i, 1], X_pcp_mw[i, 2]), fontsize=7)\n",
    "plt.xlabel(\"Latent 2\")\n",
    "plt.ylabel(\"Latent 3\")"
   ]
  },
  {
   "cell_type": "code",
   "execution_count": null,
   "metadata": {},
   "outputs": [],
   "source": [
    "plt.scatter(X_pcp_mw[:,0], X_pcp_mw[:,2])\n",
    "# Annotate outliers\n",
    "for i in star_indices:\n",
    "    plt.annotate(names[i], (X_pcp_mw[i, 0], X_pcp_mw[i, 2]), fontsize=7)\n",
    "plt.xlabel(\"Latent 1\")\n",
    "plt.ylabel(\"Latent 3\")"
   ]
  },
  {
   "cell_type": "code",
   "execution_count": null,
   "metadata": {},
   "outputs": [],
   "source": []
  },
  {
   "cell_type": "markdown",
   "metadata": {},
   "source": [
    "### Functional Bases"
   ]
  },
  {
   "cell_type": "code",
   "execution_count": null,
   "metadata": {},
   "outputs": [],
   "source": [
    "V_pcp_mw = results[\"V_auto_loc\"]\n",
    "W_pcp_mw = results[\"W_auto_loc\"]\n",
    "T_pcp_mw = results[\"Z_auto_loc\"]\n",
    "lam = results[\"lambda_auto_loc\"]"
   ]
  },
  {
   "cell_type": "code",
   "execution_count": null,
   "metadata": {},
   "outputs": [],
   "source": [
    "lam"
   ]
  },
  {
   "cell_type": "code",
   "execution_count": null,
   "metadata": {},
   "outputs": [],
   "source": [
    "bases_pcp_mw = np.einsum(\"tr,kr -> tkr\", V_pcp_mw,W_pcp_mw)\n",
    "bases_sum_pcp_mw = np.einsum(\"tkr,r -> tk\", bases_pcp_mw, lam)"
   ]
  },
  {
   "cell_type": "markdown",
   "metadata": {},
   "source": [
    "## Plotting individual Tensor Production Curves"
   ]
  },
  {
   "cell_type": "code",
   "execution_count": null,
   "metadata": {},
   "outputs": [],
   "source": [
    "for index, metric in enumerate(metrics):\n",
    "    _df = pd.DataFrame(bases_pcp_mw[:,index, :] , columns=[f\"basis {i}\" for i in range(3)])\n",
    "    _df[\"age\"] = basis\n",
    "    _df.plot(x=\"age\", y=[f\"basis {i}\" for i in range(3)], xlabel=\"age\",\n",
    "         ylabel=\"Value\", title=f\"Metric: {metric}\")"
   ]
  },
  {
   "cell_type": "markdown",
   "metadata": {},
   "source": [
    "### Plotting Combined Tensor Production Curves"
   ]
  },
  {
   "cell_type": "code",
   "execution_count": null,
   "metadata": {},
   "outputs": [],
   "source": [
    "for index, metric in enumerate(metrics):\n",
    "    _df = pd.DataFrame(bases_sum_pcp_mw[:,index] , columns=[\"total_basis\"])\n",
    "    _df[\"age\"] = basis\n",
    "    _df.plot(x=\"age\", y=[\"total_basis\"], xlabel=\"age\",\n",
    "         ylabel=\"Value\", title=f\"Metric: {metric}\")"
   ]
  },
  {
   "cell_type": "markdown",
   "metadata": {},
   "source": [
    "This seems like random noise!"
   ]
  },
  {
   "cell_type": "markdown",
   "metadata": {},
   "source": [
    "## Random Feature Latent Variable Model (with metric drift)\n",
    "This is the same TVRFLVM as before, except we account for the baseline level of metric to vary across time. "
   ]
  },
  {
   "cell_type": "code",
   "execution_count": null,
   "metadata": {},
   "outputs": [],
   "source": [
    "with open(\"model_output/nba_tvrflvm_drift.pkl\", \"rb\") as f:\n",
    "    results = pickle.load(f)\n",
    "f.close()"
   ]
  },
  {
   "cell_type": "code",
   "execution_count": null,
   "metadata": {},
   "outputs": [],
   "source": [
    "X_tvrflvm_drift = results[\"X_raw_auto_loc\"]\n",
    "\n",
    "\n",
    "Z_tvrflvm_drift = linkage(X_tvrflvm_drift, optimal_ordering=True, method=\"centroid\")\n",
    "\n",
    "dendrogram(Z_tvrflvm_drift, labels=names, p = 150, truncate_mode=\"lastp\", show_leaf_counts=False)"
   ]
  },
  {
   "cell_type": "code",
   "execution_count": null,
   "metadata": {},
   "outputs": [],
   "source": [
    "plt.scatter(X_tvrflvm_drift[:,0], X_tvrflvm_drift[:,1])\n",
    "# Annotate outliers\n",
    "for i in star_indices:\n",
    "    plt.annotate(names[i], (X_tvrflvm_drift[i, 0], X_tvrflvm_drift[i, 1]), fontsize=7)\n",
    "plt.xlabel(\"Latent 1\")\n",
    "plt.ylabel(\"Latent 2\")"
   ]
  },
  {
   "cell_type": "code",
   "execution_count": null,
   "metadata": {},
   "outputs": [],
   "source": [
    "plt.scatter(X_tvrflvm_drift[:,0], X_tvrflvm_drift[:,2])\n",
    "# Annotate outliers\n",
    "for i in star_indices:\n",
    "    plt.annotate(names[i], (X_tvrflvm_drift[i, 0], X_tvrflvm_drift[i, 2]), fontsize=7)\n",
    "plt.xlabel(\"Latent 1\")\n",
    "plt.ylabel(\"Latent 3\")"
   ]
  },
  {
   "cell_type": "code",
   "execution_count": null,
   "metadata": {},
   "outputs": [],
   "source": [
    "plt.scatter(X_tvrflvm_drift[:,1], X_tvrflvm_drift[:,2])\n",
    "# Annotate outliers\n",
    "for i in star_indices:\n",
    "    plt.annotate(names[i], (X_tvrflvm_drift[i, 1], X_tvrflvm_drift[i, 2]), fontsize=7)\n",
    "plt.xlabel(\"Latent 2\")\n",
    "plt.ylabel(\"Latent 3\")"
   ]
  },
  {
   "cell_type": "markdown",
   "metadata": {},
   "source": [
    "We actually probably care about not the latent representation, but the projected latent representation $\\phi(X)$"
   ]
  },
  {
   "cell_type": "code",
   "execution_count": null,
   "metadata": {},
   "outputs": [],
   "source": [
    "W = results[\"W_auto_loc\"]\n",
    "U, _, _ = np.linalg.svd(X_tvrflvm_drift, full_matrices=False)\n",
    "L       = np.linalg.cholesky(np.cov(U.T) + 1e-6 * np.eye(3)).T\n",
    "aligned_X  = np.linalg.solve(L, U.T).T\n",
    "X_tvrflvm_aligned_drift = aligned_X / np.std(X_tvrflvm_drift, axis=0)\n",
    "wTx = np.einsum(\"nr,mr -> nm\", X_tvrflvm_aligned_drift, W)\n",
    "phi = np.hstack([np.cos(wTx), np.sin(wTx)]) * (1/ np.sqrt(10))"
   ]
  },
  {
   "cell_type": "code",
   "execution_count": null,
   "metadata": {},
   "outputs": [],
   "source": [
    "\n",
    "Z_tvrflvm_phi_drift = linkage(phi, optimal_ordering=True, method=\"centroid\")\n",
    "\n",
    "dendrogram(Z_tvrflvm_phi_drift, labels=names, p = 120, truncate_mode=\"lastp\", show_leaf_counts=False)"
   ]
  },
  {
   "cell_type": "markdown",
   "metadata": {},
   "source": [
    "## Functional Bases \n",
    "\n",
    "We can look at the metric curves for each of the bases"
   ]
  },
  {
   "cell_type": "code",
   "execution_count": null,
   "metadata": {},
   "outputs": [],
   "source": [
    "bases_tvrflvm_drift = results[\"beta_auto_loc\"]"
   ]
  },
  {
   "cell_type": "code",
   "execution_count": null,
   "metadata": {},
   "outputs": [],
   "source": [
    "for index, metric in enumerate(metrics):\n",
    "    _df = pd.DataFrame(bases_tvrflvm_drift[index,:, :].T , columns=[f\"basis {i}\" for i in range(20)])\n",
    "    _df[\"age\"] = basis\n",
    "    _df.plot(x=\"age\", y=[f\"basis {i}\" for i in range(20)], xlabel=\"age\",\n",
    "         ylabel=\"Value\", title=f\"Metric: {metric}\")"
   ]
  },
  {
   "cell_type": "markdown",
   "metadata": {},
   "source": [
    "### Looking at the metric drift terms\n",
    "Here, we can look at how each metric has changed over the years. "
   ]
  },
  {
   "cell_type": "code",
   "execution_count": null,
   "metadata": {},
   "outputs": [],
   "source": [
    "from model.hsgp import eigenfunctions, diag_spectral_density"
   ]
  },
  {
   "cell_type": "code",
   "execution_count": null,
   "metadata": {},
   "outputs": [],
   "source": [
    "drift_keys = sorted([item for item in results.keys() if \"drift\" in item], key = lambda x: int(x.split(\"_\")[1]))"
   ]
  },
  {
   "cell_type": "code",
   "execution_count": null,
   "metadata": {},
   "outputs": [],
   "source": [
    "drift = np.hstack( [results[key] for key in drift_keys] )"
   ]
  },
  {
   "cell_type": "code",
   "execution_count": null,
   "metadata": {},
   "outputs": [],
   "source": [
    "f_stack = []\n",
    "time_basis = np.arange(data[\"year\"].min(), data[\"year\"].max() + 1)\n",
    "L = np.max(np.abs(time_basis), axis=0)*1.5\n",
    "phi = eigenfunctions(time_basis, L, 10)\n",
    "for i in range(len(metrics)):   \n",
    "    spd = np.tile(np.sqrt(diag_spectral_density(1, 1, L, 10)), (1,1)).T\n",
    "    f = phi @ (spd * drift[..., i])\n",
    "    f_stack.append(f)"
   ]
  },
  {
   "cell_type": "code",
   "execution_count": null,
   "metadata": {},
   "outputs": [],
   "source": [
    "f = np.stack(f_stack)"
   ]
  },
  {
   "cell_type": "code",
   "execution_count": null,
   "metadata": {},
   "outputs": [],
   "source": [
    "for index, metric in enumerate(metrics):\n",
    "    _df = pd.DataFrame(f[index,:, :] , columns=[f\"basis {i}\" for i in range(10)])\n",
    "    _df[\"year\"] = time_basis\n",
    "    _df.plot(x=\"year\", y=[f\"basis {i}\" for i in range(10)], xlabel=\"year\",\n",
    "         ylabel=\"Value\", title=f\"Metric: {metric}\")"
   ]
  },
  {
   "cell_type": "markdown",
   "metadata": {},
   "source": [
    "# Fixed Latent Space RFLVM\n",
    "Here, we used the fixed latent space on X and estimated $\\phi(X)$, $\\beta$ using MCMC sampling. "
   ]
  },
  {
   "cell_type": "code",
   "execution_count": 5,
   "metadata": {},
   "outputs": [
    {
     "name": "stderr",
     "output_type": "stream",
     "text": [
      "Platform 'METAL' is experimental and not all JAX functionality may be correctly supported!\n",
      "2024-06-07 21:44:30.304093: W pjrt_plugin/src/mps_client.cc:563] WARNING: JAX Apple GPU support is experimental and not all JAX functionality is correctly supported!\n"
     ]
    },
    {
     "name": "stdout",
     "output_type": "stream",
     "text": [
      "Metal device set to: Apple M3 Pro\n",
      "\n",
      "systemMemory: 18.00 GB\n",
      "maxCacheSize: 6.00 GB\n",
      "\n"
     ]
    }
   ],
   "source": [
    "with open(\"model_output/fixed_nba_rflvm.pkl\", \"rb\") as f:\n",
    "    results = pickle.load(f)\n",
    "f.close()"
   ]
  },
  {
   "cell_type": "code",
   "execution_count": 6,
   "metadata": {},
   "outputs": [
    {
     "data": {
      "text/plain": [
       "dict_keys(['W', 'beta', 'mu', 'sigma_dbpm', 'sigma_log_min', 'sigma_obpm'])"
      ]
     },
     "execution_count": 6,
     "metadata": {},
     "output_type": "execute_result"
    }
   ],
   "source": [
    "results.keys()"
   ]
  },
  {
   "cell_type": "code",
   "execution_count": 7,
   "metadata": {},
   "outputs": [],
   "source": [
    "inference_data = az.from_dict(results)"
   ]
  },
  {
   "cell_type": "code",
   "execution_count": 8,
   "metadata": {},
   "outputs": [],
   "source": [
    "summary_results = az.summary(inference_data, var_names=\"mu\")"
   ]
  },
  {
   "cell_type": "code",
   "execution_count": 9,
   "metadata": {},
   "outputs": [
    {
     "data": {
      "text/plain": [
       "array([[<Axes: title={'center': 'W'}>, <Axes: title={'center': 'W'}>]],\n",
       "      dtype=object)"
      ]
     },
     "execution_count": 9,
     "metadata": {},
     "output_type": "execute_result"
    },
    {
     "data": {
      "image/png": "[encoded data removed]",
      "text/plain": [
       "<Figure size 1200x200 with 2 Axes>"
      ]
     },
     "metadata": {},
     "output_type": "display_data"
    }
   ],
   "source": [
    "az.plot_trace(inference_data, var_names=\"W\", coords={\"W_dim_0\":0, \"W_dim_1\":0})"
   ]
  },
  {
   "cell_type": "code",
   "execution_count": 10,
   "metadata": {},
   "outputs": [
    {
     "data": {
      "text/plain": [
       "array([[<Axes: title={'center': 'beta'}>,\n",
       "        <Axes: title={'center': 'beta'}>]], dtype=object)"
      ]
     },
     "execution_count": 10,
     "metadata": {},
     "output_type": "execute_result"
    },
    {
     "data": {
      "image/png": "[encoded data removed]",
      "text/plain": [
       "<Figure size 1200x200 with 2 Axes>"
      ]
     },
     "metadata": {},
     "output_type": "display_data"
    }
   ],
   "source": [
    "az.plot_trace(inference_data, var_names=\"beta\", coords={\"beta_dim_0\":0, \"beta_dim_1\":0, \"beta_dim_2\":0})"
   ]
  },
  {
   "cell_type": "code",
   "execution_count": 11,
   "metadata": {},
   "outputs": [
    {
     "data": {
      "text/plain": [
       "array([[<Axes: title={'center': 'sigma_log_min'}>,\n",
       "        <Axes: title={'center': 'sigma_log_min'}>]], dtype=object)"
      ]
     },
     "execution_count": 11,
     "metadata": {},
     "output_type": "execute_result"
    },
    {
     "data": {
      "image/png": "[encoded data removed]",
      "text/plain": [
       "<Figure size 1200x200 with 2 Axes>"
      ]
     },
     "metadata": {},
     "output_type": "display_data"
    }
   ],
   "source": [
    "az.plot_trace(inference_data, var_names=\"sigma_log_min\")"
   ]
  },
  {
   "cell_type": "code",
   "execution_count": 93,
   "metadata": {},
   "outputs": [
    {
     "data": {
      "text/html": [
       "\n",
       "            <div>\n",
       "              <div class='xr-header'>\n",
       "                <div class=\"xr-obj-type\">arviz.InferenceData</div>\n",
       "              </div>\n",
       "              <ul class=\"xr-sections group-sections\">\n",
       "              \n",
       "            <li class = \"xr-section-item\">\n",
       "                  <input id=\"idata_posterior594ed458-69fc-47f6-b2ff-37874e577244\" class=\"xr-section-summary-in\" type=\"checkbox\">\n",
       "                  <label for=\"idata_posterior594ed458-69fc-47f6-b2ff-37874e577244\" class = \"xr-section-summary\">posterior</label>\n",
       "                  <div class=\"xr-section-inline-details\"></div>\n",
       "                  <div class=\"xr-section-details\">\n",
       "                      <ul id=\"xr-dataset-coord-list\" class=\"xr-var-list\">\n",
       "                          <div style=\"padding-left:2rem;\"><div><svg style=\"position: absolute; width: 0; height: 0; overflow: hidden\">\n",
       "<defs>\n",
       "<symbol id=\"icon-database\" viewBox=\"0 0 32 32\">\n",
       "<path d=\"M16 0c-8.837 0-16 2.239-16 5v4c0 2.761 7.163 5 16 5s16-2.239 16-5v-4c0-2.761-7.163-5-16-5z\"></path>\n",
       "<path d=\"M16 17c-8.837 0-16-2.239-16-5v6c0 2.761 7.163 5 16 5s16-2.239 16-5v-6c0 2.761-7.163 5-16 5z\"></path>\n",
       "<path d=\"M16 26c-8.837 0-16-2.239-16-5v6c0 2.761 7.163 5 16 5s16-2.239 16-5v-6c0 2.761-7.163 5-16 5z\"></path>\n",
       "</symbol>\n",
       "<symbol id=\"icon-file-text2\" viewBox=\"0 0 32 32\">\n",
       "<path d=\"M28.681 7.159c-0.694-0.947-1.662-2.053-2.724-3.116s-2.169-2.030-3.116-2.724c-1.612-1.182-2.393-1.319-2.841-1.319h-15.5c-1.378 0-2.5 1.121-2.5 2.5v27c0 1.378 1.122 2.5 2.5 2.5h23c1.378 0 2.5-1.122 2.5-2.5v-19.5c0-0.448-0.137-1.23-1.319-2.841zM24.543 5.457c0.959 0.959 1.712 1.825 2.268 2.543h-4.811v-4.811c0.718 0.556 1.584 1.309 2.543 2.268zM28 29.5c0 0.271-0.229 0.5-0.5 0.5h-23c-0.271 0-0.5-0.229-0.5-0.5v-27c0-0.271 0.229-0.5 0.5-0.5 0 0 15.499-0 15.5 0v7c0 0.552 0.448 1 1 1h7v19.5z\"></path>\n",
       "<path d=\"M23 26h-14c-0.552 0-1-0.448-1-1s0.448-1 1-1h14c0.552 0 1 0.448 1 1s-0.448 1-1 1z\"></path>\n",
       "<path d=\"M23 22h-14c-0.552 0-1-0.448-1-1s0.448-1 1-1h14c0.552 0 1 0.448 1 1s-0.448 1-1 1z\"></path>\n",
       "<path d=\"M23 18h-14c-0.552 0-1-0.448-1-1s0.448-1 1-1h14c0.552 0 1 0.448 1 1s-0.448 1-1 1z\"></path>\n",
       "</symbol>\n",
       "</defs>\n",
       "</svg>\n",
       "<style>/* CSS stylesheet for displaying xarray objects in jupyterlab.\n",
       " *\n",
       " */\n",
       "\n",
       ":root {\n",
       "  --xr-font-color0: var(--jp-content-font-color0, rgba(0, 0, 0, 1));\n",
       "  --xr-font-color2: var(--jp-content-font-color2, rgba(0, 0, 0, 0.54));\n",
       "  --xr-font-color3: var(--jp-content-font-color3, rgba(0, 0, 0, 0.38));\n",
       "  --xr-border-color: var(--jp-border-color2, #e0e0e0);\n",
       "  --xr-disabled-color: var(--jp-layout-color3, #bdbdbd);\n",
       "  --xr-background-color: var(--jp-layout-color0, white);\n",
       "  --xr-background-color-row-even: var(--jp-layout-color1, white);\n",
       "  --xr-background-color-row-odd: var(--jp-layout-color2, #eeeeee);\n",
       "}\n",
       "\n",
       "html[theme=dark],\n",
       "body[data-theme=dark],\n",
       "body.vscode-dark {\n",
       "  --xr-font-color0: rgba(255, 255, 255, 1);\n",
       "  --xr-font-color2: rgba(255, 255, 255, 0.54);\n",
       "  --xr-font-color3: rgba(255, 255, 255, 0.38);\n",
       "  --xr-border-color: #1F1F1F;\n",
       "  --xr-disabled-color: #515151;\n",
       "  --xr-background-color: #111111;\n",
       "  --xr-background-color-row-even: #111111;\n",
       "  --xr-background-color-row-odd: #313131;\n",
       "}\n",
       "\n",
       ".xr-wrap {\n",
       "  display: block !important;\n",
       "  min-width: 300px;\n",
       "  max-width: 700px;\n",
       "}\n",
       "\n",
       ".xr-text-repr-fallback {\n",
       "  /* fallback to plain text repr when CSS is not injected (untrusted notebook) */\n",
       "  display: none;\n",
       "}\n",
       "\n",
       ".xr-header {\n",
       "  padding-top: 6px;\n",
       "  padding-bottom: 6px;\n",
       "  margin-bottom: 4px;\n",
       "  border-bottom: solid 1px var(--xr-border-color);\n",
       "}\n",
       "\n",
       ".xr-header > div,\n",
       ".xr-header > ul {\n",
       "  display: inline;\n",
       "  margin-top: 0;\n",
       "  margin-bottom: 0;\n",
       "}\n",
       "\n",
       ".xr-obj-type,\n",
       ".xr-array-name {\n",
       "  margin-left: 2px;\n",
       "  margin-right: 10px;\n",
       "}\n",
       "\n",
       ".xr-obj-type {\n",
       "  color: var(--xr-font-color2);\n",
       "}\n",
       "\n",
       ".xr-sections {\n",
       "  padding-left: 0 !important;\n",
       "  display: grid;\n",
       "  grid-template-columns: 150px auto auto 1fr 20px 20px;\n",
       "}\n",
       "\n",
       ".xr-section-item {\n",
       "  display: contents;\n",
       "}\n",
       "\n",
       ".xr-section-item input {\n",
       "  display: none;\n",
       "}\n",
       "\n",
       ".xr-section-item input + label {\n",
       "  color: var(--xr-disabled-color);\n",
       "}\n",
       "\n",
       ".xr-section-item input:enabled + label {\n",
       "  cursor: pointer;\n",
       "  color: var(--xr-font-color2);\n",
       "}\n",
       "\n",
       ".xr-section-item input:enabled + label:hover {\n",
       "  color: var(--xr-font-color0);\n",
       "}\n",
       "\n",
       ".xr-section-summary {\n",
       "  grid-column: 1;\n",
       "  color: var(--xr-font-color2);\n",
       "  font-weight: 500;\n",
       "}\n",
       "\n",
       ".xr-section-summary > span {\n",
       "  display: inline-block;\n",
       "  padding-left: 0.5em;\n",
       "}\n",
       "\n",
       ".xr-section-summary-in:disabled + label {\n",
       "  color: var(--xr-font-color2);\n",
       "}\n",
       "\n",
       ".xr-section-summary-in + label:before {\n",
       "  display: inline-block;\n",
       "  content: '►';\n",
       "  font-size: 11px;\n",
       "  width: 15px;\n",
       "  text-align: center;\n",
       "}\n",
       "\n",
       ".xr-section-summary-in:disabled + label:before {\n",
       "  color: var(--xr-disabled-color);\n",
       "}\n",
       "\n",
       ".xr-section-summary-in:checked + label:before {\n",
       "  content: '▼';\n",
       "}\n",
       "\n",
       ".xr-section-summary-in:checked + label > span {\n",
       "  display: none;\n",
       "}\n",
       "\n",
       ".xr-section-summary,\n",
       ".xr-section-inline-details {\n",
       "  padding-top: 4px;\n",
       "  padding-bottom: 4px;\n",
       "}\n",
       "\n",
       ".xr-section-inline-details {\n",
       "  grid-column: 2 / -1;\n",
       "}\n",
       "\n",
       ".xr-section-details {\n",
       "  display: none;\n",
       "  grid-column: 1 / -1;\n",
       "  margin-bottom: 5px;\n",
       "}\n",
       "\n",
       ".xr-section-summary-in:checked ~ .xr-section-details {\n",
       "  display: contents;\n",
       "}\n",
       "\n",
       ".xr-array-wrap {\n",
       "  grid-column: 1 / -1;\n",
       "  display: grid;\n",
       "  grid-template-columns: 20px auto;\n",
       "}\n",
       "\n",
       ".xr-array-wrap > label {\n",
       "  grid-column: 1;\n",
       "  vertical-align: top;\n",
       "}\n",
       "\n",
       ".xr-preview {\n",
       "  color: var(--xr-font-color3);\n",
       "}\n",
       "\n",
       ".xr-array-preview,\n",
       ".xr-array-data {\n",
       "  padding: 0 5px !important;\n",
       "  grid-column: 2;\n",
       "}\n",
       "\n",
       ".xr-array-data,\n",
       ".xr-array-in:checked ~ .xr-array-preview {\n",
       "  display: none;\n",
       "}\n",
       "\n",
       ".xr-array-in:checked ~ .xr-array-data,\n",
       ".xr-array-preview {\n",
       "  display: inline-block;\n",
       "}\n",
       "\n",
       ".xr-dim-list {\n",
       "  display: inline-block !important;\n",
       "  list-style: none;\n",
       "  padding: 0 !important;\n",
       "  margin: 0;\n",
       "}\n",
       "\n",
       ".xr-dim-list li {\n",
       "  display: inline-block;\n",
       "  padding: 0;\n",
       "  margin: 0;\n",
       "}\n",
       "\n",
       ".xr-dim-list:before {\n",
       "  content: '(';\n",
       "}\n",
       "\n",
       ".xr-dim-list:after {\n",
       "  content: ')';\n",
       "}\n",
       "\n",
       ".xr-dim-list li:not(:last-child):after {\n",
       "  content: ',';\n",
       "  padding-right: 5px;\n",
       "}\n",
       "\n",
       ".xr-has-index {\n",
       "  font-weight: bold;\n",
       "}\n",
       "\n",
       ".xr-var-list,\n",
       ".xr-var-item {\n",
       "  display: contents;\n",
       "}\n",
       "\n",
       ".xr-var-item > div,\n",
       ".xr-var-item label,\n",
       ".xr-var-item > .xr-var-name span {\n",
       "  background-color: var(--xr-background-color-row-even);\n",
       "  margin-bottom: 0;\n",
       "}\n",
       "\n",
       ".xr-var-item > .xr-var-name:hover span {\n",
       "  padding-right: 5px;\n",
       "}\n",
       "\n",
       ".xr-var-list > li:nth-child(odd) > div,\n",
       ".xr-var-list > li:nth-child(odd) > label,\n",
       ".xr-var-list > li:nth-child(odd) > .xr-var-name span {\n",
       "  background-color: var(--xr-background-color-row-odd);\n",
       "}\n",
       "\n",
       ".xr-var-name {\n",
       "  grid-column: 1;\n",
       "}\n",
       "\n",
       ".xr-var-dims {\n",
       "  grid-column: 2;\n",
       "}\n",
       "\n",
       ".xr-var-dtype {\n",
       "  grid-column: 3;\n",
       "  text-align: right;\n",
       "  color: var(--xr-font-color2);\n",
       "}\n",
       "\n",
       ".xr-var-preview {\n",
       "  grid-column: 4;\n",
       "}\n",
       "\n",
       ".xr-index-preview {\n",
       "  grid-column: 2 / 5;\n",
       "  color: var(--xr-font-color2);\n",
       "}\n",
       "\n",
       ".xr-var-name,\n",
       ".xr-var-dims,\n",
       ".xr-var-dtype,\n",
       ".xr-preview,\n",
       ".xr-attrs dt {\n",
       "  white-space: nowrap;\n",
       "  overflow: hidden;\n",
       "  text-overflow: ellipsis;\n",
       "  padding-right: 10px;\n",
       "}\n",
       "\n",
       ".xr-var-name:hover,\n",
       ".xr-var-dims:hover,\n",
       ".xr-var-dtype:hover,\n",
       ".xr-attrs dt:hover {\n",
       "  overflow: visible;\n",
       "  width: auto;\n",
       "  z-index: 1;\n",
       "}\n",
       "\n",
       ".xr-var-attrs,\n",
       ".xr-var-data,\n",
       ".xr-index-data {\n",
       "  display: none;\n",
       "  background-color: var(--xr-background-color) !important;\n",
       "  padding-bottom: 5px !important;\n",
       "}\n",
       "\n",
       ".xr-var-attrs-in:checked ~ .xr-var-attrs,\n",
       ".xr-var-data-in:checked ~ .xr-var-data,\n",
       ".xr-index-data-in:checked ~ .xr-index-data {\n",
       "  display: block;\n",
       "}\n",
       "\n",
       ".xr-var-data > table {\n",
       "  float: right;\n",
       "}\n",
       "\n",
       ".xr-var-name span,\n",
       ".xr-var-data,\n",
       ".xr-index-name div,\n",
       ".xr-index-data,\n",
       ".xr-attrs {\n",
       "  padding-left: 25px !important;\n",
       "}\n",
       "\n",
       ".xr-attrs,\n",
       ".xr-var-attrs,\n",
       ".xr-var-data,\n",
       ".xr-index-data {\n",
       "  grid-column: 1 / -1;\n",
       "}\n",
       "\n",
       "dl.xr-attrs {\n",
       "  padding: 0;\n",
       "  margin: 0;\n",
       "  display: grid;\n",
       "  grid-template-columns: 125px auto;\n",
       "}\n",
       "\n",
       ".xr-attrs dt,\n",
       ".xr-attrs dd {\n",
       "  padding: 0;\n",
       "  margin: 0;\n",
       "  float: left;\n",
       "  padding-right: 10px;\n",
       "  width: auto;\n",
       "}\n",
       "\n",
       ".xr-attrs dt {\n",
       "  font-weight: normal;\n",
       "  grid-column: 1;\n",
       "}\n",
       "\n",
       ".xr-attrs dt:hover span {\n",
       "  display: inline-block;\n",
       "  background: var(--xr-background-color);\n",
       "  padding-right: 10px;\n",
       "}\n",
       "\n",
       ".xr-attrs dd {\n",
       "  grid-column: 2;\n",
       "  white-space: pre-wrap;\n",
       "  word-break: break-all;\n",
       "}\n",
       "\n",
       ".xr-icon-database,\n",
       ".xr-icon-file-text2,\n",
       ".xr-no-icon {\n",
       "  display: inline-block;\n",
       "  vertical-align: middle;\n",
       "  width: 1em;\n",
       "  height: 1.5em !important;\n",
       "  stroke-width: 0;\n",
       "  stroke: currentColor;\n",
       "  fill: currentColor;\n",
       "}\n",
       "</style><pre class='xr-text-repr-fallback'>&lt;xarray.Dataset&gt; Size: 5GB\n",
       "Dimensions:        (chain: 4, draw: 2000, W_dim_0: 5, W_dim_1: 2,\n",
       "                    beta_dim_0: 3, beta_dim_1: 10, beta_dim_2: 21, mu_dim_0: 3,\n",
       "                    mu_dim_1: 2328, mu_dim_2: 21)\n",
       "Coordinates:\n",
       "  * chain          (chain) int64 32B 0 1 2 3\n",
       "  * draw           (draw) int64 16kB 0 1 2 3 4 5 ... 1995 1996 1997 1998 1999\n",
       "  * W_dim_0        (W_dim_0) int64 40B 0 1 2 3 4\n",
       "  * W_dim_1        (W_dim_1) int64 16B 0 1\n",
       "  * beta_dim_0     (beta_dim_0) int64 24B 0 1 2\n",
       "  * beta_dim_1     (beta_dim_1) int64 80B 0 1 2 3 4 5 6 7 8 9\n",
       "  * beta_dim_2     (beta_dim_2) int64 168B 0 1 2 3 4 5 6 ... 15 16 17 18 19 20\n",
       "  * mu_dim_0       (mu_dim_0) int64 24B 0 1 2\n",
       "  * mu_dim_1       (mu_dim_1) int64 19kB 0 1 2 3 4 ... 2323 2324 2325 2326 2327\n",
       "  * mu_dim_2       (mu_dim_2) int64 168B 0 1 2 3 4 5 6 ... 14 15 16 17 18 19 20\n",
       "Data variables:\n",
       "    W              (chain, draw, W_dim_0, W_dim_1) float32 320kB 1.488 ... 0....\n",
       "    beta           (chain, draw, beta_dim_0, beta_dim_1, beta_dim_2) float32 20MB ...\n",
       "    mu             (chain, draw, mu_dim_0, mu_dim_1, mu_dim_2) float32 5GB 2....\n",
       "    sigma_dbpm     (chain, draw) float32 32kB 39.5 39.52 40.22 ... 39.47 39.58\n",
       "    sigma_log_min  (chain, draw) float32 32kB 1.275 1.302 1.302 ... 1.298 1.296\n",
       "    sigma_obpm     (chain, draw) float32 32kB 84.68 83.84 84.7 ... 84.15 84.15\n",
       "Attributes:\n",
       "    created_at:     2024-06-08T01:35:14.674191+00:00\n",
       "    arviz_version:  0.18.0</pre><div class='xr-wrap' style='display:none'><div class='xr-header'><div class='xr-obj-type'>xarray.Dataset</div></div><ul class='xr-sections'><li class='xr-section-item'><input id='section-233f49a6-bdf9-44b0-b62e-a6499576beef' class='xr-section-summary-in' type='checkbox' disabled ><label for='section-233f49a6-bdf9-44b0-b62e-a6499576beef' class='xr-section-summary'  title='Expand/collapse section'>Dimensions:</label><div class='xr-section-inline-details'><ul class='xr-dim-list'><li><span class='xr-has-index'>chain</span>: 4</li><li><span class='xr-has-index'>draw</span>: 2000</li><li><span class='xr-has-index'>W_dim_0</span>: 5</li><li><span class='xr-has-index'>W_dim_1</span>: 2</li><li><span class='xr-has-index'>beta_dim_0</span>: 3</li><li><span class='xr-has-index'>beta_dim_1</span>: 10</li><li><span class='xr-has-index'>beta_dim_2</span>: 21</li><li><span class='xr-has-index'>mu_dim_0</span>: 3</li><li><span class='xr-has-index'>mu_dim_1</span>: 2328</li><li><span class='xr-has-index'>mu_dim_2</span>: 21</li></ul></div><div class='xr-section-details'></div></li><li class='xr-section-item'><input id='section-9fdfcc53-a700-46c2-9b5b-d63e8e5772d2' class='xr-section-summary-in' type='checkbox'  checked><label for='section-9fdfcc53-a700-46c2-9b5b-d63e8e5772d2' class='xr-section-summary' >Coordinates: <span>(10)</span></label><div class='xr-section-inline-details'></div><div class='xr-section-details'><ul class='xr-var-list'><li class='xr-var-item'><div class='xr-var-name'><span class='xr-has-index'>chain</span></div><div class='xr-var-dims'>(chain)</div><div class='xr-var-dtype'>int64</div><div class='xr-var-preview xr-preview'>0 1 2 3</div><input id='attrs-568a439d-d52a-4e43-a34a-ff06db8e92de' class='xr-var-attrs-in' type='checkbox' disabled><label for='attrs-568a439d-d52a-4e43-a34a-ff06db8e92de' title='Show/Hide attributes'><svg class='icon xr-icon-file-text2'><use xlink:href='#icon-file-text2'></use></svg></label><input id='data-f6899523-30e9-4aa4-a719-087441562038' class='xr-var-data-in' type='checkbox'><label for='data-f6899523-30e9-4aa4-a719-087441562038' title='Show/Hide data repr'><svg class='icon xr-icon-database'><use xlink:href='#icon-database'></use></svg></label><div class='xr-var-attrs'><dl class='xr-attrs'></dl></div><div class='xr-var-data'><pre>array([0, 1, 2, 3])</pre></div></li><li class='xr-var-item'><div class='xr-var-name'><span class='xr-has-index'>draw</span></div><div class='xr-var-dims'>(draw)</div><div class='xr-var-dtype'>int64</div><div class='xr-var-preview xr-preview'>0 1 2 3 4 ... 1996 1997 1998 1999</div><input id='attrs-78181ab6-630d-4d35-b5ee-d6d462af01cd' class='xr-var-attrs-in' type='checkbox' disabled><label for='attrs-78181ab6-630d-4d35-b5ee-d6d462af01cd' title='Show/Hide attributes'><svg class='icon xr-icon-file-text2'><use xlink:href='#icon-file-text2'></use></svg></label><input id='data-fe5ab3f9-32e4-4a29-8d9b-c5b6da797ef0' class='xr-var-data-in' type='checkbox'><label for='data-fe5ab3f9-32e4-4a29-8d9b-c5b6da797ef0' title='Show/Hide data repr'><svg class='icon xr-icon-database'><use xlink:href='#icon-database'></use></svg></label><div class='xr-var-attrs'><dl class='xr-attrs'></dl></div><div class='xr-var-data'><pre>array([   0,    1,    2, ..., 1997, 1998, 1999])</pre></div></li><li class='xr-var-item'><div class='xr-var-name'><span class='xr-has-index'>W_dim_0</span></div><div class='xr-var-dims'>(W_dim_0)</div><div class='xr-var-dtype'>int64</div><div class='xr-var-preview xr-preview'>0 1 2 3 4</div><input id='attrs-cf250106-8dc0-4936-aae6-4700fc349120' class='xr-var-attrs-in' type='checkbox' disabled><label for='attrs-cf250106-8dc0-4936-aae6-4700fc349120' title='Show/Hide attributes'><svg class='icon xr-icon-file-text2'><use xlink:href='#icon-file-text2'></use></svg></label><input id='data-8db85b20-22b2-45fe-b439-ac2b6961bff7' class='xr-var-data-in' type='checkbox'><label for='data-8db85b20-22b2-45fe-b439-ac2b6961bff7' title='Show/Hide data repr'><svg class='icon xr-icon-database'><use xlink:href='#icon-database'></use></svg></label><div class='xr-var-attrs'><dl class='xr-attrs'></dl></div><div class='xr-var-data'><pre>array([0, 1, 2, 3, 4])</pre></div></li><li class='xr-var-item'><div class='xr-var-name'><span class='xr-has-index'>W_dim_1</span></div><div class='xr-var-dims'>(W_dim_1)</div><div class='xr-var-dtype'>int64</div><div class='xr-var-preview xr-preview'>0 1</div><input id='attrs-3eb31d0d-a9cf-4658-a4e1-eeeb17107617' class='xr-var-attrs-in' type='checkbox' disabled><label for='attrs-3eb31d0d-a9cf-4658-a4e1-eeeb17107617' title='Show/Hide attributes'><svg class='icon xr-icon-file-text2'><use xlink:href='#icon-file-text2'></use></svg></label><input id='data-6776b701-6c3f-4e40-924c-5e0d838bbc75' class='xr-var-data-in' type='checkbox'><label for='data-6776b701-6c3f-4e40-924c-5e0d838bbc75' title='Show/Hide data repr'><svg class='icon xr-icon-database'><use xlink:href='#icon-database'></use></svg></label><div class='xr-var-attrs'><dl class='xr-attrs'></dl></div><div class='xr-var-data'><pre>array([0, 1])</pre></div></li><li class='xr-var-item'><div class='xr-var-name'><span class='xr-has-index'>beta_dim_0</span></div><div class='xr-var-dims'>(beta_dim_0)</div><div class='xr-var-dtype'>int64</div><div class='xr-var-preview xr-preview'>0 1 2</div><input id='attrs-cf4d3506-a41f-46c3-8c48-508672319ba1' class='xr-var-attrs-in' type='checkbox' disabled><label for='attrs-cf4d3506-a41f-46c3-8c48-508672319ba1' title='Show/Hide attributes'><svg class='icon xr-icon-file-text2'><use xlink:href='#icon-file-text2'></use></svg></label><input id='data-d387edaf-4eb2-4ad4-a14a-62492a5d3e40' class='xr-var-data-in' type='checkbox'><label for='data-d387edaf-4eb2-4ad4-a14a-62492a5d3e40' title='Show/Hide data repr'><svg class='icon xr-icon-database'><use xlink:href='#icon-database'></use></svg></label><div class='xr-var-attrs'><dl class='xr-attrs'></dl></div><div class='xr-var-data'><pre>array([0, 1, 2])</pre></div></li><li class='xr-var-item'><div class='xr-var-name'><span class='xr-has-index'>beta_dim_1</span></div><div class='xr-var-dims'>(beta_dim_1)</div><div class='xr-var-dtype'>int64</div><div class='xr-var-preview xr-preview'>0 1 2 3 4 5 6 7 8 9</div><input id='attrs-fcea460b-da7a-4f28-9502-bd2c70f641af' class='xr-var-attrs-in' type='checkbox' disabled><label for='attrs-fcea460b-da7a-4f28-9502-bd2c70f641af' title='Show/Hide attributes'><svg class='icon xr-icon-file-text2'><use xlink:href='#icon-file-text2'></use></svg></label><input id='data-845cb087-8f6e-4c32-8fe4-d59239b46efb' class='xr-var-data-in' type='checkbox'><label for='data-845cb087-8f6e-4c32-8fe4-d59239b46efb' title='Show/Hide data repr'><svg class='icon xr-icon-database'><use xlink:href='#icon-database'></use></svg></label><div class='xr-var-attrs'><dl class='xr-attrs'></dl></div><div class='xr-var-data'><pre>array([0, 1, 2, 3, 4, 5, 6, 7, 8, 9])</pre></div></li><li class='xr-var-item'><div class='xr-var-name'><span class='xr-has-index'>beta_dim_2</span></div><div class='xr-var-dims'>(beta_dim_2)</div><div class='xr-var-dtype'>int64</div><div class='xr-var-preview xr-preview'>0 1 2 3 4 5 6 ... 15 16 17 18 19 20</div><input id='attrs-f80bf608-4a8a-4a64-9e40-7f6011613ae6' class='xr-var-attrs-in' type='checkbox' disabled><label for='attrs-f80bf608-4a8a-4a64-9e40-7f6011613ae6' title='Show/Hide attributes'><svg class='icon xr-icon-file-text2'><use xlink:href='#icon-file-text2'></use></svg></label><input id='data-a62832ba-4d1d-4ddb-85b3-5c6e9b1c7646' class='xr-var-data-in' type='checkbox'><label for='data-a62832ba-4d1d-4ddb-85b3-5c6e9b1c7646' title='Show/Hide data repr'><svg class='icon xr-icon-database'><use xlink:href='#icon-database'></use></svg></label><div class='xr-var-attrs'><dl class='xr-attrs'></dl></div><div class='xr-var-data'><pre>array([ 0,  1,  2,  3,  4,  5,  6,  7,  8,  9, 10, 11, 12, 13, 14, 15, 16, 17,\n",
       "       18, 19, 20])</pre></div></li><li class='xr-var-item'><div class='xr-var-name'><span class='xr-has-index'>mu_dim_0</span></div><div class='xr-var-dims'>(mu_dim_0)</div><div class='xr-var-dtype'>int64</div><div class='xr-var-preview xr-preview'>0 1 2</div><input id='attrs-e61033ad-376c-47bb-85cf-591ce9a80441' class='xr-var-attrs-in' type='checkbox' disabled><label for='attrs-e61033ad-376c-47bb-85cf-591ce9a80441' title='Show/Hide attributes'><svg class='icon xr-icon-file-text2'><use xlink:href='#icon-file-text2'></use></svg></label><input id='data-4950dbc9-2183-4f20-8785-294082d5cbc5' class='xr-var-data-in' type='checkbox'><label for='data-4950dbc9-2183-4f20-8785-294082d5cbc5' title='Show/Hide data repr'><svg class='icon xr-icon-database'><use xlink:href='#icon-database'></use></svg></label><div class='xr-var-attrs'><dl class='xr-attrs'></dl></div><div class='xr-var-data'><pre>array([0, 1, 2])</pre></div></li><li class='xr-var-item'><div class='xr-var-name'><span class='xr-has-index'>mu_dim_1</span></div><div class='xr-var-dims'>(mu_dim_1)</div><div class='xr-var-dtype'>int64</div><div class='xr-var-preview xr-preview'>0 1 2 3 4 ... 2324 2325 2326 2327</div><input id='attrs-4f8c1894-6ba0-4d58-9329-f0c93fc29de8' class='xr-var-attrs-in' type='checkbox' disabled><label for='attrs-4f8c1894-6ba0-4d58-9329-f0c93fc29de8' title='Show/Hide attributes'><svg class='icon xr-icon-file-text2'><use xlink:href='#icon-file-text2'></use></svg></label><input id='data-8dee7830-1573-4918-a670-529a4ee90c21' class='xr-var-data-in' type='checkbox'><label for='data-8dee7830-1573-4918-a670-529a4ee90c21' title='Show/Hide data repr'><svg class='icon xr-icon-database'><use xlink:href='#icon-database'></use></svg></label><div class='xr-var-attrs'><dl class='xr-attrs'></dl></div><div class='xr-var-data'><pre>array([   0,    1,    2, ..., 2325, 2326, 2327])</pre></div></li><li class='xr-var-item'><div class='xr-var-name'><span class='xr-has-index'>mu_dim_2</span></div><div class='xr-var-dims'>(mu_dim_2)</div><div class='xr-var-dtype'>int64</div><div class='xr-var-preview xr-preview'>0 1 2 3 4 5 6 ... 15 16 17 18 19 20</div><input id='attrs-a250a7d8-dc45-48bd-a4be-ee95d29c5d53' class='xr-var-attrs-in' type='checkbox' disabled><label for='attrs-a250a7d8-dc45-48bd-a4be-ee95d29c5d53' title='Show/Hide attributes'><svg class='icon xr-icon-file-text2'><use xlink:href='#icon-file-text2'></use></svg></label><input id='data-98f8779e-811e-4218-894a-0875788b2a17' class='xr-var-data-in' type='checkbox'><label for='data-98f8779e-811e-4218-894a-0875788b2a17' title='Show/Hide data repr'><svg class='icon xr-icon-database'><use xlink:href='#icon-database'></use></svg></label><div class='xr-var-attrs'><dl class='xr-attrs'></dl></div><div class='xr-var-data'><pre>array([ 0,  1,  2,  3,  4,  5,  6,  7,  8,  9, 10, 11, 12, 13, 14, 15, 16, 17,\n",
       "       18, 19, 20])</pre></div></li></ul></div></li><li class='xr-section-item'><input id='section-8e7a7da9-f874-4916-9ad5-85a545e5c701' class='xr-section-summary-in' type='checkbox'  checked><label for='section-8e7a7da9-f874-4916-9ad5-85a545e5c701' class='xr-section-summary' >Data variables: <span>(6)</span></label><div class='xr-section-inline-details'></div><div class='xr-section-details'><ul class='xr-var-list'><li class='xr-var-item'><div class='xr-var-name'><span>W</span></div><div class='xr-var-dims'>(chain, draw, W_dim_0, W_dim_1)</div><div class='xr-var-dtype'>float32</div><div class='xr-var-preview xr-preview'>1.488 0.3695 ... -0.05189 0.03018</div><input id='attrs-1e141a62-ee93-45a7-9d5c-d1c19245655b' class='xr-var-attrs-in' type='checkbox' disabled><label for='attrs-1e141a62-ee93-45a7-9d5c-d1c19245655b' title='Show/Hide attributes'><svg class='icon xr-icon-file-text2'><use xlink:href='#icon-file-text2'></use></svg></label><input id='data-a7184c88-991c-4885-b709-65f69c4ffd95' class='xr-var-data-in' type='checkbox'><label for='data-a7184c88-991c-4885-b709-65f69c4ffd95' title='Show/Hide data repr'><svg class='icon xr-icon-database'><use xlink:href='#icon-database'></use></svg></label><div class='xr-var-attrs'><dl class='xr-attrs'></dl></div><div class='xr-var-data'><pre>array([[[[ 1.48811233e+00,  3.69532317e-01],\n",
       "         [ 6.55510306e-01, -1.40720695e-01],\n",
       "         [ 2.72915810e-01, -1.00746207e-01],\n",
       "         [ 1.47486019e+00, -8.72694254e-01],\n",
       "         [-4.62945372e-01,  2.46908975e+00]],\n",
       "\n",
       "        [[ 1.47102094e+00,  3.30430716e-01],\n",
       "         [ 5.53878486e-01,  7.89097697e-03],\n",
       "         [ 1.64414391e-01,  3.55175436e-02],\n",
       "         [ 1.53404534e+00, -8.41098845e-01],\n",
       "         [-5.91852248e-01,  2.37196803e+00]],\n",
       "\n",
       "        [[ 1.56321681e+00,  3.29022855e-01],\n",
       "         [ 4.78602260e-01,  3.44402492e-02],\n",
       "         [ 1.78465858e-01,  7.92545900e-02],\n",
       "         [ 1.52800620e+00, -8.26718569e-01],\n",
       "         [-6.18678868e-01,  2.42834735e+00]],\n",
       "\n",
       "        ...,\n",
       "\n",
       "...\n",
       "\n",
       "        ...,\n",
       "\n",
       "        [[ 1.14967739e-02,  1.48770347e-01],\n",
       "         [-5.04983783e-01,  2.37421322e+00],\n",
       "         [ 1.59396040e+00,  2.40929306e-01],\n",
       "         [-1.54020822e+00,  7.74501622e-01],\n",
       "         [ 1.43375963e-01, -1.99329421e-01]],\n",
       "\n",
       "        [[ 1.99784376e-02, -2.23586887e-01],\n",
       "         [-5.86997867e-01,  2.52315283e+00],\n",
       "         [ 1.38839066e+00,  4.68942642e-01],\n",
       "         [-1.65902102e+00,  8.19496095e-01],\n",
       "         [-1.79577559e-01,  1.25298545e-01]],\n",
       "\n",
       "        [[-8.66477489e-02,  1.02985606e-01],\n",
       "         [-4.44994777e-01,  2.37260056e+00],\n",
       "         [ 1.64486289e+00,  3.73858154e-01],\n",
       "         [-1.48755467e+00,  8.95322025e-01],\n",
       "         [-5.18925525e-02,  3.01760938e-02]]]], dtype=float32)</pre></div></li><li class='xr-var-item'><div class='xr-var-name'><span>beta</span></div><div class='xr-var-dims'>(chain, draw, beta_dim_0, beta_dim_1, beta_dim_2)</div><div class='xr-var-dtype'>float32</div><div class='xr-var-preview xr-preview'>1.103 3.569 ... -0.06325 -0.0005897</div><input id='attrs-e79a2a98-03b9-4454-ba93-35e58c5a5948' class='xr-var-attrs-in' type='checkbox' disabled><label for='attrs-e79a2a98-03b9-4454-ba93-35e58c5a5948' title='Show/Hide attributes'><svg class='icon xr-icon-file-text2'><use xlink:href='#icon-file-text2'></use></svg></label><input id='data-bf8587b6-a0f4-4634-8211-ef9bbe395c39' class='xr-var-data-in' type='checkbox'><label for='data-bf8587b6-a0f4-4634-8211-ef9bbe395c39' title='Show/Hide data repr'><svg class='icon xr-icon-database'><use xlink:href='#icon-database'></use></svg></label><div class='xr-var-attrs'><dl class='xr-attrs'></dl></div><div class='xr-var-data'><pre>array([[[[[ 1.10339355e+00,  3.56890655e+00,  2.84380984e+00, ...,\n",
       "            3.84494185e+00,  3.76327825e+00,  3.37970924e+00],\n",
       "          [ 3.24323678e+00,  2.83779716e+00,  4.83114815e+00, ...,\n",
       "            3.99560046e+00,  4.78935528e+00,  3.22295833e+00],\n",
       "          [ 2.38916636e+00,  4.58926678e+00,  4.72481918e+00, ...,\n",
       "            4.59272146e+00,  5.32661390e+00,  4.30300570e+00],\n",
       "          ...,\n",
       "          [-7.59886503e-01,  6.17180049e-01,  9.35141742e-01, ...,\n",
       "            3.33060294e-01,  1.76599658e+00, -7.69482791e-01],\n",
       "          [ 4.08598155e-01,  1.39489496e+00, -1.28331289e-01, ...,\n",
       "           -5.32754779e-01, -2.71487385e-01, -1.11564124e+00],\n",
       "          [-1.89653945e+00, -1.56385168e-01,  3.77154410e-01, ...,\n",
       "           -3.68832126e-02, -1.35463625e-01, -4.88269389e-01]],\n",
       "\n",
       "         [[-2.98193060e-02, -1.51318654e-01,  1.18957651e+00, ...,\n",
       "            9.86747384e-01,  9.51283693e-01, -6.57655239e-01],\n",
       "          [-6.56187713e-01, -9.38715190e-02, -1.84381032e+00, ...,\n",
       "            1.18273520e+00,  4.81175303e-01, -6.93868160e-01],\n",
       "          [ 4.40574050e-01, -3.01068537e-02, -2.25380987e-01, ...,\n",
       "           -1.11683118e+00, -1.01026201e+00, -3.90336782e-01],\n",
       "...\n",
       "           -2.27545276e-01,  1.35050642e+00,  1.26983356e+00],\n",
       "          [-5.52497134e-02,  4.51117575e-01, -3.05222392e-01, ...,\n",
       "            9.24266398e-01,  1.52835393e+00, -1.97660804e+00],\n",
       "          [ 3.26221824e-01, -2.28378367e+00,  1.27180958e+00, ...,\n",
       "            1.59631506e-01, -3.19744349e-01, -1.99402463e+00]],\n",
       "\n",
       "         [[-8.30066979e-01,  8.93144369e-01,  1.96106881e-02, ...,\n",
       "            6.52604640e-01, -3.58949780e-01, -1.12609136e+00],\n",
       "          [ 1.38471878e+00,  1.04899311e+00,  3.47474396e-01, ...,\n",
       "           -5.05268395e-01, -7.03970909e-01, -1.07164092e-01],\n",
       "          [-1.67661119e+00, -4.13281858e-01,  2.56342125e+00, ...,\n",
       "            1.85194707e+00,  3.22835994e+00,  1.64942935e-01],\n",
       "          ...,\n",
       "          [ 4.85746861e-01,  2.03901276e-01,  2.37043753e-01, ...,\n",
       "           -5.84438324e-01, -7.02340841e-01, -8.97353947e-01],\n",
       "          [-6.90083385e-01,  1.93804786e-01, -4.32246804e-01, ...,\n",
       "           -6.93671167e-01,  1.41953599e+00, -4.09898430e-01],\n",
       "          [ 5.10823429e-01,  1.14013660e+00, -5.60356855e-01, ...,\n",
       "            1.23408437e+00, -6.32468462e-02, -5.89725038e-04]]]]],\n",
       "      dtype=float32)</pre></div></li><li class='xr-var-item'><div class='xr-var-name'><span>mu</span></div><div class='xr-var-dims'>(chain, draw, mu_dim_0, mu_dim_1, mu_dim_2)</div><div class='xr-var-dtype'>float32</div><div class='xr-var-preview xr-preview'>2.967 5.413 ... -0.1277 -0.1576</div><input id='attrs-0338e69f-aabe-44a2-8a1d-8f10a17551dc' class='xr-var-attrs-in' type='checkbox' disabled><label for='attrs-0338e69f-aabe-44a2-8a1d-8f10a17551dc' title='Show/Hide attributes'><svg class='icon xr-icon-file-text2'><use xlink:href='#icon-file-text2'></use></svg></label><input id='data-855f1aa7-3cf7-4281-a65a-b21410845212' class='xr-var-data-in' type='checkbox'><label for='data-855f1aa7-3cf7-4281-a65a-b21410845212' title='Show/Hide data repr'><svg class='icon xr-icon-database'><use xlink:href='#icon-database'></use></svg></label><div class='xr-var-attrs'><dl class='xr-attrs'></dl></div><div class='xr-var-data'><pre>array([[[[[ 2.96677375e+00,  5.41309023e+00,  6.33961201e+00, ...,\n",
       "            6.38225889e+00,  6.56767797e+00,  6.09603977e+00],\n",
       "          [ 5.72973490e+00,  6.23129463e+00,  6.65071392e+00, ...,\n",
       "            6.71617174e+00,  6.46302652e+00,  6.52710724e+00],\n",
       "          [ 4.03508520e+00,  5.15371132e+00,  6.06893396e+00, ...,\n",
       "            6.03738117e+00,  5.62729931e+00,  5.47386312e+00],\n",
       "          ...,\n",
       "          [ 3.88934517e+00,  5.17066956e+00,  6.10543156e+00, ...,\n",
       "            6.09732008e+00,  5.72350693e+00,  5.52899885e+00],\n",
       "          [ 2.74568510e+00,  5.12838840e+00,  6.11827993e+00, ...,\n",
       "            6.32573748e+00,  6.45309830e+00,  5.98160887e+00],\n",
       "          [ 2.93116736e+00,  5.36818266e+00,  6.21528244e+00, ...,\n",
       "            5.93945694e+00,  6.33146954e+00,  5.78119135e+00]],\n",
       "\n",
       "         [[ 5.67899980e-02, -1.85795836e-02, -2.33327746e-01, ...,\n",
       "            7.25220561e-01, -1.40644044e-01, -5.97408533e-01],\n",
       "          [ 6.51549459e-01, -1.20205426e+00, -1.20543635e+00, ...,\n",
       "           -8.87455702e-01, -7.34873712e-01, -9.18636203e-01],\n",
       "          [ 9.27453101e-01, -8.16453218e-01, -9.78791833e-01, ...,\n",
       "           -3.12957168e-01, -8.39993179e-01, -7.54038572e-01],\n",
       "...\n",
       "           -2.16972947e-01, -8.03539813e-01, -2.40581703e+00],\n",
       "          [-8.84466529e-01, -7.52333224e-01, -4.10426795e-01, ...,\n",
       "            2.86903143e-01,  2.14184850e-01, -1.65452480e+00],\n",
       "          [-1.65716612e+00, -1.20921767e+00, -4.95347738e-01, ...,\n",
       "            3.99210081e-02,  5.84399223e-01, -9.85010147e-01]],\n",
       "\n",
       "         [[-1.22200191e+00, -1.04884338e+00, -3.37785557e-02, ...,\n",
       "            5.11908948e-01,  5.50154686e-01, -9.62553620e-02],\n",
       "          [-1.02064419e+00, -4.23993260e-01, -9.33697462e-01, ...,\n",
       "           -3.48608762e-01,  4.89804089e-01,  6.53166533e-01],\n",
       "          [-9.10357773e-01, -5.07170916e-01, -4.33754116e-01, ...,\n",
       "            7.83772320e-02,  2.32124940e-01,  9.71814618e-02],\n",
       "          ...,\n",
       "          [-9.64355767e-01, -5.65191448e-01, -3.50588709e-01, ...,\n",
       "            1.68072954e-01,  3.00252914e-01,  7.66467154e-02],\n",
       "          [-1.43643117e+00, -1.06484067e+00,  4.47493196e-02, ...,\n",
       "            6.09192312e-01,  7.61393189e-01, -9.14899409e-02],\n",
       "          [-7.94485450e-01, -1.03867912e+00, -3.40142578e-01, ...,\n",
       "            2.43175238e-01, -1.27650604e-01, -1.57600775e-01]]]]],\n",
       "      dtype=float32)</pre></div></li><li class='xr-var-item'><div class='xr-var-name'><span>sigma_dbpm</span></div><div class='xr-var-dims'>(chain, draw)</div><div class='xr-var-dtype'>float32</div><div class='xr-var-preview xr-preview'>39.5 39.52 40.22 ... 39.47 39.58</div><input id='attrs-d511b059-2d87-4cbb-b82f-d00f5d772135' class='xr-var-attrs-in' type='checkbox' disabled><label for='attrs-d511b059-2d87-4cbb-b82f-d00f5d772135' title='Show/Hide attributes'><svg class='icon xr-icon-file-text2'><use xlink:href='#icon-file-text2'></use></svg></label><input id='data-1c67a82f-a7dc-478d-972a-84426d007cf3' class='xr-var-data-in' type='checkbox'><label for='data-1c67a82f-a7dc-478d-972a-84426d007cf3' title='Show/Hide data repr'><svg class='icon xr-icon-database'><use xlink:href='#icon-database'></use></svg></label><div class='xr-var-attrs'><dl class='xr-attrs'></dl></div><div class='xr-var-data'><pre>array([[39.495766, 39.52282 , 40.217476, ..., 39.34053 , 39.6864  ,\n",
       "        39.55161 ],\n",
       "       [38.93348 , 38.589706, 40.46166 , ..., 39.18539 , 39.244957,\n",
       "        39.21265 ],\n",
       "       [39.407078, 39.58671 , 39.995598, ..., 39.5675  , 39.35906 ,\n",
       "        39.660748],\n",
       "       [39.876064, 39.127247, 39.972546, ..., 39.7274  , 39.47482 ,\n",
       "        39.578606]], dtype=float32)</pre></div></li><li class='xr-var-item'><div class='xr-var-name'><span>sigma_log_min</span></div><div class='xr-var-dims'>(chain, draw)</div><div class='xr-var-dtype'>float32</div><div class='xr-var-preview xr-preview'>1.275 1.302 1.302 ... 1.298 1.296</div><input id='attrs-503b69e7-f3c9-4fa1-b1ec-33946f6ccf9a' class='xr-var-attrs-in' type='checkbox' disabled><label for='attrs-503b69e7-f3c9-4fa1-b1ec-33946f6ccf9a' title='Show/Hide attributes'><svg class='icon xr-icon-file-text2'><use xlink:href='#icon-file-text2'></use></svg></label><input id='data-6c3148f6-16e5-4134-84be-0e986ea9ce90' class='xr-var-data-in' type='checkbox'><label for='data-6c3148f6-16e5-4134-84be-0e986ea9ce90' title='Show/Hide data repr'><svg class='icon xr-icon-database'><use xlink:href='#icon-database'></use></svg></label><div class='xr-var-attrs'><dl class='xr-attrs'></dl></div><div class='xr-var-data'><pre>array([[1.2753094, 1.3018627, 1.3017651, ..., 1.3084549, 1.2923694,\n",
       "        1.2975063],\n",
       "       [1.2866851, 1.2902935, 1.2982908, ..., 1.3008124, 1.3011453,\n",
       "        1.3028284],\n",
       "       [1.2864118, 1.3034056, 1.3024977, ..., 1.2943769, 1.2999027,\n",
       "        1.2946662],\n",
       "       [1.2980896, 1.2959979, 1.2881517, ..., 1.3016856, 1.2982032,\n",
       "        1.295582 ]], dtype=float32)</pre></div></li><li class='xr-var-item'><div class='xr-var-name'><span>sigma_obpm</span></div><div class='xr-var-dims'>(chain, draw)</div><div class='xr-var-dtype'>float32</div><div class='xr-var-preview xr-preview'>84.68 83.84 84.7 ... 84.15 84.15</div><input id='attrs-5961437b-97e2-4a39-9c85-e1439cd26ba1' class='xr-var-attrs-in' type='checkbox' disabled><label for='attrs-5961437b-97e2-4a39-9c85-e1439cd26ba1' title='Show/Hide attributes'><svg class='icon xr-icon-file-text2'><use xlink:href='#icon-file-text2'></use></svg></label><input id='data-84dda1fe-4594-4c0c-aeb9-31eba162b92d' class='xr-var-data-in' type='checkbox'><label for='data-84dda1fe-4594-4c0c-aeb9-31eba162b92d' title='Show/Hide data repr'><svg class='icon xr-icon-database'><use xlink:href='#icon-database'></use></svg></label><div class='xr-var-attrs'><dl class='xr-attrs'></dl></div><div class='xr-var-data'><pre>array([[84.67693 , 83.8436  , 84.70039 , ..., 84.03148 , 84.62914 ,\n",
       "        83.04119 ],\n",
       "       [84.60751 , 85.064026, 83.46422 , ..., 84.49962 , 83.70235 ,\n",
       "        83.68311 ],\n",
       "       [83.44153 , 84.872826, 85.10326 , ..., 84.75045 , 83.737564,\n",
       "        84.36527 ],\n",
       "       [83.98469 , 84.194115, 83.47846 , ..., 84.17083 , 84.14952 ,\n",
       "        84.15273 ]], dtype=float32)</pre></div></li></ul></div></li><li class='xr-section-item'><input id='section-f015e563-035d-45d0-a23b-f88dfbbcb1fb' class='xr-section-summary-in' type='checkbox'  ><label for='section-f015e563-035d-45d0-a23b-f88dfbbcb1fb' class='xr-section-summary' >Indexes: <span>(10)</span></label><div class='xr-section-inline-details'></div><div class='xr-section-details'><ul class='xr-var-list'><li class='xr-var-item'><div class='xr-index-name'><div>chain</div></div><div class='xr-index-preview'>PandasIndex</div><div></div><input id='index-22285818-3734-4d7b-a4c4-6ec3ac4fc119' class='xr-index-data-in' type='checkbox'/><label for='index-22285818-3734-4d7b-a4c4-6ec3ac4fc119' title='Show/Hide index repr'><svg class='icon xr-icon-database'><use xlink:href='#icon-database'></use></svg></label><div class='xr-index-data'><pre>PandasIndex(Index([0, 1, 2, 3], dtype=&#x27;int64&#x27;, name=&#x27;chain&#x27;))</pre></div></li><li class='xr-var-item'><div class='xr-index-name'><div>draw</div></div><div class='xr-index-preview'>PandasIndex</div><div></div><input id='index-ee34cf63-f49a-4b08-a054-d5e201d70058' class='xr-index-data-in' type='checkbox'/><label for='index-ee34cf63-f49a-4b08-a054-d5e201d70058' title='Show/Hide index repr'><svg class='icon xr-icon-database'><use xlink:href='#icon-database'></use></svg></label><div class='xr-index-data'><pre>PandasIndex(Index([   0,    1,    2,    3,    4,    5,    6,    7,    8,    9,\n",
       "       ...\n",
       "       1990, 1991, 1992, 1993, 1994, 1995, 1996, 1997, 1998, 1999],\n",
       "      dtype=&#x27;int64&#x27;, name=&#x27;draw&#x27;, length=2000))</pre></div></li><li class='xr-var-item'><div class='xr-index-name'><div>W_dim_0</div></div><div class='xr-index-preview'>PandasIndex</div><div></div><input id='index-5ab09721-3a40-48aa-8244-71dfdfdd26b4' class='xr-index-data-in' type='checkbox'/><label for='index-5ab09721-3a40-48aa-8244-71dfdfdd26b4' title='Show/Hide index repr'><svg class='icon xr-icon-database'><use xlink:href='#icon-database'></use></svg></label><div class='xr-index-data'><pre>PandasIndex(Index([0, 1, 2, 3, 4], dtype=&#x27;int64&#x27;, name=&#x27;W_dim_0&#x27;))</pre></div></li><li class='xr-var-item'><div class='xr-index-name'><div>W_dim_1</div></div><div class='xr-index-preview'>PandasIndex</div><div></div><input id='index-83e4d85b-f867-40db-bf51-0e35727fbf38' class='xr-index-data-in' type='checkbox'/><label for='index-83e4d85b-f867-40db-bf51-0e35727fbf38' title='Show/Hide index repr'><svg class='icon xr-icon-database'><use xlink:href='#icon-database'></use></svg></label><div class='xr-index-data'><pre>PandasIndex(Index([0, 1], dtype=&#x27;int64&#x27;, name=&#x27;W_dim_1&#x27;))</pre></div></li><li class='xr-var-item'><div class='xr-index-name'><div>beta_dim_0</div></div><div class='xr-index-preview'>PandasIndex</div><div></div><input id='index-6074fa26-685f-4c9e-8d0c-69cef89e450e' class='xr-index-data-in' type='checkbox'/><label for='index-6074fa26-685f-4c9e-8d0c-69cef89e450e' title='Show/Hide index repr'><svg class='icon xr-icon-database'><use xlink:href='#icon-database'></use></svg></label><div class='xr-index-data'><pre>PandasIndex(Index([0, 1, 2], dtype=&#x27;int64&#x27;, name=&#x27;beta_dim_0&#x27;))</pre></div></li><li class='xr-var-item'><div class='xr-index-name'><div>beta_dim_1</div></div><div class='xr-index-preview'>PandasIndex</div><div></div><input id='index-a1829934-c24c-4651-ad8b-513726ed83e6' class='xr-index-data-in' type='checkbox'/><label for='index-a1829934-c24c-4651-ad8b-513726ed83e6' title='Show/Hide index repr'><svg class='icon xr-icon-database'><use xlink:href='#icon-database'></use></svg></label><div class='xr-index-data'><pre>PandasIndex(Index([0, 1, 2, 3, 4, 5, 6, 7, 8, 9], dtype=&#x27;int64&#x27;, name=&#x27;beta_dim_1&#x27;))</pre></div></li><li class='xr-var-item'><div class='xr-index-name'><div>beta_dim_2</div></div><div class='xr-index-preview'>PandasIndex</div><div></div><input id='index-b858a10d-e0b8-4102-9e8c-9e5d7d550c68' class='xr-index-data-in' type='checkbox'/><label for='index-b858a10d-e0b8-4102-9e8c-9e5d7d550c68' title='Show/Hide index repr'><svg class='icon xr-icon-database'><use xlink:href='#icon-database'></use></svg></label><div class='xr-index-data'><pre>PandasIndex(Index([0, 1, 2, 3, 4, 5, 6, 7, 8, 9, 10, 11, 12, 13, 14, 15, 16, 17, 18, 19,\n",
       "       20],\n",
       "      dtype=&#x27;int64&#x27;, name=&#x27;beta_dim_2&#x27;))</pre></div></li><li class='xr-var-item'><div class='xr-index-name'><div>mu_dim_0</div></div><div class='xr-index-preview'>PandasIndex</div><div></div><input id='index-d13e6070-127d-4755-8657-03b3ffb86f7b' class='xr-index-data-in' type='checkbox'/><label for='index-d13e6070-127d-4755-8657-03b3ffb86f7b' title='Show/Hide index repr'><svg class='icon xr-icon-database'><use xlink:href='#icon-database'></use></svg></label><div class='xr-index-data'><pre>PandasIndex(Index([0, 1, 2], dtype=&#x27;int64&#x27;, name=&#x27;mu_dim_0&#x27;))</pre></div></li><li class='xr-var-item'><div class='xr-index-name'><div>mu_dim_1</div></div><div class='xr-index-preview'>PandasIndex</div><div></div><input id='index-ab5d3642-d64e-49f9-948a-d35ebaa8e21b' class='xr-index-data-in' type='checkbox'/><label for='index-ab5d3642-d64e-49f9-948a-d35ebaa8e21b' title='Show/Hide index repr'><svg class='icon xr-icon-database'><use xlink:href='#icon-database'></use></svg></label><div class='xr-index-data'><pre>PandasIndex(Index([   0,    1,    2,    3,    4,    5,    6,    7,    8,    9,\n",
       "       ...\n",
       "       2318, 2319, 2320, 2321, 2322, 2323, 2324, 2325, 2326, 2327],\n",
       "      dtype=&#x27;int64&#x27;, name=&#x27;mu_dim_1&#x27;, length=2328))</pre></div></li><li class='xr-var-item'><div class='xr-index-name'><div>mu_dim_2</div></div><div class='xr-index-preview'>PandasIndex</div><div></div><input id='index-020d3286-b579-454a-a176-711d80dcacaf' class='xr-index-data-in' type='checkbox'/><label for='index-020d3286-b579-454a-a176-711d80dcacaf' title='Show/Hide index repr'><svg class='icon xr-icon-database'><use xlink:href='#icon-database'></use></svg></label><div class='xr-index-data'><pre>PandasIndex(Index([0, 1, 2, 3, 4, 5, 6, 7, 8, 9, 10, 11, 12, 13, 14, 15, 16, 17, 18, 19,\n",
       "       20],\n",
       "      dtype=&#x27;int64&#x27;, name=&#x27;mu_dim_2&#x27;))</pre></div></li></ul></div></li><li class='xr-section-item'><input id='section-7688ad85-9c3d-4ad4-9f86-23bf6036fec9' class='xr-section-summary-in' type='checkbox'  checked><label for='section-7688ad85-9c3d-4ad4-9f86-23bf6036fec9' class='xr-section-summary' >Attributes: <span>(2)</span></label><div class='xr-section-inline-details'></div><div class='xr-section-details'><dl class='xr-attrs'><dt><span>created_at :</span></dt><dd>2024-06-08T01:35:14.674191+00:00</dd><dt><span>arviz_version :</span></dt><dd>0.18.0</dd></dl></div></li></ul></div></div><br></div>\n",
       "                      </ul>\n",
       "                  </div>\n",
       "            </li>\n",
       "            \n",
       "              </ul>\n",
       "            </div>\n",
       "            <style> /* CSS stylesheet for displaying InferenceData objects in jupyterlab.\n",
       " *\n",
       " */\n",
       "\n",
       ":root {\n",
       "  --xr-font-color0: var(--jp-content-font-color0, rgba(0, 0, 0, 1));\n",
       "  --xr-font-color2: var(--jp-content-font-color2, rgba(0, 0, 0, 0.54));\n",
       "  --xr-font-color3: var(--jp-content-font-color3, rgba(0, 0, 0, 0.38));\n",
       "  --xr-border-color: var(--jp-border-color2, #e0e0e0);\n",
       "  --xr-disabled-color: var(--jp-layout-color3, #bdbdbd);\n",
       "  --xr-background-color: var(--jp-layout-color0, white);\n",
       "  --xr-background-color-row-even: var(--jp-layout-color1, white);\n",
       "  --xr-background-color-row-odd: var(--jp-layout-color2, #eeeeee);\n",
       "}\n",
       "\n",
       "html[theme=dark],\n",
       "body.vscode-dark {\n",
       "  --xr-font-color0: rgba(255, 255, 255, 1);\n",
       "  --xr-font-color2: rgba(255, 255, 255, 0.54);\n",
       "  --xr-font-color3: rgba(255, 255, 255, 0.38);\n",
       "  --xr-border-color: #1F1F1F;\n",
       "  --xr-disabled-color: #515151;\n",
       "  --xr-background-color: #111111;\n",
       "  --xr-background-color-row-even: #111111;\n",
       "  --xr-background-color-row-odd: #313131;\n",
       "}\n",
       "\n",
       ".xr-wrap {\n",
       "  display: block;\n",
       "  min-width: 300px;\n",
       "  max-width: 700px;\n",
       "}\n",
       "\n",
       ".xr-text-repr-fallback {\n",
       "  /* fallback to plain text repr when CSS is not injected (untrusted notebook) */\n",
       "  display: none;\n",
       "}\n",
       "\n",
       ".xr-header {\n",
       "  padding-top: 6px;\n",
       "  padding-bottom: 6px;\n",
       "  margin-bottom: 4px;\n",
       "  border-bottom: solid 1px var(--xr-border-color);\n",
       "}\n",
       "\n",
       ".xr-header > div,\n",
       ".xr-header > ul {\n",
       "  display: inline;\n",
       "  margin-top: 0;\n",
       "  margin-bottom: 0;\n",
       "}\n",
       "\n",
       ".xr-obj-type,\n",
       ".xr-array-name {\n",
       "  margin-left: 2px;\n",
       "  margin-right: 10px;\n",
       "}\n",
       "\n",
       ".xr-obj-type {\n",
       "  color: var(--xr-font-color2);\n",
       "}\n",
       "\n",
       ".xr-sections {\n",
       "  padding-left: 0 !important;\n",
       "  display: grid;\n",
       "  grid-template-columns: 150px auto auto 1fr 20px 20px;\n",
       "}\n",
       "\n",
       ".xr-sections.group-sections {\n",
       "  grid-template-columns: auto;\n",
       "}\n",
       "\n",
       ".xr-section-item {\n",
       "  display: contents;\n",
       "}\n",
       "\n",
       ".xr-section-item input {\n",
       "  display: none;\n",
       "}\n",
       "\n",
       ".xr-section-item input + label {\n",
       "  color: var(--xr-disabled-color);\n",
       "}\n",
       "\n",
       ".xr-section-item input:enabled + label {\n",
       "  cursor: pointer;\n",
       "  color: var(--xr-font-color2);\n",
       "}\n",
       "\n",
       ".xr-section-item input:enabled + label:hover {\n",
       "  color: var(--xr-font-color0);\n",
       "}\n",
       "\n",
       ".xr-section-summary {\n",
       "  grid-column: 1;\n",
       "  color: var(--xr-font-color2);\n",
       "  font-weight: 500;\n",
       "}\n",
       "\n",
       ".xr-section-summary > span {\n",
       "  display: inline-block;\n",
       "  padding-left: 0.5em;\n",
       "}\n",
       "\n",
       ".xr-section-summary-in:disabled + label {\n",
       "  color: var(--xr-font-color2);\n",
       "}\n",
       "\n",
       ".xr-section-summary-in + label:before {\n",
       "  display: inline-block;\n",
       "  content: '►';\n",
       "  font-size: 11px;\n",
       "  width: 15px;\n",
       "  text-align: center;\n",
       "}\n",
       "\n",
       ".xr-section-summary-in:disabled + label:before {\n",
       "  color: var(--xr-disabled-color);\n",
       "}\n",
       "\n",
       ".xr-section-summary-in:checked + label:before {\n",
       "  content: '▼';\n",
       "}\n",
       "\n",
       ".xr-section-summary-in:checked + label > span {\n",
       "  display: none;\n",
       "}\n",
       "\n",
       ".xr-section-summary,\n",
       ".xr-section-inline-details {\n",
       "  padding-top: 4px;\n",
       "  padding-bottom: 4px;\n",
       "}\n",
       "\n",
       ".xr-section-inline-details {\n",
       "  grid-column: 2 / -1;\n",
       "}\n",
       "\n",
       ".xr-section-details {\n",
       "  display: none;\n",
       "  grid-column: 1 / -1;\n",
       "  margin-bottom: 5px;\n",
       "}\n",
       "\n",
       ".xr-section-summary-in:checked ~ .xr-section-details {\n",
       "  display: contents;\n",
       "}\n",
       "\n",
       ".xr-array-wrap {\n",
       "  grid-column: 1 / -1;\n",
       "  display: grid;\n",
       "  grid-template-columns: 20px auto;\n",
       "}\n",
       "\n",
       ".xr-array-wrap > label {\n",
       "  grid-column: 1;\n",
       "  vertical-align: top;\n",
       "}\n",
       "\n",
       ".xr-preview {\n",
       "  color: var(--xr-font-color3);\n",
       "}\n",
       "\n",
       ".xr-array-preview,\n",
       ".xr-array-data {\n",
       "  padding: 0 5px !important;\n",
       "  grid-column: 2;\n",
       "}\n",
       "\n",
       ".xr-array-data,\n",
       ".xr-array-in:checked ~ .xr-array-preview {\n",
       "  display: none;\n",
       "}\n",
       "\n",
       ".xr-array-in:checked ~ .xr-array-data,\n",
       ".xr-array-preview {\n",
       "  display: inline-block;\n",
       "}\n",
       "\n",
       ".xr-dim-list {\n",
       "  display: inline-block !important;\n",
       "  list-style: none;\n",
       "  padding: 0 !important;\n",
       "  margin: 0;\n",
       "}\n",
       "\n",
       ".xr-dim-list li {\n",
       "  display: inline-block;\n",
       "  padding: 0;\n",
       "  margin: 0;\n",
       "}\n",
       "\n",
       ".xr-dim-list:before {\n",
       "  content: '(';\n",
       "}\n",
       "\n",
       ".xr-dim-list:after {\n",
       "  content: ')';\n",
       "}\n",
       "\n",
       ".xr-dim-list li:not(:last-child):after {\n",
       "  content: ',';\n",
       "  padding-right: 5px;\n",
       "}\n",
       "\n",
       ".xr-has-index {\n",
       "  font-weight: bold;\n",
       "}\n",
       "\n",
       ".xr-var-list,\n",
       ".xr-var-item {\n",
       "  display: contents;\n",
       "}\n",
       "\n",
       ".xr-var-item > div,\n",
       ".xr-var-item label,\n",
       ".xr-var-item > .xr-var-name span {\n",
       "  background-color: var(--xr-background-color-row-even);\n",
       "  margin-bottom: 0;\n",
       "}\n",
       "\n",
       ".xr-var-item > .xr-var-name:hover span {\n",
       "  padding-right: 5px;\n",
       "}\n",
       "\n",
       ".xr-var-list > li:nth-child(odd) > div,\n",
       ".xr-var-list > li:nth-child(odd) > label,\n",
       ".xr-var-list > li:nth-child(odd) > .xr-var-name span {\n",
       "  background-color: var(--xr-background-color-row-odd);\n",
       "}\n",
       "\n",
       ".xr-var-name {\n",
       "  grid-column: 1;\n",
       "}\n",
       "\n",
       ".xr-var-dims {\n",
       "  grid-column: 2;\n",
       "}\n",
       "\n",
       ".xr-var-dtype {\n",
       "  grid-column: 3;\n",
       "  text-align: right;\n",
       "  color: var(--xr-font-color2);\n",
       "}\n",
       "\n",
       ".xr-var-preview {\n",
       "  grid-column: 4;\n",
       "}\n",
       "\n",
       ".xr-var-name,\n",
       ".xr-var-dims,\n",
       ".xr-var-dtype,\n",
       ".xr-preview,\n",
       ".xr-attrs dt {\n",
       "  white-space: nowrap;\n",
       "  overflow: hidden;\n",
       "  text-overflow: ellipsis;\n",
       "  padding-right: 10px;\n",
       "}\n",
       "\n",
       ".xr-var-name:hover,\n",
       ".xr-var-dims:hover,\n",
       ".xr-var-dtype:hover,\n",
       ".xr-attrs dt:hover {\n",
       "  overflow: visible;\n",
       "  width: auto;\n",
       "  z-index: 1;\n",
       "}\n",
       "\n",
       ".xr-var-attrs,\n",
       ".xr-var-data {\n",
       "  display: none;\n",
       "  background-color: var(--xr-background-color) !important;\n",
       "  padding-bottom: 5px !important;\n",
       "}\n",
       "\n",
       ".xr-var-attrs-in:checked ~ .xr-var-attrs,\n",
       ".xr-var-data-in:checked ~ .xr-var-data {\n",
       "  display: block;\n",
       "}\n",
       "\n",
       ".xr-var-data > table {\n",
       "  float: right;\n",
       "}\n",
       "\n",
       ".xr-var-name span,\n",
       ".xr-var-data,\n",
       ".xr-attrs {\n",
       "  padding-left: 25px !important;\n",
       "}\n",
       "\n",
       ".xr-attrs,\n",
       ".xr-var-attrs,\n",
       ".xr-var-data {\n",
       "  grid-column: 1 / -1;\n",
       "}\n",
       "\n",
       "dl.xr-attrs {\n",
       "  padding: 0;\n",
       "  margin: 0;\n",
       "  display: grid;\n",
       "  grid-template-columns: 125px auto;\n",
       "}\n",
       "\n",
       ".xr-attrs dt,\n",
       ".xr-attrs dd {\n",
       "  padding: 0;\n",
       "  margin: 0;\n",
       "  float: left;\n",
       "  padding-right: 10px;\n",
       "  width: auto;\n",
       "}\n",
       "\n",
       ".xr-attrs dt {\n",
       "  font-weight: normal;\n",
       "  grid-column: 1;\n",
       "}\n",
       "\n",
       ".xr-attrs dt:hover span {\n",
       "  display: inline-block;\n",
       "  background: var(--xr-background-color);\n",
       "  padding-right: 10px;\n",
       "}\n",
       "\n",
       ".xr-attrs dd {\n",
       "  grid-column: 2;\n",
       "  white-space: pre-wrap;\n",
       "  word-break: break-all;\n",
       "}\n",
       "\n",
       ".xr-icon-database,\n",
       ".xr-icon-file-text2 {\n",
       "  display: inline-block;\n",
       "  vertical-align: middle;\n",
       "  width: 1em;\n",
       "  height: 1.5em !important;\n",
       "  stroke-width: 0;\n",
       "  stroke: currentColor;\n",
       "  fill: currentColor;\n",
       "}\n",
       ".xr-wrap{width:700px!important;} </style>"
      ],
      "text/plain": [
       "Inference data with groups:\n",
       "\t> posterior"
      ]
     },
     "execution_count": 93,
     "metadata": {},
     "output_type": "execute_result"
    }
   ],
   "source": [
    "inference_data"
   ]
  },
  {
   "cell_type": "code",
   "execution_count": 35,
   "metadata": {},
   "outputs": [],
   "source": [
    "W = results[\"W\"]\n",
    "with open(\"model_output/nba_rflvm.pkl\", \"rb\") as f:\n",
    "    results_rflvm = pickle.load(f)\n",
    "f.close()"
   ]
  },
  {
   "cell_type": "code",
   "execution_count": 36,
   "metadata": {},
   "outputs": [],
   "source": [
    "X = results_rflvm[\"X_raw\"].mean(axis = 0)\n",
    "U, _, _ = np.linalg.svd(X, full_matrices=False)\n",
    "L       = np.linalg.cholesky(np.cov(U.T) + 1e-6 * np.eye(2)).T\n",
    "aligned_X  = np.linalg.solve(L, U.T).T\n",
    "X_tvrflvm_aligned = aligned_X / np.std(X, axis=0)\n",
    "wTx = np.einsum(\"nr,ijmr -> ijnm\", X_tvrflvm_aligned, W)\n",
    "phi = np.concatenate([np.cos(wTx), np.sin(wTx)], -1) * (1/ np.sqrt(10))"
   ]
  },
  {
   "cell_type": "code",
   "execution_count": 37,
   "metadata": {},
   "outputs": [],
   "source": [
    "results[\"phi\"] = phi"
   ]
  },
  {
   "cell_type": "code",
   "execution_count": 40,
   "metadata": {},
   "outputs": [
    {
     "data": {
      "text/plain": [
       "(4, 2000, 2328, 10)"
      ]
     },
     "execution_count": 40,
     "metadata": {},
     "output_type": "execute_result"
    }
   ],
   "source": [
    "results[\"phi\"].shape"
   ]
  },
  {
   "cell_type": "code",
   "execution_count": 73,
   "metadata": {},
   "outputs": [
    {
     "data": {
      "text/plain": [
       "(4, 2000, 10, 21)"
      ]
     },
     "execution_count": 73,
     "metadata": {},
     "output_type": "execute_result"
    }
   ],
   "source": [
    "results[\"beta\"].squeeze().shape"
   ]
  },
  {
   "cell_type": "code",
   "execution_count": 74,
   "metadata": {},
   "outputs": [],
   "source": [
    "mu = np.einsum(\"ijnk,ijkt -> ijnt\", results[\"phi\"], results[\"beta\"].squeeze())"
   ]
  },
  {
   "cell_type": "code",
   "execution_count": 75,
   "metadata": {},
   "outputs": [],
   "source": [
    "results[\"mu\"] = mu"
   ]
  },
  {
   "cell_type": "code",
   "execution_count": 13,
   "metadata": {},
   "outputs": [],
   "source": [
    "from data.data_utils import create_fda_data"
   ]
  },
  {
   "cell_type": "code",
   "execution_count": 14,
   "metadata": {},
   "outputs": [],
   "source": [
    "data[\"log_min\"] = np.log(data[\"minutes\"])\n",
    "data[\"simple_exposure\"] = 1 \n",
    "_ , outputs, _ = create_fda_data(data, basis_dims=2, metric_output=([\"gaussian\"])*3, metrics=[\"log_min\",\"obpm\",\"dbpm\"], exposure_list=[\"simple_exposure\",\"minutes\", \"minutes\"])"
   ]
  },
  {
   "cell_type": "code",
   "execution_count": 20,
   "metadata": {},
   "outputs": [
    {
     "data": {
      "image/png": "[encoded data removed]",
      "text/plain": [
       "<Figure size 1200x500 with 1 Axes>"
      ]
     },
     "metadata": {},
     "output_type": "display_data"
    }
   ],
   "source": [
    "plot_metric_trajectory(2, 100, results[\"mu\"], np.stack([output[\"output_data\"] for output in outputs], axis = 1))"
   ]
  },
  {
   "cell_type": "code",
   "execution_count": null,
   "metadata": {},
   "outputs": [],
   "source": []
  }
 ],
 "metadata": {
  "kernelspec": {
   "display_name": "nba-functional-analysis-6oEKqHGM-py3.9",
   "language": "python",
   "name": "python3"
  },
  "language_info": {
   "codemirror_mode": {
    "name": "ipython",
    "version": 3
   },
   "file_extension": ".py",
   "mimetype": "text/x-python",
   "name": "python",
   "nbconvert_exporter": "python",
   "pygments_lexer": "ipython3",
   "version": "3.11.9"
  },
  "orig_nbformat": 4
 },
 "nbformat": 4,
 "nbformat_minor": 2
}
